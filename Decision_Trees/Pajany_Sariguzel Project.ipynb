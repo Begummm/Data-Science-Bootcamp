{
 "cells": [
  {
   "cell_type": "markdown",
   "metadata": {},
   "source": [
    "# First steps with the decision trees in Scikit-Learn"
   ]
  },
  {
   "cell_type": "markdown",
   "metadata": {},
   "source": [
    "**Team Members**\n",
    "\n",
    "**Member 1: PAJANY - Allan*\n",
    "\n",
    "**Member 2: SARIGUZEL - Begum*"
   ]
  },
  {
   "cell_type": "markdown",
   "metadata": {},
   "source": [
    "## 1. Classification with all the features of Iris dataset"
   ]
  },
  {
   "cell_type": "markdown",
   "metadata": {},
   "source": [
    "Importing machine learning libraries"
   ]
  },
  {
   "cell_type": "code",
   "execution_count": 2,
   "metadata": {},
   "outputs": [],
   "source": [
    "%matplotlib inline\n",
    "from sklearn.datasets import load_iris\n",
    "from sklearn import tree\n",
    "from sklearn.model_selection import train_test_split\n",
    "from sklearn.metrics import accuracy_score"
   ]
  },
  {
   "cell_type": "markdown",
   "metadata": {},
   "source": [
    "Importing the library to draw the decision tree"
   ]
  },
  {
   "cell_type": "code",
   "execution_count": 3,
   "metadata": {},
   "outputs": [],
   "source": [
    "# install the package python-graphviz\n",
    "import graphviz "
   ]
  },
  {
   "cell_type": "markdown",
   "metadata": {},
   "source": [
    "Loading the iris dataset"
   ]
  },
  {
   "cell_type": "code",
   "execution_count": 4,
   "metadata": {},
   "outputs": [],
   "source": [
    "iris = load_iris()\n",
    "X = iris.data # attributes\n",
    "y = iris.target # labels"
   ]
  },
  {
   "cell_type": "markdown",
   "metadata": {},
   "source": [
    "Printing the feature names"
   ]
  },
  {
   "cell_type": "code",
   "execution_count": 5,
   "metadata": {},
   "outputs": [
    {
     "name": "stdout",
     "output_type": "stream",
     "text": [
      "['sepal length (cm)', 'sepal width (cm)', 'petal length (cm)', 'petal width (cm)']\n"
     ]
    }
   ],
   "source": [
    "print(iris.feature_names)\n"
   ]
  },
  {
   "cell_type": "markdown",
   "metadata": {},
   "source": [
    "Printing the label names"
   ]
  },
  {
   "cell_type": "code",
   "execution_count": 6,
   "metadata": {},
   "outputs": [
    {
     "name": "stdout",
     "output_type": "stream",
     "text": [
      "['setosa' 'versicolor' 'virginica']\n"
     ]
    }
   ],
   "source": [
    "print(iris.target_names)"
   ]
  },
  {
   "cell_type": "markdown",
   "metadata": {},
   "source": [
    "Splitting into train and test sets"
   ]
  },
  {
   "cell_type": "markdown",
   "metadata": {},
   "source": [
    "**Q1: What is the role of the seed?**"
   ]
  },
  {
   "cell_type": "code",
   "execution_count": 7,
   "metadata": {},
   "outputs": [],
   "source": [
    "# Setting random seed\n",
    "seed = 100\n",
    "X_train, X_test, y_train, y_test = train_test_split(X, y, test_size = 0.34, random_state = seed )\n"
   ]
  },
  {
   "cell_type": "markdown",
   "metadata": {},
   "source": [
    "**Q1 Answer:** Role of the seed is to ensure repeatable results by splitting the exact same observations while running every time."
   ]
  },
  {
   "cell_type": "markdown",
   "metadata": {},
   "source": [
    "Learn a decision tree with the iris dataset"
   ]
  },
  {
   "cell_type": "markdown",
   "metadata": {},
   "source": [
    "**Q2: what is the criterion used to split a node?**"
   ]
  },
  {
   "cell_type": "code",
   "execution_count": 8,
   "metadata": {},
   "outputs": [
    {
     "name": "stdout",
     "output_type": "stream",
     "text": [
      "DecisionTreeClassifier(class_weight=None, criterion='gini', max_depth=None,\n",
      "                       max_features=None, max_leaf_nodes=None,\n",
      "                       min_impurity_decrease=0.0, min_impurity_split=None,\n",
      "                       min_samples_leaf=1, min_samples_split=2,\n",
      "                       min_weight_fraction_leaf=0.0, presort=False,\n",
      "                       random_state=None, splitter='best')\n"
     ]
    }
   ],
   "source": [
    "clf = tree.DecisionTreeClassifier()\n",
    "print(clf)"
   ]
  },
  {
   "cell_type": "markdown",
   "metadata": {},
   "source": [
    "**Q2 Answer:** The 'gini' criteration is chosen by default. It is supposed to give a measure of node impurity."
   ]
  },
  {
   "cell_type": "markdown",
   "metadata": {},
   "source": [
    "Training the decision tree"
   ]
  },
  {
   "cell_type": "markdown",
   "metadata": {},
   "source": [
    "**Q3: Train the decision tree.**"
   ]
  },
  {
   "cell_type": "code",
   "execution_count": 9,
   "metadata": {},
   "outputs": [
    {
     "data": {
      "text/plain": [
       "DecisionTreeClassifier(class_weight=None, criterion='gini', max_depth=None,\n",
       "                       max_features=None, max_leaf_nodes=None,\n",
       "                       min_impurity_decrease=0.0, min_impurity_split=None,\n",
       "                       min_samples_leaf=1, min_samples_split=2,\n",
       "                       min_weight_fraction_leaf=0.0, presort=False,\n",
       "                       random_state=None, splitter='best')"
      ]
     },
     "execution_count": 9,
     "metadata": {},
     "output_type": "execute_result"
    }
   ],
   "source": [
    "clf.fit(X_train,y_train)"
   ]
  },
  {
   "cell_type": "markdown",
   "metadata": {},
   "source": [
    "Exporting the tree into a pdf file"
   ]
  },
  {
   "cell_type": "code",
   "execution_count": 10,
   "metadata": {},
   "outputs": [
    {
     "data": {
      "text/plain": [
       "'iris.pdf'"
      ]
     },
     "execution_count": 10,
     "metadata": {},
     "output_type": "execute_result"
    }
   ],
   "source": [
    "dot_data = tree.export_graphviz(clf, out_file=None) \n",
    "graph = graphviz.Source(dot_data) \n",
    "graph.render(\"iris\")"
   ]
  },
  {
   "cell_type": "markdown",
   "metadata": {},
   "source": [
    "Drawing the decision tree"
   ]
  },
  {
   "cell_type": "markdown",
   "metadata": {},
   "source": [
    "**Q4: Explain the content presented in each node. What does it mean?**"
   ]
  },
  {
   "cell_type": "code",
   "execution_count": 11,
   "metadata": {},
   "outputs": [
    {
     "data": {
      "image/svg+xml": [
       "<?xml version=\"1.0\" encoding=\"UTF-8\" standalone=\"no\"?>\r\n",
       "<!DOCTYPE svg PUBLIC \"-//W3C//DTD SVG 1.1//EN\"\r\n",
       " \"http://www.w3.org/Graphics/SVG/1.1/DTD/svg11.dtd\">\r\n",
       "<!-- Generated by graphviz version 2.38.0 (20140413.2041)\r\n",
       " -->\r\n",
       "<!-- Title: Tree Pages: 1 -->\r\n",
       "<svg width=\"634pt\" height=\"552pt\"\r\n",
       " viewBox=\"0.00 0.00 634.00 552.00\" xmlns=\"http://www.w3.org/2000/svg\" xmlns:xlink=\"http://www.w3.org/1999/xlink\">\r\n",
       "<g id=\"graph0\" class=\"graph\" transform=\"scale(1 1) rotate(0) translate(4 548)\">\r\n",
       "<title>Tree</title>\r\n",
       "<polygon fill=\"white\" stroke=\"none\" points=\"-4,4 -4,-548 630,-548 630,4 -4,4\"/>\r\n",
       "<!-- 0 -->\r\n",
       "<g id=\"node1\" class=\"node\"><title>0</title>\r\n",
       "<path fill=\"#edfdf4\" stroke=\"black\" d=\"M304,-544C304,-544 177,-544 177,-544 171,-544 165,-538 165,-532 165,-532 165,-473 165,-473 165,-467 171,-461 177,-461 177,-461 304,-461 304,-461 310,-461 316,-467 316,-473 316,-473 316,-532 316,-532 316,-538 310,-544 304,-544\"/>\r\n",
       "<text text-anchor=\"start\" x=\"173\" y=\"-528.8\" font-family=\"Helvetica,sans-Serif\" font-size=\"14.00\">petal width (cm) ≤ 0.8</text>\r\n",
       "<text text-anchor=\"start\" x=\"203\" y=\"-513.8\" font-family=\"Helvetica,sans-Serif\" font-size=\"14.00\">gini = 0.661</text>\r\n",
       "<text text-anchor=\"start\" x=\"197\" y=\"-498.8\" font-family=\"Helvetica,sans-Serif\" font-size=\"14.00\">samples = 98</text>\r\n",
       "<text text-anchor=\"start\" x=\"180\" y=\"-483.8\" font-family=\"Helvetica,sans-Serif\" font-size=\"14.00\">value = [28, 38, 32]</text>\r\n",
       "<text text-anchor=\"start\" x=\"185\" y=\"-468.8\" font-family=\"Helvetica,sans-Serif\" font-size=\"14.00\">class = versicolor</text>\r\n",
       "</g>\r\n",
       "<!-- 1 -->\r\n",
       "<g id=\"node2\" class=\"node\"><title>1</title>\r\n",
       "<path fill=\"#e58139\" stroke=\"black\" d=\"M210,-417.5C210,-417.5 113,-417.5 113,-417.5 107,-417.5 101,-411.5 101,-405.5 101,-405.5 101,-361.5 101,-361.5 101,-355.5 107,-349.5 113,-349.5 113,-349.5 210,-349.5 210,-349.5 216,-349.5 222,-355.5 222,-361.5 222,-361.5 222,-405.5 222,-405.5 222,-411.5 216,-417.5 210,-417.5\"/>\r\n",
       "<text text-anchor=\"start\" x=\"132.5\" y=\"-402.3\" font-family=\"Helvetica,sans-Serif\" font-size=\"14.00\">gini = 0.0</text>\r\n",
       "<text text-anchor=\"start\" x=\"118\" y=\"-387.3\" font-family=\"Helvetica,sans-Serif\" font-size=\"14.00\">samples = 28</text>\r\n",
       "<text text-anchor=\"start\" x=\"109\" y=\"-372.3\" font-family=\"Helvetica,sans-Serif\" font-size=\"14.00\">value = [28, 0, 0]</text>\r\n",
       "<text text-anchor=\"start\" x=\"115.5\" y=\"-357.3\" font-family=\"Helvetica,sans-Serif\" font-size=\"14.00\">class = setosa</text>\r\n",
       "</g>\r\n",
       "<!-- 0&#45;&gt;1 -->\r\n",
       "<g id=\"edge1\" class=\"edge\"><title>0&#45;&gt;1</title>\r\n",
       "<path fill=\"none\" stroke=\"black\" d=\"M213.091,-460.907C205.492,-449.652 197.231,-437.418 189.593,-426.106\"/>\r\n",
       "<polygon fill=\"black\" stroke=\"black\" points=\"192.391,-423.996 183.895,-417.667 186.59,-427.913 192.391,-423.996\"/>\r\n",
       "<text text-anchor=\"middle\" x=\"179.136\" y=\"-438.51\" font-family=\"Helvetica,sans-Serif\" font-size=\"14.00\">True</text>\r\n",
       "</g>\r\n",
       "<!-- 2 -->\r\n",
       "<g id=\"node3\" class=\"node\"><title>2</title>\r\n",
       "<path fill=\"#e0fbeb\" stroke=\"black\" d=\"M387,-425C387,-425 252,-425 252,-425 246,-425 240,-419 240,-413 240,-413 240,-354 240,-354 240,-348 246,-342 252,-342 252,-342 387,-342 387,-342 393,-342 399,-348 399,-354 399,-354 399,-413 399,-413 399,-419 393,-425 387,-425\"/>\r\n",
       "<text text-anchor=\"start\" x=\"248\" y=\"-409.8\" font-family=\"Helvetica,sans-Serif\" font-size=\"14.00\">petal width (cm) ≤ 1.65</text>\r\n",
       "<text text-anchor=\"start\" x=\"282\" y=\"-394.8\" font-family=\"Helvetica,sans-Serif\" font-size=\"14.00\">gini = 0.496</text>\r\n",
       "<text text-anchor=\"start\" x=\"276\" y=\"-379.8\" font-family=\"Helvetica,sans-Serif\" font-size=\"14.00\">samples = 70</text>\r\n",
       "<text text-anchor=\"start\" x=\"263\" y=\"-364.8\" font-family=\"Helvetica,sans-Serif\" font-size=\"14.00\">value = [0, 38, 32]</text>\r\n",
       "<text text-anchor=\"start\" x=\"264\" y=\"-349.8\" font-family=\"Helvetica,sans-Serif\" font-size=\"14.00\">class = versicolor</text>\r\n",
       "</g>\r\n",
       "<!-- 0&#45;&gt;2 -->\r\n",
       "<g id=\"edge2\" class=\"edge\"><title>0&#45;&gt;2</title>\r\n",
       "<path fill=\"none\" stroke=\"black\" d=\"M267.909,-460.907C273.914,-452.014 280.331,-442.509 286.529,-433.331\"/>\r\n",
       "<polygon fill=\"black\" stroke=\"black\" points=\"289.444,-435.267 292.14,-425.021 283.643,-431.35 289.444,-435.267\"/>\r\n",
       "<text text-anchor=\"middle\" x=\"296.898\" y=\"-445.864\" font-family=\"Helvetica,sans-Serif\" font-size=\"14.00\">False</text>\r\n",
       "</g>\r\n",
       "<!-- 3 -->\r\n",
       "<g id=\"node4\" class=\"node\"><title>3</title>\r\n",
       "<path fill=\"#49e78b\" stroke=\"black\" d=\"M296,-306C296,-306 163,-306 163,-306 157,-306 151,-300 151,-294 151,-294 151,-235 151,-235 151,-229 157,-223 163,-223 163,-223 296,-223 296,-223 302,-223 308,-229 308,-235 308,-235 308,-294 308,-294 308,-300 302,-306 296,-306\"/>\r\n",
       "<text text-anchor=\"start\" x=\"159\" y=\"-290.8\" font-family=\"Helvetica,sans-Serif\" font-size=\"14.00\">petal length (cm) ≤ 5.0</text>\r\n",
       "<text text-anchor=\"start\" x=\"192\" y=\"-275.8\" font-family=\"Helvetica,sans-Serif\" font-size=\"14.00\">gini = 0.139</text>\r\n",
       "<text text-anchor=\"start\" x=\"186\" y=\"-260.8\" font-family=\"Helvetica,sans-Serif\" font-size=\"14.00\">samples = 40</text>\r\n",
       "<text text-anchor=\"start\" x=\"177\" y=\"-245.8\" font-family=\"Helvetica,sans-Serif\" font-size=\"14.00\">value = [0, 37, 3]</text>\r\n",
       "<text text-anchor=\"start\" x=\"174\" y=\"-230.8\" font-family=\"Helvetica,sans-Serif\" font-size=\"14.00\">class = versicolor</text>\r\n",
       "</g>\r\n",
       "<!-- 2&#45;&gt;3 -->\r\n",
       "<g id=\"edge3\" class=\"edge\"><title>2&#45;&gt;3</title>\r\n",
       "<path fill=\"none\" stroke=\"black\" d=\"M288.275,-341.907C281.364,-332.923 273.973,-323.315 266.846,-314.05\"/>\r\n",
       "<polygon fill=\"black\" stroke=\"black\" points=\"269.541,-311.813 260.67,-306.021 263.993,-316.081 269.541,-311.813\"/>\r\n",
       "</g>\r\n",
       "<!-- 8 -->\r\n",
       "<g id=\"node9\" class=\"node\"><title>8</title>\r\n",
       "<path fill=\"#8540e6\" stroke=\"black\" d=\"M480,-306C480,-306 339,-306 339,-306 333,-306 327,-300 327,-294 327,-294 327,-235 327,-235 327,-229 333,-223 339,-223 339,-223 480,-223 480,-223 486,-223 492,-229 492,-235 492,-235 492,-294 492,-294 492,-300 486,-306 480,-306\"/>\r\n",
       "<text text-anchor=\"start\" x=\"335\" y=\"-290.8\" font-family=\"Helvetica,sans-Serif\" font-size=\"14.00\">petal length (cm) ≤ 4.85</text>\r\n",
       "<text text-anchor=\"start\" x=\"372\" y=\"-275.8\" font-family=\"Helvetica,sans-Serif\" font-size=\"14.00\">gini = 0.064</text>\r\n",
       "<text text-anchor=\"start\" x=\"366\" y=\"-260.8\" font-family=\"Helvetica,sans-Serif\" font-size=\"14.00\">samples = 30</text>\r\n",
       "<text text-anchor=\"start\" x=\"357\" y=\"-245.8\" font-family=\"Helvetica,sans-Serif\" font-size=\"14.00\">value = [0, 1, 29]</text>\r\n",
       "<text text-anchor=\"start\" x=\"359.5\" y=\"-230.8\" font-family=\"Helvetica,sans-Serif\" font-size=\"14.00\">class = virginica</text>\r\n",
       "</g>\r\n",
       "<!-- 2&#45;&gt;8 -->\r\n",
       "<g id=\"edge8\" class=\"edge\"><title>2&#45;&gt;8</title>\r\n",
       "<path fill=\"none\" stroke=\"black\" d=\"M350.725,-341.907C357.636,-332.923 365.027,-323.315 372.154,-314.05\"/>\r\n",
       "<polygon fill=\"black\" stroke=\"black\" points=\"375.007,-316.081 378.33,-306.021 369.459,-311.813 375.007,-316.081\"/>\r\n",
       "</g>\r\n",
       "<!-- 4 -->\r\n",
       "<g id=\"node5\" class=\"node\"><title>4</title>\r\n",
       "<path fill=\"#39e581\" stroke=\"black\" d=\"M115,-179.5C115,-179.5 12,-179.5 12,-179.5 6,-179.5 -7.10543e-015,-173.5 -7.10543e-015,-167.5 -7.10543e-015,-167.5 -7.10543e-015,-123.5 -7.10543e-015,-123.5 -7.10543e-015,-117.5 6,-111.5 12,-111.5 12,-111.5 115,-111.5 115,-111.5 121,-111.5 127,-117.5 127,-123.5 127,-123.5 127,-167.5 127,-167.5 127,-173.5 121,-179.5 115,-179.5\"/>\r\n",
       "<text text-anchor=\"start\" x=\"34.5\" y=\"-164.3\" font-family=\"Helvetica,sans-Serif\" font-size=\"14.00\">gini = 0.0</text>\r\n",
       "<text text-anchor=\"start\" x=\"20\" y=\"-149.3\" font-family=\"Helvetica,sans-Serif\" font-size=\"14.00\">samples = 36</text>\r\n",
       "<text text-anchor=\"start\" x=\"11\" y=\"-134.3\" font-family=\"Helvetica,sans-Serif\" font-size=\"14.00\">value = [0, 36, 0]</text>\r\n",
       "<text text-anchor=\"start\" x=\"8\" y=\"-119.3\" font-family=\"Helvetica,sans-Serif\" font-size=\"14.00\">class = versicolor</text>\r\n",
       "</g>\r\n",
       "<!-- 3&#45;&gt;4 -->\r\n",
       "<g id=\"edge4\" class=\"edge\"><title>3&#45;&gt;4</title>\r\n",
       "<path fill=\"none\" stroke=\"black\" d=\"M171.907,-222.907C154.686,-210.769 135.849,-197.493 118.78,-185.462\"/>\r\n",
       "<polygon fill=\"black\" stroke=\"black\" points=\"120.748,-182.567 110.557,-179.667 116.715,-188.289 120.748,-182.567\"/>\r\n",
       "</g>\r\n",
       "<!-- 5 -->\r\n",
       "<g id=\"node6\" class=\"node\"><title>5</title>\r\n",
       "<path fill=\"#ab7bee\" stroke=\"black\" d=\"M302,-187C302,-187 157,-187 157,-187 151,-187 145,-181 145,-175 145,-175 145,-116 145,-116 145,-110 151,-104 157,-104 157,-104 302,-104 302,-104 308,-104 314,-110 314,-116 314,-116 314,-175 314,-175 314,-181 308,-187 302,-187\"/>\r\n",
       "<text text-anchor=\"start\" x=\"153\" y=\"-171.8\" font-family=\"Helvetica,sans-Serif\" font-size=\"14.00\">sepal length (cm) ≤ 6.05</text>\r\n",
       "<text text-anchor=\"start\" x=\"192\" y=\"-156.8\" font-family=\"Helvetica,sans-Serif\" font-size=\"14.00\">gini = 0.375</text>\r\n",
       "<text text-anchor=\"start\" x=\"190\" y=\"-141.8\" font-family=\"Helvetica,sans-Serif\" font-size=\"14.00\">samples = 4</text>\r\n",
       "<text text-anchor=\"start\" x=\"181\" y=\"-126.8\" font-family=\"Helvetica,sans-Serif\" font-size=\"14.00\">value = [0, 1, 3]</text>\r\n",
       "<text text-anchor=\"start\" x=\"179.5\" y=\"-111.8\" font-family=\"Helvetica,sans-Serif\" font-size=\"14.00\">class = virginica</text>\r\n",
       "</g>\r\n",
       "<!-- 3&#45;&gt;5 -->\r\n",
       "<g id=\"edge5\" class=\"edge\"><title>3&#45;&gt;5</title>\r\n",
       "<path fill=\"none\" stroke=\"black\" d=\"M229.5,-222.907C229.5,-214.649 229.5,-205.864 229.5,-197.302\"/>\r\n",
       "<polygon fill=\"black\" stroke=\"black\" points=\"233,-197.021 229.5,-187.021 226,-197.021 233,-197.021\"/>\r\n",
       "</g>\r\n",
       "<!-- 6 -->\r\n",
       "<g id=\"node7\" class=\"node\"><title>6</title>\r\n",
       "<path fill=\"#39e581\" stroke=\"black\" d=\"M152,-68C152,-68 49,-68 49,-68 43,-68 37,-62 37,-56 37,-56 37,-12 37,-12 37,-6 43,-0 49,-0 49,-0 152,-0 152,-0 158,-0 164,-6 164,-12 164,-12 164,-56 164,-56 164,-62 158,-68 152,-68\"/>\r\n",
       "<text text-anchor=\"start\" x=\"71.5\" y=\"-52.8\" font-family=\"Helvetica,sans-Serif\" font-size=\"14.00\">gini = 0.0</text>\r\n",
       "<text text-anchor=\"start\" x=\"61\" y=\"-37.8\" font-family=\"Helvetica,sans-Serif\" font-size=\"14.00\">samples = 1</text>\r\n",
       "<text text-anchor=\"start\" x=\"52\" y=\"-22.8\" font-family=\"Helvetica,sans-Serif\" font-size=\"14.00\">value = [0, 1, 0]</text>\r\n",
       "<text text-anchor=\"start\" x=\"45\" y=\"-7.8\" font-family=\"Helvetica,sans-Serif\" font-size=\"14.00\">class = versicolor</text>\r\n",
       "</g>\r\n",
       "<!-- 5&#45;&gt;6 -->\r\n",
       "<g id=\"edge6\" class=\"edge\"><title>5&#45;&gt;6</title>\r\n",
       "<path fill=\"none\" stroke=\"black\" d=\"M181.465,-103.726C170.398,-94.3318 158.637,-84.349 147.61,-74.9883\"/>\r\n",
       "<polygon fill=\"black\" stroke=\"black\" points=\"149.618,-72.1026 139.73,-68.2996 145.088,-77.4393 149.618,-72.1026\"/>\r\n",
       "</g>\r\n",
       "<!-- 7 -->\r\n",
       "<g id=\"node8\" class=\"node\"><title>7</title>\r\n",
       "<path fill=\"#8139e5\" stroke=\"black\" d=\"M286.5,-68C286.5,-68 194.5,-68 194.5,-68 188.5,-68 182.5,-62 182.5,-56 182.5,-56 182.5,-12 182.5,-12 182.5,-6 188.5,-0 194.5,-0 194.5,-0 286.5,-0 286.5,-0 292.5,-0 298.5,-6 298.5,-12 298.5,-12 298.5,-56 298.5,-56 298.5,-62 292.5,-68 286.5,-68\"/>\r\n",
       "<text text-anchor=\"start\" x=\"211.5\" y=\"-52.8\" font-family=\"Helvetica,sans-Serif\" font-size=\"14.00\">gini = 0.0</text>\r\n",
       "<text text-anchor=\"start\" x=\"201\" y=\"-37.8\" font-family=\"Helvetica,sans-Serif\" font-size=\"14.00\">samples = 3</text>\r\n",
       "<text text-anchor=\"start\" x=\"192\" y=\"-22.8\" font-family=\"Helvetica,sans-Serif\" font-size=\"14.00\">value = [0, 0, 3]</text>\r\n",
       "<text text-anchor=\"start\" x=\"190.5\" y=\"-7.8\" font-family=\"Helvetica,sans-Serif\" font-size=\"14.00\">class = virginica</text>\r\n",
       "</g>\r\n",
       "<!-- 5&#45;&gt;7 -->\r\n",
       "<g id=\"edge7\" class=\"edge\"><title>5&#45;&gt;7</title>\r\n",
       "<path fill=\"none\" stroke=\"black\" d=\"M233.596,-103.726C234.43,-95.4263 235.31,-86.6671 236.152,-78.2834\"/>\r\n",
       "<polygon fill=\"black\" stroke=\"black\" points=\"239.638,-78.5994 237.155,-68.2996 232.673,-77.8997 239.638,-78.5994\"/>\r\n",
       "</g>\r\n",
       "<!-- 9 -->\r\n",
       "<g id=\"node10\" class=\"node\"><title>9</title>\r\n",
       "<path fill=\"#ab7bee\" stroke=\"black\" d=\"M475,-187C475,-187 344,-187 344,-187 338,-187 332,-181 332,-175 332,-175 332,-116 332,-116 332,-110 338,-104 344,-104 344,-104 475,-104 475,-104 481,-104 487,-110 487,-116 487,-116 487,-175 487,-175 487,-181 481,-187 475,-187\"/>\r\n",
       "<text text-anchor=\"start\" x=\"340\" y=\"-171.8\" font-family=\"Helvetica,sans-Serif\" font-size=\"14.00\">sepal width (cm) ≤ 3.1</text>\r\n",
       "<text text-anchor=\"start\" x=\"372\" y=\"-156.8\" font-family=\"Helvetica,sans-Serif\" font-size=\"14.00\">gini = 0.375</text>\r\n",
       "<text text-anchor=\"start\" x=\"370\" y=\"-141.8\" font-family=\"Helvetica,sans-Serif\" font-size=\"14.00\">samples = 4</text>\r\n",
       "<text text-anchor=\"start\" x=\"361\" y=\"-126.8\" font-family=\"Helvetica,sans-Serif\" font-size=\"14.00\">value = [0, 1, 3]</text>\r\n",
       "<text text-anchor=\"start\" x=\"359.5\" y=\"-111.8\" font-family=\"Helvetica,sans-Serif\" font-size=\"14.00\">class = virginica</text>\r\n",
       "</g>\r\n",
       "<!-- 8&#45;&gt;9 -->\r\n",
       "<g id=\"edge9\" class=\"edge\"><title>8&#45;&gt;9</title>\r\n",
       "<path fill=\"none\" stroke=\"black\" d=\"M409.5,-222.907C409.5,-214.649 409.5,-205.864 409.5,-197.302\"/>\r\n",
       "<polygon fill=\"black\" stroke=\"black\" points=\"413,-197.021 409.5,-187.021 406,-197.021 413,-197.021\"/>\r\n",
       "</g>\r\n",
       "<!-- 12 -->\r\n",
       "<g id=\"node13\" class=\"node\"><title>12</title>\r\n",
       "<path fill=\"#8139e5\" stroke=\"black\" d=\"M614,-179.5C614,-179.5 517,-179.5 517,-179.5 511,-179.5 505,-173.5 505,-167.5 505,-167.5 505,-123.5 505,-123.5 505,-117.5 511,-111.5 517,-111.5 517,-111.5 614,-111.5 614,-111.5 620,-111.5 626,-117.5 626,-123.5 626,-123.5 626,-167.5 626,-167.5 626,-173.5 620,-179.5 614,-179.5\"/>\r\n",
       "<text text-anchor=\"start\" x=\"536.5\" y=\"-164.3\" font-family=\"Helvetica,sans-Serif\" font-size=\"14.00\">gini = 0.0</text>\r\n",
       "<text text-anchor=\"start\" x=\"522\" y=\"-149.3\" font-family=\"Helvetica,sans-Serif\" font-size=\"14.00\">samples = 26</text>\r\n",
       "<text text-anchor=\"start\" x=\"513\" y=\"-134.3\" font-family=\"Helvetica,sans-Serif\" font-size=\"14.00\">value = [0, 0, 26]</text>\r\n",
       "<text text-anchor=\"start\" x=\"515.5\" y=\"-119.3\" font-family=\"Helvetica,sans-Serif\" font-size=\"14.00\">class = virginica</text>\r\n",
       "</g>\r\n",
       "<!-- 8&#45;&gt;12 -->\r\n",
       "<g id=\"edge12\" class=\"edge\"><title>8&#45;&gt;12</title>\r\n",
       "<path fill=\"none\" stroke=\"black\" d=\"M463.623,-222.907C479.66,-210.88 497.187,-197.735 513.112,-185.791\"/>\r\n",
       "<polygon fill=\"black\" stroke=\"black\" points=\"515.377,-188.467 521.277,-179.667 511.177,-182.867 515.377,-188.467\"/>\r\n",
       "</g>\r\n",
       "<!-- 10 -->\r\n",
       "<g id=\"node11\" class=\"node\"><title>10</title>\r\n",
       "<path fill=\"#8139e5\" stroke=\"black\" d=\"M443.5,-68C443.5,-68 351.5,-68 351.5,-68 345.5,-68 339.5,-62 339.5,-56 339.5,-56 339.5,-12 339.5,-12 339.5,-6 345.5,-0 351.5,-0 351.5,-0 443.5,-0 443.5,-0 449.5,-0 455.5,-6 455.5,-12 455.5,-12 455.5,-56 455.5,-56 455.5,-62 449.5,-68 443.5,-68\"/>\r\n",
       "<text text-anchor=\"start\" x=\"368.5\" y=\"-52.8\" font-family=\"Helvetica,sans-Serif\" font-size=\"14.00\">gini = 0.0</text>\r\n",
       "<text text-anchor=\"start\" x=\"358\" y=\"-37.8\" font-family=\"Helvetica,sans-Serif\" font-size=\"14.00\">samples = 3</text>\r\n",
       "<text text-anchor=\"start\" x=\"349\" y=\"-22.8\" font-family=\"Helvetica,sans-Serif\" font-size=\"14.00\">value = [0, 0, 3]</text>\r\n",
       "<text text-anchor=\"start\" x=\"347.5\" y=\"-7.8\" font-family=\"Helvetica,sans-Serif\" font-size=\"14.00\">class = virginica</text>\r\n",
       "</g>\r\n",
       "<!-- 9&#45;&gt;10 -->\r\n",
       "<g id=\"edge10\" class=\"edge\"><title>9&#45;&gt;10</title>\r\n",
       "<path fill=\"none\" stroke=\"black\" d=\"M405.032,-103.726C404.122,-95.4263 403.162,-86.6671 402.243,-78.2834\"/>\r\n",
       "<polygon fill=\"black\" stroke=\"black\" points=\"405.718,-77.8588 401.149,-68.2996 398.76,-78.6214 405.718,-77.8588\"/>\r\n",
       "</g>\r\n",
       "<!-- 11 -->\r\n",
       "<g id=\"node12\" class=\"node\"><title>11</title>\r\n",
       "<path fill=\"#39e581\" stroke=\"black\" d=\"M589,-68C589,-68 486,-68 486,-68 480,-68 474,-62 474,-56 474,-56 474,-12 474,-12 474,-6 480,-0 486,-0 486,-0 589,-0 589,-0 595,-0 601,-6 601,-12 601,-12 601,-56 601,-56 601,-62 595,-68 589,-68\"/>\r\n",
       "<text text-anchor=\"start\" x=\"508.5\" y=\"-52.8\" font-family=\"Helvetica,sans-Serif\" font-size=\"14.00\">gini = 0.0</text>\r\n",
       "<text text-anchor=\"start\" x=\"498\" y=\"-37.8\" font-family=\"Helvetica,sans-Serif\" font-size=\"14.00\">samples = 1</text>\r\n",
       "<text text-anchor=\"start\" x=\"489\" y=\"-22.8\" font-family=\"Helvetica,sans-Serif\" font-size=\"14.00\">value = [0, 1, 0]</text>\r\n",
       "<text text-anchor=\"start\" x=\"482\" y=\"-7.8\" font-family=\"Helvetica,sans-Serif\" font-size=\"14.00\">class = versicolor</text>\r\n",
       "</g>\r\n",
       "<!-- 9&#45;&gt;11 -->\r\n",
       "<g id=\"edge11\" class=\"edge\"><title>9&#45;&gt;11</title>\r\n",
       "<path fill=\"none\" stroke=\"black\" d=\"M457.162,-103.726C468.144,-94.3318 479.814,-84.349 490.756,-74.9883\"/>\r\n",
       "<polygon fill=\"black\" stroke=\"black\" points=\"493.251,-77.4598 498.574,-68.2996 488.7,-72.1406 493.251,-77.4598\"/>\r\n",
       "</g>\r\n",
       "</g>\r\n",
       "</svg>\r\n"
      ],
      "text/plain": [
       "<graphviz.files.Source at 0x20c8d51ee48>"
      ]
     },
     "execution_count": 11,
     "metadata": {},
     "output_type": "execute_result"
    }
   ],
   "source": [
    " dot_data = tree.export_graphviz(clf, out_file=None, \n",
    "                         feature_names=iris.feature_names,  \n",
    "                         class_names=iris.target_names,  \n",
    "                         filled=True, rounded=True,  \n",
    "                         special_characters=True)  \n",
    "graph = graphviz.Source(dot_data)  \n",
    "graph"
   ]
  },
  {
   "cell_type": "markdown",
   "metadata": {},
   "source": [
    "**Q4 Answer:** Here, there are different depths and the top most node, at depth of 0, is the root node. We can see division of the data into smaller subsets each time where a question is asked. \n",
    "So, the very first question the decision tree asks is the petal length. According to the length (smaller or bigger than 2.45) either false or true path is followed.\n",
    "Gini gives information about the impurity measure of the node. If it equals to 0, the node is pure otherwise the samples contained within the root node belong to different classes.\n",
    "Sample value is the iris flower training data set size which contains 98 sample.\n",
    "The first number in \"value\" represents the number of samples that belong to the setosa class, the second element of the list shows the number of samples that belong to the versicolor class, and the third element in the list shows the number of samples that belong to the virginica class.\n",
    "The \"class\" shows the prediction the node will make and the most within the node will be selected as the class value, it is vercicolor for root node with 38 value.<br>\n",
    "By the first splitting we obtain one node which contains only iris having petal length <= 2.45. We know that from 0 gini value this node includes only the setosa type iris.<br>\n",
    "For the second split, the threshold (<=1.65) with the petal width is used. It leads to two nodes with low degree of impurity (0.139 and 0.064). They contain only virginica and versicolor classes.<br>\n",
    "For the next splitting, petal length is considered again, this time with different thresholds. This results two nodes with 0 degree of impurity. Then we have only 8 samples to classify (determine whether they are virginica or versicolor). <br>\n",
    "Last splitting considers sepal length and sepal width to differentiate 1 virginica from 3 versicolor. And finally we have only leaves with 0 gini values."
   ]
  },
  {
   "cell_type": "markdown",
   "metadata": {},
   "source": [
    "Computing the accuracy on the training set and the testing set"
   ]
  },
  {
   "cell_type": "markdown",
   "metadata": {},
   "source": [
    "**Q5: Compute the accuracy on the training dataset and the test dataset?.**"
   ]
  },
  {
   "cell_type": "code",
   "execution_count": 12,
   "metadata": {},
   "outputs": [
    {
     "name": "stdout",
     "output_type": "stream",
     "text": [
      "DecisionTreeClassifier training accuracy score: 1.0\n",
      "DecisionTreeClassifier test accuracy score: 0.9615384615384616\n"
     ]
    }
   ],
   "source": [
    "y_pred_test = clf.predict(X_test)\n",
    "y_pred_train = clf.predict(X_train)\n",
    "accuracy_test = accuracy_score(y_test, y_pred_test)\n",
    "accuracy_train = accuracy_score(y_train, y_pred_train)\n",
    "print('DecisionTreeClassifier training accuracy score: {}'.format(accuracy_train))\n",
    "print('DecisionTreeClassifier test accuracy score: {}'.format(accuracy_test))"
   ]
  },
  {
   "cell_type": "markdown",
   "metadata": {},
   "source": [
    "**Q6: We observe a gap between the training accuracy and the testing accuracy. What does it mean? Propose a simple modification of the code to reduce this gap.**"
   ]
  },
  {
   "cell_type": "markdown",
   "metadata": {},
   "source": [
    "**Q6 Answer:** The gap between the training accuracy and the testing accurancy is related to the train and test split percentage. When we give big amount (relatively) of different data to test it is expected to have this kind of gap. When we decrease the test size to 10% it gives equal accuracies. "
   ]
  },
  {
   "cell_type": "code",
   "execution_count": 13,
   "metadata": {},
   "outputs": [
    {
     "name": "stdout",
     "output_type": "stream",
     "text": [
      "DecisionTreeClassifier training accuracy score: 1.0\n",
      "DecisionTreeClassifier test accuracy score: 1.0\n"
     ]
    }
   ],
   "source": [
    "seed = 100\n",
    "X_train1, X_test1, y_train1, y_test1 = train_test_split(X, y, test_size = 0.10, random_state = seed )\n",
    "clf1 = tree.DecisionTreeClassifier()\n",
    "clf1.fit(X_train1,y_train1)\n",
    "y_pred_test1 = clf1.predict(X_test1)\n",
    "y_pred_train1 = clf1.predict(X_train1)\n",
    "accuracy_test1 = accuracy_score(y_test1, y_pred_test1)\n",
    "accuracy_train1 = accuracy_score(y_train1, y_pred_train1)\n",
    "print('DecisionTreeClassifier training accuracy score: {}'.format(accuracy_train1))\n",
    "print('DecisionTreeClassifier test accuracy score: {}'.format(accuracy_test1))\n"
   ]
  },
  {
   "cell_type": "markdown",
   "metadata": {},
   "source": [
    "## 2. Classification with only two features of Iris dataset"
   ]
  },
  {
   "cell_type": "markdown",
   "metadata": {},
   "source": [
    "**We would like to understand more precisely the behavior of the decision tree.\n",
    "For this purpose, we want to study the decision regions learned by the decision tree.\n",
    "Since it is simpler in 2D, we will study only 2 attributes.**"
   ]
  },
  {
   "cell_type": "markdown",
   "metadata": {},
   "source": [
    "Import some libraries"
   ]
  },
  {
   "cell_type": "code",
   "execution_count": 14,
   "metadata": {},
   "outputs": [],
   "source": [
    "import numpy as np\n",
    "import matplotlib.pyplot as plt"
   ]
  },
  {
   "cell_type": "markdown",
   "metadata": {},
   "source": [
    "Study just one pair of attributes"
   ]
  },
  {
   "cell_type": "markdown",
   "metadata": {},
   "source": [
    "**Q7: Select only the two attributes 'sepal length (cm)' and 'petal width (cm)'**"
   ]
  },
  {
   "cell_type": "code",
   "execution_count": 15,
   "metadata": {},
   "outputs": [],
   "source": [
    "# Complter the cell. You msut respect what is already written.\n",
    "import numpy as np\n",
    "\n",
    "pair = [0,3]\n",
    "\n",
    "X_train2D = X_train[:,pair]\n",
    "X_test2D = X_test[:,pair]"
   ]
  },
  {
   "cell_type": "markdown",
   "metadata": {},
   "source": [
    "**Q8: Train the decision tree on the reduced dataset.**"
   ]
  },
  {
   "cell_type": "code",
   "execution_count": 16,
   "metadata": {},
   "outputs": [
    {
     "data": {
      "text/plain": [
       "DecisionTreeClassifier(class_weight=None, criterion='gini', max_depth=None,\n",
       "                       max_features=None, max_leaf_nodes=None,\n",
       "                       min_impurity_decrease=0.0, min_impurity_split=None,\n",
       "                       min_samples_leaf=1, min_samples_split=2,\n",
       "                       min_weight_fraction_leaf=0.0, presort=False,\n",
       "                       random_state=None, splitter='best')"
      ]
     },
     "execution_count": 16,
     "metadata": {},
     "output_type": "execute_result"
    }
   ],
   "source": [
    "clf2D = tree.DecisionTreeClassifier()\n",
    "clf2D.fit(X_train2D,y_train)"
   ]
  },
  {
   "cell_type": "markdown",
   "metadata": {},
   "source": [
    "Compute the accuracies for only two attributes"
   ]
  },
  {
   "cell_type": "markdown",
   "metadata": {},
   "source": [
    "**Q9: Compute the training and testing accuracies.**"
   ]
  },
  {
   "cell_type": "code",
   "execution_count": 17,
   "metadata": {},
   "outputs": [
    {
     "name": "stdout",
     "output_type": "stream",
     "text": [
      "DecisionTreeClassifier training accuracy score: 0.9795918367346939\n",
      "DecisionTreeClassifier test accuracy score: 0.9423076923076923\n"
     ]
    }
   ],
   "source": [
    "y_pred_test2D = clf2D.predict(X_test2D)\n",
    "y_pred_train2D = clf2D.predict(X_train2D)\n",
    "accuracy_test2D = accuracy_score(y_test, y_pred_test2D)\n",
    "accuracy_train2D = accuracy_score(y_train, y_pred_train2D)\n",
    "print('DecisionTreeClassifier training accuracy score: {}'.format(accuracy_train2D))\n",
    "print('DecisionTreeClassifier test accuracy score: {}'.format(accuracy_test2D))"
   ]
  },
  {
   "cell_type": "markdown",
   "metadata": {},
   "source": [
    "Plot the decision regions"
   ]
  },
  {
   "cell_type": "code",
   "execution_count": 18,
   "metadata": {},
   "outputs": [
    {
     "data": {
      "image/png": "[encoded data removed]",
      "text/plain": [
       "<Figure size 432x288 with 1 Axes>"
      ]
     },
     "metadata": {
      "needs_background": "light"
     },
     "output_type": "display_data"
    }
   ],
   "source": [
    "# Parameters\n",
    "plot_step = 0.02\n",
    "n_classes = iris.target_names.shape[0]\n",
    "plot_colors = \"ryb\" # colors assigned to the labels\n",
    "\n",
    "# Sampling the 2D plane\n",
    "x_min, x_max = X_train2D[:, 0].min() - 1, X_train2D[:, 0].max() + 1\n",
    "y_min, y_max = X_train2D[:, 1].min() - 1, X_train2D[:, 1].max() + 1\n",
    "xx, yy = np.meshgrid(np.arange(x_min, x_max, plot_step),np.arange(y_min, y_max, plot_step))\n",
    "\n",
    "# Compute the decisions\n",
    "Z = clf2D.predict(np.c_[xx.ravel(), yy.ravel()])\n",
    "Z = Z.reshape(xx.shape) # reshape as a 2D matrix\n",
    "\n",
    "# Plot the decision contours\n",
    "cs = plt.contourf(xx, yy, Z, cmap=plt.cm.RdYlBu)\n",
    "\n",
    "# Change the axis names\n",
    "plt.xlabel(iris.feature_names[0])\n",
    "plt.ylabel(iris.feature_names[3])\n",
    "plt.axis()\n",
    " \n",
    "# Plot the training points\n",
    "for i, color in zip(range(n_classes), plot_colors):\n",
    "    idx = np.where(y_train == i)\n",
    "    plt.scatter(X_train2D[idx, 0], X_train2D[idx, 1], c=color,\n",
    "                 label=iris.target_names[i],\n",
    "                 cmap=plt.cm.RdYlBu)\n",
    "# Put a legend\n",
    "plt.legend(loc=\"upper left\")\n",
    "plt.show()"
   ]
  },
  {
   "cell_type": "markdown",
   "metadata": {},
   "source": [
    "Attention: plot_colors value is changed with \"ryb\" which gives a better result."
   ]
  },
  {
   "cell_type": "markdown",
   "metadata": {},
   "source": [
    "Draw the decision tree"
   ]
  },
  {
   "cell_type": "markdown",
   "metadata": {},
   "source": [
    "**Q10: draw the decision tree with graphviz. Is it consistent with the decision regions plot above?**"
   ]
  },
  {
   "cell_type": "markdown",
   "metadata": {},
   "source": [
    "**Q10 Answer:** This tree has 5 more depths than the previous one. Having less feautures (2 exactly) costs more splitting operation."
   ]
  },
  {
   "cell_type": "code",
   "execution_count": 19,
   "metadata": {},
   "outputs": [
    {
     "data": {
      "image/svg+xml": [
       "<?xml version=\"1.0\" encoding=\"UTF-8\" standalone=\"no\"?>\r\n",
       "<!DOCTYPE svg PUBLIC \"-//W3C//DTD SVG 1.1//EN\"\r\n",
       " \"http://www.w3.org/Graphics/SVG/1.1/DTD/svg11.dtd\">\r\n",
       "<!-- Generated by graphviz version 2.38.0 (20140413.2041)\r\n",
       " -->\r\n",
       "<!-- Title: Tree Pages: 1 -->\r\n",
       "<svg width=\"701pt\" height=\"1147pt\"\r\n",
       " viewBox=\"0.00 0.00 701.00 1147.00\" xmlns=\"http://www.w3.org/2000/svg\" xmlns:xlink=\"http://www.w3.org/1999/xlink\">\r\n",
       "<g id=\"graph0\" class=\"graph\" transform=\"scale(1 1) rotate(0) translate(4 1143)\">\r\n",
       "<title>Tree</title>\r\n",
       "<polygon fill=\"white\" stroke=\"none\" points=\"-4,4 -4,-1143 697,-1143 697,4 -4,4\"/>\r\n",
       "<!-- 0 -->\r\n",
       "<g id=\"node1\" class=\"node\"><title>0</title>\r\n",
       "<path fill=\"#edfdf4\" stroke=\"black\" d=\"M371,-1139C371,-1139 238,-1139 238,-1139 232,-1139 226,-1133 226,-1127 226,-1127 226,-1068 226,-1068 226,-1062 232,-1056 238,-1056 238,-1056 371,-1056 371,-1056 377,-1056 383,-1062 383,-1068 383,-1068 383,-1127 383,-1127 383,-1133 377,-1139 371,-1139\"/>\r\n",
       "<text text-anchor=\"start\" x=\"234\" y=\"-1123.8\" font-family=\"Helvetica,sans-Serif\" font-size=\"14.00\">petal length (cm) ≤ 0.8</text>\r\n",
       "<text text-anchor=\"start\" x=\"267\" y=\"-1108.8\" font-family=\"Helvetica,sans-Serif\" font-size=\"14.00\">gini = 0.661</text>\r\n",
       "<text text-anchor=\"start\" x=\"261\" y=\"-1093.8\" font-family=\"Helvetica,sans-Serif\" font-size=\"14.00\">samples = 98</text>\r\n",
       "<text text-anchor=\"start\" x=\"244\" y=\"-1078.8\" font-family=\"Helvetica,sans-Serif\" font-size=\"14.00\">value = [28, 38, 32]</text>\r\n",
       "<text text-anchor=\"start\" x=\"249\" y=\"-1063.8\" font-family=\"Helvetica,sans-Serif\" font-size=\"14.00\">class = versicolor</text>\r\n",
       "</g>\r\n",
       "<!-- 1 -->\r\n",
       "<g id=\"node2\" class=\"node\"><title>1</title>\r\n",
       "<path fill=\"#e58139\" stroke=\"black\" d=\"M273,-1012.5C273,-1012.5 176,-1012.5 176,-1012.5 170,-1012.5 164,-1006.5 164,-1000.5 164,-1000.5 164,-956.5 164,-956.5 164,-950.5 170,-944.5 176,-944.5 176,-944.5 273,-944.5 273,-944.5 279,-944.5 285,-950.5 285,-956.5 285,-956.5 285,-1000.5 285,-1000.5 285,-1006.5 279,-1012.5 273,-1012.5\"/>\r\n",
       "<text text-anchor=\"start\" x=\"195.5\" y=\"-997.3\" font-family=\"Helvetica,sans-Serif\" font-size=\"14.00\">gini = 0.0</text>\r\n",
       "<text text-anchor=\"start\" x=\"181\" y=\"-982.3\" font-family=\"Helvetica,sans-Serif\" font-size=\"14.00\">samples = 28</text>\r\n",
       "<text text-anchor=\"start\" x=\"172\" y=\"-967.3\" font-family=\"Helvetica,sans-Serif\" font-size=\"14.00\">value = [28, 0, 0]</text>\r\n",
       "<text text-anchor=\"start\" x=\"178.5\" y=\"-952.3\" font-family=\"Helvetica,sans-Serif\" font-size=\"14.00\">class = setosa</text>\r\n",
       "</g>\r\n",
       "<!-- 0&#45;&gt;1 -->\r\n",
       "<g id=\"edge1\" class=\"edge\"><title>0&#45;&gt;1</title>\r\n",
       "<path fill=\"none\" stroke=\"black\" d=\"M276.744,-1055.91C269.049,-1044.65 260.683,-1032.42 252.949,-1021.11\"/>\r\n",
       "<polygon fill=\"black\" stroke=\"black\" points=\"255.712,-1018.95 247.178,-1012.67 249.933,-1022.9 255.712,-1018.95\"/>\r\n",
       "<text text-anchor=\"middle\" x=\"242.564\" y=\"-1033.54\" font-family=\"Helvetica,sans-Serif\" font-size=\"14.00\">True</text>\r\n",
       "</g>\r\n",
       "<!-- 2 -->\r\n",
       "<g id=\"node3\" class=\"node\"><title>2</title>\r\n",
       "<path fill=\"#e0fbeb\" stroke=\"black\" d=\"M456,-1020C456,-1020 315,-1020 315,-1020 309,-1020 303,-1014 303,-1008 303,-1008 303,-949 303,-949 303,-943 309,-937 315,-937 315,-937 456,-937 456,-937 462,-937 468,-943 468,-949 468,-949 468,-1008 468,-1008 468,-1014 462,-1020 456,-1020\"/>\r\n",
       "<text text-anchor=\"start\" x=\"311\" y=\"-1004.8\" font-family=\"Helvetica,sans-Serif\" font-size=\"14.00\">petal length (cm) ≤ 1.65</text>\r\n",
       "<text text-anchor=\"start\" x=\"348\" y=\"-989.8\" font-family=\"Helvetica,sans-Serif\" font-size=\"14.00\">gini = 0.496</text>\r\n",
       "<text text-anchor=\"start\" x=\"342\" y=\"-974.8\" font-family=\"Helvetica,sans-Serif\" font-size=\"14.00\">samples = 70</text>\r\n",
       "<text text-anchor=\"start\" x=\"329\" y=\"-959.8\" font-family=\"Helvetica,sans-Serif\" font-size=\"14.00\">value = [0, 38, 32]</text>\r\n",
       "<text text-anchor=\"start\" x=\"330\" y=\"-944.8\" font-family=\"Helvetica,sans-Serif\" font-size=\"14.00\">class = versicolor</text>\r\n",
       "</g>\r\n",
       "<!-- 0&#45;&gt;2 -->\r\n",
       "<g id=\"edge2\" class=\"edge\"><title>0&#45;&gt;2</title>\r\n",
       "<path fill=\"none\" stroke=\"black\" d=\"M332.603,-1055.91C338.76,-1047.01 345.34,-1037.51 351.694,-1028.33\"/>\r\n",
       "<polygon fill=\"black\" stroke=\"black\" points=\"354.633,-1030.24 357.447,-1020.02 348.877,-1026.25 354.633,-1030.24\"/>\r\n",
       "<text text-anchor=\"middle\" x=\"361.919\" y=\"-1040.92\" font-family=\"Helvetica,sans-Serif\" font-size=\"14.00\">False</text>\r\n",
       "</g>\r\n",
       "<!-- 3 -->\r\n",
       "<g id=\"node4\" class=\"node\"><title>3</title>\r\n",
       "<path fill=\"#49e78b\" stroke=\"black\" d=\"M363,-901C363,-901 226,-901 226,-901 220,-901 214,-895 214,-889 214,-889 214,-830 214,-830 214,-824 220,-818 226,-818 226,-818 363,-818 363,-818 369,-818 375,-824 375,-830 375,-830 375,-889 375,-889 375,-895 369,-901 363,-901\"/>\r\n",
       "<text text-anchor=\"start\" x=\"222\" y=\"-885.8\" font-family=\"Helvetica,sans-Serif\" font-size=\"14.00\">sepal length (cm) ≤ 7.1</text>\r\n",
       "<text text-anchor=\"start\" x=\"257\" y=\"-870.8\" font-family=\"Helvetica,sans-Serif\" font-size=\"14.00\">gini = 0.139</text>\r\n",
       "<text text-anchor=\"start\" x=\"251\" y=\"-855.8\" font-family=\"Helvetica,sans-Serif\" font-size=\"14.00\">samples = 40</text>\r\n",
       "<text text-anchor=\"start\" x=\"242\" y=\"-840.8\" font-family=\"Helvetica,sans-Serif\" font-size=\"14.00\">value = [0, 37, 3]</text>\r\n",
       "<text text-anchor=\"start\" x=\"239\" y=\"-825.8\" font-family=\"Helvetica,sans-Serif\" font-size=\"14.00\">class = versicolor</text>\r\n",
       "</g>\r\n",
       "<!-- 2&#45;&gt;3 -->\r\n",
       "<g id=\"edge3\" class=\"edge\"><title>2&#45;&gt;3</title>\r\n",
       "<path fill=\"none\" stroke=\"black\" d=\"M353.928,-936.907C346.94,-927.923 339.467,-918.315 332.261,-909.05\"/>\r\n",
       "<polygon fill=\"black\" stroke=\"black\" points=\"334.918,-906.766 326.016,-901.021 329.393,-911.063 334.918,-906.766\"/>\r\n",
       "</g>\r\n",
       "<!-- 18 -->\r\n",
       "<g id=\"node19\" class=\"node\"><title>18</title>\r\n",
       "<path fill=\"#8540e6\" stroke=\"black\" d=\"M550,-901C550,-901 405,-901 405,-901 399,-901 393,-895 393,-889 393,-889 393,-830 393,-830 393,-824 399,-818 405,-818 405,-818 550,-818 550,-818 556,-818 562,-824 562,-830 562,-830 562,-889 562,-889 562,-895 556,-901 550,-901\"/>\r\n",
       "<text text-anchor=\"start\" x=\"401\" y=\"-885.8\" font-family=\"Helvetica,sans-Serif\" font-size=\"14.00\">sepal length (cm) ≤ 5.95</text>\r\n",
       "<text text-anchor=\"start\" x=\"440\" y=\"-870.8\" font-family=\"Helvetica,sans-Serif\" font-size=\"14.00\">gini = 0.064</text>\r\n",
       "<text text-anchor=\"start\" x=\"434\" y=\"-855.8\" font-family=\"Helvetica,sans-Serif\" font-size=\"14.00\">samples = 30</text>\r\n",
       "<text text-anchor=\"start\" x=\"425\" y=\"-840.8\" font-family=\"Helvetica,sans-Serif\" font-size=\"14.00\">value = [0, 1, 29]</text>\r\n",
       "<text text-anchor=\"start\" x=\"427.5\" y=\"-825.8\" font-family=\"Helvetica,sans-Serif\" font-size=\"14.00\">class = virginica</text>\r\n",
       "</g>\r\n",
       "<!-- 2&#45;&gt;18 -->\r\n",
       "<g id=\"edge18\" class=\"edge\"><title>2&#45;&gt;18</title>\r\n",
       "<path fill=\"none\" stroke=\"black\" d=\"M417.419,-936.907C424.484,-927.923 432.039,-918.315 439.324,-909.05\"/>\r\n",
       "<polygon fill=\"black\" stroke=\"black\" points=\"442.208,-911.045 445.637,-901.021 436.705,-906.718 442.208,-911.045\"/>\r\n",
       "</g>\r\n",
       "<!-- 4 -->\r\n",
       "<g id=\"node5\" class=\"node\"><title>4</title>\r\n",
       "<path fill=\"#44e688\" stroke=\"black\" d=\"M209,-782C209,-782 64,-782 64,-782 58,-782 52,-776 52,-770 52,-770 52,-711 52,-711 52,-705 58,-699 64,-699 64,-699 209,-699 209,-699 215,-699 221,-705 221,-711 221,-711 221,-770 221,-770 221,-776 215,-782 209,-782\"/>\r\n",
       "<text text-anchor=\"start\" x=\"60\" y=\"-766.8\" font-family=\"Helvetica,sans-Serif\" font-size=\"14.00\">sepal length (cm) ≤ 6.05</text>\r\n",
       "<text text-anchor=\"start\" x=\"99\" y=\"-751.8\" font-family=\"Helvetica,sans-Serif\" font-size=\"14.00\">gini = 0.097</text>\r\n",
       "<text text-anchor=\"start\" x=\"93\" y=\"-736.8\" font-family=\"Helvetica,sans-Serif\" font-size=\"14.00\">samples = 39</text>\r\n",
       "<text text-anchor=\"start\" x=\"84\" y=\"-721.8\" font-family=\"Helvetica,sans-Serif\" font-size=\"14.00\">value = [0, 37, 2]</text>\r\n",
       "<text text-anchor=\"start\" x=\"81\" y=\"-706.8\" font-family=\"Helvetica,sans-Serif\" font-size=\"14.00\">class = versicolor</text>\r\n",
       "</g>\r\n",
       "<!-- 3&#45;&gt;4 -->\r\n",
       "<g id=\"edge4\" class=\"edge\"><title>3&#45;&gt;4</title>\r\n",
       "<path fill=\"none\" stroke=\"black\" d=\"M239.683,-817.907C226.692,-808.288 212.736,-797.953 199.417,-788.09\"/>\r\n",
       "<polygon fill=\"black\" stroke=\"black\" points=\"201.34,-785.159 191.22,-782.021 197.174,-790.785 201.34,-785.159\"/>\r\n",
       "</g>\r\n",
       "<!-- 17 -->\r\n",
       "<g id=\"node18\" class=\"node\"><title>17</title>\r\n",
       "<path fill=\"#8139e5\" stroke=\"black\" d=\"M343.5,-774.5C343.5,-774.5 251.5,-774.5 251.5,-774.5 245.5,-774.5 239.5,-768.5 239.5,-762.5 239.5,-762.5 239.5,-718.5 239.5,-718.5 239.5,-712.5 245.5,-706.5 251.5,-706.5 251.5,-706.5 343.5,-706.5 343.5,-706.5 349.5,-706.5 355.5,-712.5 355.5,-718.5 355.5,-718.5 355.5,-762.5 355.5,-762.5 355.5,-768.5 349.5,-774.5 343.5,-774.5\"/>\r\n",
       "<text text-anchor=\"start\" x=\"268.5\" y=\"-759.3\" font-family=\"Helvetica,sans-Serif\" font-size=\"14.00\">gini = 0.0</text>\r\n",
       "<text text-anchor=\"start\" x=\"258\" y=\"-744.3\" font-family=\"Helvetica,sans-Serif\" font-size=\"14.00\">samples = 1</text>\r\n",
       "<text text-anchor=\"start\" x=\"249\" y=\"-729.3\" font-family=\"Helvetica,sans-Serif\" font-size=\"14.00\">value = [0, 0, 1]</text>\r\n",
       "<text text-anchor=\"start\" x=\"247.5\" y=\"-714.3\" font-family=\"Helvetica,sans-Serif\" font-size=\"14.00\">class = virginica</text>\r\n",
       "</g>\r\n",
       "<!-- 3&#45;&gt;17 -->\r\n",
       "<g id=\"edge17\" class=\"edge\"><title>3&#45;&gt;17</title>\r\n",
       "<path fill=\"none\" stroke=\"black\" d=\"M295.541,-817.907C295.815,-807.204 296.112,-795.615 296.39,-784.776\"/>\r\n",
       "<polygon fill=\"black\" stroke=\"black\" points=\"299.892,-784.753 296.65,-774.667 292.894,-784.574 299.892,-784.753\"/>\r\n",
       "</g>\r\n",
       "<!-- 5 -->\r\n",
       "<g id=\"node6\" class=\"node\"><title>5</title>\r\n",
       "<path fill=\"#39e581\" stroke=\"black\" d=\"M186,-655.5C186,-655.5 83,-655.5 83,-655.5 77,-655.5 71,-649.5 71,-643.5 71,-643.5 71,-599.5 71,-599.5 71,-593.5 77,-587.5 83,-587.5 83,-587.5 186,-587.5 186,-587.5 192,-587.5 198,-593.5 198,-599.5 198,-599.5 198,-643.5 198,-643.5 198,-649.5 192,-655.5 186,-655.5\"/>\r\n",
       "<text text-anchor=\"start\" x=\"105.5\" y=\"-640.3\" font-family=\"Helvetica,sans-Serif\" font-size=\"14.00\">gini = 0.0</text>\r\n",
       "<text text-anchor=\"start\" x=\"91\" y=\"-625.3\" font-family=\"Helvetica,sans-Serif\" font-size=\"14.00\">samples = 22</text>\r\n",
       "<text text-anchor=\"start\" x=\"82\" y=\"-610.3\" font-family=\"Helvetica,sans-Serif\" font-size=\"14.00\">value = [0, 22, 0]</text>\r\n",
       "<text text-anchor=\"start\" x=\"79\" y=\"-595.3\" font-family=\"Helvetica,sans-Serif\" font-size=\"14.00\">class = versicolor</text>\r\n",
       "</g>\r\n",
       "<!-- 4&#45;&gt;5 -->\r\n",
       "<g id=\"edge5\" class=\"edge\"><title>4&#45;&gt;5</title>\r\n",
       "<path fill=\"none\" stroke=\"black\" d=\"M135.806,-698.907C135.623,-688.204 135.425,-676.615 135.24,-665.776\"/>\r\n",
       "<polygon fill=\"black\" stroke=\"black\" points=\"138.737,-665.606 135.067,-655.667 131.738,-665.725 138.737,-665.606\"/>\r\n",
       "</g>\r\n",
       "<!-- 6 -->\r\n",
       "<g id=\"node7\" class=\"node\"><title>6</title>\r\n",
       "<path fill=\"#53e892\" stroke=\"black\" d=\"M373,-663C373,-663 228,-663 228,-663 222,-663 216,-657 216,-651 216,-651 216,-592 216,-592 216,-586 222,-580 228,-580 228,-580 373,-580 373,-580 379,-580 385,-586 385,-592 385,-592 385,-651 385,-651 385,-657 379,-663 373,-663\"/>\r\n",
       "<text text-anchor=\"start\" x=\"224\" y=\"-647.8\" font-family=\"Helvetica,sans-Serif\" font-size=\"14.00\">sepal length (cm) ≤ 6.35</text>\r\n",
       "<text text-anchor=\"start\" x=\"263\" y=\"-632.8\" font-family=\"Helvetica,sans-Serif\" font-size=\"14.00\">gini = 0.208</text>\r\n",
       "<text text-anchor=\"start\" x=\"257\" y=\"-617.8\" font-family=\"Helvetica,sans-Serif\" font-size=\"14.00\">samples = 17</text>\r\n",
       "<text text-anchor=\"start\" x=\"248\" y=\"-602.8\" font-family=\"Helvetica,sans-Serif\" font-size=\"14.00\">value = [0, 15, 2]</text>\r\n",
       "<text text-anchor=\"start\" x=\"245\" y=\"-587.8\" font-family=\"Helvetica,sans-Serif\" font-size=\"14.00\">class = versicolor</text>\r\n",
       "</g>\r\n",
       "<!-- 4&#45;&gt;6 -->\r\n",
       "<g id=\"edge6\" class=\"edge\"><title>4&#45;&gt;6</title>\r\n",
       "<path fill=\"none\" stroke=\"black\" d=\"M193.399,-698.907C206.883,-689.288 221.369,-678.953 235.194,-669.09\"/>\r\n",
       "<polygon fill=\"black\" stroke=\"black\" points=\"237.594,-671.678 243.702,-663.021 233.528,-665.979 237.594,-671.678\"/>\r\n",
       "</g>\r\n",
       "<!-- 7 -->\r\n",
       "<g id=\"node8\" class=\"node\"><title>7</title>\r\n",
       "<path fill=\"#72eca5\" stroke=\"black\" d=\"M289,-544C289,-544 148,-544 148,-544 142,-544 136,-538 136,-532 136,-532 136,-473 136,-473 136,-467 142,-461 148,-461 148,-461 289,-461 289,-461 295,-461 301,-467 301,-473 301,-473 301,-532 301,-532 301,-538 295,-544 289,-544\"/>\r\n",
       "<text text-anchor=\"start\" x=\"144\" y=\"-528.8\" font-family=\"Helvetica,sans-Serif\" font-size=\"14.00\">petal length (cm) ≤ 1.35</text>\r\n",
       "<text text-anchor=\"start\" x=\"181\" y=\"-513.8\" font-family=\"Helvetica,sans-Serif\" font-size=\"14.00\">gini = 0.346</text>\r\n",
       "<text text-anchor=\"start\" x=\"179\" y=\"-498.8\" font-family=\"Helvetica,sans-Serif\" font-size=\"14.00\">samples = 9</text>\r\n",
       "<text text-anchor=\"start\" x=\"170\" y=\"-483.8\" font-family=\"Helvetica,sans-Serif\" font-size=\"14.00\">value = [0, 7, 2]</text>\r\n",
       "<text text-anchor=\"start\" x=\"163\" y=\"-468.8\" font-family=\"Helvetica,sans-Serif\" font-size=\"14.00\">class = versicolor</text>\r\n",
       "</g>\r\n",
       "<!-- 6&#45;&gt;7 -->\r\n",
       "<g id=\"edge7\" class=\"edge\"><title>6&#45;&gt;7</title>\r\n",
       "<path fill=\"none\" stroke=\"black\" d=\"M272.051,-579.907C265.817,-571.014 259.156,-561.509 252.723,-552.331\"/>\r\n",
       "<polygon fill=\"black\" stroke=\"black\" points=\"255.505,-550.201 246.899,-544.021 249.772,-554.219 255.505,-550.201\"/>\r\n",
       "</g>\r\n",
       "<!-- 16 -->\r\n",
       "<g id=\"node17\" class=\"node\"><title>16</title>\r\n",
       "<path fill=\"#39e581\" stroke=\"black\" d=\"M434,-536.5C434,-536.5 331,-536.5 331,-536.5 325,-536.5 319,-530.5 319,-524.5 319,-524.5 319,-480.5 319,-480.5 319,-474.5 325,-468.5 331,-468.5 331,-468.5 434,-468.5 434,-468.5 440,-468.5 446,-474.5 446,-480.5 446,-480.5 446,-524.5 446,-524.5 446,-530.5 440,-536.5 434,-536.5\"/>\r\n",
       "<text text-anchor=\"start\" x=\"353.5\" y=\"-521.3\" font-family=\"Helvetica,sans-Serif\" font-size=\"14.00\">gini = 0.0</text>\r\n",
       "<text text-anchor=\"start\" x=\"343\" y=\"-506.3\" font-family=\"Helvetica,sans-Serif\" font-size=\"14.00\">samples = 8</text>\r\n",
       "<text text-anchor=\"start\" x=\"334\" y=\"-491.3\" font-family=\"Helvetica,sans-Serif\" font-size=\"14.00\">value = [0, 8, 0]</text>\r\n",
       "<text text-anchor=\"start\" x=\"327\" y=\"-476.3\" font-family=\"Helvetica,sans-Serif\" font-size=\"14.00\">class = versicolor</text>\r\n",
       "</g>\r\n",
       "<!-- 6&#45;&gt;16 -->\r\n",
       "<g id=\"edge16\" class=\"edge\"><title>6&#45;&gt;16</title>\r\n",
       "<path fill=\"none\" stroke=\"black\" d=\"M328.949,-579.907C336.838,-568.652 345.412,-556.418 353.34,-545.106\"/>\r\n",
       "<polygon fill=\"black\" stroke=\"black\" points=\"356.382,-546.865 359.255,-536.667 350.649,-542.847 356.382,-546.865\"/>\r\n",
       "</g>\r\n",
       "<!-- 8 -->\r\n",
       "<g id=\"node9\" class=\"node\"><title>8</title>\r\n",
       "<path fill=\"#39e581\" stroke=\"black\" d=\"M188,-417.5C188,-417.5 85,-417.5 85,-417.5 79,-417.5 73,-411.5 73,-405.5 73,-405.5 73,-361.5 73,-361.5 73,-355.5 79,-349.5 85,-349.5 85,-349.5 188,-349.5 188,-349.5 194,-349.5 200,-355.5 200,-361.5 200,-361.5 200,-405.5 200,-405.5 200,-411.5 194,-417.5 188,-417.5\"/>\r\n",
       "<text text-anchor=\"start\" x=\"107.5\" y=\"-402.3\" font-family=\"Helvetica,sans-Serif\" font-size=\"14.00\">gini = 0.0</text>\r\n",
       "<text text-anchor=\"start\" x=\"97\" y=\"-387.3\" font-family=\"Helvetica,sans-Serif\" font-size=\"14.00\">samples = 2</text>\r\n",
       "<text text-anchor=\"start\" x=\"88\" y=\"-372.3\" font-family=\"Helvetica,sans-Serif\" font-size=\"14.00\">value = [0, 2, 0]</text>\r\n",
       "<text text-anchor=\"start\" x=\"81\" y=\"-357.3\" font-family=\"Helvetica,sans-Serif\" font-size=\"14.00\">class = versicolor</text>\r\n",
       "</g>\r\n",
       "<!-- 7&#45;&gt;8 -->\r\n",
       "<g id=\"edge8\" class=\"edge\"><title>7&#45;&gt;8</title>\r\n",
       "<path fill=\"none\" stroke=\"black\" d=\"M190.051,-460.907C182.162,-449.652 173.588,-437.418 165.66,-426.106\"/>\r\n",
       "<polygon fill=\"black\" stroke=\"black\" points=\"168.351,-423.847 159.745,-417.667 162.618,-427.865 168.351,-423.847\"/>\r\n",
       "</g>\r\n",
       "<!-- 9 -->\r\n",
       "<g id=\"node10\" class=\"node\"><title>9</title>\r\n",
       "<path fill=\"#88efb3\" stroke=\"black\" d=\"M371,-425C371,-425 230,-425 230,-425 224,-425 218,-419 218,-413 218,-413 218,-354 218,-354 218,-348 224,-342 230,-342 230,-342 371,-342 371,-342 377,-342 383,-348 383,-354 383,-354 383,-413 383,-413 383,-419 377,-425 371,-425\"/>\r\n",
       "<text text-anchor=\"start\" x=\"226\" y=\"-409.8\" font-family=\"Helvetica,sans-Serif\" font-size=\"14.00\">petal length (cm) ≤ 1.55</text>\r\n",
       "<text text-anchor=\"start\" x=\"263\" y=\"-394.8\" font-family=\"Helvetica,sans-Serif\" font-size=\"14.00\">gini = 0.408</text>\r\n",
       "<text text-anchor=\"start\" x=\"261\" y=\"-379.8\" font-family=\"Helvetica,sans-Serif\" font-size=\"14.00\">samples = 7</text>\r\n",
       "<text text-anchor=\"start\" x=\"252\" y=\"-364.8\" font-family=\"Helvetica,sans-Serif\" font-size=\"14.00\">value = [0, 5, 2]</text>\r\n",
       "<text text-anchor=\"start\" x=\"245\" y=\"-349.8\" font-family=\"Helvetica,sans-Serif\" font-size=\"14.00\">class = versicolor</text>\r\n",
       "</g>\r\n",
       "<!-- 7&#45;&gt;9 -->\r\n",
       "<g id=\"edge9\" class=\"edge\"><title>7&#45;&gt;9</title>\r\n",
       "<path fill=\"none\" stroke=\"black\" d=\"M246.949,-460.907C253.183,-452.014 259.844,-442.509 266.277,-433.331\"/>\r\n",
       "<polygon fill=\"black\" stroke=\"black\" points=\"269.228,-435.219 272.101,-425.021 263.495,-431.201 269.228,-435.219\"/>\r\n",
       "</g>\r\n",
       "<!-- 10 -->\r\n",
       "<g id=\"node11\" class=\"node\"><title>10</title>\r\n",
       "<path fill=\"#9cf2c0\" stroke=\"black\" d=\"M290,-306C290,-306 145,-306 145,-306 139,-306 133,-300 133,-294 133,-294 133,-235 133,-235 133,-229 139,-223 145,-223 145,-223 290,-223 290,-223 296,-223 302,-229 302,-235 302,-235 302,-294 302,-294 302,-300 296,-306 290,-306\"/>\r\n",
       "<text text-anchor=\"start\" x=\"141\" y=\"-290.8\" font-family=\"Helvetica,sans-Serif\" font-size=\"14.00\">sepal length (cm) ≤ 6.25</text>\r\n",
       "<text text-anchor=\"start\" x=\"180\" y=\"-275.8\" font-family=\"Helvetica,sans-Serif\" font-size=\"14.00\">gini = 0.444</text>\r\n",
       "<text text-anchor=\"start\" x=\"178\" y=\"-260.8\" font-family=\"Helvetica,sans-Serif\" font-size=\"14.00\">samples = 6</text>\r\n",
       "<text text-anchor=\"start\" x=\"169\" y=\"-245.8\" font-family=\"Helvetica,sans-Serif\" font-size=\"14.00\">value = [0, 4, 2]</text>\r\n",
       "<text text-anchor=\"start\" x=\"162\" y=\"-230.8\" font-family=\"Helvetica,sans-Serif\" font-size=\"14.00\">class = versicolor</text>\r\n",
       "</g>\r\n",
       "<!-- 9&#45;&gt;10 -->\r\n",
       "<g id=\"edge10\" class=\"edge\"><title>9&#45;&gt;10</title>\r\n",
       "<path fill=\"none\" stroke=\"black\" d=\"M271.704,-341.907C265.394,-333.014 258.652,-323.509 252.141,-314.331\"/>\r\n",
       "<polygon fill=\"black\" stroke=\"black\" points=\"254.886,-312.152 246.246,-306.021 249.177,-316.202 254.886,-312.152\"/>\r\n",
       "</g>\r\n",
       "<!-- 15 -->\r\n",
       "<g id=\"node16\" class=\"node\"><title>15</title>\r\n",
       "<path fill=\"#39e581\" stroke=\"black\" d=\"M435,-298.5C435,-298.5 332,-298.5 332,-298.5 326,-298.5 320,-292.5 320,-286.5 320,-286.5 320,-242.5 320,-242.5 320,-236.5 326,-230.5 332,-230.5 332,-230.5 435,-230.5 435,-230.5 441,-230.5 447,-236.5 447,-242.5 447,-242.5 447,-286.5 447,-286.5 447,-292.5 441,-298.5 435,-298.5\"/>\r\n",
       "<text text-anchor=\"start\" x=\"354.5\" y=\"-283.3\" font-family=\"Helvetica,sans-Serif\" font-size=\"14.00\">gini = 0.0</text>\r\n",
       "<text text-anchor=\"start\" x=\"344\" y=\"-268.3\" font-family=\"Helvetica,sans-Serif\" font-size=\"14.00\">samples = 1</text>\r\n",
       "<text text-anchor=\"start\" x=\"335\" y=\"-253.3\" font-family=\"Helvetica,sans-Serif\" font-size=\"14.00\">value = [0, 1, 0]</text>\r\n",
       "<text text-anchor=\"start\" x=\"328\" y=\"-238.3\" font-family=\"Helvetica,sans-Serif\" font-size=\"14.00\">class = versicolor</text>\r\n",
       "</g>\r\n",
       "<!-- 9&#45;&gt;15 -->\r\n",
       "<g id=\"edge15\" class=\"edge\"><title>9&#45;&gt;15</title>\r\n",
       "<path fill=\"none\" stroke=\"black\" d=\"M329.296,-341.907C337.281,-330.652 345.96,-318.418 353.984,-307.106\"/>\r\n",
       "<polygon fill=\"black\" stroke=\"black\" points=\"357.04,-308.848 359.971,-298.667 351.331,-304.798 357.04,-308.848\"/>\r\n",
       "</g>\r\n",
       "<!-- 11 -->\r\n",
       "<g id=\"node12\" class=\"node\"><title>11</title>\r\n",
       "<path fill=\"#7beeab\" stroke=\"black\" d=\"M206,-187C206,-187 65,-187 65,-187 59,-187 53,-181 53,-175 53,-175 53,-116 53,-116 53,-110 59,-104 65,-104 65,-104 206,-104 206,-104 212,-104 218,-110 218,-116 218,-116 218,-175 218,-175 218,-181 212,-187 206,-187\"/>\r\n",
       "<text text-anchor=\"start\" x=\"61\" y=\"-171.8\" font-family=\"Helvetica,sans-Serif\" font-size=\"14.00\">petal length (cm) ≤ 1.45</text>\r\n",
       "<text text-anchor=\"start\" x=\"98\" y=\"-156.8\" font-family=\"Helvetica,sans-Serif\" font-size=\"14.00\">gini = 0.375</text>\r\n",
       "<text text-anchor=\"start\" x=\"96\" y=\"-141.8\" font-family=\"Helvetica,sans-Serif\" font-size=\"14.00\">samples = 4</text>\r\n",
       "<text text-anchor=\"start\" x=\"87\" y=\"-126.8\" font-family=\"Helvetica,sans-Serif\" font-size=\"14.00\">value = [0, 3, 1]</text>\r\n",
       "<text text-anchor=\"start\" x=\"80\" y=\"-111.8\" font-family=\"Helvetica,sans-Serif\" font-size=\"14.00\">class = versicolor</text>\r\n",
       "</g>\r\n",
       "<!-- 10&#45;&gt;11 -->\r\n",
       "<g id=\"edge11\" class=\"edge\"><title>10&#45;&gt;11</title>\r\n",
       "<path fill=\"none\" stroke=\"black\" d=\"M189.051,-222.907C182.817,-214.014 176.156,-204.509 169.723,-195.331\"/>\r\n",
       "<polygon fill=\"black\" stroke=\"black\" points=\"172.505,-193.201 163.899,-187.021 166.772,-197.219 172.505,-193.201\"/>\r\n",
       "</g>\r\n",
       "<!-- 14 -->\r\n",
       "<g id=\"node15\" class=\"node\"><title>14</title>\r\n",
       "<path fill=\"#ffffff\" stroke=\"black\" d=\"M351,-179.5C351,-179.5 248,-179.5 248,-179.5 242,-179.5 236,-173.5 236,-167.5 236,-167.5 236,-123.5 236,-123.5 236,-117.5 242,-111.5 248,-111.5 248,-111.5 351,-111.5 351,-111.5 357,-111.5 363,-117.5 363,-123.5 363,-123.5 363,-167.5 363,-167.5 363,-173.5 357,-179.5 351,-179.5\"/>\r\n",
       "<text text-anchor=\"start\" x=\"270.5\" y=\"-164.3\" font-family=\"Helvetica,sans-Serif\" font-size=\"14.00\">gini = 0.5</text>\r\n",
       "<text text-anchor=\"start\" x=\"260\" y=\"-149.3\" font-family=\"Helvetica,sans-Serif\" font-size=\"14.00\">samples = 2</text>\r\n",
       "<text text-anchor=\"start\" x=\"251\" y=\"-134.3\" font-family=\"Helvetica,sans-Serif\" font-size=\"14.00\">value = [0, 1, 1]</text>\r\n",
       "<text text-anchor=\"start\" x=\"244\" y=\"-119.3\" font-family=\"Helvetica,sans-Serif\" font-size=\"14.00\">class = versicolor</text>\r\n",
       "</g>\r\n",
       "<!-- 10&#45;&gt;14 -->\r\n",
       "<g id=\"edge14\" class=\"edge\"><title>10&#45;&gt;14</title>\r\n",
       "<path fill=\"none\" stroke=\"black\" d=\"M245.949,-222.907C253.838,-211.652 262.412,-199.418 270.34,-188.106\"/>\r\n",
       "<polygon fill=\"black\" stroke=\"black\" points=\"273.382,-189.865 276.255,-179.667 267.649,-185.847 273.382,-189.865\"/>\r\n",
       "</g>\r\n",
       "<!-- 12 -->\r\n",
       "<g id=\"node13\" class=\"node\"><title>12</title>\r\n",
       "<path fill=\"#9cf2c0\" stroke=\"black\" d=\"M115,-68C115,-68 12,-68 12,-68 6,-68 -7.10543e-015,-62 -7.10543e-015,-56 -7.10543e-015,-56 -7.10543e-015,-12 -7.10543e-015,-12 -7.10543e-015,-6 6,-0 12,-0 12,-0 115,-0 115,-0 121,-0 127,-6 127,-12 127,-12 127,-56 127,-56 127,-62 121,-68 115,-68\"/>\r\n",
       "<text text-anchor=\"start\" x=\"26\" y=\"-52.8\" font-family=\"Helvetica,sans-Serif\" font-size=\"14.00\">gini = 0.444</text>\r\n",
       "<text text-anchor=\"start\" x=\"24\" y=\"-37.8\" font-family=\"Helvetica,sans-Serif\" font-size=\"14.00\">samples = 3</text>\r\n",
       "<text text-anchor=\"start\" x=\"15\" y=\"-22.8\" font-family=\"Helvetica,sans-Serif\" font-size=\"14.00\">value = [0, 2, 1]</text>\r\n",
       "<text text-anchor=\"start\" x=\"8\" y=\"-7.8\" font-family=\"Helvetica,sans-Serif\" font-size=\"14.00\">class = versicolor</text>\r\n",
       "</g>\r\n",
       "<!-- 11&#45;&gt;12 -->\r\n",
       "<g id=\"edge12\" class=\"edge\"><title>11&#45;&gt;12</title>\r\n",
       "<path fill=\"none\" stroke=\"black\" d=\"M108.69,-103.726C102.932,-94.9703 96.8391,-85.7032 91.054,-76.9051\"/>\r\n",
       "<polygon fill=\"black\" stroke=\"black\" points=\"93.8142,-74.7322 85.3956,-68.2996 87.9653,-78.5781 93.8142,-74.7322\"/>\r\n",
       "</g>\r\n",
       "<!-- 13 -->\r\n",
       "<g id=\"node14\" class=\"node\"><title>13</title>\r\n",
       "<path fill=\"#39e581\" stroke=\"black\" d=\"M260,-68C260,-68 157,-68 157,-68 151,-68 145,-62 145,-56 145,-56 145,-12 145,-12 145,-6 151,-0 157,-0 157,-0 260,-0 260,-0 266,-0 272,-6 272,-12 272,-12 272,-56 272,-56 272,-62 266,-68 260,-68\"/>\r\n",
       "<text text-anchor=\"start\" x=\"179.5\" y=\"-52.8\" font-family=\"Helvetica,sans-Serif\" font-size=\"14.00\">gini = 0.0</text>\r\n",
       "<text text-anchor=\"start\" x=\"169\" y=\"-37.8\" font-family=\"Helvetica,sans-Serif\" font-size=\"14.00\">samples = 1</text>\r\n",
       "<text text-anchor=\"start\" x=\"160\" y=\"-22.8\" font-family=\"Helvetica,sans-Serif\" font-size=\"14.00\">value = [0, 1, 0]</text>\r\n",
       "<text text-anchor=\"start\" x=\"153\" y=\"-7.8\" font-family=\"Helvetica,sans-Serif\" font-size=\"14.00\">class = versicolor</text>\r\n",
       "</g>\r\n",
       "<!-- 11&#45;&gt;13 -->\r\n",
       "<g id=\"edge13\" class=\"edge\"><title>11&#45;&gt;13</title>\r\n",
       "<path fill=\"none\" stroke=\"black\" d=\"M162.683,-103.726C168.581,-94.879 174.827,-85.51 180.746,-76.6303\"/>\r\n",
       "<polygon fill=\"black\" stroke=\"black\" points=\"183.665,-78.5616 186.3,-68.2996 177.841,-74.6787 183.665,-78.5616\"/>\r\n",
       "</g>\r\n",
       "<!-- 19 -->\r\n",
       "<g id=\"node20\" class=\"node\"><title>19</title>\r\n",
       "<path fill=\"#9a61ea\" stroke=\"black\" d=\"M542,-782C542,-782 397,-782 397,-782 391,-782 385,-776 385,-770 385,-770 385,-711 385,-711 385,-705 391,-699 397,-699 397,-699 542,-699 542,-699 548,-699 554,-705 554,-711 554,-711 554,-770 554,-770 554,-776 548,-782 542,-782\"/>\r\n",
       "<text text-anchor=\"start\" x=\"393\" y=\"-766.8\" font-family=\"Helvetica,sans-Serif\" font-size=\"14.00\">sepal length (cm) ≤ 5.85</text>\r\n",
       "<text text-anchor=\"start\" x=\"432\" y=\"-751.8\" font-family=\"Helvetica,sans-Serif\" font-size=\"14.00\">gini = 0.278</text>\r\n",
       "<text text-anchor=\"start\" x=\"430\" y=\"-736.8\" font-family=\"Helvetica,sans-Serif\" font-size=\"14.00\">samples = 6</text>\r\n",
       "<text text-anchor=\"start\" x=\"421\" y=\"-721.8\" font-family=\"Helvetica,sans-Serif\" font-size=\"14.00\">value = [0, 1, 5]</text>\r\n",
       "<text text-anchor=\"start\" x=\"419.5\" y=\"-706.8\" font-family=\"Helvetica,sans-Serif\" font-size=\"14.00\">class = virginica</text>\r\n",
       "</g>\r\n",
       "<!-- 18&#45;&gt;19 -->\r\n",
       "<g id=\"edge19\" class=\"edge\"><title>18&#45;&gt;19</title>\r\n",
       "<path fill=\"none\" stroke=\"black\" d=\"M474.724,-817.907C474.154,-809.558 473.546,-800.671 472.954,-792.02\"/>\r\n",
       "<polygon fill=\"black\" stroke=\"black\" points=\"476.445,-791.759 472.271,-782.021 469.461,-792.236 476.445,-791.759\"/>\r\n",
       "</g>\r\n",
       "<!-- 22 -->\r\n",
       "<g id=\"node23\" class=\"node\"><title>22</title>\r\n",
       "<path fill=\"#8139e5\" stroke=\"black\" d=\"M681,-774.5C681,-774.5 584,-774.5 584,-774.5 578,-774.5 572,-768.5 572,-762.5 572,-762.5 572,-718.5 572,-718.5 572,-712.5 578,-706.5 584,-706.5 584,-706.5 681,-706.5 681,-706.5 687,-706.5 693,-712.5 693,-718.5 693,-718.5 693,-762.5 693,-762.5 693,-768.5 687,-774.5 681,-774.5\"/>\r\n",
       "<text text-anchor=\"start\" x=\"603.5\" y=\"-759.3\" font-family=\"Helvetica,sans-Serif\" font-size=\"14.00\">gini = 0.0</text>\r\n",
       "<text text-anchor=\"start\" x=\"589\" y=\"-744.3\" font-family=\"Helvetica,sans-Serif\" font-size=\"14.00\">samples = 24</text>\r\n",
       "<text text-anchor=\"start\" x=\"580\" y=\"-729.3\" font-family=\"Helvetica,sans-Serif\" font-size=\"14.00\">value = [0, 0, 24]</text>\r\n",
       "<text text-anchor=\"start\" x=\"582.5\" y=\"-714.3\" font-family=\"Helvetica,sans-Serif\" font-size=\"14.00\">class = virginica</text>\r\n",
       "</g>\r\n",
       "<!-- 18&#45;&gt;22 -->\r\n",
       "<g id=\"edge22\" class=\"edge\"><title>18&#45;&gt;22</title>\r\n",
       "<path fill=\"none\" stroke=\"black\" d=\"M531.276,-817.907C547.21,-805.88 564.625,-792.735 580.448,-780.791\"/>\r\n",
       "<polygon fill=\"black\" stroke=\"black\" points=\"582.688,-783.485 588.561,-774.667 578.471,-777.898 582.688,-783.485\"/>\r\n",
       "</g>\r\n",
       "<!-- 20 -->\r\n",
       "<g id=\"node21\" class=\"node\"><title>20</title>\r\n",
       "<path fill=\"#8139e5\" stroke=\"black\" d=\"M512.5,-655.5C512.5,-655.5 420.5,-655.5 420.5,-655.5 414.5,-655.5 408.5,-649.5 408.5,-643.5 408.5,-643.5 408.5,-599.5 408.5,-599.5 408.5,-593.5 414.5,-587.5 420.5,-587.5 420.5,-587.5 512.5,-587.5 512.5,-587.5 518.5,-587.5 524.5,-593.5 524.5,-599.5 524.5,-599.5 524.5,-643.5 524.5,-643.5 524.5,-649.5 518.5,-655.5 512.5,-655.5\"/>\r\n",
       "<text text-anchor=\"start\" x=\"437.5\" y=\"-640.3\" font-family=\"Helvetica,sans-Serif\" font-size=\"14.00\">gini = 0.0</text>\r\n",
       "<text text-anchor=\"start\" x=\"427\" y=\"-625.3\" font-family=\"Helvetica,sans-Serif\" font-size=\"14.00\">samples = 5</text>\r\n",
       "<text text-anchor=\"start\" x=\"418\" y=\"-610.3\" font-family=\"Helvetica,sans-Serif\" font-size=\"14.00\">value = [0, 0, 5]</text>\r\n",
       "<text text-anchor=\"start\" x=\"416.5\" y=\"-595.3\" font-family=\"Helvetica,sans-Serif\" font-size=\"14.00\">class = virginica</text>\r\n",
       "</g>\r\n",
       "<!-- 19&#45;&gt;20 -->\r\n",
       "<g id=\"edge20\" class=\"edge\"><title>19&#45;&gt;20</title>\r\n",
       "<path fill=\"none\" stroke=\"black\" d=\"M468.459,-698.907C468.185,-688.204 467.888,-676.615 467.61,-665.776\"/>\r\n",
       "<polygon fill=\"black\" stroke=\"black\" points=\"471.106,-665.574 467.35,-655.667 464.108,-665.753 471.106,-665.574\"/>\r\n",
       "</g>\r\n",
       "<!-- 21 -->\r\n",
       "<g id=\"node22\" class=\"node\"><title>21</title>\r\n",
       "<path fill=\"#39e581\" stroke=\"black\" d=\"M658,-655.5C658,-655.5 555,-655.5 555,-655.5 549,-655.5 543,-649.5 543,-643.5 543,-643.5 543,-599.5 543,-599.5 543,-593.5 549,-587.5 555,-587.5 555,-587.5 658,-587.5 658,-587.5 664,-587.5 670,-593.5 670,-599.5 670,-599.5 670,-643.5 670,-643.5 670,-649.5 664,-655.5 658,-655.5\"/>\r\n",
       "<text text-anchor=\"start\" x=\"577.5\" y=\"-640.3\" font-family=\"Helvetica,sans-Serif\" font-size=\"14.00\">gini = 0.0</text>\r\n",
       "<text text-anchor=\"start\" x=\"567\" y=\"-625.3\" font-family=\"Helvetica,sans-Serif\" font-size=\"14.00\">samples = 1</text>\r\n",
       "<text text-anchor=\"start\" x=\"558\" y=\"-610.3\" font-family=\"Helvetica,sans-Serif\" font-size=\"14.00\">value = [0, 1, 0]</text>\r\n",
       "<text text-anchor=\"start\" x=\"551\" y=\"-595.3\" font-family=\"Helvetica,sans-Serif\" font-size=\"14.00\">class = versicolor</text>\r\n",
       "</g>\r\n",
       "<!-- 19&#45;&gt;21 -->\r\n",
       "<g id=\"edge21\" class=\"edge\"><title>19&#45;&gt;21</title>\r\n",
       "<path fill=\"none\" stroke=\"black\" d=\"M517.031,-698.907C530.857,-687.101 545.943,-674.217 559.721,-662.45\"/>\r\n",
       "<polygon fill=\"black\" stroke=\"black\" points=\"562.332,-664.823 567.664,-655.667 557.786,-659.5 562.332,-664.823\"/>\r\n",
       "</g>\r\n",
       "</g>\r\n",
       "</svg>\r\n"
      ],
      "text/plain": [
       "<graphviz.files.Source at 0x20c89af7988>"
      ]
     },
     "execution_count": 19,
     "metadata": {},
     "output_type": "execute_result"
    }
   ],
   "source": [
    "features = [iris.feature_names[0], iris.feature_names[2]]\n",
    "dot_data2D = tree.export_graphviz(clf2D, out_file=None, \n",
    "                         feature_names=features,  \n",
    "                         class_names=iris.target_names,  \n",
    "                         filled=True, rounded=True,  \n",
    "                         special_characters=True)  \n",
    "graph = graphviz.Source(dot_data2D)  \n",
    "graph"
   ]
  },
  {
   "cell_type": "markdown",
   "metadata": {},
   "source": [
    "## 3. Selection of a classification model with all the features"
   ]
  },
  {
   "cell_type": "markdown",
   "metadata": {},
   "source": [
    "**Q11: Evaluate the accuracy of the classification with a cross-validation.**\n",
    "\n",
    "**Use a 10-fold cross-validation to assess your decision tree.**\n",
    "\n",
    "**Print the mean accuracy over the 10 folds and its standard-deviation.**"
   ]
  },
  {
   "cell_type": "code",
   "execution_count": 20,
   "metadata": {},
   "outputs": [
    {
     "name": "stdout",
     "output_type": "stream",
     "text": [
      "Mean accuracy over 10 folds: 0.96 (+/- 0.09)\n"
     ]
    }
   ],
   "source": [
    "from sklearn.model_selection import cross_val_score\n",
    "scores = cross_val_score(clf, X, y, cv=10)\n",
    "print(\"Mean accuracy over 10 folds: %0.2f (+/- %0.2f)\" % (scores.mean(), scores.std() * 2))"
   ]
  },
  {
   "cell_type": "markdown",
   "metadata": {},
   "source": [
    "**Q12: Use a grid search to test all possible values max_depth (from 1 to 8) of a tree classifier.**\n",
    "\n",
    "**For each search, you will use a 5-fold cross-validation.**\n",
    "\n",
    "**The score will be the accuracy.**"
   ]
  },
  {
   "cell_type": "code",
   "execution_count": 21,
   "metadata": {},
   "outputs": [
    {
     "name": "stdout",
     "output_type": "stream",
     "text": [
      "GridSearchCV(cv=5, error_score='raise-deprecating',\n",
      "             estimator=DecisionTreeClassifier(class_weight=None,\n",
      "                                              criterion='gini', max_depth=None,\n",
      "                                              max_features=None,\n",
      "                                              max_leaf_nodes=None,\n",
      "                                              min_impurity_decrease=0.0,\n",
      "                                              min_impurity_split=None,\n",
      "                                              min_samples_leaf=1,\n",
      "                                              min_samples_split=2,\n",
      "                                              min_weight_fraction_leaf=0.0,\n",
      "                                              presort=False, random_state=None,\n",
      "                                              splitter='best'),\n",
      "             iid='warn', n_jobs=None,\n",
      "             param_grid={'criterion': ['gini', 'entropy'],\n",
      "                         'max_depth': array([1, 2, 3, 4, 5, 6, 7])},\n",
      "             pre_dispatch='2*n_jobs', refit=True, return_train_score=True,\n",
      "             scoring='accuracy', verbose=0)\n",
      "Mean cross-validated score of the best_estimator:  0.9795918367346939\n"
     ]
    },
    {
     "name": "stderr",
     "output_type": "stream",
     "text": [
      "C:\\Users\\begum\\AppData\\Local\\Continuum\\anaconda3\\lib\\site-packages\\sklearn\\model_selection\\_search.py:814: DeprecationWarning: The default of the `iid` parameter will change from True to False in version 0.22 and will be removed in 0.24. This will change numeric results when test-set sizes are unequal.\n",
      "  DeprecationWarning)\n"
     ]
    }
   ],
   "source": [
    "from sklearn.model_selection import GridSearchCV\n",
    "\n",
    "clf_model=tree.DecisionTreeClassifier()\n",
    "grid_parameters = { 'criterion':['gini','entropy'],'max_depth': np.arange(1, 8)}\n",
    "clf_gscv = GridSearchCV(estimator=clf_model,\n",
    "                     param_grid=grid_parameters,\n",
    "                     scoring='accuracy',\n",
    "                     cv=5,\n",
    "                    return_train_score=True)\n",
    "print(clf_gscv.fit(X_train, y_train))\n",
    "\n",
    "\n",
    "best_result = clf_gscv.best_score_\n",
    "print(\"Mean cross-validated score of the best_estimator: \",best_result)"
   ]
  },
  {
   "cell_type": "markdown",
   "metadata": {},
   "source": [
    "The accuracy achieved is 97% which is only slightly better than 96%. "
   ]
  },
  {
   "cell_type": "markdown",
   "metadata": {},
   "source": [
    "**Q13: print the mean scores of all the tested models.**"
   ]
  },
  {
   "cell_type": "code",
   "execution_count": 22,
   "metadata": {},
   "outputs": [
    {
     "data": {
      "text/plain": [
       "array([0.67346939, 0.95918367, 0.96938776, 0.96938776, 0.96938776,\n",
       "       0.96938776, 0.97959184, 0.67346939, 0.95918367, 0.97959184,\n",
       "       0.95918367, 0.96938776, 0.94897959, 0.95918367])"
      ]
     },
     "execution_count": 22,
     "metadata": {},
     "output_type": "execute_result"
    }
   ],
   "source": [
    "clf_gscv.cv_results_['mean_test_score']"
   ]
  },
  {
   "cell_type": "markdown",
   "metadata": {},
   "source": [
    "**Q14: print the standard-deviation of the score of all the tested models.**"
   ]
  },
  {
   "cell_type": "code",
   "execution_count": 23,
   "metadata": {},
   "outputs": [
    {
     "data": {
      "text/plain": [
       "array([0.0134343 , 0.03568998, 0.03863203, 0.02334335, 0.02334335,\n",
       "       0.02334335, 0.02356532, 0.0134343 , 0.03568998, 0.02356532,\n",
       "       0.03669688, 0.03863203, 0.04321201, 0.03568998])"
      ]
     },
     "execution_count": 23,
     "metadata": {},
     "output_type": "execute_result"
    }
   ],
   "source": [
    "clf_gscv.cv_results_['std_test_score']"
   ]
  },
  {
   "cell_type": "markdown",
   "metadata": {},
   "source": [
    "**Q15: print the parameter of the best model.**"
   ]
  },
  {
   "cell_type": "code",
   "execution_count": 24,
   "metadata": {},
   "outputs": [
    {
     "data": {
      "text/plain": [
       "{'criterion': 'gini', 'max_depth': 7}"
      ]
     },
     "execution_count": 24,
     "metadata": {},
     "output_type": "execute_result"
    }
   ],
   "source": [
    "clf_gscv.best_params_"
   ]
  }
 ],
 "metadata": {
  "kernelspec": {
   "display_name": "Python 3",
   "language": "python",
   "name": "python3"
  },
  "language_info": {
   "codemirror_mode": {
    "name": "ipython",
    "version": 3
   },
   "file_extension": ".py",
   "mimetype": "text/x-python",
   "name": "python",
   "nbconvert_exporter": "python",
   "pygments_lexer": "ipython3",
   "version": "3.7.4"
  }
 },
 "nbformat": 4,
 "nbformat_minor": 2
}
