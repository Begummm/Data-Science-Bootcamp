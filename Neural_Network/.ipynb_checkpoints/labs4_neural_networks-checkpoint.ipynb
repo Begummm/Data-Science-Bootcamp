{
 "cells": [
  {
   "cell_type": "markdown",
   "metadata": {},
   "source": [
    "\n",
    "# First Steps with a Multi-layer Perceptron (MLP) in Scikit-Learn\n",
    "\n"
   ]
  },
  {
   "cell_type": "markdown",
   "metadata": {},
   "source": [
    "## 1. A simple classification problem"
   ]
  },
  {
   "cell_type": "markdown",
   "metadata": {},
   "source": [
    "The Scikit-learn class for MLP is **MLPClassifier**.\n",
    "Please read the [*MLPClassifier documentation*](http://scikit-learn.org/stable/modules/generated/sklearn.neural_network.MLPClassifier.html#sklearn.neural_network.MLPClassifierMLPClassifier)."
   ]
  },
  {
   "cell_type": "markdown",
   "metadata": {},
   "source": [
    "**Question #1: Describe briefly the role of each import.**"
   ]
  },
  {
   "cell_type": "code",
   "execution_count": 4,
   "metadata": {},
   "outputs": [
    {
     "name": "stderr",
     "output_type": "stream",
     "text": [
      "In C:\\Users\\begum\\AppData\\Local\\Continuum\\anaconda3\\lib\\site-packages\\matplotlib\\mpl-data\\stylelib\\_classic_test.mplstyle: \n",
      "The text.latex.preview rcparam was deprecated in Matplotlib 3.3 and will be removed two minor releases later.\n",
      "In C:\\Users\\begum\\AppData\\Local\\Continuum\\anaconda3\\lib\\site-packages\\matplotlib\\mpl-data\\stylelib\\_classic_test.mplstyle: \n",
      "The mathtext.fallback_to_cm rcparam was deprecated in Matplotlib 3.3 and will be removed two minor releases later.\n",
      "In C:\\Users\\begum\\AppData\\Local\\Continuum\\anaconda3\\lib\\site-packages\\matplotlib\\mpl-data\\stylelib\\_classic_test.mplstyle: Support for setting the 'mathtext.fallback_to_cm' rcParam is deprecated since 3.3 and will be removed two minor releases later; use 'mathtext.fallback : 'cm' instead.\n",
      "In C:\\Users\\begum\\AppData\\Local\\Continuum\\anaconda3\\lib\\site-packages\\matplotlib\\mpl-data\\stylelib\\_classic_test.mplstyle: \n",
      "The validate_bool_maybe_none function was deprecated in Matplotlib 3.3 and will be removed two minor releases later.\n",
      "In C:\\Users\\begum\\AppData\\Local\\Continuum\\anaconda3\\lib\\site-packages\\matplotlib\\mpl-data\\stylelib\\_classic_test.mplstyle: \n",
      "The savefig.jpeg_quality rcparam was deprecated in Matplotlib 3.3 and will be removed two minor releases later.\n",
      "In C:\\Users\\begum\\AppData\\Local\\Continuum\\anaconda3\\lib\\site-packages\\matplotlib\\mpl-data\\stylelib\\_classic_test.mplstyle: \n",
      "The keymap.all_axes rcparam was deprecated in Matplotlib 3.3 and will be removed two minor releases later.\n",
      "In C:\\Users\\begum\\AppData\\Local\\Continuum\\anaconda3\\lib\\site-packages\\matplotlib\\mpl-data\\stylelib\\_classic_test.mplstyle: \n",
      "The animation.avconv_path rcparam was deprecated in Matplotlib 3.3 and will be removed two minor releases later.\n",
      "In C:\\Users\\begum\\AppData\\Local\\Continuum\\anaconda3\\lib\\site-packages\\matplotlib\\mpl-data\\stylelib\\_classic_test.mplstyle: \n",
      "The animation.avconv_args rcparam was deprecated in Matplotlib 3.3 and will be removed two minor releases later.\n"
     ]
    }
   ],
   "source": [
    "#  allows to draw static images in the notebook\n",
    "%matplotlib inline   \n",
    "\n",
    "import numpy as np #importing numpy library which contains a large collection of high-level mathematical functions\n",
    "\n",
    "from matplotlib import pyplot as plt  # plotting library\n",
    "from matplotlib.colors import ListedColormap\n",
    "\n",
    "from sklearn.model_selection import train_test_split  # enables to split the data into training and test sets\n",
    "from sklearn import preprocessing \n",
    "\n",
    "from sklearn.preprocessing import StandardScaler  # helps to standardize features \n",
    "from sklearn.datasets import make_moons   # our dataset\n",
    "\n",
    "from sklearn.neural_network import MLPClassifier   # multilayer perceptron classifier library"
   ]
  },
  {
   "cell_type": "markdown",
   "metadata": {},
   "source": [
    "**Question #2: what is the output of \"make_moons\"?**"
   ]
  },
  {
   "cell_type": "code",
   "execution_count": 9,
   "metadata": {},
   "outputs": [
    {
     "name": "stdout",
     "output_type": "stream",
     "text": [
      "X: \n",
      "[[ 0.03159499  0.98698776]\n",
      " [ 2.11509784 -0.04624397]\n",
      " [ 0.88248972 -0.07575606]\n",
      " [-0.0551441  -0.03733246]\n",
      " [ 0.82954503 -0.53932149]\n",
      " [ 2.11285708  0.66208353]\n",
      " [ 0.5696927   0.33744136]\n",
      " [ 0.95217454 -0.75307471]\n",
      " [-0.02922115  0.39287336]\n",
      " [ 1.71579557  0.36069454]]\n",
      "y: \n",
      "[0 1 0 1 1 1 0 1 1 1]\n"
     ]
    }
   ],
   "source": [
    "# Create artificial dataset (classification problem within 2 classes within R^2 input space)\n",
    "X, y = make_moons(n_samples=100, noise=0.3, random_state=0)\n",
    "print(\"X: \")\n",
    "print(X[:10])\n",
    "print(\"y: \")\n",
    "print(y[:10])"
   ]
  },
  {
   "cell_type": "markdown",
   "metadata": {},
   "source": [
    "**Question #3: what is the interest of \"StandardScaler()\"?**"
   ]
  },
  {
   "cell_type": "code",
   "execution_count": 11,
   "metadata": {},
   "outputs": [],
   "source": [
    "# Preprocess dataset, and split into training and test part\n",
    "X = StandardScaler(with_mean=True, with_std=True).fit_transform(X)"
   ]
  },
  {
   "cell_type": "markdown",
   "metadata": {},
   "source": [
    "**A: Standardizing a dataset involves rescaling the distribution of values so that the mean of observed values is 0 and the standard deviation is 1.**\n"
   ]
  },
  {
   "cell_type": "markdown",
   "metadata": {},
   "source": [
    "**Question #4: what is the proportion of training samples?**"
   ]
  },
  {
   "cell_type": "code",
   "execution_count": 12,
   "metadata": {},
   "outputs": [],
   "source": [
    "X_train, X_test, y_train, y_test = train_test_split(X, y, test_size=0.7)"
   ]
  },
  {
   "cell_type": "markdown",
   "metadata": {},
   "source": [
    "**A: 70% of the data is for the training and 30% is for the test.**"
   ]
  },
  {
   "cell_type": "markdown",
   "metadata": {},
   "source": [
    "**Question #5: what is the one-hot encoding?**"
   ]
  },
  {
   "cell_type": "code",
   "execution_count": 13,
   "metadata": {},
   "outputs": [],
   "source": [
    "# Encode class labels as binary vector (with exactly ONE bit set to 1, and all others to 0)\n",
    "Y_train_OneHot = np.eye(2)[y_train]\n",
    "Y_test_OneHot = np.eye(2)[y_test]"
   ]
  },
  {
   "cell_type": "markdown",
   "metadata": {},
   "source": [
    "**A: One hot encoding is a process by which categorical variables are converted into a form that could be provided to ML algorithms to do a better job in prediction.**"
   ]
  },
  {
   "cell_type": "code",
   "execution_count": 14,
   "metadata": {},
   "outputs": [
    {
     "name": "stdout",
     "output_type": "stream",
     "text": [
      "Number of training samples =  30\n",
      "\n",
      "First  30 training samples\n",
      "[  Input_features  ]     [Target_output]\n",
      "[ 0.62682189 -2.14337167] [0. 1.]\n",
      "[0.4860189  1.96041925] [1. 0.]\n",
      "[ 1.15004209 -0.46423271] [1. 0.]\n",
      "[-0.1636123  -1.53782127] [0. 1.]\n",
      "[-0.33075371 -0.55325533] [0. 1.]\n",
      "[ 1.53916295 -0.40646646] [0. 1.]\n",
      "[0.27524467 0.58976897] [1. 0.]\n",
      "[ 0.23092986 -1.16563865] [0. 1.]\n",
      "[-0.71978547  1.72334673] [1. 0.]\n",
      "[1.39730283 0.39040035] [0. 1.]\n",
      "[ 0.59260113 -1.44842808] [0. 1.]\n",
      "[0.03138162 1.27867747] [1. 0.]\n",
      "[-0.09130345 -0.93824346] [0. 1.]\n",
      "[-0.28724359  1.0525906 ] [1. 0.]\n",
      "[-0.99471418 -0.7858591 ] [0. 1.]\n",
      "[-1.63601617  1.14409337] [1. 0.]\n",
      "[-0.17344159  1.50362044] [1. 0.]\n",
      "[-0.31784745 -1.493817  ] [0. 1.]\n",
      "[-0.34408365 -0.11501714] [0. 1.]\n",
      "[0.24942261 0.37041953] [1. 0.]\n",
      "[0.20764271 0.88856402] [1. 0.]\n",
      "[1.85584796 0.39711336] [0. 1.]\n",
      "[1.37086214 0.22375044] [0. 1.]\n",
      "[-0.73153577  1.24236135] [1. 0.]\n",
      "[-2.05161935  0.3295589 ] [1. 0.]\n",
      "[ 1.7173351  -0.17875463] [0. 1.]\n",
      "[ 1.12756772 -1.65289561] [0. 1.]\n",
      "[-0.04156698 -0.71850484] [0. 1.]\n",
      "[-1.4065875  -1.03687185] [1. 0.]\n",
      "[ 0.67050908 -1.01221609] [0. 1.]\n"
     ]
    }
   ],
   "source": [
    "# Print beginning of training dataset (for verification)\n",
    "print(\"Number of training samples = \", y_train.size)\n",
    "print()\n",
    "print(\"First \", round(y_train.size), \"training samples\" )\n",
    "print(\"[  Input_features  ]     [Target_output]\")\n",
    "for i in range( int(round(y_train.size) )):\n",
    "    print( X_train[i], Y_train_OneHot[i])"
   ]
  },
  {
   "cell_type": "markdown",
   "metadata": {},
   "source": [
    "**Question #6: what is the role of the \"alpha\" parameter?**"
   ]
  },
  {
   "cell_type": "code",
   "execution_count": 15,
   "metadata": {
    "scrolled": false
   },
   "outputs": [
    {
     "data": {
      "image/png": "[encoded data removed]",
      "text/plain": [
       "<Figure size 432x288 with 1 Axes>"
      ]
     },
     "metadata": {
      "needs_background": "light"
     },
     "output_type": "display_data"
    },
    {
     "name": "stdout",
     "output_type": "stream",
     "text": [
      "\n",
      "Plot of training samples and testing samples\n",
      "Datasets: circles=training, light-crosses=test, red=class 1, blue=class 2\n"
     ]
    }
   ],
   "source": [
    "# Plot training+testing dataset\n",
    "################################\n",
    "cm = plt.cm.RdBu\n",
    "cm_bright = ListedColormap(['#FF0000', '#0000FF'])\n",
    "\n",
    "# Plot the training points...\n",
    "plt.scatter(X_train[:, 0], X_train[:, 1], c=y_train, cmap=cm_bright)\n",
    "#   ...and testing points\n",
    "plt.scatter(X_test[:, 0], X_test[:, 1], marker='x', c=y_test, cmap=cm_bright, alpha=0.3)\n",
    "\n",
    "# Define limits/scale of plot axis\n",
    "x_min, x_max = X[:, 0].min() - .5, X[:, 0].max() + .5\n",
    "y_min, y_max = X[:, 1].min() - .5, X[:, 1].max() + .5\n",
    "plt.xlim(x_min, x_max)\n",
    "plt.ylim(y_min, y_max)\n",
    "plt.show()\n",
    "\n",
    "# Actually render the plot\n",
    "print()\n",
    "print(\"Plot of training samples and testing samples\")\n",
    "print(\"Datasets: circles=training, light-crosses=test, red=class 1, blue=class 2\")\n"
   ]
  },
  {
   "cell_type": "markdown",
   "metadata": {},
   "source": [
    "**A: Alpha controls the transperency of the points.**"
   ]
  },
  {
   "cell_type": "markdown",
   "metadata": {},
   "source": [
    "**Question #7: Describe the role of each argument of \"MLPClassifier\"?**"
   ]
  },
  {
   "cell_type": "markdown",
   "metadata": {},
   "source": [
    "**Question #8: Describe the neural network architecture (how many layers, how many neurons, etc)?**"
   ]
  },
  {
   "cell_type": "code",
   "execution_count": 16,
   "metadata": {
    "scrolled": true
   },
   "outputs": [
    {
     "name": "stdout",
     "output_type": "stream",
     "text": [
      "MLPClassifier(activation='relu', alpha=0.0001, batch_size=20, beta_1=0.9,\n",
      "              beta_2=0.999, early_stopping=False, epsilon=1e-08,\n",
      "              hidden_layer_sizes=(10,), learning_rate='constant',\n",
      "              learning_rate_init=0.05, max_iter=500, momentum=0.9,\n",
      "              n_iter_no_change=10, nesterovs_momentum=True, power_t=0.5,\n",
      "              random_state=None, shuffle=True, solver='sgd', tol=1e-05,\n",
      "              validation_fraction=0.1, verbose=True, warm_start=False)\n"
     ]
    }
   ],
   "source": [
    "#########################################################\n",
    "# Create and parametrize a MLP neural network classifier\n",
    "#########################################################\n",
    "mlp = MLPClassifier(hidden_layer_sizes=(10, ),  #10 nodes, 2 layers\n",
    "                    activation='relu',  #max(0,x) activation function\n",
    "                    solver='sgd',  # stochastic gradient descent\n",
    "                    alpha=0.0001, # L2 penalty (sum of the alpha*square of parameters) which controls the size or height of the parameters(theta)\n",
    "                    batch_size=20, # size of minibatches\n",
    "                    learning_rate='constant', \n",
    "                    learning_rate_init=0.05, \n",
    "                    max_iter=500, \n",
    "                    shuffle=True, # matter of ordering the data\n",
    "                    tol=0.00001,  #tolerance (epsilon in lecture 41)\n",
    "                    verbose=True) # having messages\n",
    "\n",
    "print(mlp)\n"
   ]
  },
  {
   "cell_type": "markdown",
   "metadata": {},
   "source": [
    "**Question #9: Comment the convergence of the learning step.**"
   ]
  },
  {
   "cell_type": "markdown",
   "metadata": {},
   "source": [
    "**A: Iteration stopped because the loss is smaller than the given tolerance value.**"
   ]
  },
  {
   "cell_type": "code",
   "execution_count": 17,
   "metadata": {},
   "outputs": [
    {
     "name": "stdout",
     "output_type": "stream",
     "text": [
      "Iteration 1, loss = 1.23161837\n",
      "Iteration 2, loss = 1.12509838\n",
      "Iteration 3, loss = 0.99175117\n",
      "Iteration 4, loss = 0.85232544\n",
      "Iteration 5, loss = 0.73535611\n",
      "Iteration 6, loss = 0.66154051\n",
      "Iteration 7, loss = 0.59314353\n",
      "Iteration 8, loss = 0.54616036\n",
      "Iteration 9, loss = 0.51581160\n",
      "Iteration 10, loss = 0.50182670\n",
      "Iteration 11, loss = 0.48658136\n",
      "Iteration 12, loss = 0.47960341\n",
      "Iteration 13, loss = 0.47603152\n",
      "Iteration 14, loss = 0.48776853\n",
      "Iteration 15, loss = 0.48136048\n",
      "Iteration 16, loss = 0.48393302\n",
      "Iteration 17, loss = 0.47928889\n",
      "Iteration 18, loss = 0.47899200\n",
      "Iteration 19, loss = 0.48652961\n",
      "Iteration 20, loss = 0.47750549\n",
      "Iteration 21, loss = 0.47512060\n",
      "Iteration 22, loss = 0.47038314\n",
      "Iteration 23, loss = 0.46647183\n",
      "Iteration 24, loss = 0.46668323\n",
      "Iteration 25, loss = 0.46439356\n",
      "Iteration 26, loss = 0.46204329\n",
      "Iteration 27, loss = 0.46137220\n",
      "Iteration 28, loss = 0.45767201\n",
      "Iteration 29, loss = 0.45908191\n",
      "Iteration 30, loss = 0.45925153\n",
      "Iteration 31, loss = 0.45659732\n",
      "Iteration 32, loss = 0.45640227\n",
      "Iteration 33, loss = 0.44775534\n",
      "Iteration 34, loss = 0.45216267\n",
      "Iteration 35, loss = 0.45203336\n",
      "Iteration 36, loss = 0.44397574\n",
      "Iteration 37, loss = 0.44615586\n",
      "Iteration 38, loss = 0.44722157\n",
      "Iteration 39, loss = 0.44841320\n",
      "Iteration 40, loss = 0.43925326\n",
      "Iteration 41, loss = 0.43604574\n",
      "Iteration 42, loss = 0.43468574\n",
      "Iteration 43, loss = 0.43383757\n",
      "Iteration 44, loss = 0.43480749\n",
      "Iteration 45, loss = 0.43640756\n",
      "Iteration 46, loss = 0.43325459\n",
      "Iteration 47, loss = 0.43517886\n",
      "Iteration 48, loss = 0.43167223\n",
      "Iteration 49, loss = 0.43215852\n",
      "Iteration 50, loss = 0.43170790\n",
      "Iteration 51, loss = 0.43221875\n",
      "Iteration 52, loss = 0.42944034\n",
      "Iteration 53, loss = 0.42636737\n",
      "Iteration 54, loss = 0.42366670\n",
      "Iteration 55, loss = 0.42959215\n",
      "Iteration 56, loss = 0.42187388\n",
      "Iteration 57, loss = 0.42449953\n",
      "Iteration 58, loss = 0.42399679\n",
      "Iteration 59, loss = 0.41891982\n",
      "Iteration 60, loss = 0.41522014\n",
      "Iteration 61, loss = 0.41441207\n",
      "Iteration 62, loss = 0.42582315\n",
      "Iteration 63, loss = 0.41856757\n",
      "Iteration 64, loss = 0.41231931\n",
      "Iteration 65, loss = 0.40894952\n",
      "Iteration 66, loss = 0.41191142\n",
      "Iteration 67, loss = 0.40882501\n",
      "Iteration 68, loss = 0.40772945\n",
      "Iteration 69, loss = 0.40735090\n",
      "Iteration 70, loss = 0.40460525\n",
      "Iteration 71, loss = 0.40411423\n",
      "Iteration 72, loss = 0.40861110\n",
      "Iteration 73, loss = 0.40481291\n",
      "Iteration 74, loss = 0.40191404\n",
      "Iteration 75, loss = 0.41042867\n",
      "Iteration 76, loss = 0.40586565\n",
      "Iteration 77, loss = 0.40631319\n",
      "Iteration 78, loss = 0.39994761\n",
      "Iteration 79, loss = 0.39659616\n",
      "Iteration 80, loss = 0.39901401\n",
      "Iteration 81, loss = 0.39383495\n",
      "Iteration 82, loss = 0.39401508\n",
      "Iteration 83, loss = 0.39339639\n",
      "Iteration 84, loss = 0.39342471\n",
      "Iteration 85, loss = 0.39122182\n",
      "Iteration 86, loss = 0.39183184\n",
      "Iteration 87, loss = 0.38951994\n",
      "Iteration 88, loss = 0.38601585\n",
      "Iteration 89, loss = 0.39414403\n",
      "Iteration 90, loss = 0.38594938\n",
      "Iteration 91, loss = 0.38806177\n",
      "Iteration 92, loss = 0.38616124\n",
      "Iteration 93, loss = 0.39203188\n",
      "Iteration 94, loss = 0.38948914\n",
      "Iteration 95, loss = 0.38279614\n",
      "Iteration 96, loss = 0.37950458\n",
      "Iteration 97, loss = 0.38161742\n",
      "Iteration 98, loss = 0.38004070\n",
      "Iteration 99, loss = 0.37608504\n",
      "Iteration 100, loss = 0.37606262\n",
      "Iteration 101, loss = 0.37883721\n",
      "Iteration 102, loss = 0.37873468\n",
      "Iteration 103, loss = 0.38309218\n",
      "Iteration 104, loss = 0.37700179\n",
      "Iteration 105, loss = 0.37475733\n",
      "Iteration 106, loss = 0.37756196\n",
      "Iteration 107, loss = 0.37526472\n",
      "Iteration 108, loss = 0.37048004\n",
      "Iteration 109, loss = 0.37045873\n",
      "Iteration 110, loss = 0.36614911\n",
      "Iteration 111, loss = 0.37209865\n",
      "Iteration 112, loss = 0.36808069\n",
      "Iteration 113, loss = 0.36210050\n",
      "Iteration 114, loss = 0.36704716\n",
      "Iteration 115, loss = 0.36217327\n",
      "Iteration 116, loss = 0.37182401\n",
      "Iteration 117, loss = 0.36216637\n",
      "Iteration 118, loss = 0.36653002\n",
      "Iteration 119, loss = 0.36106455\n",
      "Iteration 120, loss = 0.35854608\n",
      "Iteration 121, loss = 0.37207233\n",
      "Iteration 122, loss = 0.35677015\n",
      "Iteration 123, loss = 0.35886395\n",
      "Iteration 124, loss = 0.35811600\n",
      "Iteration 125, loss = 0.35458142\n",
      "Iteration 126, loss = 0.35488062\n",
      "Iteration 127, loss = 0.35212954\n",
      "Iteration 128, loss = 0.35884506\n",
      "Iteration 129, loss = 0.35333677\n",
      "Iteration 130, loss = 0.34658864\n",
      "Iteration 131, loss = 0.34829130\n",
      "Iteration 132, loss = 0.34788624\n",
      "Iteration 133, loss = 0.34773516\n",
      "Iteration 134, loss = 0.34472821\n",
      "Iteration 135, loss = 0.34896457\n",
      "Iteration 136, loss = 0.33963889\n",
      "Iteration 137, loss = 0.34251750\n",
      "Iteration 138, loss = 0.34096234\n",
      "Iteration 139, loss = 0.34160500\n",
      "Iteration 140, loss = 0.34212716\n",
      "Iteration 141, loss = 0.34216602\n",
      "Iteration 142, loss = 0.34677749\n",
      "Iteration 143, loss = 0.34487800\n",
      "Iteration 144, loss = 0.33850793\n",
      "Iteration 145, loss = 0.33531266\n",
      "Iteration 146, loss = 0.33127003\n",
      "Iteration 147, loss = 0.33121551\n",
      "Iteration 148, loss = 0.34023689\n",
      "Iteration 149, loss = 0.32968683\n",
      "Iteration 150, loss = 0.32966346\n",
      "Iteration 151, loss = 0.33214259\n",
      "Iteration 152, loss = 0.32841489\n",
      "Iteration 153, loss = 0.32961049\n",
      "Iteration 154, loss = 0.32452833\n",
      "Iteration 155, loss = 0.32342118\n",
      "Iteration 156, loss = 0.32119915\n",
      "Iteration 157, loss = 0.32244522\n",
      "Iteration 158, loss = 0.32554540\n",
      "Iteration 159, loss = 0.32718504\n",
      "Iteration 160, loss = 0.32901871\n",
      "Iteration 161, loss = 0.33015659\n",
      "Iteration 162, loss = 0.31851842\n",
      "Iteration 163, loss = 0.31628329\n",
      "Iteration 164, loss = 0.32074974\n",
      "Iteration 165, loss = 0.32262823\n",
      "Iteration 166, loss = 0.31500439\n",
      "Iteration 167, loss = 0.32380544\n",
      "Iteration 168, loss = 0.32480062\n",
      "Iteration 169, loss = 0.30882216\n",
      "Iteration 170, loss = 0.30562237\n",
      "Iteration 171, loss = 0.31381942\n",
      "Iteration 172, loss = 0.30959061\n",
      "Iteration 173, loss = 0.31070605\n",
      "Iteration 174, loss = 0.30805064\n",
      "Iteration 175, loss = 0.30901692\n",
      "Iteration 176, loss = 0.31174089\n",
      "Iteration 177, loss = 0.30566177\n",
      "Iteration 178, loss = 0.30244281\n",
      "Iteration 179, loss = 0.29711020\n",
      "Iteration 180, loss = 0.29764986\n",
      "Iteration 181, loss = 0.29575192\n",
      "Iteration 182, loss = 0.29706051\n",
      "Iteration 183, loss = 0.29494831\n",
      "Iteration 184, loss = 0.30441052\n",
      "Iteration 185, loss = 0.29434528\n",
      "Iteration 186, loss = 0.29705373\n",
      "Iteration 187, loss = 0.29155713\n",
      "Iteration 188, loss = 0.30580063\n",
      "Iteration 189, loss = 0.28629726\n",
      "Iteration 190, loss = 0.28194186\n",
      "Iteration 191, loss = 0.28496032\n",
      "Iteration 192, loss = 0.29493398\n",
      "Iteration 193, loss = 0.28310117\n",
      "Iteration 194, loss = 0.28268444\n",
      "Iteration 195, loss = 0.28093698\n",
      "Iteration 196, loss = 0.28566099\n",
      "Iteration 197, loss = 0.29795707\n",
      "Iteration 198, loss = 0.28828897\n",
      "Iteration 199, loss = 0.28655861\n",
      "Iteration 200, loss = 0.27442421\n",
      "Iteration 201, loss = 0.27407423\n",
      "Iteration 202, loss = 0.27179064\n",
      "Iteration 203, loss = 0.27445388\n",
      "Iteration 204, loss = 0.27072869\n",
      "Iteration 205, loss = 0.27146735\n",
      "Iteration 206, loss = 0.27818547\n",
      "Iteration 207, loss = 0.27149206\n",
      "Iteration 208, loss = 0.26794851\n",
      "Iteration 209, loss = 0.27069602\n",
      "Iteration 210, loss = 0.27029735\n",
      "Iteration 211, loss = 0.26952423\n",
      "Iteration 212, loss = 0.26150927\n",
      "Iteration 213, loss = 0.25663869\n",
      "Iteration 214, loss = 0.25893745\n",
      "Iteration 215, loss = 0.26959100\n",
      "Iteration 216, loss = 0.27040610\n",
      "Iteration 217, loss = 0.26112116\n",
      "Iteration 218, loss = 0.26420930\n",
      "Iteration 219, loss = 0.25789219\n",
      "Iteration 220, loss = 0.25690521\n",
      "Iteration 221, loss = 0.25634199\n",
      "Iteration 222, loss = 0.24891898\n",
      "Iteration 223, loss = 0.25681951\n",
      "Iteration 224, loss = 0.25839265\n",
      "Iteration 225, loss = 0.24564676\n",
      "Iteration 226, loss = 0.24647332\n",
      "Iteration 227, loss = 0.24322592\n",
      "Iteration 228, loss = 0.24513267\n",
      "Iteration 229, loss = 0.25043811\n",
      "Iteration 230, loss = 0.24331439\n",
      "Iteration 231, loss = 0.23479298\n",
      "Iteration 232, loss = 0.25232208\n",
      "Iteration 233, loss = 0.25586053\n",
      "Iteration 234, loss = 0.23952243\n",
      "Iteration 235, loss = 0.23579393\n",
      "Iteration 236, loss = 0.23313999\n",
      "Iteration 237, loss = 0.24198132\n",
      "Iteration 238, loss = 0.23891114\n",
      "Iteration 239, loss = 0.23838785\n",
      "Iteration 240, loss = 0.22456511\n",
      "Iteration 241, loss = 0.23108207\n",
      "Iteration 242, loss = 0.22674815\n",
      "Iteration 243, loss = 0.22367347\n",
      "Iteration 244, loss = 0.22567829\n",
      "Iteration 245, loss = 0.22250380\n",
      "Iteration 246, loss = 0.22114088\n",
      "Iteration 247, loss = 0.21763952\n",
      "Iteration 248, loss = 0.21302339\n",
      "Iteration 249, loss = 0.21912549\n",
      "Iteration 250, loss = 0.22729373\n",
      "Iteration 251, loss = 0.21659880\n",
      "Iteration 252, loss = 0.21429431\n",
      "Iteration 253, loss = 0.21186211\n",
      "Iteration 254, loss = 0.22040834\n",
      "Iteration 255, loss = 0.21467534\n",
      "Iteration 256, loss = 0.21376755\n",
      "Iteration 257, loss = 0.21401235\n",
      "Iteration 258, loss = 0.21077620\n",
      "Iteration 259, loss = 0.20475614\n",
      "Iteration 260, loss = 0.20428108\n",
      "Iteration 261, loss = 0.20144780\n",
      "Iteration 262, loss = 0.20033587\n",
      "Iteration 263, loss = 0.20432014\n",
      "Iteration 264, loss = 0.19900569\n",
      "Iteration 265, loss = 0.19766783\n",
      "Iteration 266, loss = 0.20473555\n",
      "Iteration 267, loss = 0.19274147\n",
      "Iteration 268, loss = 0.19909368\n",
      "Iteration 269, loss = 0.20036755\n",
      "Iteration 270, loss = 0.19913051\n",
      "Iteration 271, loss = 0.19254882\n",
      "Iteration 272, loss = 0.19644838\n",
      "Iteration 273, loss = 0.18986005\n",
      "Iteration 274, loss = 0.19113654\n"
     ]
    },
    {
     "name": "stdout",
     "output_type": "stream",
     "text": [
      "Iteration 275, loss = 0.19523949\n",
      "Iteration 276, loss = 0.19739666\n",
      "Iteration 277, loss = 0.18816130\n",
      "Iteration 278, loss = 0.18618693\n",
      "Iteration 279, loss = 0.18929794\n",
      "Iteration 280, loss = 0.18291859\n",
      "Iteration 281, loss = 0.18243975\n",
      "Iteration 282, loss = 0.18789194\n",
      "Iteration 283, loss = 0.19322265\n",
      "Iteration 284, loss = 0.18380599\n",
      "Iteration 285, loss = 0.17398252\n",
      "Iteration 286, loss = 0.17819983\n",
      "Iteration 287, loss = 0.19035073\n",
      "Iteration 288, loss = 0.18857191\n",
      "Iteration 289, loss = 0.18630029\n",
      "Iteration 290, loss = 0.19177061\n",
      "Iteration 291, loss = 0.17974947\n",
      "Iteration 292, loss = 0.17323142\n",
      "Iteration 293, loss = 0.17522270\n",
      "Iteration 294, loss = 0.16932292\n",
      "Iteration 295, loss = 0.17718563\n",
      "Iteration 296, loss = 0.17141780\n",
      "Iteration 297, loss = 0.16656026\n",
      "Iteration 298, loss = 0.16144004\n",
      "Iteration 299, loss = 0.16421984\n",
      "Iteration 300, loss = 0.16687182\n",
      "Iteration 301, loss = 0.17093597\n",
      "Iteration 302, loss = 0.16094993\n",
      "Iteration 303, loss = 0.15680311\n",
      "Iteration 304, loss = 0.15572263\n",
      "Iteration 305, loss = 0.15720265\n",
      "Iteration 306, loss = 0.15989932\n",
      "Iteration 307, loss = 0.16139763\n",
      "Iteration 308, loss = 0.15486719\n",
      "Iteration 309, loss = 0.15372680\n",
      "Iteration 310, loss = 0.15319760\n",
      "Iteration 311, loss = 0.16203183\n",
      "Iteration 312, loss = 0.15140861\n",
      "Iteration 313, loss = 0.15353367\n",
      "Iteration 314, loss = 0.14579639\n",
      "Iteration 315, loss = 0.14894330\n",
      "Iteration 316, loss = 0.15075225\n",
      "Iteration 317, loss = 0.14698019\n",
      "Iteration 318, loss = 0.15521687\n",
      "Iteration 319, loss = 0.14968438\n",
      "Iteration 320, loss = 0.14594789\n",
      "Iteration 321, loss = 0.14366911\n",
      "Iteration 322, loss = 0.13975903\n",
      "Iteration 323, loss = 0.14282203\n",
      "Iteration 324, loss = 0.14525035\n",
      "Iteration 325, loss = 0.13623617\n",
      "Iteration 326, loss = 0.13473936\n",
      "Iteration 327, loss = 0.14153388\n",
      "Iteration 328, loss = 0.13204988\n",
      "Iteration 329, loss = 0.14138840\n",
      "Iteration 330, loss = 0.13243624\n",
      "Iteration 331, loss = 0.13571413\n",
      "Iteration 332, loss = 0.13100019\n",
      "Iteration 333, loss = 0.13316058\n",
      "Iteration 334, loss = 0.13220047\n",
      "Iteration 335, loss = 0.12994317\n",
      "Iteration 336, loss = 0.13238765\n",
      "Iteration 337, loss = 0.12764182\n",
      "Iteration 338, loss = 0.12990935\n",
      "Iteration 339, loss = 0.12717562\n",
      "Iteration 340, loss = 0.12974127\n",
      "Iteration 341, loss = 0.13087459\n",
      "Iteration 342, loss = 0.12407531\n",
      "Iteration 343, loss = 0.12474761\n",
      "Iteration 344, loss = 0.12852631\n",
      "Iteration 345, loss = 0.11954556\n",
      "Iteration 346, loss = 0.12352777\n",
      "Iteration 347, loss = 0.13145000\n",
      "Iteration 348, loss = 0.12474033\n",
      "Iteration 349, loss = 0.12400368\n",
      "Iteration 350, loss = 0.11843198\n",
      "Iteration 351, loss = 0.12310124\n",
      "Iteration 352, loss = 0.11918312\n",
      "Iteration 353, loss = 0.11819800\n",
      "Iteration 354, loss = 0.11634236\n",
      "Iteration 355, loss = 0.11091611\n",
      "Iteration 356, loss = 0.11009747\n",
      "Iteration 357, loss = 0.11261749\n",
      "Iteration 358, loss = 0.11056330\n",
      "Iteration 359, loss = 0.11364939\n",
      "Iteration 360, loss = 0.11120382\n",
      "Iteration 361, loss = 0.10667353\n",
      "Iteration 362, loss = 0.11021538\n",
      "Iteration 363, loss = 0.10616492\n",
      "Iteration 364, loss = 0.10413485\n",
      "Iteration 365, loss = 0.10694360\n",
      "Iteration 366, loss = 0.10346640\n",
      "Iteration 367, loss = 0.10889818\n",
      "Iteration 368, loss = 0.10471951\n",
      "Iteration 369, loss = 0.10361003\n",
      "Iteration 370, loss = 0.10215108\n",
      "Iteration 371, loss = 0.10745282\n",
      "Iteration 372, loss = 0.10078035\n",
      "Iteration 373, loss = 0.10033148\n",
      "Iteration 374, loss = 0.10525606\n",
      "Iteration 375, loss = 0.09680194\n",
      "Iteration 376, loss = 0.09909111\n",
      "Iteration 377, loss = 0.09431488\n",
      "Iteration 378, loss = 0.09889909\n",
      "Iteration 379, loss = 0.09696009\n",
      "Iteration 380, loss = 0.09668176\n",
      "Iteration 381, loss = 0.09940308\n",
      "Iteration 382, loss = 0.08988483\n",
      "Iteration 383, loss = 0.09263435\n",
      "Iteration 384, loss = 0.09059904\n",
      "Iteration 385, loss = 0.09024588\n",
      "Iteration 386, loss = 0.09260892\n",
      "Iteration 387, loss = 0.08962235\n",
      "Iteration 388, loss = 0.08864824\n",
      "Iteration 389, loss = 0.08764029\n",
      "Iteration 390, loss = 0.08529474\n",
      "Iteration 391, loss = 0.08518143\n",
      "Iteration 392, loss = 0.08638525\n",
      "Iteration 393, loss = 0.08627693\n",
      "Iteration 394, loss = 0.08996043\n",
      "Iteration 395, loss = 0.08798603\n",
      "Iteration 396, loss = 0.08265504\n",
      "Iteration 397, loss = 0.08039862\n",
      "Iteration 398, loss = 0.08052785\n",
      "Iteration 399, loss = 0.08105924\n",
      "Iteration 400, loss = 0.07868599\n",
      "Iteration 401, loss = 0.07927100\n",
      "Iteration 402, loss = 0.07696904\n",
      "Iteration 403, loss = 0.07752496\n",
      "Iteration 404, loss = 0.07808435\n",
      "Iteration 405, loss = 0.07909076\n",
      "Iteration 406, loss = 0.08087335\n",
      "Iteration 407, loss = 0.07478885\n",
      "Iteration 408, loss = 0.07548719\n",
      "Iteration 409, loss = 0.07568373\n",
      "Iteration 410, loss = 0.07351982\n",
      "Iteration 411, loss = 0.07434689\n",
      "Iteration 412, loss = 0.07546900\n",
      "Iteration 413, loss = 0.07805233\n",
      "Iteration 414, loss = 0.07589841\n",
      "Iteration 415, loss = 0.07318450\n",
      "Iteration 416, loss = 0.07143685\n",
      "Iteration 417, loss = 0.07278567\n",
      "Iteration 418, loss = 0.07031245\n",
      "Iteration 419, loss = 0.07031710\n",
      "Iteration 420, loss = 0.06870535\n",
      "Iteration 421, loss = 0.06847407\n",
      "Iteration 422, loss = 0.06887952\n",
      "Iteration 423, loss = 0.06618641\n",
      "Iteration 424, loss = 0.06608134\n",
      "Iteration 425, loss = 0.06790006\n",
      "Iteration 426, loss = 0.06543229\n",
      "Iteration 427, loss = 0.06432451\n",
      "Iteration 428, loss = 0.06591118\n",
      "Iteration 429, loss = 0.06790925\n",
      "Iteration 430, loss = 0.06716787\n",
      "Iteration 431, loss = 0.06538609\n",
      "Iteration 432, loss = 0.06765964\n",
      "Iteration 433, loss = 0.06384834\n",
      "Iteration 434, loss = 0.06636225\n",
      "Iteration 435, loss = 0.06218502\n",
      "Iteration 436, loss = 0.06221958\n",
      "Iteration 437, loss = 0.06039056\n",
      "Iteration 438, loss = 0.05964967\n",
      "Iteration 439, loss = 0.06203534\n",
      "Iteration 440, loss = 0.05857061\n",
      "Iteration 441, loss = 0.06090845\n",
      "Iteration 442, loss = 0.06009516\n",
      "Iteration 443, loss = 0.05980920\n",
      "Iteration 444, loss = 0.05875699\n",
      "Iteration 445, loss = 0.05824585\n",
      "Iteration 446, loss = 0.05629356\n",
      "Iteration 447, loss = 0.05754485\n",
      "Iteration 448, loss = 0.05727378\n",
      "Iteration 449, loss = 0.05487544\n",
      "Iteration 450, loss = 0.05488977\n",
      "Iteration 451, loss = 0.05421151\n",
      "Iteration 452, loss = 0.05432957\n",
      "Iteration 453, loss = 0.05511518\n",
      "Iteration 454, loss = 0.05599591\n",
      "Iteration 455, loss = 0.05436114\n",
      "Iteration 456, loss = 0.05671070\n",
      "Iteration 457, loss = 0.05608891\n",
      "Iteration 458, loss = 0.05162014\n",
      "Iteration 459, loss = 0.05172989\n",
      "Iteration 460, loss = 0.05332117\n",
      "Iteration 461, loss = 0.05298574\n",
      "Iteration 462, loss = 0.05275329\n",
      "Iteration 463, loss = 0.05314969\n",
      "Iteration 464, loss = 0.05231489\n",
      "Iteration 465, loss = 0.05075843\n",
      "Iteration 466, loss = 0.04938536\n",
      "Iteration 467, loss = 0.05011165\n",
      "Iteration 468, loss = 0.04964024\n",
      "Iteration 469, loss = 0.04813362\n",
      "Iteration 470, loss = 0.04795315\n",
      "Iteration 471, loss = 0.04929769\n",
      "Iteration 472, loss = 0.04773213\n",
      "Iteration 473, loss = 0.04697454\n",
      "Iteration 474, loss = 0.04813574\n",
      "Iteration 475, loss = 0.04677373\n",
      "Iteration 476, loss = 0.04675080\n",
      "Iteration 477, loss = 0.04708296\n",
      "Iteration 478, loss = 0.04619774\n",
      "Iteration 479, loss = 0.04755843\n",
      "Iteration 480, loss = 0.04557547\n",
      "Iteration 481, loss = 0.04439439\n",
      "Iteration 482, loss = 0.04394311\n",
      "Iteration 483, loss = 0.04407746\n",
      "Iteration 484, loss = 0.04312255\n",
      "Iteration 485, loss = 0.04285321\n",
      "Iteration 486, loss = 0.04343427\n",
      "Iteration 487, loss = 0.04331091\n",
      "Iteration 488, loss = 0.04277064\n",
      "Iteration 489, loss = 0.04339391\n",
      "Iteration 490, loss = 0.04228680\n",
      "Iteration 491, loss = 0.04265720\n",
      "Iteration 492, loss = 0.04111710\n",
      "Iteration 493, loss = 0.04126885\n",
      "Iteration 494, loss = 0.04293381\n",
      "Iteration 495, loss = 0.04158162\n",
      "Iteration 496, loss = 0.04186984\n",
      "Iteration 497, loss = 0.04045615\n",
      "Iteration 498, loss = 0.04101035\n",
      "Iteration 499, loss = 0.03980458\n",
      "Iteration 500, loss = 0.04099847\n"
     ]
    },
    {
     "name": "stderr",
     "output_type": "stream",
     "text": [
      "C:\\Users\\begum\\AppData\\Local\\Continuum\\anaconda3\\lib\\site-packages\\sklearn\\neural_network\\multilayer_perceptron.py:566: ConvergenceWarning: Stochastic Optimizer: Maximum iterations (500) reached and the optimization hasn't converged yet.\n",
      "  % self.max_iter, ConvergenceWarning)\n"
     ]
    },
    {
     "data": {
      "text/plain": [
       "MLPClassifier(activation='relu', alpha=0.0001, batch_size=20, beta_1=0.9,\n",
       "              beta_2=0.999, early_stopping=False, epsilon=1e-08,\n",
       "              hidden_layer_sizes=(10,), learning_rate='constant',\n",
       "              learning_rate_init=0.05, max_iter=500, momentum=0.9,\n",
       "              n_iter_no_change=10, nesterovs_momentum=True, power_t=0.5,\n",
       "              random_state=None, shuffle=True, solver='sgd', tol=1e-05,\n",
       "              validation_fraction=0.1, verbose=True, warm_start=False)"
      ]
     },
     "execution_count": 17,
     "metadata": {},
     "output_type": "execute_result"
    }
   ],
   "source": [
    "# Train the MLP classifier on training dataset\n",
    "mlp.fit(X_train, Y_train_OneHot)  #Loss = R(theta)+alpha*sum(theta)**2"
   ]
  },
  {
   "cell_type": "markdown",
   "metadata": {},
   "source": [
    "**Question #10: compare the accuracy on the training samples to the accuracy on the testing samples. Is a gap expected or not? How a big gap should be interpreted?**"
   ]
  },
  {
   "cell_type": "code",
   "execution_count": 18,
   "metadata": {},
   "outputs": [
    {
     "name": "stdout",
     "output_type": "stream",
     "text": [
      "Accuracy (on training set) =  1.0\n",
      "Accuracy (on test set) =  0.7429\n"
     ]
    }
   ],
   "source": [
    "# Evaluate acuracy on training data\n",
    "trainingScore = mlp.score(X_train,Y_train_OneHot)\n",
    "print(\"Accuracy (on training set) = \", round(trainingScore,4))\n",
    "\n",
    "# Evaluate acuracy on test data\n",
    "testingScore = mlp.score(X_test,Y_test_OneHot)\n",
    "print(\"Accuracy (on test set) = \", round(testingScore,4))\n",
    "\n"
   ]
  },
  {
   "cell_type": "markdown",
   "metadata": {},
   "source": [
    "**A: When we have more samples nn learns better. The gap between accuracy of training set and the set test will be smaller.**"
   ]
  },
  {
   "cell_type": "markdown",
   "metadata": {},
   "source": [
    "**Question #11: What is the role of the \"meshgrid\"?**"
   ]
  },
  {
   "cell_type": "code",
   "execution_count": 19,
   "metadata": {
    "scrolled": true
   },
   "outputs": [],
   "source": [
    "# Plot the decision boundary. For that, we will assign a color to each\n",
    "#   point in the mesh [x_min, x_max]x[y_min, y_max].\n",
    "\n",
    "h = .02  # Step size in the mesh\n",
    "xx, yy = np.meshgrid(np.arange(x_min, x_max, h),\n",
    "                         np.arange(y_min, y_max, h))\n"
   ]
  },
  {
   "cell_type": "markdown",
   "metadata": {},
   "source": [
    "**A: The purpose of meshgrid is to create a rectangular grid out of an array of x values and an array of y values.**"
   ]
  },
  {
   "cell_type": "markdown",
   "metadata": {},
   "source": [
    "**Question #12: What is the role of the \"predict_proba\"?**"
   ]
  },
  {
   "cell_type": "code",
   "execution_count": 20,
   "metadata": {},
   "outputs": [
    {
     "name": "stdout",
     "output_type": "stream",
     "text": [
      "[[3.46984537e-04 4.10841303e-04 4.86444133e-04 ... 4.08323407e-01\n",
      "  3.67633786e-01 3.28746020e-01]\n",
      " [3.43955059e-04 4.07254527e-04 4.82197638e-04 ... 3.83126800e-01\n",
      "  3.43490389e-01 3.05920994e-01]\n",
      " [3.40952022e-04 4.03699052e-04 4.77988196e-04 ... 3.58542826e-01\n",
      "  3.20129873e-01 2.84010206e-01]\n",
      " ...\n",
      " [4.84502853e-30 7.13035608e-30 1.04936385e-29 ... 9.99999978e-01\n",
      "  9.99999984e-01 9.99999988e-01]\n",
      " [3.85842716e-30 5.67838960e-30 8.35680112e-30 ... 9.99999976e-01\n",
      "  9.99999982e-01 9.99999987e-01]\n",
      " [3.07272911e-30 4.52208951e-30 6.65509156e-30 ... 9.99999974e-01\n",
      "  9.99999981e-01 9.99999986e-01]]\n"
     ]
    }
   ],
   "source": [
    "# Compute class probabilities for each mesh point\n",
    "Z = mlp.predict_proba(np.c_[xx.ravel(), yy.ravel()])[:, 1]\n",
    "Z = Z.reshape(xx.shape)\n",
    "print(Z)"
   ]
  },
  {
   "cell_type": "markdown",
   "metadata": {},
   "source": [
    "**A: The function predict_proba gives the probability value of y being 0 or 1.**"
   ]
  },
  {
   "cell_type": "markdown",
   "metadata": {},
   "source": [
    "**Question #13: How works \"contourf\"? What does it plot?**"
   ]
  },
  {
   "cell_type": "markdown",
   "metadata": {},
   "source": [
    "**A: It draws filled contours.**"
   ]
  },
  {
   "cell_type": "code",
   "execution_count": 13,
   "metadata": {},
   "outputs": [
    {
     "data": {
      "image/png": "[encoded data removed]",
      "text/plain": [
       "<Figure size 432x288 with 1 Axes>"
      ]
     },
     "metadata": {
      "needs_background": "light"
     },
     "output_type": "display_data"
    }
   ],
   "source": [
    "# Put the result into a color plot\n",
    "plt.contourf(xx, yy, Z, cmap=cm, alpha=.8)\n",
    "\n",
    "# Plot also the training points\n",
    "plt.scatter(X_train[:, 0], X_train[:, 1], c=y_train, cmap=cm_bright)\n",
    "# and testing points\n",
    "plt.scatter(X_test[:, 0], X_test[:, 1], marker='x', c=y_test, cmap=cm_bright, alpha=0.3)\n",
    "\n",
    "# Axis ranges \n",
    "plt.xlim(xx.min(), xx.max())\n",
    "plt.ylim(yy.min(), yy.max())\n",
    "\n",
    "\n",
    "# Print acuracy on plot\n",
    "plt.text(xx.max() - .3, yy.min() + .3, \n",
    "         ('%.2f' % testingScore).lstrip('0'),\n",
    "         size=15, horizontalalignment='right')\n",
    "\n",
    "# Actually plot\n",
    "plt.show()"
   ]
  },
  {
   "cell_type": "markdown",
   "metadata": {},
   "source": [
    "## 2. Classification of Handwritten Digits\n",
    "\n",
    "**Please read the [*Digits Dataset description*](http://scikit-learn.org/stable/auto_examples/datasets/plot_digits_last_image.html#sphx-glr-auto-examples-datasets-plot-digits-last-image-py).**\n",
    "\n",
    "There are 10 classes, with a total of 1797 examples (each one being a vector of size 64 corresponding to an 8x8 image). "
   ]
  },
  {
   "cell_type": "code",
   "execution_count": 14,
   "metadata": {},
   "outputs": [],
   "source": [
    "from sklearn.datasets import load_digits\n",
    "from sklearn.model_selection import train_test_split\n",
    "from sklearn.neural_network import MLPClassifier\n",
    "from sklearn.metrics import classification_report\n",
    "import matplotlib.pyplot as plt"
   ]
  },
  {
   "cell_type": "code",
   "execution_count": 15,
   "metadata": {},
   "outputs": [
    {
     "name": "stdout",
     "output_type": "stream",
     "text": [
      "Number of samples =  1797\n",
      "\n",
      " Plot of the first sample\n"
     ]
    },
    {
     "data": {
      "image/png": "[encoded data removed]",
      "text/plain": [
       "<Figure size 432x288 with 1 Axes>"
      ]
     },
     "metadata": {
      "needs_background": "light"
     },
     "output_type": "display_data"
    }
   ],
   "source": [
    "# load the data\n",
    "digits = load_digits()\n",
    "n_samples = len(digits.images)\n",
    "print(\"Number of samples = \", n_samples)\n",
    "\n",
    "print(\"\\n Plot of the first sample\")\n",
    "plt.imshow(digits.images[0], cmap='gray')\n",
    "plt.show()"
   ]
  },
  {
   "cell_type": "markdown",
   "metadata": {},
   "source": [
    "**Question #14: what is the role of \"reshape\"?**"
   ]
  },
  {
   "cell_type": "code",
   "execution_count": 30,
   "metadata": {
    "scrolled": true
   },
   "outputs": [],
   "source": [
    "# Flatten the images, to turn data in a (samples, feature) matrix\n",
    "data = digits.images.reshape((n_samples, -1))\n",
    "X = data\n",
    "y = digits.target\n",
    "X_train, X_test, y_train, y_test = train_test_split(X, y, test_size=0.5)"
   ]
  },
  {
   "cell_type": "markdown",
   "metadata": {},
   "source": [
    "**A: Gives a new shape to an array without changing its data.**"
   ]
  },
  {
   "cell_type": "markdown",
   "metadata": {},
   "source": [
    "**Question #15: Propose a change of the learning hyper-parameters in order to obtain a satisfying MLP digits classifier.**"
   ]
  },
  {
   "cell_type": "code",
   "execution_count": 35,
   "metadata": {},
   "outputs": [
    {
     "name": "stdout",
     "output_type": "stream",
     "text": [
      "MLPClassifier(activation='tanh', alpha=1e-05, batch_size=4, beta_1=0.9,\n",
      "       beta_2=0.999, early_stopping=False, epsilon=1e-08,\n",
      "       hidden_layer_sizes=(10,), learning_rate='constant',\n",
      "       learning_rate_init=0.1, max_iter=200, momentum=0.9,\n",
      "       n_iter_no_change=10, nesterovs_momentum=True, power_t=0.5,\n",
      "       random_state=None, shuffle=True, solver='sgd', tol=1e-05,\n",
      "       validation_fraction=0.1, verbose=True, warm_start=False)\n"
     ]
    }
   ],
   "source": [
    "mlp = MLPClassifier(hidden_layer_sizes=(10, ), \n",
    "                    activation='tanh', \n",
    "                    solver='sgd', \n",
    "                    alpha=0.00001, \n",
    "                    batch_size=4, \n",
    "                    learning_rate='constant', \n",
    "                    learning_rate_init=0.1, \n",
    "                    max_iter=200, \n",
    "                    shuffle=True, \n",
    "                    tol=0.00001, \n",
    "                    verbose=True)\n",
    "print(mlp)\n",
    "\n"
   ]
  },
  {
   "cell_type": "code",
   "execution_count": 36,
   "metadata": {},
   "outputs": [
    {
     "name": "stdout",
     "output_type": "stream",
     "text": [
      "Iteration 1, loss = 2.69030073\n",
      "Iteration 2, loss = 2.72243914\n",
      "Iteration 3, loss = 2.71767290\n",
      "Iteration 4, loss = 2.70367081\n",
      "Iteration 5, loss = 2.71543116\n",
      "Iteration 6, loss = 2.71110656\n",
      "Iteration 7, loss = 2.71464387\n",
      "Iteration 8, loss = 2.81183092\n",
      "Iteration 9, loss = 2.71836181\n",
      "Iteration 10, loss = 2.73897858\n",
      "Iteration 11, loss = 2.76040953\n",
      "Iteration 12, loss = 2.74625991\n",
      "Training loss did not improve more than tol=0.000010 for 10 consecutive epochs. Stopping.\n"
     ]
    },
    {
     "data": {
      "text/plain": [
       "MLPClassifier(activation='tanh', alpha=1e-05, batch_size=4, beta_1=0.9,\n",
       "       beta_2=0.999, early_stopping=False, epsilon=1e-08,\n",
       "       hidden_layer_sizes=(10,), learning_rate='constant',\n",
       "       learning_rate_init=0.1, max_iter=200, momentum=0.9,\n",
       "       n_iter_no_change=10, nesterovs_momentum=True, power_t=0.5,\n",
       "       random_state=None, shuffle=True, solver='sgd', tol=1e-05,\n",
       "       validation_fraction=0.1, verbose=True, warm_start=False)"
      ]
     },
     "execution_count": 36,
     "metadata": {},
     "output_type": "execute_result"
    }
   ],
   "source": [
    "# Train the MLP classifier on training dataset\n",
    "mlp.fit(X_train, y_train)"
   ]
  },
  {
   "cell_type": "code",
   "execution_count": 37,
   "metadata": {},
   "outputs": [
    {
     "name": "stdout",
     "output_type": "stream",
     "text": [
      "Accuracy (on training set) =  0.1036\n",
      "Accuracy (on test set) =  0.0979\n"
     ]
    }
   ],
   "source": [
    "# Evaluate acuracy on training data\n",
    "trainingScore = mlp.score(X_train,y_train)\n",
    "print(\"Accuracy (on training set) = \", round(trainingScore,4))\n",
    "# Evaluate acuracy on test data\n",
    "testingScore = mlp.score(X_test,y_test)\n",
    "print(\"Accuracy (on test set) = \", round(testingScore,4))"
   ]
  },
  {
   "cell_type": "markdown",
   "metadata": {},
   "source": [
    "**Question #26: What is the meaning of the information printed by the cell below?**"
   ]
  },
  {
   "cell_type": "code",
   "execution_count": 38,
   "metadata": {},
   "outputs": [
    {
     "name": "stdout",
     "output_type": "stream",
     "text": [
      "              precision    recall  f1-score   support\n",
      "\n",
      "           0       0.00      0.00      0.00        81\n",
      "           1       0.00      0.00      0.00        94\n",
      "           2       0.00      0.00      0.00       100\n",
      "           3       0.00      0.00      0.00        87\n",
      "           4       0.10      1.00      0.18        88\n",
      "           5       0.00      0.00      0.00        89\n",
      "           6       0.00      0.00      0.00        98\n",
      "           7       0.00      0.00      0.00        85\n",
      "           8       0.00      0.00      0.00        85\n",
      "           9       0.00      0.00      0.00        92\n",
      "\n",
      "   micro avg       0.10      0.10      0.10       899\n",
      "   macro avg       0.01      0.10      0.02       899\n",
      "weighted avg       0.01      0.10      0.02       899\n",
      "\n"
     ]
    },
    {
     "name": "stderr",
     "output_type": "stream",
     "text": [
      "/anaconda3/lib/python3.7/site-packages/sklearn/metrics/classification.py:1143: UndefinedMetricWarning: Precision and F-score are ill-defined and being set to 0.0 in labels with no predicted samples.\n",
      "  'precision', 'predicted', average, warn_for)\n"
     ]
    }
   ],
   "source": [
    "y_true, y_pred = y_test, mlp.predict(X_test)\n",
    "print(classification_report(y_true, y_pred))"
   ]
  },
  {
   "cell_type": "markdown",
   "metadata": {},
   "source": [
    "**A: The report shows the main classification metrics precision, recall and f1-score on a per-class basis. The metrics are calculated by using true and false positives, true and false negatives. Positive and negative in this case are generic names for the predicted classes.**"
   ]
  }
 ],
 "metadata": {
  "kernelspec": {
   "display_name": "Python 3",
   "language": "python",
   "name": "python3"
  },
  "language_info": {
   "codemirror_mode": {
    "name": "ipython",
    "version": 3
   },
   "file_extension": ".py",
   "mimetype": "text/x-python",
   "name": "python",
   "nbconvert_exporter": "python",
   "pygments_lexer": "ipython3",
   "version": "3.7.4"
  }
 },
 "nbformat": 4,
 "nbformat_minor": 1
}
