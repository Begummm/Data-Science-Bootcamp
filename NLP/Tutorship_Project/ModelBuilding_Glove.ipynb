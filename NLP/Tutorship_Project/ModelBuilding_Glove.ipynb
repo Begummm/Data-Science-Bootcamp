{
 "cells": [
  {
   "cell_type": "code",
   "execution_count": 0,
   "metadata": {
    "colab": {
     "base_uri": "https://localhost:8080/",
     "height": 67
    },
    "colab_type": "code",
    "id": "XmQdoizomWPR",
    "outputId": "42d97a08-6114-454b-f8f1-0b7c26e449be"
   },
   "outputs": [
    {
     "name": "stdout",
     "output_type": "stream",
     "text": [
      "Requirement already satisfied: glove_python in /usr/local/lib/python3.6/dist-packages (0.1.0)\n",
      "Requirement already satisfied: scipy in /usr/local/lib/python3.6/dist-packages (from glove_python) (1.3.3)\n",
      "Requirement already satisfied: numpy in /usr/local/lib/python3.6/dist-packages (from glove_python) (1.17.4)\n"
     ]
    }
   ],
   "source": [
    "!pip install glove_python"
   ]
  },
  {
   "cell_type": "code",
   "execution_count": 0,
   "metadata": {
    "colab": {},
    "colab_type": "code",
    "id": "u3Tfi8col_zX"
   },
   "outputs": [],
   "source": [
    "from glove import Corpus,Glove"
   ]
  },
  {
   "cell_type": "code",
   "execution_count": 0,
   "metadata": {
    "colab": {},
    "colab_type": "code",
    "id": "Ltj2s7kDr2_i"
   },
   "outputs": [],
   "source": [
    "corpus = Corpus() #Creating corpus object"
   ]
  },
  {
   "cell_type": "code",
   "execution_count": 26,
   "metadata": {
    "colab": {
     "base_uri": "https://localhost:8080/",
     "height": 74,
     "resources": {
      "http://localhost:8080/nbextensions/google.colab/files.js": {
       "data": "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",
       "headers": [
        [
         "content-type",
         "application/javascript"
        ]
       ],
       "ok": true,
       "status": 200,
       "status_text": ""
      }
     }
    },
    "colab_type": "code",
    "id": "LshmFIHbmD9Z",
    "outputId": "4e8b93fb-4f8a-4a87-e7df-13dc0d03896e"
   },
   "outputs": [
    {
     "data": {
      "text/html": [
       "\n",
       "     <input type=\"file\" id=\"files-ebb54661-3a89-451d-a85f-6ab536e90340\" name=\"files[]\" multiple disabled />\n",
       "     <output id=\"result-ebb54661-3a89-451d-a85f-6ab536e90340\">\n",
       "      Upload widget is only available when the cell has been executed in the\n",
       "      current browser session. Please rerun this cell to enable.\n",
       "      </output>\n",
       "      <script src=\"/nbextensions/google.colab/files.js\"></script> "
      ],
      "text/plain": [
       "<IPython.core.display.HTML object>"
      ]
     },
     "metadata": {
      "tags": []
     },
     "output_type": "display_data"
    },
    {
     "name": "stdout",
     "output_type": "stream",
     "text": [
      "Saving part-amazon-reviews-unlocked-mobile-phones.csv to part-amazon-reviews-unlocked-mobile-phones.csv\n"
     ]
    }
   ],
   "source": [
    "from google.colab import files\n",
    "uploaded=files.upload()\n"
   ]
  },
  {
   "cell_type": "code",
   "execution_count": 0,
   "metadata": {
    "colab": {
     "base_uri": "https://localhost:8080/",
     "height": 622
    },
    "colab_type": "code",
    "id": "S-Rf1gqbvN1O",
    "outputId": "cdcdbee6-c1d1-47ae-96b5-8d391c2db10f"
   },
   "outputs": [
    {
     "data": {
      "text/plain": [
       "['feel',\n",
       " 'lucky',\n",
       " 'find',\n",
       " 'use',\n",
       " 'phone',\n",
       " 'use',\n",
       " 'hard',\n",
       " 'phone',\n",
       " 'line',\n",
       " 'someone',\n",
       " 'upgrade',\n",
       " 'sell',\n",
       " 'one',\n",
       " 'son',\n",
       " 'like',\n",
       " 'old',\n",
       " 'one',\n",
       " 'finally',\n",
       " 'fell',\n",
       " 'apart',\n",
       " 'year',\n",
       " 'nt',\n",
       " 'want',\n",
       " 'upgrade',\n",
       " 'thank',\n",
       " 'seller',\n",
       " 'really',\n",
       " 'appreciate',\n",
       " 'honesty',\n",
       " 'say',\n",
       " 'use',\n",
       " 'phonei',\n",
       " 'recommend',\n",
       " 'seller',\n",
       " 'highly',\n",
       " 'would']"
      ]
     },
     "execution_count": 6,
     "metadata": {
      "tags": []
     },
     "output_type": "execute_result"
    }
   ],
   "source": [
    "import pandas as pd\n",
    "import io\n",
    "import pickle\n",
    "review_lines = pickle.load(io.BytesIO(uploaded[\"amazon_products_preprocessed.data\"])) \n",
    "review_lines[0]"
   ]
  },
  {
   "cell_type": "code",
   "execution_count": 0,
   "metadata": {
    "colab": {},
    "colab_type": "code",
    "id": "7_SDnUSWNAwK"
   },
   "outputs": [],
   "source": [
    "raw_data = pd.read_csv(io.BytesIO(uploaded[\"part-amazon-reviews-unlocked-mobile-phones.csv\"]))\n"
   ]
  },
  {
   "cell_type": "markdown",
   "metadata": {
    "colab_type": "text",
    "id": "gpoua3yYy-gF"
   },
   "source": [
    "### Training the corpus to generate the co-occurence matrix which is used in GloVe"
   ]
  },
  {
   "cell_type": "code",
   "execution_count": 0,
   "metadata": {
    "colab": {},
    "colab_type": "code",
    "id": "74Epd88XvBDy"
   },
   "outputs": [],
   "source": [
    "corpus.fit(review_lines, window=5) #window — this is the distance between two words algo should consider to find some relationship between them"
   ]
  },
  {
   "cell_type": "markdown",
   "metadata": {
    "colab_type": "text",
    "id": "H0E5vMXTyjmf"
   },
   "source": [
    "### Creating a glove model uses the co-occurrence matrix generated by the Corpus object to create the embeddings"
   ]
  },
  {
   "cell_type": "code",
   "execution_count": 0,
   "metadata": {
    "colab": {},
    "colab_type": "code",
    "id": "7-FBfkDBxT2R"
   },
   "outputs": [],
   "source": [
    "glove = Glove(no_components=150, learning_rate=0.05) #no_of_components — the dimension of the output vector generated by the GloVe\n",
    "                                                  #learning_rate — Algo uses gradient descent so learning rate defines the rate at which the algo reaches towards the minima"
   ]
  },
  {
   "cell_type": "code",
   "execution_count": 0,
   "metadata": {
    "colab": {
     "base_uri": "https://localhost:8080/",
     "height": 538
    },
    "colab_type": "code",
    "id": "5geBto8Jyihw",
    "outputId": "ddf50a8f-1749-4e58-cc8e-9aa88d84710b"
   },
   "outputs": [
    {
     "name": "stdout",
     "output_type": "stream",
     "text": [
      "Performing 30 training epochs with 4 threads\n",
      "Epoch 0\n",
      "Epoch 1\n",
      "Epoch 2\n",
      "Epoch 3\n",
      "Epoch 4\n",
      "Epoch 5\n",
      "Epoch 6\n",
      "Epoch 7\n",
      "Epoch 8\n",
      "Epoch 9\n",
      "Epoch 10\n",
      "Epoch 11\n",
      "Epoch 12\n",
      "Epoch 13\n",
      "Epoch 14\n",
      "Epoch 15\n",
      "Epoch 16\n",
      "Epoch 17\n",
      "Epoch 18\n",
      "Epoch 19\n",
      "Epoch 20\n",
      "Epoch 21\n",
      "Epoch 22\n",
      "Epoch 23\n",
      "Epoch 24\n",
      "Epoch 25\n",
      "Epoch 26\n",
      "Epoch 27\n",
      "Epoch 28\n",
      "Epoch 29\n"
     ]
    }
   ],
   "source": [
    "glove.fit(corpus.matrix, epochs=30, no_threads=4, verbose=True) #corpus.matrix -  the matrix of word-word co-occurrences\n"
   ]
  },
  {
   "cell_type": "markdown",
   "metadata": {
    "colab_type": "text",
    "id": "YeT_RnDgzlpl"
   },
   "source": [
    "### The dictionary addition in the glove object"
   ]
  },
  {
   "cell_type": "code",
   "execution_count": 0,
   "metadata": {
    "colab": {},
    "colab_type": "code",
    "id": "2D358tEfzXUJ"
   },
   "outputs": [],
   "source": [
    "glove.add_dictionary(corpus.dictionary)\n"
   ]
  },
  {
   "cell_type": "code",
   "execution_count": 0,
   "metadata": {
    "colab": {
     "base_uri": "https://localhost:8080/",
     "height": 437
    },
    "colab_type": "code",
    "id": "CAwgMdP8zngd",
    "outputId": "6d148137-72c7-40f6-c190-3ce014d411f9"
   },
   "outputs": [
    {
     "name": "stdout",
     "output_type": "stream",
     "text": [
      "[ 0.11475582  0.30052625  0.13744998 -0.19693046 -0.23826903 -0.24334479\n",
      "  0.02635842 -0.28393448  0.24542128  0.07586155 -0.17572121  0.29429469\n",
      "  0.13178955 -0.2638072  -0.2578367   0.2121312  -0.03202241 -0.11956693\n",
      "  0.34164059  0.11891612  0.19729762  0.31155365 -0.15091276 -0.19538973\n",
      " -0.04284396  0.17470623  0.23259746  0.13229536 -0.30602217  0.30085769\n",
      " -0.19310427  0.02089925 -0.19881983 -0.22389894 -0.29106801  0.21940204\n",
      "  0.05517919 -0.00855481  0.21958413 -0.23978982 -0.06676452 -0.0158756\n",
      " -0.17436473  0.04445533  0.19947031 -0.12505612 -0.00426663 -0.00632102\n",
      "  0.10329921  0.28517696  0.035535   -0.22520967 -0.18538167  0.24619276\n",
      "  0.21961859 -0.00820337 -0.02555517 -0.09539616 -0.10765449 -0.2391652\n",
      " -0.20613498 -0.18297024  0.03363358  0.0035916   0.08597207  0.20223684\n",
      " -0.16262859 -0.28392402  0.27084875  0.23958245 -0.35975681 -0.00486274\n",
      "  0.21195178  0.11268138 -0.10908147 -0.13469707  0.19932559 -0.16026536\n",
      " -0.19384458  0.08798839  0.11153734  0.25016186  0.25975434  0.12322681\n",
      " -0.23740762 -0.22906455 -0.22241262 -0.19343192  0.18396928  0.02129217\n",
      " -0.21714384  0.2806407  -0.23972932 -0.24669765  0.21475141  0.26142002\n",
      "  0.07744116 -0.4300821  -0.32689575 -0.1900716   0.18874974  0.23408122\n",
      " -0.19784293  0.25885886 -0.0488853  -0.04786507 -0.0970614   0.22872198\n",
      "  0.13014504  0.23422892  0.26178652 -0.25944772 -0.00336037  0.25675556\n",
      "  0.10173421 -0.08916936 -0.07995376  0.16581874 -0.2598216   0.0406981\n",
      "  0.15580095 -0.06262824  0.25008509  0.28113692 -0.11837947  0.04734233\n",
      " -0.01658142 -0.1561932   0.0264885   0.20257934 -0.17823596  0.17087919\n",
      "  0.06519921 -0.19213118  0.05692345  0.25190969  0.15163089  0.30940428\n",
      "  0.22023827 -0.20698431 -0.09247461 -0.20473065 -0.14531761  0.05046028\n",
      "  0.12353725  0.15181051 -0.19623496 -0.03061503  0.25466352 -0.21240409]\n"
     ]
    }
   ],
   "source": [
    "print(glove.word_vectors[glove.dictionary['great']])\n"
   ]
  },
  {
   "cell_type": "code",
   "execution_count": 0,
   "metadata": {
    "colab": {
     "base_uri": "https://localhost:8080/",
     "height": 121
    },
    "colab_type": "code",
    "id": "8Sv2GnMy9Smi",
    "outputId": "b25fddcd-955e-49d7-e534-329d05747efb"
   },
   "outputs": [
    {
     "name": "stdout",
     "output_type": "stream",
     "text": [
      "Go to this URL in a browser: https://accounts.google.com/o/oauth2/auth?client_id=947318989803-6bn6qk8qdgf4n4g3pfee6491hc0brc4i.apps.googleusercontent.com&redirect_uri=urn%3aietf%3awg%3aoauth%3a2.0%3aoob&response_type=code&scope=email%20https%3a%2f%2fwww.googleapis.com%2fauth%2fdocs.test%20https%3a%2f%2fwww.googleapis.com%2fauth%2fdrive%20https%3a%2f%2fwww.googleapis.com%2fauth%2fdrive.photos.readonly%20https%3a%2f%2fwww.googleapis.com%2fauth%2fpeopleapi.readonly\n",
      "\n",
      "Enter your authorization code:\n",
      "··········\n",
      "Mounted at /content/gdrive\n"
     ]
    }
   ],
   "source": [
    "from google.colab import drive\n",
    "drive.mount('/content/gdrive')"
   ]
  },
  {
   "cell_type": "code",
   "execution_count": 0,
   "metadata": {
    "colab": {},
    "colab_type": "code",
    "id": "BNq4Muck6kuU"
   },
   "outputs": [],
   "source": [
    "glove.save('glove_amazon_model.txt')\n"
   ]
  },
  {
   "cell_type": "code",
   "execution_count": 0,
   "metadata": {
    "colab": {},
    "colab_type": "code",
    "id": "6qr8JAvq-IVI"
   },
   "outputs": [],
   "source": [
    "path = \"/content/gdrive/My Drive/Colab Notebooks/glove_amazon_model.txt\""
   ]
  },
  {
   "cell_type": "code",
   "execution_count": 0,
   "metadata": {
    "colab": {
     "base_uri": "https://localhost:8080/",
     "height": 34
    },
    "colab_type": "code",
    "id": "8sANqlKkDRsu",
    "outputId": "b2e7c27c-3e4b-49fd-bd83-f3674409eeba"
   },
   "outputs": [
    {
     "name": "stdout",
     "output_type": "stream",
     "text": [
      "Number of vectors:  8738\n"
     ]
    }
   ],
   "source": [
    "embeddings = {word: glove.word_vectors[glove.dictionary[word]] for word in glove.dictionary.keys()}\n",
    "print('Number of vectors: ', len(embeddings))\n"
   ]
  },
  {
   "cell_type": "code",
   "execution_count": 0,
   "metadata": {
    "colab": {
     "base_uri": "https://localhost:8080/",
     "height": 521
    },
    "colab_type": "code",
    "id": "Fo18kWL7DYtW",
    "outputId": "3dc721be-7a7e-4d61-e2fc-545921279a17"
   },
   "outputs": [
    {
     "data": {
      "text/plain": [
       "array([ 0.11475582,  0.30052625,  0.13744998, -0.19693046, -0.23826903,\n",
       "       -0.24334479,  0.02635842, -0.28393448,  0.24542128,  0.07586155,\n",
       "       -0.17572121,  0.29429469,  0.13178955, -0.2638072 , -0.2578367 ,\n",
       "        0.2121312 , -0.03202241, -0.11956693,  0.34164059,  0.11891612,\n",
       "        0.19729762,  0.31155365, -0.15091276, -0.19538973, -0.04284396,\n",
       "        0.17470623,  0.23259746,  0.13229536, -0.30602217,  0.30085769,\n",
       "       -0.19310427,  0.02089925, -0.19881983, -0.22389894, -0.29106801,\n",
       "        0.21940204,  0.05517919, -0.00855481,  0.21958413, -0.23978982,\n",
       "       -0.06676452, -0.0158756 , -0.17436473,  0.04445533,  0.19947031,\n",
       "       -0.12505612, -0.00426663, -0.00632102,  0.10329921,  0.28517696,\n",
       "        0.035535  , -0.22520967, -0.18538167,  0.24619276,  0.21961859,\n",
       "       -0.00820337, -0.02555517, -0.09539616, -0.10765449, -0.2391652 ,\n",
       "       -0.20613498, -0.18297024,  0.03363358,  0.0035916 ,  0.08597207,\n",
       "        0.20223684, -0.16262859, -0.28392402,  0.27084875,  0.23958245,\n",
       "       -0.35975681, -0.00486274,  0.21195178,  0.11268138, -0.10908147,\n",
       "       -0.13469707,  0.19932559, -0.16026536, -0.19384458,  0.08798839,\n",
       "        0.11153734,  0.25016186,  0.25975434,  0.12322681, -0.23740762,\n",
       "       -0.22906455, -0.22241262, -0.19343192,  0.18396928,  0.02129217,\n",
       "       -0.21714384,  0.2806407 , -0.23972932, -0.24669765,  0.21475141,\n",
       "        0.26142002,  0.07744116, -0.4300821 , -0.32689575, -0.1900716 ,\n",
       "        0.18874974,  0.23408122, -0.19784293,  0.25885886, -0.0488853 ,\n",
       "       -0.04786507, -0.0970614 ,  0.22872198,  0.13014504,  0.23422892,\n",
       "        0.26178652, -0.25944772, -0.00336037,  0.25675556,  0.10173421,\n",
       "       -0.08916936, -0.07995376,  0.16581874, -0.2598216 ,  0.0406981 ,\n",
       "        0.15580095, -0.06262824,  0.25008509,  0.28113692, -0.11837947,\n",
       "        0.04734233, -0.01658142, -0.1561932 ,  0.0264885 ,  0.20257934,\n",
       "       -0.17823596,  0.17087919,  0.06519921, -0.19213118,  0.05692345,\n",
       "        0.25190969,  0.15163089,  0.30940428,  0.22023827, -0.20698431,\n",
       "       -0.09247461, -0.20473065, -0.14531761,  0.05046028,  0.12353725,\n",
       "        0.15181051, -0.19623496, -0.03061503,  0.25466352, -0.21240409])"
      ]
     },
     "execution_count": 15,
     "metadata": {
      "tags": []
     },
     "output_type": "execute_result"
    }
   ],
   "source": [
    "embeddings.get(\"great\")"
   ]
  },
  {
   "cell_type": "markdown",
   "metadata": {
    "colab_type": "text",
    "id": "s_ytxsCeQCwi"
   },
   "source": [
    "### Here I tokenize and encode the words"
   ]
  },
  {
   "cell_type": "code",
   "execution_count": 0,
   "metadata": {
    "colab": {
     "base_uri": "https://localhost:8080/",
     "height": 133
    },
    "colab_type": "code",
    "id": "W1IQmHJ3EVV5",
    "outputId": "2b12b17b-e615-4c06-e6be-375f3f4646d0"
   },
   "outputs": [
    {
     "name": "stderr",
     "output_type": "stream",
     "text": [
      "Using TensorFlow backend.\n"
     ]
    },
    {
     "data": {
      "text/html": [
       "<p style=\"color: red;\">\n",
       "The default version of TensorFlow in Colab will soon switch to TensorFlow 2.x.<br>\n",
       "We recommend you <a href=\"https://www.tensorflow.org/guide/migrate\" target=\"_blank\">upgrade</a> now \n",
       "or ensure your notebook will continue to use TensorFlow 1.x via the <code>%tensorflow_version 1.x</code> magic:\n",
       "<a href=\"https://colab.research.google.com/notebooks/tensorflow_version.ipynb\" target=\"_blank\">more info</a>.</p>\n"
      ],
      "text/plain": [
       "<IPython.core.display.HTML object>"
      ]
     },
     "metadata": {
      "tags": []
     },
     "output_type": "display_data"
    },
    {
     "name": "stdout",
     "output_type": "stream",
     "text": [
      "['feel', 'lucky', 'find', 'use', 'phone', 'use', 'hard', 'phone', 'line', 'someone', 'upgrade', 'sell', 'one', 'son', 'like', 'old', 'one', 'finally', 'fell', 'apart', 'year', 'nt', 'want', 'upgrade', 'thank', 'seller', 'really', 'appreciate', 'honesty', 'say', 'use', 'phonei', 'recommend', 'seller', 'highly', 'would']\n",
      "[115, 1635, 78, 5, 1, 5, 229, 1, 346, 377, 289, 256, 10, 278, 9, 75, 10, 347, 884, 916, 112, 2, 44, 289, 176, 63, 22, 917, 2331, 33, 5, 812, 53, 63, 286, 12]\n"
     ]
    }
   ],
   "source": [
    "from keras.preprocessing.text import Tokenizer\n",
    "\n",
    "tokenizer_obj = Tokenizer()\n",
    "tokenizer_obj.fit_on_texts(review_lines)\n",
    "sequences = tokenizer_obj.texts_to_sequences(review_lines)\n",
    "\n",
    "#fit_on_texts : Update internal vocabulary based on a list of texts. This method (fix_on_texts) creates \n",
    "# the vocabulary index based on word frequency (word --> index dictionary). Lower integer means more frequent word \n",
    "# 0 is reserved for padding\n",
    "\n",
    "# texts_to_sequences : Transforms each text in texts to a sequence of integers. So it basically takes each \n",
    "# word in the text and replaces it with its corresponding integer value from the word_index dictionary.\n",
    "print(review_lines[0])\n",
    "print(sequences[0])"
   ]
  },
  {
   "cell_type": "code",
   "execution_count": 0,
   "metadata": {
    "colab": {
     "base_uri": "https://localhost:8080/",
     "height": 70
    },
    "colab_type": "code",
    "id": "XKjnQXeOLpLY",
    "outputId": "cca2c62d-7af8-45ad-c32f-db3c88eb231b"
   },
   "outputs": [
    {
     "name": "stdout",
     "output_type": "stream",
     "text": [
      "Found 8738 tokens.\n",
      "{'phone': 1, 'nt': 2, 'work': 3, 'good': 4, 'use': 5, 'great': 6, 'get': 7, 'screen': 8, 'like': 9, 'one': 10, 'buy': 11, 'would': 12, 'price': 13, 'well': 14, 'battery': 15, 'new': 16, 'iphone': 17, 'love': 18, 'come': 19, 'time': 20, 'camera': 21, 'really': 22, 'go': 23, 'card': 24, 'look': 25, 'sim': 26, 'take': 27, 'back': 28, 'product': 29, 'make': 30, 'even': 31, 'need': 32, 'say': 33, 'day': 34, 'charge': 35, 'also': 36, 'problem': 37, 'nice': 38, 'call': 39, 'purchase': 40, 'quality': 41, 'speaker': 42, 'could': 43, 'want': 44, 'much': 45, 'fast': 46, 'android': 47, 'apps': 48, 'thing': 49, 'receive': 50, 'review': 51, 'excellent': 52, 'recommend': 53, 'still': 54, 'issue': 55, 'feature': 56, 'money': 57, 'return': 58, 'month': 59, 'condition': 60, 'sound': 61, 'alcatel': 62, 'seller': 63, 'amazon': 64, 'try': 65, 'give': 66, 'first': 67, 'bad': 68, 'turn': 69, 'think': 70, 'case': 71, 'charger': 72, 'life': 73, 'seem': 74, 'old': 75, 'unlocked': 76, 'update': 77, 'find': 78, 'apple': 79, 'device': 80, 'everything': 81, 'service': 82, 'big': 83, 'button': 84, 'little': 85, 'ca': 86, 'unlock': 87, 'perfect': 88, 'lot': 89, 'pay': 90, 'happy': 91, 'pretty': 92, 'know': 93, 'easy': 94, 'never': 95, 'far': 96, 'best': 97, 'idol': 98, 'fine': 99, 'see': 100, 'way': 101, 'order': 102, 'another': 103, 'expect': 104, 'keep': 105, 'right': 106, 'last': 107, 'brand': 108, 'light': 109, 'send': 110, 'week': 111, 'year': 112, 'two': 113, 'front': 114, 'feel': 115, 'without': 116, 'picture': 117, 'clear': 118, 'run': 119, 'slow': 120, 'scratch': 121, 'app': 122, 'tmobile': 123, 'size': 124, 'put': 125, 'however': 126, 'verizon': 127, 'able': 128, 'wifi': 129, 'many': 130, 'box': 131, 'set': 132, 'store': 133, 'end': 134, 'since': 135, 'star': 136, 'low': 137, 'power': 138, 'long': 139, 'play': 140, 'cell': 141, 'display': 142, 'small': 143, 'arrive': 144, 'item': 145, 'every': 146, 'tell': 147, 'video': 148, 'enough': 149, 'smartphone': 150, 'cheap': 151, 'touch': 152, 'sd': 153, 'high': 154, 'deal': 155, 'awesome': 156, 'sure': 157, 'replace': 158, 'something': 159, 'hour': 160, 'experience': 161, 'google': 162, 'support': 163, 'start': 164, 'break': 165, 'hold': 166, 'anything': 167, 'memory': 168, 'drop': 169, 'samsung': 170, 'music': 171, 'read': 172, 'though': 173, 'people': 174, 'ever': 175, 'thank': 176, 'ok': 177, 'almost': 178, 'bit': 179, 'may': 180, 'carrier': 181, 'customer': 182, 'describe': 183, 'include': 184, 'color': 185, 'overall': 186, 'company': 187, 'hear': 188, 'ship': 189, 'hand': 190, 'dual': 191, 'download': 192, 'lock': 193, 'model': 194, 'home': 195, 'worth': 196, 'headphone': 197, 'software': 198, 'open': 199, 'face': 200, 'definitely': 201, 'loud': 202, 'yet': 203, 'contact': 204, 'fix': 205, 'actually': 206, 'original': 207, 'already': 208, 'user': 209, 'internet': 210, 'network': 211, 'lte': 212, 'wo': 213, 'game': 214, 'compare': 215, 'text': 216, 'activate': 217, 'less': 218, 'mobile': 219, 'data': 220, 'cost': 221, 'change': 222, 'second': 223, 'thanks': 224, 'crack': 225, 'help': 226, 'stop': 227, 'note': 228, 'hard': 229, 'decent': 230, 'version': 231, 'factory': 232, 'always': 233, 'around': 234, 'signal': 235, 'side': 236, 'talk': 237, 'large': 238, 'different': 239, 'performance': 240, 'leave': 241, 'photo': 242, 'away': 243, 'moto': 244, 'galaxy': 245, 'please': 246, 'cable': 247, 'amaze': 248, 'nothing': 249, 'sometimes': 250, 'quickly': 251, 'protector': 252, 'lag': 253, 'anyone': 254, 'reason': 255, 'sell': 256, 'waste': 257, 'gift': 258, 'tap': 259, 'volume': 260, 'message': 261, 'let': 262, 'bright': 263, 'exactly': 264, 'full': 265, 'smart': 266, 'email': 267, 'ask': 268, 'storage': 269, 'point': 270, 'ipad': 271, 'super': 272, 'flagship': 273, 'show': 274, 'build': 275, 'plus': 276, 'miss': 277, 'son': 278, 'top': 279, 'quick': 280, 'add': 281, 'fit': 282, 'especially': 283, 'thin': 284, 'stock': 285, 'highly': 286, 'setting': 287, 'description': 288, 'upgrade': 289, 'slot': 290, 'connect': 291, 'chinese': 292, 'free': 293, 'next': 294, 'easily': 295, 'although': 296, 'place': 297, 'value': 298, 'spend': 299, 'package': 300, 'watch': 301, 'refund': 302, 'plan': 303, 'friend': 304, 'design': 305, 'option': 306, 'number': 307, 'perfectly': 308, 'quite': 309, 'mine': 310, 'wait': 311, 'jbl': 312, 'wish': 313, 'cover': 314, 'completely': 315, 'function': 316, 'speed': 317, 'couple': 318, 'probably': 319, 'switch': 320, 'either': 321, 'gb': 322, 'check': 323, 'late': 324, 'simple': 325, 'cellphone': 326, 'poor': 327, 'part': 328, 'might': 329, 'minute': 330, 'mean': 331, 'damage': 332, 'etc': 333, 'budget': 334, 'system': 335, 'save': 336, 'disappointed': 337, 'bluetooth': 338, 'absolutely': 339, 'several': 340, 'bottom': 341, 'processor': 342, 'complaint': 343, 'honest': 344, 'offer': 345, 'line': 346, 'finally': 347, 'lose': 348, 'gsm': 349, 'plug': 350, 'audio': 351, 'consider': 352, 'person': 353, 'gps': 354, 'reception': 355, 'close': 356, 'notice': 357, 'compatible': 358, 'refurbish': 359, 'die': 360, 'huge': 361, 'beat': 362, 'beautiful': 363, 'state': 364, 'pocket': 365, 'do': 366, 'heavy': 367, 'ago': 368, 'advertise': 369, 'lg': 370, 'hope': 371, 'mention': 372, 'band': 373, 'terrible': 374, 'extremely': 375, 'half': 376, 'someone': 377, 'replacement': 378, 'own': 379, 'remove': 380, 'wireless': 381, 'double': 382, 'web': 383, 'available': 384, 'wife': 385, 'yes': 386, 'cool': 387, 'nexus': 388, 'previous': 389, 'warranty': 390, 'language': 391, 'fact': 392, 'ram': 393, 'test': 394, 'accessory': 395, 'instead': 396, 'due': 397, 'type': 398, 'enjoy': 399, 'usb': 400, 'glass': 401, 'repair': 402, 'solid': 403, 'listen': 404, 'inch': 405, 'else': 406, 'often': 407, 'except': 408, 'daughter': 409, 'expectation': 410, 'mini': 411, 'instal': 412, 'dont': 413, 'smooth': 414, 'real': 415, 'wake': 416, 'internal': 417, 'least': 418, 'soon': 419, 'complain': 420, 'expensive': 421, 'load': 422, 'extra': 423, 'cant': 424, 'wrong': 425, 'excelente': 426, 'texting': 427, 'plastic': 428, 'exchange': 429, 'happen': 430, 'freeze': 431, 'responsive': 432, 'opinion': 433, 'white': 434, 'insert': 435, 'write': 436, 'buying': 437, 'live': 438, 'maybe': 439, 'iphones': 440, 'must': 441, 'figure': 442, 'manual': 443, 'guess': 444, 'htc': 445, 'operate': 446, 'area': 447, 'properly': 448, 'shut': 449, 'provide': 450, 'satisfied': 451, 'black': 452, 'contract': 453, 'space': 454, 'connection': 455, 'travel': 456, 'totally': 457, 'dollar': 458, 'micro': 459, 'faster': 460, 'appear': 461, 'allow': 462, 'deliver': 463, 'basic': 464, 'move': 465, 'straight': 466, 'english': 467, 'three': 468, 'glad': 469, 'juning': 470, 'lollipop': 471, 'stereo': 472, 'fantastic': 473, 'job': 474, 'bought': 475, 'lack': 476, 'family': 477, 'kind': 478, 'youtube': 479, 'unit': 480, 'press': 481, 'decide': 482, 'piece': 483, 'unless': 484, 'randomly': 485, 'suppose': 486, 'believe': 487, 'ear': 488, 'didnt': 489, 'pleased': 490, 'stay': 491, 'application': 492, 'within': 493, 'mode': 494, 'surprise': 495, 'con': 496, 'daily': 497, 'reset': 498, 'guy': 499, 'handle': 500, 'provider': 501, 'bring': 502, 'standard': 503, 'range': 504, 'page': 505, 'pop': 506, 'install': 507, 'longer': 508, 'shipping': 509, 'facebook': 510, 'average': 511, 'short': 512, 'online': 513, 'account': 514, 'later': 515, 'access': 516, 'stuff': 517, 'tablet': 518, 'io': 519, 'rating': 520, 'key': 521, 'voice': 522, 'information': 523, 'trouble': 524, 'usage': 525, 'interface': 526, 'flash': 527, 'mother': 528, 'answer': 529, 'defective': 530, 'amazing': 531, 'hd': 532, 'packaging': 533, 'date': 534, 'spec': 535, 'cause': 536, 'care': 537, 'market': 538, 'understand': 539, 'twice': 540, 'delivery': 541, 'resolution': 542, 'hot': 543, 'outside': 544, 'ready': 545, 'tech': 546, 'okay': 547, 'search': 548, 'husband': 549, 'simply': 550, 'videos': 551, 'icon': 552, 'blue': 553, 'keyboard': 554, 'satisfy': 555, 'immediately': 556, 'mind': 557, 'difference': 558, 'horrible': 559, 'wont': 560, 'suck': 561, 'impressed': 562, 'file': 563, 'matter': 564, 'base': 565, 'vendor': 566, 'choice': 567, 'affordable': 568, 'disappoint': 569, 'night': 570, 'name': 571, 'realize': 572, 'buck': 573, 'today': 574, 'begin': 575, 'course': 576, 'otherwise': 577, 'process': 578, 'water': 579, 'discount': 580, 'plenty': 581, 'rather': 582, 'list': 583, 'launcher': 584, 'tray': 585, 'medium': 586, 'doesnt': 587, 'nokia': 588, 'instruction': 589, 'hit': 590, 'hardware': 591, 'everyone': 592, 'inside': 593, 'mess': 594, 'learn': 595, 'notification': 596, 'clearly': 597, 'annoy': 598, 'thought': 599, 'hop': 600, 'others': 601, 'image': 602, 'lenovo': 603, 'near': 604, 'port': 605, 'functionality': 606, 'hate': 607, 'pick': 608, 'car': 609, 'useless': 610, 'root': 611, 'whole': 612, 'onetouch': 613, 'browse': 614, 'wonderful': 615, 'meet': 616, 'main': 617, 'important': 618, 'lead': 619, 'honestly': 620, 'saw': 621, 'marshmallow': 622, 'transfer': 623, 'radio': 624, 'usually': 625, 'promise': 626, 'clean': 627, 'smartphones': 628, 'normal': 629, 'dead': 630, 'weight': 631, 'slim': 632, 'barely': 633, 'country': 634, 'chip': 635, 'excelent': 636, 'wall': 637, 'minor': 638, 'business': 639, 'computer': 640, 'fully': 641, 'throw': 642, 'crisp': 643, 'wear': 644, 'im': 645, 'china': 646, 'unbiased': 647, 'multiple': 648, 'reversible': 649, 'stick': 650, 'slightly': 651, 'become': 652, 'steal': 653, 'junk': 654, 'trust': 655, 'tried': 656, 'zenfone': 657, 'warehouse': 658, 'research': 659, 'constantly': 660, 'word': 661, 'menu': 662, 'regular': 663, 'claim': 664, 'quad': 665, 'reliable': 666, 'brightness': 667, 'shot': 668, 'sharp': 669, 'via': 670, 'respond': 671, 'earbuds': 672, 'negative': 673, 'release': 674, 'worry': 675, 'question': 676, 'chance': 677, 'difficult': 678, 'detail': 679, 'shape': 680, 'core': 681, 'careful': 682, 'positive': 683, 'basically': 684, 'pro': 685, 'major': 686, 'view': 687, 'att': 688, 'recognize': 689, 'past': 690, 'sent': 691, 'unfortunately': 692, 'require': 693, 'kid': 694, 'setup': 695, 'program': 696, 'everyday': 697, 'choose': 698, 'similar': 699, 'earphone': 700, 'edge': 701, 'luck': 702, 'focus': 703, 'anyway': 704, 'fairly': 705, 'whatever': 706, 'broken': 707, 'currently': 708, 'unresponsive': 709, 'wow': 710, 'drive': 711, 'rear': 712, 'asus': 713, 'ui': 714, 'suggest': 715, 'mom': 716, 'browser': 717, 'click': 718, 'response': 719, 'ring': 720, 'cellular': 721, 'personal': 722, 'speak': 723, 'task': 724, 'surprisingly': 725, 'garbage': 726, 'cricket': 727, 'moment': 728, 'placement': 729, 'anymore': 730, 'true': 731, 'wrap': 732, 'movie': 733, 'glitch': 734, 'pack': 735, 'backup': 736, 'perform': 737, 'mail': 738, 'future': 739, 'adapter': 740, 'party': 741, 'tracfone': 742, 'hang': 743, 'unable': 744, 'bar': 745, 'firmware': 746, 'wonder': 747, 'form': 748, 'specs': 749, 'term': 750, 'spot': 751, 'mostly': 752, 'downside': 753, 'stuck': 754, 'stand': 755, 'nearly': 756, 'upon': 757, 'flip': 758, 'reasonable': 759, 'pc': 760, 'world': 761, 'stutter': 762, 'literally': 763, 'prepaid': 764, 'pull': 765, 'pic': 766, 'purpose': 767, 'prefer': 768, 'restart': 769, 'bloatware': 770, 'corner': 771, 'used': 772, 'likely': 773, 'christmas': 774, 'present': 775, 'recently': 776, 'complete': 777, 'personally': 778, 'favorite': 779, 'despite': 780, 'carry': 781, 'house': 782, 'drain': 783, 'impressive': 784, 'mp': 785, 'slight': 786, 'fail': 787, 'serve': 788, 'better': 789, 'dent': 790, 'total': 791, 'blow': 792, 'sign': 793, 'limit': 794, 'window': 795, 'functional': 796, 'clock': 797, 'incredible': 798, 'local': 799, 'forget': 800, 'early': 801, 'coverage': 802, 'technology': 803, 'birthday': 804, 'regret': 805, 'simcard': 806, 'recomend': 807, 'boot': 808, 'felt': 809, 'shop': 810, 'center': 811, 'phonei': 812, 'direction': 813, 'body': 814, 'international': 815, 'advertised': 816, 'venezuela': 817, 'hopefully': 818, 'sync': 819, 'fault': 820, 'fake': 821, 'itthe': 822, 'pair': 823, 'spent': 824, 'earlier': 825, 'shame': 826, 'jack': 827, 'fun': 828, 'amount': 829, 'noticeable': 830, 'oneplus': 831, 'social': 832, 'sprint': 833, 'middle': 834, 'capability': 835, 'en': 836, 'durable': 837, 'inexpensive': 838, 'additional': 839, 'rom': 840, 'microsd': 841, 'weak': 842, 'senior': 843, 'website': 844, 'bother': 845, 'rate': 846, 'cord': 847, 'register': 848, 'doubt': 849, 'ton': 850, 'none': 851, 'policy': 852, 'delete': 853, 'sensor': 854, 'reboot': 855, 'cut': 856, 'refurbished': 857, 'bug': 858, 'surf': 859, 'player': 860, 'strong': 861, 'october': 862, 'fm': 863, 'map': 864, 'accept': 865, 'friendly': 866, 'heard': 867, 'frustrate': 868, 'seriously': 869, 'finger': 870, 'protective': 871, 'select': 872, 'pixel': 873, 'along': 874, 'password': 875, 'eye': 876, 'visible': 877, 'onto': 878, 'sunlight': 879, 'expandable': 880, 'report': 881, 'removable': 882, 'ipod': 883, 'fell': 884, 'capable': 885, 'reach': 886, 'smoothly': 887, 'texts': 888, 'correct': 889, 'snappy': 890, 'sleek': 891, 'buyer': 892, 'factor': 893, 'fee': 894, 'remember': 895, 'generation': 896, 'green': 897, 'microphone': 898, 'seal': 899, 'five': 900, 'crap': 901, 'manufacturer': 902, 'worst': 903, 'prime': 904, 'preinstalled': 905, 'error': 906, 'comparison': 907, 'premium': 908, 'till': 909, 'metro': 910, 'location': 911, 'current': 912, 'mistake': 913, 'swipe': 914, 'serial': 915, 'apart': 916, 'appreciate': 917, 'whatsapp': 918, 'oh': 919, 'site': 920, 'launch': 921, 'bill': 922, 'pass': 923, 'produce': 924, 'automatically': 925, 'la': 926, 'special': 927, 'ad': 928, 'laggy': 929, 'member': 930, 'track': 931, 'defect': 932, 'concern': 933, 'unlike': 934, 'push': 935, 'overseas': 936, 'protect': 937, 'paper': 938, 'across': 939, 'na': 940, 'niece': 941, 'actual': 942, 'flaw': 943, 'excite': 944, 'record': 945, 'swap': 946, 'single': 947, 'sale': 948, 'outstanding': 949, 'owner': 950, 'resolve': 951, 'loose': 952, 'powerful': 953, 'four': 954, 'el': 955, 'skin': 956, 'itunes': 957, 'fair': 958, 'match': 959, 'fall': 960, 'useful': 961, 'somewhat': 962, 'follow': 963, 'slide': 964, 'tag': 965, 'selfie': 966, 'headset': 967, 'sad': 968, 'shopping': 969, 'navigate': 970, 'sluggish': 971, 'described': 972, 'level': 973, 'post': 974, 'disappointment': 975, 'auto': 976, 'promptly': 977, 'fire': 978, 'snapdragon': 979, 'sony': 980, 'step': 981, 'stream': 982, 'jailbroken': 983, 'comment': 984, 'originally': 985, 'previously': 986, 'muy': 987, 'comparable': 988, 'par': 989, 'impress': 990, 'sorry': 991, 'angle': 992, 'solve': 993, 'certainly': 994, 'apparently': 995, 'clarity': 996, 'control': 997, 'necessary': 998, 'indicate': 999, 'awful': 1000, 'beyond': 1001, 'connectivity': 1002, 'imagine': 1003, 'fingerprint': 1004, 'lightweight': 1005, 'arrived': 1006, 'anywhere': 1007, 'beware': 1008, 'truly': 1009, 'flawlessly': 1010, 'timely': 1011, 'adjust': 1012, 'request': 1013, 'situation': 1014, 'brother': 1015, 'telephone': 1016, 'sit': 1017, 'sort': 1018, 'surprised': 1019, 'hundred': 1020, 'relatively': 1021, 'third': 1022, 'possible': 1023, 'comfortable': 1024, 'dial': 1025, 'improve': 1026, 'elderly': 1027, 'sims': 1028, 'example': 1029, 'regard': 1030, 'direct': 1031, 'generic': 1032, 'sense': 1033, 'gig': 1034, 'forward': 1035, 'siri': 1036, 'locked': 1037, 'recent': 1038, 'fill': 1039, 'accord': 1040, 'morning': 1041, 'sleep': 1042, 'nfc': 1043, 'acceptable': 1044, 'ease': 1045, 'mid': 1046, 'compact': 1047, 'chrome': 1048, 'crash': 1049, 'gotten': 1050, 'discover': 1051, 'calendar': 1052, 'addition': 1053, 'convenient': 1054, 'feedback': 1055, 'tool': 1056, 'told': 1057, 'found': 1058, 'besides': 1059, 'tiny': 1060, 'flashlight': 1061, 'whether': 1062, 'random': 1063, 'per': 1064, 'continue': 1065, 'hassle': 1066, 'reviewer': 1067, 'entire': 1068, 'adequate': 1069, 'force': 1070, 'usa': 1071, 'pink': 1072, 'gold': 1073, 'tether': 1074, 'cpu': 1075, 'connector': 1076, 'os': 1077, 'neither': 1078, 'enter': 1079, 'knock': 1080, 'superb': 1081, 'trip': 1082, 'pin': 1083, 'motorola': 1084, 'story': 1085, 'rip': 1086, 'crazy': 1087, 'aware': 1088, 'block': 1089, 'worked': 1090, 'team': 1091, 'spanish': 1092, 'arrival': 1093, 'intuitive': 1094, 'emergency': 1095, 'generally': 1096, 'certain': 1097, 'willing': 1098, 'default': 1099, 'rep': 1100, 'disable': 1101, 'particular': 1102, 'hardly': 1103, 'driver': 1104, 'otterbox': 1105, 'got': 1106, 'touchscreen': 1107, 'downloads': 1108, 'specific': 1109, 'performs': 1110, 'grip': 1111, 'tad': 1112, 'friends': 1113, 'nicely': 1114, 'attempt': 1115, 'blu': 1116, 'ur': 1117, 'somehow': 1118, 'rarely': 1119, 'dark': 1120, 'occasional': 1121, 'mark': 1122, 'onoff': 1123, 'thnx': 1124, 'unhappy': 1125, 'received': 1126, 'fan': 1127, 'bud': 1128, 'antenna': 1129, 'ability': 1130, 'alot': 1131, 'twitter': 1132, 'potential': 1133, 'unusable': 1134, 'consumer': 1135, 'red': 1136, 'alarm': 1137, 'physical': 1138, 'lol': 1139, 'shuts': 1140, 'protection': 1141, 'tower': 1142, 'dad': 1143, 'book': 1144, 'alone': 1145, 'standby': 1146, 'accurate': 1147, 'frequently': 1148, 'luckily': 1149, 'manner': 1150, 'address': 1151, 'advise': 1152, 'ota': 1153, 'credit': 1154, 'idea': 1155, 'operation': 1156, 'song': 1157, 'megapixel': 1158, 'preloaded': 1159, 'decision': 1160, 'expand': 1161, 'kill': 1162, 'deep': 1163, 'wasnt': 1164, 'fool': 1165, 'vibrant': 1166, 'dy': 1167, 'prior': 1168, 'pure': 1169, 'chat': 1170, 'pleasantly': 1171, 'tear': 1172, 'usable': 1173, 'upgraded': 1174, 'multitasking': 1175, 'letter': 1176, 'solution': 1177, 'helpful': 1178, 'risk': 1179, 'bueno': 1180, 'zero': 1181, 'period': 1182, 'obvious': 1183, 'security': 1184, 'lcd': 1185, 'law': 1186, 'non': 1187, 'upset': 1188, 'clip': 1189, 'heat': 1190, 'wcdma': 1191, 'sister': 1192, 'affect': 1193, 'prevent': 1194, 'enable': 1195, 'flat': 1196, 'uninstall': 1197, 'gon': 1198, 'locate': 1199, 'afternoon': 1200, 'nova': 1201, 'code': 1202, 'eventually': 1203, 'technical': 1204, 'room': 1205, 'blank': 1206, 'refuse': 1207, 'isnt': 1208, 'breaker': 1209, 'act': 1210, 'slippery': 1211, 'updated': 1212, 'orientation': 1213, 'moderate': 1214, 'floor': 1215, 'inform': 1216, 'directly': 1217, 'quirk': 1218, 'se': 1219, 'neat': 1220, 'rest': 1221, 'general': 1222, 'strength': 1223, 'occasionally': 1224, 'awkward': 1225, 'bell': 1226, 'reply': 1227, 'together': 1228, 'jethro': 1229, 'father': 1230, 'kit': 1231, 'confirm': 1232, 'benefit': 1233, 'false': 1234, 'soft': 1235, 'slip': 1236, 'shipment': 1237, 'serious': 1238, 'cheaply': 1239, 'mm': 1240, 'forever': 1241, 'minimal': 1242, 'cute': 1243, 'avoid': 1244, 'capture': 1245, 'min': 1246, 'spare': 1247, 'thoroughly': 1248, 'reduce': 1249, 'lie': 1250, 'walmart': 1251, 'custom': 1252, 'bite': 1253, 'initially': 1254, 'prompt': 1255, 'builtin': 1256, 'batter': 1257, 'create': 1258, 'afford': 1259, 'ive': 1260, 'sun': 1261, 'upside': 1262, 'noise': 1263, 'shatter': 1264, 'spending': 1265, 'electronics': 1266, 'global': 1267, 'background': 1268, 'manage': 1269, 'mint': 1270, 'label': 1271, 'alternative': 1272, 'recomiendo': 1273, 'style': 1274, 'repeat': 1275, 'tone': 1276, 'toy': 1277, 'advantage': 1278, 'professional': 1279, 'ip': 1280, 'whatsoever': 1281, 'parent': 1282, 'laptop': 1283, 'limited': 1284, 'badly': 1285, 'prepay': 1286, 'wise': 1287, 'confuse': 1288, 'afraid': 1289, 'id': 1290, 'result': 1291, 'recharge': 1292, 'bump': 1293, 'iti': 1294, 'knew': 1295, 'snapchat': 1296, 'selfies': 1297, 'interested': 1298, 'warn': 1299, 'africa': 1300, 'contain': 1301, 'edit': 1302, 'speakerphone': 1303, 'dislike': 1304, 'bien': 1305, 'usual': 1306, 'mah': 1307, 'initial': 1308, 'log': 1309, 'series': 1310, 'hurt': 1311, 'bank': 1312, 'external': 1313, 'weird': 1314, 'perhaps': 1315, 'honor': 1316, 'scanner': 1317, 'vr': 1318, 'advice': 1319, 'outdated': 1320, 'aspect': 1321, 'balance': 1322, 'exposure': 1323, 'head': 1324, 'flawless': 1325, 'ii': 1326, 'couldnt': 1327, 'cosmetic': 1328, 'reading': 1329, 'shoot': 1330, 'guarantee': 1331, 'tend': 1332, 'mic': 1333, 'navigation': 1334, 'bunch': 1335, 'age': 1336, 'ten': 1337, 'depend': 1338, 'obviously': 1339, 'keypad': 1340, 'lo': 1341, 'attractive': 1342, 'status': 1343, 'metal': 1344, 'holder': 1345, 'silicone': 1346, 'suffer': 1347, 'anyways': 1348, 'compete': 1349, 'wallpaper': 1350, 'recieved': 1351, 'board': 1352, 'relative': 1353, 'desire': 1354, 'admit': 1355, 'louder': 1356, 'air': 1357, 'unlimited': 1358, 'sometime': 1359, 'fraction': 1360, 'anybody': 1361, 'scroll': 1362, 'sturdy': 1363, 'photos': 1364, 'facing': 1365, 'trustworthy': 1366, 'quit': 1367, 'slick': 1368, 'foreign': 1369, 'town': 1370, 'frame': 1371, 'messenger': 1372, 'wonderfully': 1373, 'equipment': 1374, 'group': 1375, 'imei': 1376, 'info': 1377, 'movistar': 1378, 'aside': 1379, 'como': 1380, 'operating': 1381, 'graphic': 1382, 'monthly': 1383, 'active': 1384, 'ultra': 1385, 'effect': 1386, 'gen': 1387, 'significantly': 1388, 'possibly': 1389, 'bass': 1390, 'payment': 1391, 'greatly': 1392, 'shutter': 1393, 'god': 1394, 'throughout': 1395, 'consistently': 1396, 'tempered': 1397, 'activation': 1398, 'thankfully': 1399, 'internally': 1400, 'trash': 1401, 'expire': 1402, 'easier': 1403, 'appearance': 1404, 'profile': 1405, 'buen': 1406, 'producto': 1407, 'straighttalk': 1408, 'de': 1409, 'que': 1410, 'un': 1411, 'material': 1412, 'attach': 1413, 'durability': 1414, 'tire': 1415, 'exelente': 1416, 'savvy': 1417, 'rid': 1418, 'pre': 1419, 'impression': 1420, 'print': 1421, 'portable': 1422, 'particularly': 1423, 'max': 1424, 'restore': 1425, 'left': 1426, 'holster': 1427, 'july': 1428, 'thus': 1429, 'hey': 1430, 'thru': 1431, 'child': 1432, 'struggle': 1433, 'indicator': 1434, 'luv': 1435, 'wide': 1436, 'regularly': 1437, 'handy': 1438, 'ios': 1439, 'net': 1440, 'skype': 1441, 'advertising': 1442, 'primary': 1443, 'perfecto': 1444, 'six': 1445, 'boost': 1446, 'catch': 1447, 'road': 1448, 'bonus': 1449, 'win': 1450, 'improvement': 1451, 'wouldnt': 1452, 'incredibly': 1453, 'sadly': 1454, 'article': 1455, 'spoil': 1456, 'exceptional': 1457, 'midrange': 1458, 'trade': 1459, 'mix': 1460, 'screw': 1461, 'increase': 1462, 'replaceable': 1463, 'superior': 1464, 'frequency': 1465, 'ignore': 1466, 'crystal': 1467, 'digitizer': 1468, 'explode': 1469, 'gorgeous': 1470, 'dirt': 1471, 'rock': 1472, 'huawei': 1473, 'intensive': 1474, 'lesson': 1475, 'lightning': 1476, 'percent': 1477, 'shell': 1478, 'scuff': 1479, 'icloud': 1480, 'quicker': 1481, 'practical': 1482, 'prove': 1483, 'asha': 1484, 'manually': 1485, 'purse': 1486, 'classic': 1487, 'accidentally': 1488, 'jump': 1489, 'ups': 1490, 'quadcore': 1491, 'effort': 1492, 'tune': 1493, 'glitchy': 1494, 'thats': 1495, 'apn': 1496, 'reader': 1497, 'mainly': 1498, 'table': 1499, 'hole': 1500, 'assume': 1501, 'pain': 1502, 'belt': 1503, 'otter': 1504, 'film': 1505, 'impossible': 1506, 'housing': 1507, 'minimum': 1508, 'adhesive': 1509, 'pas': 1510, 'bulky': 1511, 'weekend': 1512, 'distortion': 1513, 'absolute': 1514, 'worried': 1515, 'share': 1516, 'encounter': 1517, 'attention': 1518, 'charm': 1519, 'man': 1520, 'restarts': 1521, 'self': 1522, 'instantly': 1523, 'nightmare': 1524, 'panel': 1525, 'gorilla': 1526, 'occasion': 1527, 'delay': 1528, 'grab': 1529, 'reasonably': 1530, 'vivid': 1531, 'capacity': 1532, 'supplier': 1533, 'frontfacing': 1534, 'hiccup': 1535, 'june': 1536, 'vary': 1537, 'tweak': 1538, 'boy': 1539, 'fragile': 1540, 'gesture': 1541, 'gallery': 1542, 'reality': 1543, 'determine': 1544, 'significant': 1545, 'europe': 1546, 'surface': 1547, 'anytime': 1548, 'purchased': 1549, 'raise': 1550, 'school': 1551, 'young': 1552, 'numerous': 1553, 'conversation': 1554, 'lumia': 1555, 'stable': 1556, 'snap': 1557, 'typical': 1558, 'demand': 1559, 'installed': 1560, 'explain': 1561, 'edition': 1562, 'sensitive': 1563, 'ringer': 1564, 'upper': 1565, 'requirement': 1566, 'importantly': 1567, 'manufacture': 1568, 'therefore': 1569, 'handset': 1570, 'alright': 1571, 'netflix': 1572, 'oem': 1573, 'knockoff': 1574, 'hotspot': 1575, 'kudos': 1576, 'wan': 1577, 'character': 1578, 'configuration': 1579, 'elegant': 1580, 'flexible': 1581, 'cdma': 1582, 'kick': 1583, 'thousand': 1584, 'earn': 1585, 'grainy': 1586, 'specification': 1587, 'tired': 1588, 'tape': 1589, 'monday': 1590, 'normally': 1591, 'cel': 1592, 'insurance': 1593, 'lastly': 1594, 'baby': 1595, 'earpiece': 1596, 'customize': 1597, 'remain': 1598, 'carefully': 1599, 'link': 1600, 'customization': 1601, 'drawback': 1602, 'yeah': 1603, 'combination': 1604, 'entry': 1605, 'efficient': 1606, 'virus': 1607, 'bye': 1608, 'pad': 1609, 'unacceptable': 1610, 'temper': 1611, 'plain': 1612, 'remind': 1613, 'gyroscope': 1614, 'overly': 1615, 'woman': 1616, 'saver': 1617, 'crappy': 1618, 'highend': 1619, 'killer': 1620, 'buggy': 1621, 'bloat': 1622, 'preorder': 1623, 'ir': 1624, 'communication': 1625, 'ding': 1626, 'faulty': 1627, 'consistent': 1628, 'beaten': 1629, 'bent': 1630, 'invest': 1631, 'cheat': 1632, 'amazoncom': 1633, 'paypal': 1634, 'lucky': 1635, 'cracked': 1636, 'ie': 1637, 'esn': 1638, 'brings': 1639, 'blackberry': 1640, 'dimension': 1641, 'visit': 1642, 'gracias': 1643, 'windows': 1644, 'flimsy': 1645, 'copy': 1646, 'lower': 1647, 'exceed': 1648, 'communicate': 1649, 'alert': 1650, 'bet': 1651, 'sub': 1652, 'rocker': 1653, 'finish': 1654, 'pros': 1655, 'forth': 1656, 'noticed': 1657, 'ringtones': 1658, 'hook': 1659, 'supposedly': 1660, 'transition': 1661, 'calculator': 1662, 'grandma': 1663, 'odd': 1664, 'hearing': 1665, 'rat': 1666, 'agree': 1667, 'fortunately': 1668, 'yesterday': 1669, 'office': 1670, 'yellow': 1671, 'tends': 1672, 'burn': 1673, 'sticker': 1674, 'lay': 1675, 'joke': 1676, 'argentina': 1677, 'unique': 1678, 'girlfriend': 1679, 'behind': 1680, 'bargain': 1681, 'beauty': 1682, 'indeed': 1683, 'feeling': 1684, 'corejuning': 1685, 'playback': 1686, 'duty': 1687, 'pandora': 1688, 'working': 1689, 'checked': 1690, 'additionally': 1691, 'favor': 1692, 'subject': 1693, 'guide': 1694, 'upload': 1695, 'automatic': 1696, 'freak': 1697, 'noisy': 1698, 'tho': 1699, 'wipe': 1700, 'dealer': 1701, 'proper': 1702, 'webpage': 1703, 'hence': 1704, 'fulfil': 1705, 'serf': 1706, 'downgrade': 1707, 'beep': 1708, 'accesories': 1709, 'final': 1710, 'satellite': 1711, 'octacore': 1712, 'blurry': 1713, 'headphones': 1714, 'hack': 1715, 'lens': 1716, 'exception': 1717, 'pleasant': 1718, 'rival': 1719, 'contrast': 1720, 'industry': 1721, 'multi': 1722, 'foot': 1723, 'zoom': 1724, 'happens': 1725, 'phablets': 1726, 'lags': 1727, 'sweet': 1728, 'category': 1729, 'bed': 1730, 'suddenly': 1731, 'modern': 1732, 'common': 1733, 'tip': 1734, 'develop': 1735, 'mei': 1736, 'speedy': 1737, 'zenphone': 1738, 'count': 1739, 'envelope': 1740, 'agent': 1741, 'ridiculous': 1742, 'excited': 1743, 'disappointing': 1744, 'jail': 1745, 'immaculate': 1746, 'brazil': 1747, 'pantalla': 1748, 'cincinnati': 1749, 'describianlo': 1750, 'sigan': 1751, 'liked': 1752, 'december': 1753, 'temporary': 1754, 'land': 1755, 'airplane': 1756, 'frustration': 1757, 'walk': 1758, 'desk': 1759, 'popular': 1760, 'returned': 1761, 'booklet': 1762, 'poorly': 1763, 'connects': 1764, 'accomplish': 1765, 'funny': 1766, 'hr': 1767, 'door': 1768, 'hesitate': 1769, 'official': 1770, 'animation': 1771, 'joy': 1772, 'valid': 1773, 'una': 1774, 'interest': 1775, 'simplicity': 1776, 'kept': 1777, 'military': 1778, 'arm': 1779, 'supply': 1780, 'bag': 1781, 'nature': 1782, 'blink': 1783, 'mexico': 1784, 'disappear': 1785, 'nobody': 1786, 'adjustment': 1787, 'exact': 1788, 'gsmwcdma': 1789, 'french': 1790, 'def': 1791, 'meh': 1792, 'smile': 1793, 'consume': 1794, 'freezes': 1795, 'horribly': 1796, 'sooo': 1797, 'operator': 1798, 'nowadays': 1799, 'whenever': 1800, 'entirely': 1801, 'separate': 1802, 'perk': 1803, 'nephew': 1804, 'playstore': 1805, 'sheet': 1806, 'waist': 1807, 'lousy': 1808, 'deductible': 1809, 'study': 1810, 'dozen': 1811, 'viber': 1812, 'disabled': 1813, 'logo': 1814, 'froze': 1815, 'malfunction': 1816, 'handthe': 1817, 'safe': 1818, 'ghz': 1819, 'fluid': 1820, 'chose': 1821, 'zone': 1822, 'unfortunate': 1823, 'heart': 1824, 'wire': 1825, 'thinking': 1826, 'byop': 1827, 'piss': 1828, 'realy': 1829, 'enjoyable': 1830, 'history': 1831, 'dim': 1832, 'everybody': 1833, 'field': 1834, 'indoor': 1835, 'hello': 1836, 'somewhere': 1837, 'slowly': 1838, 'acer': 1839, 'resistant': 1840, 'thinner': 1841, 'ensure': 1842, 'mount': 1843, 'survive': 1844, 'touchwiz': 1845, 'meaning': 1846, 'lit': 1847, 'opposite': 1848, 'patch': 1849, 'compromise': 1850, 'purchasing': 1851, 'lasted': 1852, 'unlocking': 1853, 'phonethe': 1854, 'suspect': 1855, 'norm': 1856, 'starter': 1857, 'indoors': 1858, 'xperia': 1859, 'kinda': 1860, 'identical': 1861, 'intend': 1862, 'grow': 1863, 'heck': 1864, 'regardless': 1865, 'unreliable': 1866, 'removal': 1867, 'nervous': 1868, 'moderately': 1869, 'bezel': 1870, 'glue': 1871, 'gamer': 1872, 'holiday': 1873, 'opo': 1874, 'tight': 1875, 'interfere': 1876, 'flush': 1877, 'threw': 1878, 'phenomenal': 1879, 'specifically': 1880, 'meant': 1881, 'fortune': 1882, 'costumer': 1883, 'construct': 1884, 'electronic': 1885, 'various': 1886, 'amoled': 1887, 'asleep': 1888, 'reflect': 1889, 'facetime': 1890, 'advertize': 1891, 'discription': 1892, 'exterior': 1893, 'mute': 1894, 'jailbreak': 1895, 'unopened': 1896, 'specialist': 1897, 'expected': 1898, 'philippine': 1899, 'section': 1900, 'playing': 1901, 'eg': 1902, 'european': 1903, 'passcode': 1904, 'wi': 1905, 'familiar': 1906, 'gray': 1907, 'incompatible': 1908, 'silver': 1909, 'whistle': 1910, 'iso': 1911, 'operational': 1912, 'competition': 1913, 'class': 1914, 'wary': 1915, 'kitkat': 1916, 'movilnet': 1917, 'motherboard': 1918, 'responsible': 1919, 'cradle': 1920, 'cancel': 1921, 'utilize': 1922, 'expert': 1923, 'south': 1924, 'america': 1925, 'ringtone': 1926, 'technically': 1927, 'equal': 1928, 'loop': 1929, 'selection': 1930, 'majority': 1931, 'method': 1932, 'settings': 1933, 'dose': 1934, 'phablet': 1935, 'stupid': 1936, 'texas': 1937, 'minus': 1938, 'hike': 1939, 'treat': 1940, 'jamaica': 1941, 'included': 1942, 'loss': 1943, 'lots': 1944, 'investment': 1945, 'seemingly': 1946, 'weather': 1947, 'august': 1948, 'assure': 1949, 'fancy': 1950, 'palm': 1951, 'void': 1952, 'verify': 1953, 'combine': 1954, 'rubber': 1955, 'experienced': 1956, 'lighten': 1957, 'lover': 1958, 'extend': 1959, 'headache': 1960, 'ruin': 1961, 'associate': 1962, 'freedom': 1963, 'instagram': 1964, 'font': 1965, 'musici': 1966, 'repurchase': 1967, 'tab': 1968, 'busy': 1969, 'lifesaver': 1970, 'cameras': 1971, 'advance': 1972, 'cwm': 1973, 'installation': 1974, 'lovely': 1975, 'disgust': 1976, 'ill': 1977, 'city': 1978, 'ppi': 1979, 'http': 1980, 'autofocus': 1981, 'gpu': 1982, 'tricky': 1983, 'digitel': 1984, 'inc': 1985, 'compatibility': 1986, 'fb': 1987, 'boyfriend': 1988, 'turned': 1989, 'droid': 1990, 'november': 1991, 'boom': 1992, 'revert': 1993, 'yr': 1994, 'bear': 1995, 'magnetic': 1996, 'aluminum': 1997, 'breeze': 1998, 'folk': 1999, 'ta': 2000, 'cellur': 2001, 'estimate': 2002, 'teenager': 2003, 'ahead': 2004, 'news': 2005, 'gaming': 2006, 'receiver': 2007, 'noticeably': 2008, 'fierce': 2009, 'avg': 2010, 'antivirus': 2011, 'skip': 2012, 'pause': 2013, 'vibrate': 2014, 'ground': 2015, 'instance': 2016, 'angry': 2017, 'mbps': 2018, 'calibrate': 2019, 'cam': 2020, 'brilliant': 2021, 'correctly': 2022, 'stylus': 2023, 'usability': 2024, 'nicer': 2025, 'cloud': 2026, 'render': 2027, 'score': 2028, 'pant': 2029, 'seamlessly': 2030, 'strongly': 2031, 'hasnt': 2032, 'taste': 2033, 'mile': 2034, 'patience': 2035, 'blame': 2036, 'thrill': 2037, 'listing': 2038, 'newly': 2039, 'conclusion': 2040, 'nocontract': 2041, 'september': 2042, 'justify': 2043, 'worse': 2044, 'hint': 2045, 'btw': 2046, 'appropriate': 2047, 'content': 2048, 'bubble': 2049, 'dropped': 2050, 'nonremovable': 2051, 'settle': 2052, 'reverse': 2053, 'tv': 2054, 'dust': 2055, 'brighter': 2056, 'gigabyte': 2057, 'developer': 2058, 'clue': 2059, 'dumb': 2060, 'secret': 2061, 'warm': 2062, 'lite': 2063, 'incorrect': 2064, 'vanilla': 2065, 'energy': 2066, 'dbm': 2067, 'ac': 2068, 'rotate': 2069, 'disclaimer': 2070, 'brick': 2071, 'slowness': 2072, 'cycle': 2073, 'bang': 2074, 'thicker': 2075, 'socket': 2076, 'trial': 2077, 'digital': 2078, 'hesitation': 2079, 'auxiliary': 2080, 'voicemail': 2081, 'logic': 2082, 'kindle': 2083, 'indicated': 2084, 'cellmania': 2085, 'sender': 2086, 'anticipate': 2087, 'certify': 2088, 'sticky': 2089, 'ipads': 2090, 'excellente': 2091, 'technician': 2092, 'goodvery': 2093, 'extremly': 2094, 'ross': 2095, 'grade': 2096, 'andriod': 2097, 'gophone': 2098, 'qwerty': 2099, 'hspa': 2100, 'messaging': 2101, 'worthy': 2102, 'american': 2103, 'ultimately': 2104, 'soso': 2105, 'eliminate': 2106, 'essentially': 2107, 'purple': 2108, 'row': 2109, 'punctuation': 2110, 'sophisticated': 2111, 'todo': 2112, 'memo': 2113, 'podcasts': 2114, 'browsing': 2115, 'amazingly': 2116, 'goodness': 2117, 'notch': 2118, 'owe': 2119, 'comfortably': 2120, 'newi': 2121, 'awhile': 2122, 'outlet': 2123, 'concise': 2124, 'curve': 2125, 'sos': 2126, 'employee': 2127, 'accepts': 2128, 'soooo': 2129, 'maintain': 2130, 'equip': 2131, 'secondly': 2132, 'signature': 2133, 'schedule': 2134, 'everywhere': 2135, 'layout': 2136, 'hat': 2137, 'jan': 2138, 'title': 2139, 'blur': 2140, 'continuously': 2141, 'us': 2142, 'rugged': 2143, 'splash': 2144, 'meif': 2145, 'defender': 2146, 'loading': 2147, 'channel': 2148, 'sensitivity': 2149, 'horrendous': 2150, 'techy': 2151, 'ideal': 2152, 'repeatedly': 2153, 'specify': 2154, 'bahasa': 2155, 'damn': 2156, 'capabilities': 2157, 'newer': 2158, 'compensate': 2159, 'leap': 2160, 'genius': 2161, 'tooth': 2162, 'complains': 2163, 'voila': 2164, 'seamless': 2165, 'unsure': 2166, 'glance': 2167, 'metallic': 2168, 'microsim': 2169, 'explore': 2170, 'showing': 2171, 'torch': 2172, 'experiment': 2173, 'action': 2174, 'posh': 2175, 'googleplay': 2176, 'knowledge': 2177, 'belong': 2178, 'mr': 2179, 'clumsy': 2180, 'versatile': 2181, 'shiny': 2182, 'tpu': 2183, 'shall': 2184, 'mediatek': 2185, 'environment': 2186, 'notify': 2187, 'mobil': 2188, 'ya': 2189, 'engage': 2190, 'caveat': 2191, 'reboots': 2192, 'pleasure': 2193, 'unplug': 2194, 'dissatisfied': 2195, 'smh': 2196, 'dissatisfy': 2197, 'authorize': 2198, 'packet': 2199, 'blah': 2200, 'appointment': 2201, 'surely': 2202, 'stretch': 2203, 'shots': 2204, 'whoever': 2205, 'broke': 2206, 'impact': 2207, 'bc': 2208, 'management': 2209, 'assist': 2210, 'truth': 2211, 'bend': 2212, 'recived': 2213, 'express': 2214, 'multitask': 2215, 'caribbean': 2216, 'benchmark': 2217, 'pokemon': 2218, 'puzzle': 2219, 'building': 2220, 'outdoor': 2221, 'fence': 2222, 'physically': 2223, 'mailbox': 2224, 'chromebook': 2225, 'vs': 2226, 'overnight': 2227, 'changer': 2228, 'rich': 2229, 'fixed': 2230, 'park': 2231, 'fade': 2232, 'dependable': 2233, 'screenshot': 2234, 'delight': 2235, 'photography': 2236, 'irritate': 2237, 'supervisor': 2238, 'beautifully': 2239, 'hidden': 2240, 'wash': 2241, 'paperweight': 2242, 'closing': 2243, 'clutter': 2244, 'faith': 2245, 'processing': 2246, 'roughly': 2247, 'lighter': 2248, 'elsewhere': 2249, 'constant': 2250, 'manager': 2251, 'lowlight': 2252, 'sooner': 2253, 'silly': 2254, 'inear': 2255, 'spotty': 2256, 'border': 2257, 'skeptical': 2258, 'severely': 2259, 'draw': 2260, 'mhz': 2261, 'relate': 2262, 'concrete': 2263, 'grant': 2264, 'upsidedown': 2265, 'defeats': 2266, 'promised': 2267, 'mate': 2268, 'gentle': 2269, 'unnecessary': 2270, 'washed': 2271, 'marvelous': 2272, 'brought': 2273, 'cure': 2274, 'tough': 2275, 'liking': 2276, 'appreciated': 2277, 'troubleshoot': 2278, 'router': 2279, 'linux': 2280, 'safely': 2281, 'reputable': 2282, 'beginner': 2283, 'nowhere': 2284, 'extreme': 2285, 'offline': 2286, 'landscape': 2287, 'unbelievable': 2288, 'suggestion': 2289, 'disconnect': 2290, 'silence': 2291, 'remote': 2292, 'inconsistent': 2293, 'concerned': 2294, 'insure': 2295, 'modification': 2296, 'sunday': 2297, 'usps': 2298, 'abuse': 2299, 'chunk': 2300, 'trick': 2301, 'recommendation': 2302, 'cent': 2303, 'pending': 2304, 'pristine': 2305, 'penny': 2306, 'asap': 2307, 'macro': 2308, 'duh': 2309, 'descent': 2310, 'nifty': 2311, 'refurb': 2312, 'discontinue': 2313, 'simms': 2314, 'brandnew': 2315, 'ordered': 2316, 'earth': 2317, 'genuine': 2318, 'upthe': 2319, 'opened': 2320, 'likenew': 2321, 'knicks': 2322, 'para': 2323, 'granddaughter': 2324, 'publish': 2325, 'baseband': 2326, 'themi': 2327, 'replaced': 2328, 'adaptor': 2329, 'trajeta': 2330, 'honesty': 2331, 'classy': 2332, 'document': 2333, 'microsoft': 2334, 'mediocre': 2335, 'steel': 2336, 'complicate': 2337, 'inbox': 2338, 'vino': 2339, 'fi': 2340, 'llego': 2341, 'preface': 2342, 'intermittently': 2343, 'sick': 2344, 'wanted': 2345, 'stellar': 2346, 'paste': 2347, 'symbol': 2348, 'toggle': 2349, 'hrs': 2350, 'bold': 2351, 'basis': 2352, 'needless': 2353, 'ridiculously': 2354, 'visually': 2355, 'frill': 2356, 'structure': 2357, 'tmobil': 2358, 'programmer': 2359, 'assistance': 2360, 'shortly': 2361, 'challenge': 2362, 'difficulty': 2363, 'caller': 2364, 'breath': 2365, 'fresh': 2366, 'everytime': 2367, 'versus': 2368, 'friday': 2369, 'silent': 2370, 'scale': 2371, 'snugly': 2372, 'bulk': 2373, 'brittle': 2374, 'competitor': 2375, 'brake': 2376, 'torn': 2377, 'idk': 2378, 'retrieve': 2379, 'translate': 2380, 'documentation': 2381, 'strip': 2382, 'recieve': 2383, 'portal': 2384, 'purchaser': 2385, 'fabulous': 2386, 'extensive': 2387, 'sibling': 2388, 'atleast': 2389, 'russian': 2390, 'opportunity': 2391, 'phoneoverall': 2392, 'variety': 2393, 'goi': 2394, 'reviewthe': 2395, 'prize': 2396, 'countless': 2397, 'peace': 2398, 'thankful': 2399, 'recorder': 2400, 'compliment': 2401, 'secure': 2402, 'androidgoogle': 2403, 'optionscons': 2404, 'facebooki': 2405, 'authentic': 2406, 'pride': 2407, 'affiliation': 2408, 'obligate': 2409, 'packagingi': 2410, 'successfully': 2411, 'anyonei': 2412, 'equivilent': 2413, 'preapplied': 2414, 'hitch': 2415, 'motheri': 2416, 'headphibes': 2417, 'weirder': 2418, 'recieves': 2419, 'gh': 2420, 'retry': 2421, 'oftennegative': 2422, 'reviewshowever': 2423, 'length': 2424, 'tacky': 2425, 'beneficial': 2426, 'tabs': 2427, 'urls': 2428, 'incorrectly': 2429, 'enclosed': 2430, 'phonebefore': 2431, 'public': 2432, 'accessi': 2433, 'farm': 2434, 'hero': 2435, 'saga': 2436, 'bluepackage': 2437, 'eyesight': 2438, 'tweezer': 2439, 'memorythe': 2440, 'freely': 2441, 'wechat': 2442, 'rely': 2443, 'screenshots': 2444, 'robot': 2445, 'avert': 2446, 'supposed': 2447, 'machine': 2448, 'fish': 2449, 'judge': 2450, 'sophie': 2451, 'eat': 2452, 'strictly': 2453, 'relearn': 2454, 'adware': 2455, 'promote': 2456, 'alter': 2457, 'recovery': 2458, 'configure': 2459, 'publication': 2460, 'buzz': 2461, 'geek': 2462, 'economical': 2463, 'amaizing': 2464, 'stole': 2465, 'density': 2466, 'magnetometer': 2467, 'fella': 2468, 'practice': 2469, 'proximity': 2470, 'orange': 2471, 'visibility': 2472, 'unbeatable': 2473, 'position': 2474, 'pen': 2475, 'pone': 2476, 'tiene': 2477, 'uninstalled': 2478, 'ratio': 2479, 'convince': 2480, 'responsiveness': 2481, 'approximately': 2482, 'cry': 2483, 'caught': 2484, 'clarification': 2485, 'hahaha': 2486, 'plugged': 2487, 'progress': 2488, 'po': 2489, 'hell': 2490, 'malware': 2491, 'worthless': 2492, 'route': 2493, 'workthe': 2494, 'inputting': 2495, 'popups': 2496, 'opening': 2497, 'specially': 2498, 'moreover': 2499, 'rural': 2500, 'died': 2501, 'outdoors': 2502, 'compass': 2503, 'sudden': 2504, 'cache': 2505, 'somebody': 2506, 'wit': 2507, 'accustom': 2508, 'pricetag': 2509, 'unbox': 2510, 'tube': 2511, 'casual': 2512, 'smash': 2513, 'teenage': 2514, 'deserve': 2515, 'spotify': 2516, 'library': 2517, 'glitching': 2518, 'confidence': 2519, 'towards': 2520, 'symmetrical': 2521, 'clash': 2522, 'clan': 2523, 'boomsound': 2524, 'gladly': 2525, 'shock': 2526, 'lighting': 2527, 'stagefright': 2528, 'college': 2529, 'strike': 2530, 'sufficient': 2531, 'era': 2532, 'gripe': 2533, 'swype': 2534, 'acatel': 2535, 'alternate': 2536, 'mx': 2537, 'controller': 2538, 'tin': 2539, 'india': 2540, 'checking': 2541, 'preferred': 2542, 'retail': 2543, 'sandisk': 2544, 'bay': 2545, 'drag': 2546, 'chair': 2547, 'establish': 2548, 'waterproof': 2549, 'detect': 2550, 'sits': 2551, 'department': 2552, 'format': 2553, 'zte': 2554, 'decrease': 2555, 'human': 2556, 'project': 2557, 'daylight': 2558, 'unusual': 2559, 'bias': 2560, 'respectable': 2561, 'criterion': 2562, 'phonewhen': 2563, 'winner': 2564, 'collection': 2565, 'wallet': 2566, 'teen': 2567, 'gem': 2568, 'exist': 2569, 'hi': 2570, 'emojis': 2571, 'ware': 2572, 'juice': 2573, 'amazed': 2574, 'homework': 2575, 'genuinely': 2576, 'observation': 2577, 'decently': 2578, 'someday': 2579, 'heavily': 2580, 'bootloader': 2581, 'prone': 2582, 'manufacturing': 2583, 'height': 2584, 'outright': 2585, 'brush': 2586, 'timelapse': 2587, 'perspective': 2588, 'optimization': 2589, 'adapt': 2590, 'hdr': 2591, 'qualcomm': 2592, 'persuade': 2593, 'forum': 2594, 'shaky': 2595, 'latter': 2596, 'ampm': 2597, 'octa': 2598, 'devastate': 2599, 'tinny': 2600, 'quirky': 2601, 'tomorrow': 2602, 'wonderfull': 2603, 'mb': 2604, 'choppy': 2605, 'inability': 2606, 'magnet': 2607, 'saving': 2608, 'wasted': 2609, 'blast': 2610, 'bid': 2611, 'cpugpu': 2612, 'furthermore': 2613, 'failure': 2614, 'chase': 2615, 'tier': 2616, 'platform': 2617, 'magic': 2618, 'adaptive': 2619, 'razr': 2620, 'rotates': 2621, 'awsome': 2622, 'downhill': 2623, 'hesitant': 2624, 'bummer': 2625, 'tie': 2626, 'dealbreaker': 2627, 'polite': 2628, 'graphically': 2629, 'hangout': 2630, 'devicei': 2631, 'thumb': 2632, 'saturday': 2633, 'jam': 2634, 'postal': 2635, 'rave': 2636, 'consi': 2637, 'hopeful': 2638, 'nonfunctioning': 2639, 'leary': 2640, 'dream': 2641, 'brag': 2642, 'respect': 2643, 'havent': 2644, 'thatthe': 2645, 'amazone': 2646, 'ran': 2647, 'mexican': 2648, 'duplicate': 2649, 'painful': 2650, 'retire': 2651, 'percentage': 2652, 'marketing': 2653, 'doubletap': 2654, 'careless': 2655, 'inspection': 2656, 'ordinary': 2657, 'youre': 2658, 'cooperative': 2659, 'expose': 2660, 'whereas': 2661, 'iam': 2662, 'pixi': 2663, 'incomplete': 2664, 'kindles': 2665, 'audiobooks': 2666, 'savy': 2667, 'inconvenience': 2668, 'telcel': 2669, 'verification': 2670, 'peach': 2671, 'verizonupdated': 2672, 'trusty': 2673, 'possess': 2674, 'server': 2675, 'scrape': 2676, 'wesellcellular': 2677, 'rice': 2678, 'grain': 2679, 'newtome': 2680, 'bum': 2681, 'convinced': 2682, 'fifty': 2683, 'newborn': 2684, 'crook': 2685, 'tamper': 2686, 'craigslist': 2687, 'blacklist': 2688, 'newthe': 2689, 'tile': 2690, 'monsterbuyback': 2691, 'empaque': 2692, 'dock': 2693, 'co': 2694, 'disclosure': 2695, 'innocent': 2696, 'cydia': 2697, 'cracksbut': 2698, 'soooooooo': 2699, 'smoth': 2700, 'safety': 2701, 'por': 2702, 'unlockable': 2703, 'inso': 2704, 'servicethe': 2705, 'refurbrished': 2706, 'recibio': 2707, 'sus': 2708, 'trace': 2709, 'asitodo': 2710, 'asi': 2711, 'mejor': 2712, 'til': 2713, 'blemish': 2714, 'phon': 2715, 'lucked': 2716, 'userfriendly': 2717, 'programmable': 2718, 'shortcut': 2719, 'accident': 2720, 'tactile': 2721, 'flight': 2722, 'instant': 2723, 'loudness': 2724, 'client': 2725, 'ovi': 2726, 'appeal': 2727, 'define': 2728, 'nonsmart': 2729, 'dañada': 2730, 'tarjeta': 2731, 'sms': 2732, 'megapixels': 2733, 'shabby': 2734, 'stylish': 2735, 'priority': 2736, 'annoyingi': 2737, 'shipped': 2738, 'quiet': 2739, 'arabic': 2740, 'adult': 2741, 'sharper': 2742, 'discreet': 2743, 'sum': 2744, 'landvo': 2745, 'april': 2746, 'sport': 2747, 'shocked': 2748, 'creak': 2749, 'resource': 2750, 'sone': 2751, 'equipos': 2752, 'capital': 2753, 'destroy': 2754, 'impair': 2755, 'patient': 2756, 'readily': 2757, 'matte': 2758, 'so': 2759, 'ther': 2760, 'pdf': 2761, 'aid': 2762, 'older': 2763, 'adjustable': 2764, 'mistakenly': 2765, 'portuguese': 2766, 'pm': 2767, 'leg': 2768, 'lanyard': 2769, 'audible': 2770, 'nov': 2771, 'dec': 2772, 'illegal': 2773, 'hangup': 2774, 'incompatibility': 2775, 'station': 2776, 'issuesi': 2777, 'wich': 2778, 'accent': 2779, 'partial': 2780, 'michelleheraud': 2781, 'breakage': 2782, 'gently': 2783, 'unexpected': 2784, 'translator': 2785, 'magical': 2786, 'overprice': 2787, 'appsthe': 2788, 'square': 2789, 'fingernail': 2790, 'knowthe': 2791, 'indonesia': 2792, 'universal': 2793, 'japanese': 2794, 'cheapest': 2795, 'suit': 2796, 'attract': 2797, 'sharpness': 2798, 'recomendado': 2799, 'characteristic': 2800, 'morethe': 2801, 'greek': 2802, 'sending': 2803, 'importance': 2804, 'popped': 2805, 'throttle': 2806, 'influence': 2807, 'roam': 2808, 'reseller': 2809, 'addict': 2810, 'diagonosis': 2811, 'justin': 2812, 'beiber': 2813, 'midwest': 2814, 'unverified': 2815, 'plant': 2816, 'cheapens': 2817, 'integrity': 2818, 'cheesiness': 2819, 'planted': 2820, 'famous': 2821, 'cameravideo': 2822, 'competitive': 2823, 'affiliate': 2824, 'viewing': 2825, 'candy': 2826, 'functioning': 2827, 'jelly': 2828, 'lazy': 2829, 'stolen': 2830, 'rough': 2831, 'bless': 2832, 'remark': 2833, 'shadow': 2834, 'gmail': 2835, 'vital': 2836, 'checkout': 2837, 'comparisoni': 2838, 'ove': 2839, 'lightthe': 2840, 'tooi': 2841, 'screenthis': 2842, 'adswhich': 2843, 'plani': 2844, 'adsi': 2845, 'interfacei': 2846, 'weeksthe': 2847, 'tonice': 2848, 'waisted': 2849, 'combined': 2850, 'cellphonetablet': 2851, 'lithium': 2852, 'devise': 2853, 'mtk': 2854, 'configurable': 2855, 'camara': 2856, 'telefono': 2857, 'nada': 2858, 'genial': 2859, 'emit': 2860, 'dynamic': 2861, 'mi': 2862, 'colour': 2863, 'dominican': 2864, 'behavior': 2865, 'colleague': 2866, 'source': 2867, 'stack': 2868, 'onei': 2869, 'frontal': 2870, 'transmit': 2871, 'backlight': 2872, 'announce': 2873, 'dhl': 2874, 'neutral': 2875, 'speaks': 2876, 'uncomfortable': 2877, 'vertical': 2878, 'buena': 2879, 'al': 2880, 'ni': 2881, 'shirt': 2882, 'represent': 2883, 'approach': 2884, 'downloaded': 2885, 'simm': 2886, 'outlook': 2887, 'iteration': 2888, 'tuesday': 2889, 'gui': 2890, 'fork': 2891, 'success': 2892, 'living': 2893, 'mixed': 2894, 'scam': 2895, 'recommended': 2896, 'worldwide': 2897, 'usd': 2898, 'unplugged': 2899, 'proprietary': 2900, 'unwanted': 2901, 'refer': 2902, 'apx': 2903, 'porno': 2904, 'stress': 2905, 'oneit': 2906, 'dissapointed': 2907, 'cheep': 2908, 'hay': 2909, 'apparent': 2910, 'cousin': 2911, 'cuz': 2912, 'itbut': 2913, 'needs': 2914, 'listening': 2915, 'organize': 2916, 'graduation': 2917, 'timethis': 2918, 'touchy': 2919, 'harder': 2920, 'airline': 2921, 'ticket': 2922, 'charging': 2923, 'studio': 2924, 'convert': 2925, 'prong': 2926, 'wellmade': 2927, 'symptom': 2928, 'naked': 2929, 'sec': 2930, 'mega': 2931, 'backwards': 2932, 'craft': 2933, 'dot': 2934, 'itll': 2935, 'thiis': 2936, 'gie': 2937, 'batterythe': 2938, 'leak': 2939, 'reputation': 2940, 'internetthe': 2941, 'textured': 2942, 'allthe': 2943, 'effective': 2944, 'defense': 2945, 'av': 2946, 'definite': 2947, 'leery': 2948, 'surround': 2949, 'exclusively': 2950, 'redirecttrue': 2951, 'turbo': 2952, 'batt': 2953, 'unneeded': 2954, 'invalid': 2955, 'thickness': 2956, 'outperform': 2957, 'clarify': 2958, 'queue': 2959, 'playlist': 2960, 'bull': 2961, 'dashboard': 2962, 'rma': 2963, 'slimmer': 2964, 'bird': 2965, 'race': 2966, 'albeit': 2967, 'crucial': 2968, 'resistance': 2969, 'attack': 2970, 'equally': 2971, 'wisely': 2972, 'darn': 2973, 'optimal': 2974, 'curious': 2975, 'pace': 2976, 'largely': 2977, 'depth': 2978, 'sa': 2979, 'exceptionally': 2980, 'dud': 2981, 'iv': 2982, 're': 2983, 'remedied': 2984, 'shoulder': 2985, 'makereceive': 2986, 'involve': 2987, 'messy': 2988, 'aftermarket': 2989, 'combo': 2990, 'promotion': 2991, 'giftcard': 2992, 'sample': 2993, 'frustrating': 2994, 'optimus': 2995, 'erase': 2996, 'awe': 2997, 'enhancement': 2998, 'muddy': 2999, 'shake': 3000, 'cloudy': 3001, 'few': 3002, 'timei': 3003, 'imo': 3004, 'melt': 3005, 'led': 3006, 'related': 3007, 'distance': 3008, 'flag': 3009, 'sot': 3010, 'subsidy': 3011, 'terrific': 3012, 'subsidize': 3013, 'uk': 3014, 'tax': 3015, 'inventory': 3016, 'replacing': 3017, 'activity': 3018, 'circumstance': 3019, 'suffers': 3020, 'uber': 3021, 'minecraft': 3022, 'lifetime': 3023, 'oddly': 3024, 'sacrifice': 3025, 'destroyed': 3026, 'terribly': 3027, 'looked': 3028, 'mislead': 3029, 'rare': 3030, 'flaky': 3031, 'populate': 3032, 'flagships': 3033, 'highquality': 3034, 'unused': 3035, 'portrait': 3036, 'soundbattery': 3037, 'tcl': 3038, 'watching': 3039, 'accidental': 3040, 'colorful': 3041, 'culprit': 3042, 'segment': 3043, 'affordability': 3044, 'muchthe': 3045, 'death': 3046, 'strange': 3047, 'blown': 3048, 'beast': 3049, 'tout': 3050, 'idolthe': 3051, 'daytoday': 3052, 'vacation': 3053, 'outweigh': 3054, 'appit': 3055, 'devil': 3056, 'zippy': 3057, 'xda': 3058, 'excuse': 3059, 'ergonomics': 3060, 'sceptical': 3061, 'bogged': 3062, 'dreadful': 3063, 'redirect': 3064, 'alcaltel': 3065, 'polish': 3066, 'toptier': 3067, 'upfront': 3068, 'dissatisfaction': 3069, 'hide': 3070, 'startup': 3071, 'altogether': 3072, 'customizable': 3073, 'hollow': 3074, 'ascend': 3075, 'butt': 3076, 'hair': 3077, 'territory': 3078, 'failed': 3079, 'proof': 3080, 'chipset': 3081, 'skimp': 3082, 'counter': 3083, 'dog': 3084, 'secondary': 3085, 'camerahowever': 3086, 'hue': 3087, 'imho': 3088, 'feat': 3089, 'squeeze': 3090, 'midlevel': 3091, 'highlight': 3092, 'practically': 3093, 'prematurely': 3094, 'feels': 3095, 'tuner': 3096, 'dallas': 3097, 'persist': 3098, 'substitute': 3099, 'apply': 3100, 'illusion': 3101, 'gamers': 3102, 'buds': 3103, 'delivers': 3104, 'preserve': 3105, 'experiencei': 3106, 'lightly': 3107, 'apex': 3108, 'echo': 3109, 'hairline': 3110, 'ala': 3111, 'volta': 3112, 'performer': 3113, 'receives': 3114, 'inconvenient': 3115, 'recognition': 3116, 'wonky': 3117, 'mildly': 3118, 'assemble': 3119, 'exhaust': 3120, 'cluster': 3121, 'merit': 3122, 'priceit': 3123, 'development': 3124, 'steady': 3125, 'lk': 3126, 'engineer': 3127, 'issuethe': 3128, 'finicky': 3129, 'wtf': 3130, 'transparent': 3131, 'virtual': 3132, 'virtually': 3133, 'billy': 3134, 'asu': 3135, 'asurion': 3136, 'insist': 3137, 'porch': 3138, 'wound': 3139, 'index': 3140, 'login': 3141, 'aquos': 3142, 'yall': 3143, 'reliably': 3144, 'havethe': 3145, 'ice': 3146, 'fiddle': 3147, 'advertisement': 3148, 'exceeded': 3149, 'daytime': 3150, 'ugh': 3151, 'crackly': 3152, 'summer': 3153, 'intense': 3154, 'continually': 3155, 'smother': 3156, 'flow': 3157, 'typically': 3158, 'fellow': 3159, 'ancient': 3160, 'updates': 3161, 'overload': 3162, 'nonfunctional': 3163, 'scene': 3164, 'learned': 3165, 'manipulate': 3166, 'readable': 3167, 'sweep': 3168, 'lefty': 3169, 'receptioncamera': 3170, 'poop': 3171, 'master': 3172, 'qi': 3173, 'vehicle': 3174, 'inferior': 3175, 'defiantly': 3176, 'twin': 3177, 'pix': 3178, 'happened': 3179, 'align': 3180, 'submit': 3181, 'panoramic': 3182, 'remarkable': 3183, 'seam': 3184, 'inspire': 3185, 'slider': 3186, 'reflection': 3187, 'eventhough': 3188, 'longterm': 3189, 'gum': 3190, 'costly': 3191, 'men': 3192, 'remotely': 3193, 'apaga': 3194, 'impeccable': 3195, 'accessibility': 3196, 'electric': 3197, 'surprising': 3198, 'target': 3199, 'unusedso': 3200, 'sporadically': 3201, 'statedwhen': 3202, 'newno': 3203, 'austria': 3204, 'simplethank': 3205, 'agian': 3206, 'gizmo': 3207, 'trader': 3208, 'shrink': 3209, 'happywith': 3210, 'wasis': 3211, 'probs': 3212, 'verrrry': 3213, 'helper': 3214, 'works': 3215, 'streak': 3216, 'unmute': 3217, 'newfor': 3218, 'qualm': 3219, 'paranoid': 3220, 'dint': 3221, 'stoke': 3222, 'replug': 3223, 'conditionit': 3224, 'safari': 3225, 'educate': 3226, 'carrierproviderapple': 3227, 'provideri': 3228, 'tiptop': 3229, 'emphasize': 3230, 'merchandise': 3231, 'spring': 3232, 'ime': 3233, 'retailer': 3234, 'meid': 3235, 'expedite': 3236, 'answered': 3237, 'meantime': 3238, 'bougth': 3239, 'liquid': 3240, 'tiempo': 3241, 'jailbroke': 3242, 'legit': 3243, 'differently': 3244, 'discribed': 3245, 'bundle': 3246, 'nd': 3247, 'computerflash': 3248, 'thesei': 3249, 'blob': 3250, 'bodyframe': 3251, 'dumpster': 3252, 'beatup': 3253, 'embarrass': 3254, 'nonoriginal': 3255, 'dolars': 3256, 'grandson': 3257, 'rapidly': 3258, 'corporate': 3259, 'describedi': 3260, 'smell': 3261, 'abroad': 3262, 'tht': 3263, 'unblocked': 3264, 'understood': 3265, 'legal': 3266, 'stewart': 3267, 'alli': 3268, 'balloon': 3269, 'fooled': 3270, 'delievred': 3271, 'immediatly': 3272, 'somehimes': 3273, 'youd': 3274, 'goooddd': 3275, 'upkeep': 3276, 'worn': 3277, 'upall': 3278, 'clam': 3279, 'iphonethis': 3280, 'putt': 3281, 'advert': 3282, 'citizen': 3283, 'diesother': 3284, 'carrear': 3285, 'canging': 3286, 'noticably': 3287, 'lifeover': 3288, 'bbc': 3289, 'fantasy': 3290, 'ffd': 3291, 'bejewel': 3292, 'reactive': 3293, 'daughterwhen': 3294, 'andkeep': 3295, 'modeto': 3296, 'sinceif': 3297, 'colection': 3298, 'refurbushed': 3299, 'niceee': 3300, 'establishment': 3301, 'hookup': 3302, 'depress': 3303, 'exaggerate': 3304, 'dusty': 3305, 'conditionas': 3306, 'thrift': 3307, 'constancely': 3308, 'reconsider': 3309, 'deception': 3310, 'beginingafter': 3311, 'arizona': 3312, 'california': 3313, 'waitingof': 3314, 'nigeria': 3315, 'insteadbtw': 3316, 'benjamin': 3317, 'nightmarehopely': 3318, 'nontheless': 3319, 'wantto': 3320, 'scracthes': 3321, 'treplaced': 3322, 'beggining': 3323, 'ungrateful': 3324, 'lettin': 3325, 'cheated': 3326, 'hous': 3327, 'cardamazon': 3328, 'adressed': 3329, 'purchas': 3330, 'discounted': 3331, 'commitment': 3332, 'independent': 3333, 'bestdeal': 3334, 'tdo': 3335, 'expeditiously': 3336, 'nuevo': 3337, 'distributor': 3338, 'merchant': 3339, 'adi': 3340, 'rusty': 3341, 'refaund': 3342, 'dr': 3343, 'eligible': 3344, 'dang': 3345, 'solder': 3346, 'rush': 3347, 'representative': 3348, 'freedompop': 3349, 'planning': 3350, 'payasyougo': 3351, 'stability': 3352, 'airport': 3353, 'presto': 3354, 'venture': 3355, 'intact': 3356, 'opera': 3357, 'telescope': 3358, 'stainless': 3359, 'firm': 3360, 'shortcuts': 3361, 'hola': 3362, 'yo': 3363, 'nos': 3364, 'bb': 3365, 'latin': 3366, 'modify': 3367, 'symbian': 3368, 'onboard': 3369, 'passable': 3370, 'overlook': 3371, 'keeper': 3372, 'await': 3373, 'ms': 3374, 'shift': 3375, 'obsolete': 3376, 'pool': 3377, 'tinker': 3378, 'clone': 3379, 'enormous': 3380, 'korean': 3381, 'ver': 3382, 'needed': 3383, 'useable': 3384, 'strangely': 3385, 'receptive': 3386, 'march': 3387, 'tightly': 3388, 'lackluster': 3389, 'streamline': 3390, 'heartbeat': 3391, 'dump': 3392, 'argue': 3393, 'phoneif': 3394, 'recomended': 3395, 'glory': 3396, 'fino': 3397, 'folder': 3398, 'incoming': 3399, 'jeffrey': 3400, 'quadband': 3401, 'magnify': 3402, 'staight': 3403, 'postage': 3404, 'clamshell': 3405, 'backpack': 3406, 'mismatch': 3407, 'upthat': 3408, 'grandfather': 3409, 'vocal': 3410, 'wind': 3411, 'reuse': 3412, 'againthe': 3413, 'grandmother': 3414, 'squint': 3415, 'tutorial': 3416, 'relief': 3417, 'meeting': 3418, 'maximum': 3419, 'talktext': 3420, 'prepare': 3421, 'feb': 3422, 'embrace': 3423, 'timedate': 3424, 'drove': 3425, 'partially': 3426, 'microcell': 3427, 'programmed': 3428, 'arrow': 3429, 'wave': 3430, 'kat': 3431, 'hk': 3432, 'johannesburg': 3433, 'ut': 3434, 'fat': 3435, 'zip': 3436, 'crear': 3437, 'securely': 3438, 'priceamazin': 3439, 'insulate': 3440, 'erratically': 3441, 'illustration': 3442, 'fold': 3443, 'mystery': 3444, 'exceedingly': 3445, 'mathc': 3446, 'tank': 3447, 'radiate': 3448, 'fickle': 3449, 'momths': 3450, 'seas': 3451, 'phono': 3452, 'childif': 3453, 'mourn': 3454, 'prefers': 3455, 'snag': 3456, 'ablebto': 3457, 'hepatic': 3458, 'feather': 3459, 'fleshy': 3460, 'gettingbthe': 3461, 'doable': 3462, 'depicts': 3463, 'nevera': 3464, 'forecast': 3465, 'restate': 3466, 'altho': 3467, 'mysteriously': 3468, 'phrase': 3469, 'personnel': 3470, 'woefully': 3471, 'alsoso': 3472, 'shawyn': 3473, 'sea': 3474, 'flower': 3475, 'ghost': 3476, 'teased': 3477, 'appi': 3478, 'seven': 3479, 'goodlooking': 3480, 'avail': 3481, 'voip': 3482, 'expectationsi': 3483, 'phonethere': 3484, 'thati': 3485, 'unbelievably': 3486, 'triangle': 3487, 'agreement': 3488, 'cross': 3489, 'yah': 3490, 'yay': 3491, 'fashionable': 3492, 'workmanship': 3493, 'posse': 3494, 'beneficiary': 3495, 'beit': 3496, 'easierits': 3497, 'camerathe': 3498, 'eitherhowever': 3499, 'musicthis': 3500, 'phonesit': 3501, 'displayand': 3502, 'countryits': 3503, 'accessoriesit': 3504, 'chargerwall': 3505, 'chargerscreen': 3506, 'protectorclear': 3507, 'caseuser': 3508, 'manualoverall': 3509, 'featuresrecommendedi': 3510, 'themthe': 3511, 'malaya': 3512, 'burmese': 3513, 'cestina': 3514, 'deutsch': 3515, 'espanola': 3516, 'italiano': 3517, 'nederland': 3518, 'vietnamese': 3519, 'turkish': 3520, 'hebrew': 3521, 'persian': 3522, 'thai': 3523, 'simplifiedtraditional': 3524, 'chineseif': 3525, 'phoneit': 3526, 'claritythe': 3527, 'costfree': 3528, 'opinionreview': 3529, 'herstarting': 3530, 'resemble': 3531, 'uncool': 3532, 'tooit': 3533, 'speedsthe': 3534, 'junings': 3535, 'goodthis': 3536, 'lollipopi': 3537, 'phonebut': 3538, 'useranyway': 3539, 'chargesplease': 3540, 'videoi': 3541, 'quadbandjuning': 3542, 'stun': 3543, 'brat': 3544, 'spectacular': 3545, 'perfomance': 3546, 'celular': 3547, 'evolve': 3548, 'walkie': 3549, 'talkie': 3550, 'creation': 3551, 'againand': 3552, 'linkhttps': 3553, 'cardone': 3554, 'smartwake': 3555, 'difficultythere': 3556, 'emerge': 3557, 'priceso': 3558, 'qianhai': 3559, 'changying': 3560, 'exceeds': 3561, 'guysso': 3562, 'static': 3563, 'pile': 3564, 'dependent': 3565, 'efficiency': 3566, 'friendsi': 3567, 'pricei': 3568, 'itthis': 3569, 'traveler': 3570, 'makeup': 3571, 'liner': 3572, 'lip': 3573, 'phoneits': 3574, 'ect': 3575, 'conection': 3576, 'diferent': 3577, 'aps': 3578, 'clunkyand': 3579, 'consolidate': 3580, 'phonesi': 3581, '发哥版': 3582, 'shippedbut': 3583, 'audiovideo': 3584, 'deffect': 3585, 'nicearrived': 3586, 'playis': 3587, 'fails': 3588, 'colombia': 3589, 'charged': 3590, 'doa': 3591, 'attraction': 3592, 'bery': 3593, 'goo': 3594, 'porq': 3595, 'lotstyle': 3596, 'feliz': 3597, 'dosen': 3598, 'trush': 3599, 'radiotvspeakers': 3600, 'datatext': 3601, 'quickstart': 3602, 'saythe': 3603, 'okey': 3604, 'itis': 3605, 'toda': 3606, 'estafa': 3607, 'buty': 3608, 'squad': 3609, 'aggravate': 3610, 'lolipop': 3611, 'skittle': 3612, 'revision': 3613, 'tha': 3614, 'softwareall': 3615, 'chargingbattery': 3616, 'weakif': 3617, 'optionvenkata': 3618, 'readi': 3619, 'arrivedyou': 3620, 'rooting': 3621, 'connecting': 3622, 'functionsjust': 3623, 'loved': 3624, 'oreder': 3625, 'blackbut': 3626, 'priceangels': 3627, 'apptools': 3628, 'wantthings': 3629, 'nonweb': 3630, 'howthis': 3631, 'pricenegative': 3632, 'englishjust': 3633, 'problema': 3634, 'becausethe': 3635, 'chinise': 3636, 'dipositive': 3637, 'republic': 3638, 'acostumbro': 3639, 'bino': 3640, 'apparatus': 3641, 'ecxelente': 3642, 'seens': 3643, 'down': 3644, 'dollarsi': 3645, 'aluminium': 3646, 'rout': 3647, 'goole': 3648, 'dealextreme': 3649, 'exelent': 3650, 'acording': 3651, 'pricevalue': 3652, 'goodnight': 3653, 'equipo': 3654, 'scar': 3655, 'decided': 3656, 'ex': 3657, 'toilet': 3658, 'blew': 3659, 'understandable': 3660, 'student': 3661, 'lil': 3662, 'bare': 3663, 'nevertheless': 3664, 'korea': 3665, 'trough': 3666, 'measure': 3667, 'meter': 3668, 'lightinthebox': 3669, 'themand': 3670, 'attentive': 3671, 'venezuelan': 3672, 'dig': 3673, 'le': 3674, 'evening': 3675, 'inner': 3676, 'procedure': 3677, 'esta': 3678, 'apk': 3679, 'permit': 3680, 'miami': 3681, 'costa': 3682, 'timethe': 3683, 'newbie': 3684, 'okgoogle': 3685, 'started': 3686, 'restriction': 3687, 'pricecons': 3688, 'novice': 3689, 'softwear': 3690, 'touchscreendisplay': 3691, 'smartphonetablet': 3692, 'frills': 3693, 'mms': 3694, 'lenguage': 3695, 'million': 3696, 'shopper': 3697, 'desperate': 3698, 'withstand': 3699, 'reliability': 3700, 'indication': 3701, 'nope': 3702, 'stil': 3703, 'february': 3704, 'eh': 3705, 'em': 3706, 'sam': 3707, 'porn': 3708, 'omg': 3709, 'txt': 3710, 'iswas': 3711, 'unlockedthis': 3712, 'wellthe': 3713, 'allows': 3714, 'actualy': 3715, 'capacitive': 3716, 'crashed': 3717, 'natural': 3718, 'internationally': 3719, 'printer': 3720, 'receiving': 3721, 'inflate': 3722, 'notebook': 3723, 'ppl': 3724, 'rotation': 3725, 'reject': 3726, 'plz': 3727, 'bust': 3728, 'pixelated': 3729, 'ebay': 3730, 'kindly': 3731, 'thread': 3732, 'retina': 3733, 'engineering': 3734, 'obtain': 3735, 'breaking': 3736, 'nicee': 3737, 'goodits': 3738, 'zack': 3739, 'morris': 3740, 'halloween': 3741, 'costume': 3742, 'desperately': 3743, 'erroneous': 3744, 'misleading': 3745, 'thingsthe': 3746, 'câmera': 3747, 'tenth': 3748, 'nothingasides': 3749, 'packall': 3750, 'outofdate': 3751, 'tilt': 3752, 'pricethe': 3753, 'clueless': 3754, 'perfert': 3755, 'mirror': 3756, 'revier': 3757, 'fsfjxrhdyxing': 3758, 'waaaaaay': 3759, 'byidol': 3760, 'skyforce': 3761, 'reload': 3762, 'fieldrunners': 3763, 'recharges': 3764, 'faux': 3765, 'goggles': 3766, 'applicaions': 3767, 'posibilities': 3768, 'metrospc': 3769, 'decline': 3770, 'allot': 3771, 'professionally': 3772, 'packing': 3773, 'bricked': 3774, 'unauthorized': 3775, 'poorer': 3776, 'rise': 3777, 'goodoverall': 3778, 'magically': 3779, 'pinterest': 3780, 'overlap': 3781, 'circle': 3782, 'designer': 3783, 'solidly': 3784, 'preference': 3785, 'expansion': 3786, 'module': 3787, 'imx': 3788, 'benchmarks': 3789, 'technicolor': 3790, 'bleed': 3791, 'opt': 3792, 'dragontrail': 3793, 'toughness': 3794, 'ois': 3795, 'contribute': 3796, 'astonish': 3797, 'picked': 3798, 'similarly': 3799, 'contest': 3800, 'idle': 3801, 'commercial': 3802, 'neg': 3803, 'nitpick': 3804, 'haptic': 3805, 'screeni': 3806, 'noon': 3807, 'intentional': 3808, 'toe': 3809, 'richer': 3810, 'wobble': 3811, 'outperforms': 3812, 'thinness': 3813, 'acquisition': 3814, 'mar': 3815, 'photograph': 3816, 'outer': 3817, 'redeem': 3818, 'headphonesalso': 3819, 'daysi': 3820, 'pricedefinitely': 3821, 'avant': 3822, 'nyc': 3823, 'mops': 3824, 'scenario': 3825, 'heads': 3826, 'mnvo': 3827, 'gsam': 3828, 'phones': 3829, 'absurdly': 3830, 'dainty': 3831, 'minority': 3832, 'allá': 3833, 'confused': 3834, 'mysms': 3835, 'cardi': 3836, 'itit': 3837, 'nearby': 3838, 'fastthe': 3839, 'yard': 3840, 'definetly': 3841, 'brighten': 3842, 'dimmer': 3843, 'permission': 3844, 'grace': 3845, 'reinstall': 3846, 'stronger': 3847, 'straighten': 3848, 'booster': 3849, 'pore': 3850, 'saturation': 3851, 'tendency': 3852, 'optimize': 3853, 'desktop': 3854, 'flexibility': 3855, 'partnership': 3856, 'nit': 3857, 'jus': 3858, 'lap': 3859, 'needpros': 3860, 'gyro': 3861, 'morecons': 3862, 'anywaywish': 3863, 'increment': 3864, 'allin': 3865, 'happily': 3866, 'worksthe': 3867, 'acount': 3868, 'synched': 3869, 'phonealso': 3870, 'inrange': 3871, 'yourprovider': 3872, 'preconfigured': 3873, 'earlierthe': 3874, 'countriesnote': 3875, 'skill': 3876, 'forgive': 3877, 'compromisei': 3878, 'accustomed': 3879, 'thingin': 3880, 'optioni': 3881, 'evangelical': 3882, 'footprint': 3883, 'satisfactory': 3884, 'sleeker': 3885, 'insane': 3886, 'magnificent': 3887, 'shield': 3888, 'itoverall': 3889, 'ce': 3890, 'slowdown': 3891, 'ps': 3892, 'amazoni': 3893, 'gimmick': 3894, 'dime': 3895, 'fps': 3896, 'immersive': 3897, 'varies': 3898, 'turntable': 3899, 'bomb': 3900, 'availability': 3901, 'goog': 3902, 'television': 3903, 'widget': 3904, 'personalize': 3905, 'performing': 3906, 'spread': 3907, 'german': 3908, 'command': 3909, 'connected': 3910, 'pressure': 3911, 'flex': 3912, 'hoped': 3913, 'unsent': 3914, 'reference': 3915, 'pricepoint': 3916, 'rehash': 3917, 'neighborhood': 3918, 'output': 3919, 'fare': 3920, 'subjective': 3921, 'tense': 3922, 'bothersome': 3923, 'unsuccessful': 3924, 'miui': 3925, 'netfilx': 3926, 'laughably': 3927, 'tmoble': 3928, 'scare': 3929, 'sluggishness': 3930, 'zen': 3931, 'hype': 3932, 'vibratebuzz': 3933, 'sizei': 3934, 'massive': 3935, 'blaster': 3936, 'relevant': 3937, 'swim': 3938, 'fulfill': 3939, 'janurary': 3940, 'sat': 3941, 'qhd': 3942, 'inclusion': 3943, 'upgradable': 3944, 'gate': 3945, 'qualitythe': 3946, 'shower': 3947, 'pokey': 3948, 'podcast': 3949, 'rearfacing': 3950, 'boat': 3951, 'lake': 3952, 'definition': 3953, 'adam': 3954, 'northern': 3955, 'statement': 3956, 'dialer': 3957, 'assistant': 3958, 'whaaat': 3959, 'praise': 3960, 'thisit': 3961, 'timeone': 3962, 'sup': 3963, 'flipphone': 3964, 'phartsmone': 3965, 'payg': 3966, 'airtime': 3967, 'gremlin': 3968, 'fond': 3969, 'microsims': 3970, 'modem': 3971, 'dammit': 3972, 'crotchety': 3973, 'muffle': 3974, 'unheard': 3975, 'dslr': 3976, 'welcome': 3977, 'cash': 3978, 'rent': 3979, 'anxious': 3980, 'stabilization': 3981, 'fuzzy': 3982, 'anyhow': 3983, 'bullet': 3984, 'appsthis': 3985, 'hifi': 3986, 'absolutly': 3987, 'excellenti': 3988, 'phoneuses': 3989, 'overdone': 3990, 'nitpicky': 3991, 'androids': 3992, 'annoyance': 3993, 'digress': 3994, 'aosp': 3995, 'branding': 3996, 'plugin': 3997, 'ugly': 3998, 'vibration': 3999, 'predict': 4000, 'gimmicky': 4001, 'scan': 4002, 'litlery': 4003, 'peal': 4004, 'splurge': 4005, 'sold': 4006, 'ridiculouswanted': 4007, 'zmax': 4008, 'featuresvery': 4009, 'annoyi': 4010, 'uninstalling': 4011, 'isbecause': 4012, 'behave': 4013, 'fading': 4014, 'smarphone': 4015, 'onthe': 4016, 'anti': 4017, 'theft': 4018, 'shade': 4019, 'onefirst': 4020, 'repairman': 4021, 'gap': 4022, 'orient': 4023, 'rightsideup': 4024, 'glow': 4025, 'dollarsoctacorenice': 4026, 'screenandroid': 4027, 'havethis': 4028, 'recourse': 4029, 'thisthis': 4030, 'issuewould': 4031, 'closer': 4032, 'slower': 4033, 'chipsets': 4034, 'admittedly': 4035, 'daythe': 4036, 'phonethis': 4037, 'kitchen': 4038, 'du': 4039, 'shill': 4040, 'thursday': 4041, 'yellowish': 4042, 'tint': 4043, 'compute': 4044, 'switched': 4045, 'increasingly': 4046, 'loader': 4047, 'approx': 4048, 'distribute': 4049, 'likewise': 4050, 'dc': 4051, 'penetration': 4052, 'tmob': 4053, 'oled': 4054, 'tx': 4055, 'inactive': 4056, 'reenter': 4057, 'loudi': 4058, 'mechanical': 4059, 'electrically': 4060, 'pet': 4061, 'afterwards': 4062, 'tested': 4063, 'disaster': 4064, 'factoring': 4065, 'emulator': 4066, 'freezesstuttering': 4067, 'bloatwarelowlights': 4068, 'ungainly': 4069, 'onehand': 4070, 'usageprotipsto': 4071, 'lowlights': 4072, 'textra': 4073, 'enhanced': 4074, 'helpas': 4075, 'warmth': 4076, 'blutooth': 4077, 'muddle': 4078, 'bassy': 4079, 'tastepros': 4080, 'sizepleasant': 4081, 'designfront': 4082, 'distort': 4083, 'answertalk': 4084, 'phonemicro': 4085, 'storagelong': 4086, 'batteryscreen': 4087, 'hithe': 4088, 'thatanything': 4089, 'okalcatel': 4090, 'pattern': 4091, 'loaded': 4092, 'cardthe': 4093, 'paint': 4094, 'reversibility': 4095, 'implementation': 4096, 'bat': 4097, 'ooma': 4098, 'camerawise': 4099, 'relationship': 4100, 'conscious': 4101, 'remedy': 4102, 'reminds': 4103, 'faq': 4104, 'nerd': 4105, 'annoys': 4106, 'fear': 4107, 'backside': 4108, 'flop': 4109, 'cup': 4110, 'electrical': 4111, 'bane': 4112, 'menas': 4113, 'intermittent': 4114, 'responsivei': 4115, 'qualitymy': 4116, 'backoverall': 4117, 'digitize': 4118, 'sworn': 4119, 'allover': 4120, 'emails': 4121, 'license': 4122, 'lyfte': 4123, 'airbnb': 4124, 'renewal': 4125, 'eyeopening': 4126, 'skyping': 4127, 'excel': 4128, 'relive': 4129, 'facial': 4130, 'iris': 4131, 'nowi': 4132, 'preordered': 4133, 'halfway': 4134, 'shorten': 4135, 'everthing': 4136, 'creaking': 4137, 'boombox': 4138, 'transcoding': 4139, 'littlebig': 4140, 'intel': 4141, 'justice': 4142, 'boast': 4143, 'insanely': 4144, 'customizations': 4145, 'cheapness': 4146, 'cyanogenmod': 4147, 'stands': 4148, 'nano': 4149, 'backmy': 4150, 'occur': 4151, 'lapse': 4152, 'responds': 4153, 'tmo': 4154, 'bt': 4155, 'trigger': 4156, 'videosi': 4157, 'flicker': 4158, 'armor': 4159, 'workaround': 4160, 'garner': 4161, 'conclude': 4162, 'satisfaction': 4163, 'annoying': 4164, 'picky': 4165, 'north': 4166, 'onehanded': 4167, 'itmy': 4168, 'paid': 4169, 'aforementioned': 4170, 'finding': 4171, 'mall': 4172, 'roll': 4173, 'cm': 4174, 'workout': 4175, 'coz': 4176, 'infrastructure': 4177, 'sixth': 4178, 'pressuredrops': 4179, 'garage': 4180, 'xl': 4181, 'accidently': 4182, 'installedi': 4183, 'dull': 4184, 'overnighted': 4185, 'alcatels': 4186, 'trend': 4187, 'announcement': 4188, 'hardcore': 4189, 'knowing': 4190, 'restarting': 4191, 'mvno': 4192, 'san': 4193, 'dedicate': 4194, 'imply': 4195, 'casei': 4196, 'visibly': 4197, 'brainer': 4198, 'languages': 4199, 'consumption': 4200, 'sidebyside': 4201, 'prepared': 4202, 'limitation': 4203, 'skyrocket': 4204, 'comcast': 4205, 'thrilled': 4206, 'photosensor': 4207, 'mids': 4208, 'aesthetic': 4209, 'household': 4210, 'desing': 4211, 'metalhead': 4212, 'addchange': 4213, 'popout': 4214, 'lowerpriced': 4215, 'altough': 4216, 'steer': 4217, 'as': 4218, 'lagy': 4219, 'thou': 4220, 'spoty': 4221, 'whim': 4222, 'formatted': 4223, 'exfat': 4224, 'balky': 4225, 'butter': 4226, 'perfectionist': 4227, 'gret': 4228, 'prise': 4229, 'fixable': 4230, 'outbound': 4231, 'arrives': 4232, 'itbattery': 4233, 'listed': 4234, 'pressed': 4235, 'bucksupdate': 4236, 'longevity': 4237, 'speakersthe': 4238, 'speakersi': 4239, 'bloatwareshovelware': 4240, 'capabilitythe': 4241, 'shocker': 4242, 'crank': 4243, 'demoed': 4244, 'reaction': 4245, 'whoa': 4246, 'tangle': 4247, 'objectionably': 4248, 'outall': 4249, 'fundamental': 4250, 'downi': 4251, 'cartoony': 4252, 'straightforward': 4253, 'minitues': 4254, 'sammie': 4255, 'flac': 4256, 'filesit': 4257, 'armored': 4258, 'snapshot': 4259, 'kingdom': 4260, 'unchain': 4261, 'dieddual': 4262, 'vent': 4263, 'downcoming': 4264, 'sweaty': 4265, 'storeoh': 4266, 'stapler': 4267, 'cellthe': 4268, 'triplet': 4269, 'hears': 4270, 'ontime': 4271, 'idole': 4272, 'marketit': 4273, 'handlepro': 4274, 'batterycon': 4275, 'updown': 4276, 'ig': 4277, 'aim': 4278, 'endless': 4279, 'estate': 4280, 'seehow': 4281, 'chamber': 4282, 'loudest': 4283, 'hearddisplay': 4284, 'vividthe': 4285, 'antivirusvery': 4286, 'lightweightbattery': 4287, 'decentcons': 4288, 'abysmaltap': 4289, 'itugly': 4290, 'thisnot': 4291, 'thereoverall': 4292, 'freeway': 4293, 'irritated': 4294, 'withthe': 4295, 'taskingyou': 4296, 'daybefore': 4297, 'fund': 4298, 'shoddy': 4299, 'itlet': 4300, 'rummage': 4301, 'soundwise': 4302, 'pricenow': 4303, 'sdhc': 4304, 'mechanism': 4305, 'spy': 4306, 'accurately': 4307, 'concert': 4308, 'waze': 4309, 'onoverall': 4310, 'protecter': 4311, 'preferably': 4312, 'hazy': 4313, 'awesomefor': 4314, 'hearingi': 4315, 'effectsthe': 4316, 'otathe': 4317, 'nonissues': 4318, 'fori': 4319, 'console': 4320, 'performancei': 4321, 'mineif': 4322, 'infrequently': 4323, 'twrp': 4324, 'useif': 4325, 'luke': 4326, 'utterly': 4327, 'pathetic': 4328, 'ownership': 4329, 'overcome': 4330, 'hadi': 4331, 'stifle': 4332, 'impulse': 4333, 'usefulness': 4334, 'bonusmy': 4335, 'efficiently': 4336, 'methis': 4337, 'earring': 4338, 'modded': 4339, 'uis': 4340, 'screencons': 4341, 'actuality': 4342, 'phoneoh': 4343, 'twotap': 4344, 'timeupdate': 4345, 'decides': 4346, 'upstuck': 4347, 'wordits': 4348, 'framerate': 4349, 'removeable': 4350, 'investigate': 4351, 'recieveced': 4352, 'bounce': 4353, 'pocketthe': 4354, 'daysthe': 4355, 'dropthe': 4356, 'listeningcamera': 4357, 'niceexpandable': 4358, 'thatbattery': 4359, 'dayminuses': 4360, 'marshmellow': 4361, 'boonies': 4362, 'coarse': 4363, 'kiddos': 4364, 'adolescent': 4365, 'budgetpriced': 4366, 'bootup': 4367, 'bateryjust': 4368, 'thign': 4369, 'flashkiller': 4370, 'masterfully': 4371, 'hunt': 4372, 'distinctly': 4373, 'choicewith': 4374, 'drawbacks': 4375, 'unl': 4376, 'handed': 4377, 'wakesleep': 4378, 'cluttered': 4379, 'lends': 4380, 'apprehensive': 4381, 'replaceswap': 4382, 'smatter': 4383, 'priceif': 4384, 'spill': 4385, 'huh': 4386, 'potentially': 4387, 'hdspa': 4388, 'progressively': 4389, 'zenpone': 4390, 'workday': 4391, 'fo': 4392, 'validate': 4393, 'docile': 4394, 'instrument': 4395, 'frail': 4396, 'propriatary': 4397, 'fusionbut': 4398, 'chartamazon': 4399, 'awarei': 4400, 'etr': 4401, 'government': 4402, 'obama': 4403, 'ambient': 4404, 'firstgen': 4405, 'pricey': 4406, 'oki': 4407, 'pond': 4408, 'thankyou': 4409, 'russia': 4410, 'indian': 4411, 'respectively': 4412, 'glossy': 4413, 'misprint': 4414, 'pricedetails': 4415, 'activitydid': 4416, 'horribe': 4417, 'forquite': 4418, 'sparq': 4419, 'himi': 4420, 'recharger': 4421, 'earplug': 4422, 'smartphonemy': 4423, 'syndrome': 4424, 'dumbphone': 4425, 'patent': 4426, 'dispose': 4427, 'oppose': 4428, 'rotten': 4429, 'autocorrects': 4430, 'hypersensitive': 4431, 'helpsdespite': 4432, 'personallyamazing': 4433, 'utilitarian': 4434, 'ascertain': 4435, 'hospital': 4436, 'neural': 4437, 'worthwhile': 4438, 'carolderenzo': 4439, 'yahoocom': 4440, 'refound': 4441, 'botton': 4442, 'wad': 4443, 'deployment': 4444, 'slowest': 4445, 'ywsteady': 4446, 'boh': 4447, 'shouldnt': 4448, 'institution': 4449, 'lease': 4450, 'unprofessional': 4451, 'itsometimes': 4452, 'disturb': 4453, 'cellcow': 4454, 'activated': 4455, 'chipmunk': 4456, 'rd': 4457, 'caffeine': 4458, 'lemon': 4459, 'curse': 4460, 'sadness': 4461, 'distinctive': 4462, 'fingertip': 4463, 'severe': 4464, 'tact': 4465, 'upright': 4466, 'carryhowever': 4467, 'clutz': 4468, 'sustain': 4469, 'groundif': 4470, 'seventeen': 4471, 'soooooo': 4472, 'timetable': 4473, 'defeat': 4474, 'carefullyotherwise': 4475, 'branch': 4476, 'indicatedas': 4477, 'planall': 4478, 'touched': 4479, 'swear': 4480, 'blaming': 4481, 'trendzover': 4482, 'trendz': 4483, 'unidentifiable': 4484, 'crumb': 4485, 'lodge': 4486, 'crevice': 4487, 'ricegood': 4488, 'bout': 4489, 'dinner': 4490, 'lmao': 4491, 'tot': 4492, 'energysaving': 4493, 'disatisfied': 4494, 'bobcat': 4495, 'dude': 4496, 'restraint': 4497, 'handful': 4498, 'filed': 4499, 'gizmotraders': 4500, 'alexis': 4501, 'wednesday': 4502, 'buttonthe': 4503, 'techarmor': 4504, 'commuterit': 4505, 'shouldthe': 4506, 'jailbreakingclean': 4507, 'lift': 4508, 'january': 4509, 'patiently': 4510, 'plum': 4511, 'longtime': 4512, 'ha': 4513, 'owned': 4514, 'repairable': 4515, 'doorstep': 4516, 'restock': 4517, 'shelf': 4518, 'longrun': 4519, 'immediate': 4520, 'kindness': 4521, 'refurbisher': 4522, 'cosmetically': 4523, 'carpeted': 4524, 'ft': 4525, 'kink': 4526, 'companion': 4527, 'elseit': 4528, 'belkin': 4529, 'drey': 4530, 'gross': 4531, 'ascree': 4532, 'scrap': 4533, 'veroson': 4534, 'dictation': 4535, 'thankyiu': 4536, 'performed': 4537, 'mispelled': 4538, 'spankin': 4539, 'stat': 4540, 'messed': 4541, 'butten': 4542, 'uo': 4543, 'teh': 4544, 'worcester': 4545, 'wore': 4546, 'scren': 4547, 'anyonecan': 4548, 'gime': 4549, 'orginal': 4550, 'storewhen': 4551, 'tryin': 4552, 'batteryi': 4553, 'forgotten': 4554, 'appsso': 4555, 'incompetent': 4556, 'arived': 4557, 'earlyer': 4558, 'locker': 4559, 'fuctional': 4560, 'lifeproof': 4561, 'rubbery': 4562, 'freinds': 4563, 'deliverythank': 4564, 'carpet': 4565, 'goin': 4566, 'hotel': 4567, 'bk': 4568, 'attached': 4569, 'todayafter': 4570, 'happenedallan': 4571, 'matamoros': 4572, 'unpleased': 4573, 'faint': 4574, 'crusty': 4575, 'cautious': 4576, 'obsess': 4577, 'shyly': 4578, 'supple': 4579, 'installment': 4580, 'gosh': 4581, 'okit': 4582, 'glitches': 4583, 'geting': 4584, 'fearful': 4585, 'fari': 4586, 'deduct': 4587, 'liftingseparating': 4588, 'clay': 4589, 'lint': 4590, 'grad': 4591, 'smhi': 4592, 'hv': 4593, 'mobilei': 4594, 'battle': 4595, 'thisissue': 4596, 'aboutwhat': 4597, 'outthey': 4598, 'phonethen': 4599, 'insertedtheir': 4600, 'andeven': 4601, 'tomanufacture': 4602, 'kmd': 4603, 'caution': 4604, 'daughtershe': 4605, 'itnor': 4606, 'annointed': 4607, 'subscriber': 4608, 'chargernot': 4609, 'informed': 4610, 'delivered': 4611, 'packed': 4612, 'upgrading': 4613, 'cobdition': 4614, 'buyspry': 4615, 'hunalfi': 4616, 'gmailcom': 4617, 'adress': 4618, 'reveal': 4619, 'retinal': 4620, 'upgrades': 4621, 'convertible': 4622, 'highspeed': 4623, 'lynksys': 4624, 'thruput': 4625, 'th': 4626, 'thatcame': 4627, 'brown': 4628, 'cellophane': 4629, 'musicif': 4630, 'encourage': 4631, 'refurbed': 4632, 'minibluetekusa': 4633, 'wherever': 4634, 'heating': 4635, 'singapore': 4636, 'minithis': 4637, 'phonesized': 4638, 'ripping': 4639, 'grocery': 4640, 'supremely': 4641, 'apologized': 4642, 'devilery': 4643, 'precio': 4644, 'rapido': 4645, 'envio': 4646, 'servicio': 4647, 'adecuado': 4648, 'grande': 4649, 'si': 4650, 'pequeño': 4651, 'comunicacion': 4652, 'informacion': 4653, 'del': 4654, 'articulo': 4655, 'godblessxoxo': 4656, 'expense': 4657, 'dirty': 4658, 'euro': 4659, 'utter': 4660, 'dry': 4661, 'andneverworked': 4662, 'sloowe': 4663, 'irup': 4664, 'iteventually': 4665, 'approve': 4666, 'purchsed': 4667, 'ole': 4668, 'mannerut': 4669, 'whaiting': 4670, 'unblocking': 4671, 'decoration': 4672, 'prepreprevious': 4673, 'notion': 4674, 'sonyericsson': 4675, 'avid': 4676, 'greatgrandfather': 4677, 'somersault': 4678, 'reservation': 4679, 'manufactured': 4680, 'silenceloud': 4681, 'generous': 4682, 'whit': 4683, 'iphonethe': 4684, 'moter': 4685, 'fixex': 4686, 'wirth': 4687, 'mart': 4688, 'itune': 4689, 'cannnot': 4690, 'informs': 4691, 'overwritting': 4692, 'socalled': 4693, 'reimburse': 4694, 'vansh': 4695, 'fatoryrsetting': 4696, 'mandte': 4697, 'mssgae': 4698, 'unableto': 4699, 'cruical': 4700, 'persona': 4701, 'dat': 4702, 'feeing': 4703, 'fromps': 4704, 'yeari': 4705, 'woullike': 4706, 'canyou': 4707, 'faceplate': 4708, 'celphone': 4709, 'hotmailcom': 4710, 'technitian': 4711, 'assertive': 4712, 'paperwork': 4713, 'inconveniencei': 4714, 'thanksbye': 4715, 'helloi': 4716, 'similari': 4717, 'crcks': 4718, 'damagesso': 4719, 'nicley': 4720, 'wasthanks': 4721, 'excelentes': 4722, 'recomendados': 4723, 'paqueyte': 4724, 'establecido': 4725, 'estadoel': 4726, 'trabaja': 4727, 'perfecta': 4728, 'mente': 4729, 'contento': 4730, 'compra': 4731, 'semtember': 4732, 'vere': 4733, 'setisfied': 4734, 'arrange': 4735, 'namely': 4736, 'attrition': 4737, 'specious': 4738, 'stink': 4739, 'estillado': 4740, 'sulphate': 4741, 'quisera': 4742, 'lost': 4743, 'disappoited': 4744, 'unfamiliar': 4745, 'usernames': 4746, 'unsuccessfullydo': 4747, 'noncontract': 4748, 'ives': 4749, 'accuracy': 4750, 'recondition': 4751, 'consisted': 4752, 'jewel': 4753, 'bday': 4754, 'halflife': 4755, 'cortex': 4756, 'datayou': 4757, 'connectivitythe': 4758, 'officially': 4759, 'criticism': 4760, 'atrix': 4761, 'stroke': 4762, 'www': 4763, 'categorize': 4764, 'yahoo': 4765, 'cheapfree': 4766, 'ultimate': 4767, 'snicker': 4768, 'scratched': 4769, 'semi': 4770, 'audiobook': 4771, 'classroom': 4772, 'bucksyes': 4773, 'shapeespecially': 4774, 'futurei': 4775, 'timeyou': 4776, 'dataoverall': 4777, 'happyto': 4778, 'itouch': 4779, 'disspointment': 4780, 'sideways': 4781, 'conditionsprice': 4782, 'earphonesphone': 4783, 'functionally': 4784, 'fishy': 4785, 'acivate': 4786, 'stone': 4787, 'noke': 4788, 'labeli': 4789, 'reminder': 4790, 'om': 4791, 'grreat': 4792, 'woould': 4793, 'grandchild': 4794, 'shutsdown': 4795, 'seri': 4796, 'brokencomplete': 4797, 'lieit': 4798, 'grossley': 4799, 'misrepresent': 4800, 'retired': 4801, 'thereit': 4802, 'spouse': 4803, 'su': 4804, 'accesorios': 4805, 'originales': 4806, 'adicional': 4807, 'logica': 4808, 'queda': 4809, 'blanco': 4810, 'tengo': 4811, 'pisapapelesproduct': 4812, 'wharehouse': 4813, 'posdo': 4814, 'buytotal': 4815, 'junkdoes': 4816, 'twenty': 4817, 'minutesfront': 4818, 'unresponsivetotal': 4819, 'bettter': 4820, 'intrest': 4821, 'doubtmanny': 4822, 'depina': 4823, 'ctphone': 4824, 'jobashley': 4825, 'userthank': 4826, 'tracking': 4827, 'apologetic': 4828, 'themwarning': 4829, 'vanish': 4830, 'classified': 4831, 'unblock': 4832, 'doalmost': 4833, 'automatially': 4834, 'minut': 4835, 'mountain': 4836, 'southeastern': 4837, 'oklahoma': 4838, 'jprotectors': 4839, 'heed': 4840, 'doesntupdate': 4841, 'gunk': 4842, 'commend': 4843, 'yhis': 4844, 'jammed': 4845, 'boxy': 4846, 'bayshine': 4847, 'trading': 4848, 'redelivering': 4849, 'ought': 4850, 'selling': 4851, 'bootrom': 4852, 'untethered': 4853, 'worksfunctions': 4854, 'minimally': 4855, 'macbuttons': 4856, 'batteryonly': 4857, 'ringermute': 4858, 'indifferent': 4859, 'muteringer': 4860, 'butit': 4861, 'thebattery': 4862, 'stretched': 4863, 'randomlyalso': 4864, 'ffrom': 4865, 'aand': 4866, 'dollarsworth': 4867, 'friendsmy': 4868, 'enought': 4869, 'recommand': 4870, 'thephone': 4871, 'happend': 4872, 'answersisinserly': 4873, 'levani': 4874, 'draweruseless': 4875, 'thoughtwe': 4876, 'substantial': 4877, 'convinience': 4878, 'favorites': 4879, 'bible': 4880, 'devotional': 4881, 'calorie': 4882, 'gpsmy': 4883, 'coverotherwise': 4884, 'starsby': 4885, 'puerto': 4886, 'rico': 4887, 'tester': 4888, 'detach': 4889, 'fadebuenos': 4890, 'días': 4891, 'presente': 4892, 'mensaje': 4893, 'informar': 4894, 'promocionaban': 4895, 'llegó': 4896, 'despegada': 4897, 'raya': 4898, 'líquido': 4899, 'centro': 4900, 'aparte': 4901, 'eso': 4902, 'dispositivo': 4903, 'luego': 4904, 'minutos': 4905, 'uso': 4906, 'tenerlo': 4907, 'conectado': 4908, 'cargador': 4909, 'apague': 4910, 'appgame': 4911, 'worthlessi': 4912, 'arei': 4913, 'datacenter': 4914, 'thisfirst': 4915, 'anythingit': 4916, 'usedof': 4917, 'seenwith': 4918, 'resold': 4919, 'goodgreat': 4920, 'este': 4921, 'vendedor': 4922, 'reconstruidos': 4923, 'mio': 4924, 'problemas': 4925, 'estoy': 4926, 'dificil': 4927, 'repare': 4928, 'daño': 4929, 'moreit': 4930, 'imposibletodo': 4931, 'imposible': 4932, 'discribe': 4933, 'perfecti': 4934, 'istore': 4935, 'inut': 4936, 'fyi': 4937, 'unlockedworks': 4938, 'brazili': 4939, 'allapple': 4940, 'shari': 4941, 'deconectarlo': 4942, 'ud': 4943, 'goodpoor': 4944, 'lour': 4945, 'displayless': 4946, 'getgo': 4947, 'sensation': 4948, 'wayy': 4949, 'unfair': 4950, 'wet': 4951, 'reviewhowever': 4952, 'timessome': 4953, 'bummerthe': 4954, 'annoyingthe': 4955, 'essential': 4956, 'userthe': 4957, 'brochure': 4958, 'refundit': 4959, 'paperweightdo': 4960, 'flipping': 4961, 'coin': 4962, 'phonefired': 4963, 'boxing': 4964, 'newhowever': 4965, 'chargehad': 4966, 'chargeroverall': 4967, 'chew': 4968, 'unlockedcellphonekings': 4969, 'neweverything': 4970, 'includedread': 4971, 'devicesknow': 4972, 'furbished': 4973, 'adequately': 4974, 'tempt': 4975, 'fiancée': 4976, 'instuctions': 4977, 'salesman': 4978, 'properlywhat': 4979, 'thanksmiroel': 4980, 'bucket': 4981, 'estimated': 4982, 'instruct': 4983, 'orjust': 4984, 'desparately': 4985, 'laugh': 4986, 'constrain': 4987, 'untruthful': 4988, 'sellerthe': 4989, 'nothingcontact': 4990, 'dirtdo': 4991, 'mere': 4992, 'headacheone': 4993, 'businessthe': 4994, 'understanding': 4995, 'backbuyer': 4996, 'itemit': 4997, 'manor': 4998, 'pricy': 4999, 'sellerphone': 5000, 'amzn': 5001, 'occurs': 5002, 'radicallywith': 5003, 'met': 5004, 'chubbiestech': 5005, 'gpsa': 5006, 'volkswagen': 5007, 'voxox': 5008, 'claro': 5009, 'planet': 5010, 'pantach': 5011, 'revue': 5012, 'againthaanks': 5013, 'longso': 5014, 'itmoney': 5015, 'epic': 5016, 'reilluminate': 5017, 'fiance': 5018, 'fullly': 5019, 'functionali': 5020, 'mailing': 5021, 'confirmation': 5022, 'managment': 5023, 'prosbeautiful': 5024, 'comfy': 5025, 'gamesconsno': 5026, 'videosbut': 5027, 'chubbietech': 5028, 'replacementit': 5029, 'idiom': 5030, 'arabian': 5031, 'beating': 5032, 'gooddd': 5033, 'privilege': 5034, 'siteapplication': 5035, 'spartan': 5036, 'onscreen': 5037, 'thorough': 5038, 'broadcast': 5039, 'buttonmouse': 5040, 'trap': 5041, 'somthing': 5042, 'janfeb': 5043, 'phonessecond': 5044, 'touchscreens': 5045, 'decibel': 5046, 'db': 5047, 'xpress': 5048, 'sucky': 5049, 'sns': 5050, 'phonemy': 5051, 'rds': 5052, 'withedit': 5053, 'gino': 5054, 'qwertydependabletraditional': 5055, 'menusnot': 5056, 'phonesdurableeasy': 5057, 'solidlybuilt': 5058, 'bads': 5059, 'refarmed': 5060, 'bandthe': 5061, 'char': 5062, 'symbols': 5063, 'websurfing': 5064, 'dpad': 5065, 'reassign': 5066, 'league': 5067, 'compramos': 5068, 'teléfonos': 5069, 'vienieron': 5070, 'totalente': 5071, 'diferentes': 5072, 'uno': 5073, 'batería': 5074, 'descarga': 5075, 'inmediato': 5076, 'otro': 5077, 'teléfono': 5078, 'sin': 5079, 'memoria': 5080, 'los': 5081, 'teclados': 5082, 'cargadores': 5083, 'distintosmi': 5084, 'tía': 5085, 'sentimos': 5086, 'engañadas': 5087, 'defraudadas': 5088, 'incorporate': 5089, 'procto': 5090, 'compre': 5091, 'llevo': 5092, 'momento': 5093, 'indicado': 5094, 'envalaje': 5095, 'sastifactoriamente': 5096, 'primarily': 5097, 'united': 5098, 'referenced': 5099, 'reviewpros': 5100, 'eseries': 5101, 'adequatecons': 5102, 'snaptu': 5103, 'rename': 5104, 'nokiaovi': 5105, 'readjust': 5106, 'updating': 5107, 'facebooktwitter': 5108, 'becuase': 5109, 'sloppy': 5110, 'advanced': 5111, 'missedreceived': 5112, 'wider': 5113, 'lycamobile': 5114, 'mistyping': 5115, 'espectially': 5116, 'economic': 5117, 'receiverecommend': 5118, 'nokiacom': 5119, 'inquiry': 5120, 'networking': 5121, 'etcbackup': 5122, 'donei': 5123, 'planand': 5124, 'recreational': 5125, 'choicethe': 5126, 'monthsthis': 5127, 'hong': 5128, 'kong': 5129, 'boycott': 5130, 'mum': 5131, 'splaniish': 5132, 'heavycons': 5133, 'microusb': 5134, 'pretend': 5135, 'visualiser': 5136, 'minumal': 5137, 'insists': 5138, 'crackpipe': 5139, 'constanly': 5140, 'endrun': 5141, 'cat': 5142, 'avianna': 5143, 'llc': 5144, 'andrew': 5145, 'stayed': 5146, 'arises': 5147, 'expectingthank': 5148, 'modelsthere': 5149, 'namebrand': 5150, 'weighty': 5151, 'susceptible': 5152, 'prefitted': 5153, 'noname': 5154, 'unlikely': 5155, 'suchhowever': 5156, 'soc': 5157, 'regretting': 5158, 'hammer': 5159, 'ditch': 5160, 'boon': 5161, 'hog': 5162, 'sero': 5163, 'venerable': 5164, 'tegra': 5165, 'totl': 5166, 'measly': 5167, 'autistic': 5168, 'talkthe': 5169, 'pencil': 5170, 'exelentes': 5171, 'lenguaje': 5172, 'criollo': 5173, 'verdaderas': 5174, 'nave': 5175, 'wantand': 5176, 'lockscreen': 5177, 'buyreception': 5178, 'networkbacklighting': 5179, 'uneven': 5180, 'phoneuser': 5181, 'wayi': 5182, 'bouht': 5183, 'macular': 5184, 'degeneration': 5185, 'nontmobile': 5186, 'cryptic': 5187, 'stokes': 5188, 'capitalize': 5189, 'labour': 5190, 'crispy': 5191, 'deviceit': 5192, 'plausible': 5193, 'partner': 5194, 'frustrates': 5195, 'steep': 5196, 'knowledgeable': 5197, 'simpler': 5198, 'elder': 5199, 'godsend': 5200, 'cheerful': 5201, 'endi': 5202, 'minimalist': 5203, 'emerald': 5204, 'alarmsringtoneswhat': 5205, 'txts': 5206, 'footage': 5207, 'keypada': 5208, 'wally': 5209, 'veto': 5210, 'aunt': 5211, 'housethis': 5212, 'minisimi': 5213, 'simi': 5214, 'ken': 5215, 'farsighted': 5216, 'glassesbut': 5217, 'adventurous': 5218, 'biking': 5219, 'motorcycle': 5220, 'glide': 5221, 'scuba': 5222, 'risky': 5223, 'adventure': 5224, 'breakdown': 5225, 'injury': 5226, 'dialing': 5227, 'phonejethro': 5228, 'minutesso': 5229, 'glove': 5230, 'biggie': 5231, 'granny': 5232, 'reminiscent': 5233, 'cordless': 5234, 'familiarize': 5235, 'accommodate': 5236, 'feed': 5237, 'asterisk': 5238, 'aarp': 5239, 'reviewssome': 5240, 'directional': 5241, 'technologyanother': 5242, 'hrthe': 5243, 'simplify': 5244, 'navigatethe': 5245, 'cardon': 5246, 'alarmwhen': 5247, 'picking': 5248, 'abysmal': 5249, 'disgrace': 5250, 'tiem': 5251, 'spam': 5252, 'backlit': 5253, 'gsmfor': 5254, 'phonesgood': 5255, 'choosing': 5256, 'misplace': 5257, 'thingsi': 5258, 'giv': 5259, 'accounta': 5260, 'fireware': 5261, 'iwirless': 5262, 'cyrillic': 5263, 'surprize': 5264, 'looks': 5265, 'offnot': 5266, 'snapfoncons': 5267, 'phased': 5268, 'nut': 5269, 'fcc': 5270, 'nstalled': 5271, 'docking': 5272, 'blind': 5273, 'unlocks': 5274, 'altogetherif': 5275, 'sequence': 5276, 'dexterity': 5277, 'featureon': 5278, 'verizononly': 5279, 'utton': 5280, 'qccidetly': 5281, 'miserable': 5282, 'chinglish': 5283, 'guidethen': 5284, 'icound': 5285, 'jitterbug': 5286, 'interference': 5287, 'kitty': 5288, 'decipher': 5289, 'gravely': 5290, 'southern': 5291, 'epassion': 5292, 'existent': 5293, 'mandarin': 5294, 'downland': 5295, 'handsi': 5296, 'snaps': 5297, 'starall': 5298, 'tankbag': 5299, 'motorbike': 5300, 'mouse': 5301, 'vnc': 5302, 'accomodate': 5303, 'phoneother': 5304, 'intimidate': 5305, 'indigi': 5306, 'workin': 5307, 'hvac': 5308, 'leather': 5309, 'thick': 5310, 'thesis': 5311, 'snapped': 5312, 'functioner': 5313, 'thrown': 5314, 'heroic': 5315, 'wasneeds': 5316, 'west': 5317, 'indie': 5318, 'onbattery': 5319, 'deadis': 5320, 'cuzin': 5321, 'unboxing': 5322, 'indentation': 5323, 'alreadyok': 5324, 'drill': 5325, 'gauge': 5326, 'pry': 5327, 'unlesss': 5328, 'flasshed': 5329, 'math': 5330, 'ipromobilehk': 5331, 'null': 5332, 'desktopthing': 5333, 'boo': 5334, '语言': 5335, 'sucker': 5336, 'dao': 5337, 'definately': 5338, 'highdollar': 5339, 'screwdriver': 5340, 'touching': 5341, 'theme': 5342, 'extent': 5343, 'matchs': 5344, 'humanoriented': 5345, 'conciseness': 5346, 'simplification': 5347, 'integrates': 5348, 'impressively': 5349, 'slowcamera': 5350, 'pity': 5351, 'suburb': 5352, 'theinterface': 5353, 'appps': 5354, 'sh': 5355, 'ttt': 5356, 'pour': 5357, 'leaste': 5358, 'stufff': 5359, 'introductory': 5360, 'hace': 5361, 'muchos': 5362, 'shy': 5363, 'qualty': 5364, 'blaze': 5365, 'fatlet': 5366, 'mgp': 5367, 'okcomo': 5368, 'rightconsthe': 5369, 'badstill': 5370, 'andoid': 5371, 'aggravation': 5372, 'langs': 5373, 'dissappointed': 5374, 'interchange': 5375, 'anywaywhat': 5376, 'picturevideo': 5377, 'construction': 5378, 'productpackage': 5379, 'earphonei': 5380, 'compensation': 5381, 'pocketfriendly': 5382, 'countryone': 5383, 'forthis': 5384, 'placestalking': 5385, 'freediscounted': 5386, 'promotional': 5387, 'ass': 5388, 'taking': 5389, 'vender': 5390, 'welli': 5391, 'chargesthis': 5392, 'ofcourse': 5393, 'worksand': 5394, 'junning': 5395, 'blush': 5396, 'lash': 5397, 'foundation': 5398, 'pricediscleamer': 5399, 'etcunfortunately': 5400, 'cardall': 5401, 'phonedisclaimer': 5402, 'goldthe': 5403, 'unlockedthe': 5404, 'usbport': 5405, 'earphonesuser': 5406, 'manualclear': 5407, 'casea': 5408, 'protectionscratch': 5409, 'commonly': 5410, 'netflixcamera': 5411, 'clearlybattery': 5412, 'networkingbut': 5413, 'batterysize': 5414, 'sleekif': 5415, 'wellover': 5416, 'enormously': 5417, 'overseasi': 5418, 'wellgot': 5419, 'needle': 5420, 'botheru': 5421, 'internetdata': 5422, 'recipient': 5423, 'pornovirus': 5424, 'kepeeng': 5425, 'noone': 5426, 'lenovos': 5427, 'guindaban': 5428, 'reteaban': 5429, 'vendendor': 5430, 'respectwaiting': 5431, 'actionsince': 5432, 'yomikoo': 5433, 'eulises': 5434, 'peña': 5435, 'nic': 5436, 'heaven': 5437, 'completly': 5438, 'resefed': 5439, 'greeting': 5440, 'manuel': 5441, 'writing': 5442, 'lingerd': 5443, 'briefly': 5444, 'gpsalso': 5445, 'glitchey': 5446, 'pagesi': 5447, 'broad': 5448, 'censorship': 5449, 'technologically': 5450, 'acquire': 5451, 'profecionales': 5452, 'lawyer': 5453, 'kernel': 5454, 'penta': 5455, 'mvnos': 5456, 'disband': 5457, 'todays': 5458, 'usagood': 5459, 'allnote': 5460, 'axoing': 5461, 'apluselek': 5462, 'ordermy': 5463, 'holy': 5464, 'admirethe': 5465, 'ips': 5466, 'aprox': 5467, 'kepler': 5468, 'nasa': 5469, 'hehehehe': 5470, 'powerhouse': 5471, 'phat': 5472, 'rhyme': 5473, 'rightthe': 5474, 'durrrrr': 5475, 'strollingthe': 5476, 'adapterabout': 5477, 'approximate': 5478, 'manages': 5479, 'itok': 5480, 'easyinside': 5481, 'sweat': 5482, 'lord': 5483, 'hehehethis': 5484, 'usefulwhy': 5485, 'continuous': 5486, 'camerathis': 5487, 'multimedia': 5488, 'silk': 5489, 'anomaly': 5490, 'coolit': 5491, 'translates': 5492, 'possiblein': 5493, 'microphonethe': 5494, 'darkness': 5495, 'nothingok': 5496, 'softwarefirst': 5497, 'precisely': 5498, 'whatevs': 5499, 'giggle': 5500, 'okthe': 5501, 'xiaomijie': 5502, 'linerty': 5503, 'bollocksanyways': 5504, 'integration': 5505, 'nothis': 5506, 'excellently': 5507, 'sheer': 5508, 'awesomeness': 5509, 'midend': 5510, 'phoneand': 5511, 'rumpabout': 5512, 'caseat': 5513, 'unicom': 5514, 'scary': 5515, 'yikes': 5516, 'languagesimply': 5517, 'shadowbattery': 5518, 'iridescent': 5519, 'directionthanking': 5520, 'goodbyegaudys': 5521, 'fermin': 5522, 'definetely': 5523, 'expectedthe': 5524, 'goodbut': 5525, 'falla': 5526, 'hedge': 5527, 'tel': 5528, 'tlf': 5529, 'recognizable': 5530, 'sastifecho': 5531, 'congratulection': 5532, 'uff': 5533, 'friendplan': 5534, 'retard': 5535, 'superuser': 5536, 'otg': 5537, 'unknown': 5538, 'reasonpros': 5539, 'temp': 5540, 'phonevery': 5541, 'odlican': 5542, 'telefon': 5543, 'usluga': 5544, 'numberresponsibility': 5545, 'digi': 5546, 'adapterso': 5547, 'reviewanyone': 5548, 'marvelously': 5549, 'screennetwork': 5550, 'digimobil': 5551, 'wifiin': 5552, 'wifithis': 5553, 'mediumlow': 5554, 'toypleas': 5555, 'fash': 5556, 'excelete': 5557, 'crush': 5558, 'merge': 5559, 'pritectors': 5560, 'lab': 5561, 'incuna': 5562, 'decepción': 5563, 'viene': 5564, 'solo': 5565, 'chino': 5566, 'ingles': 5567, 'español': 5568, 'peor': 5569, 'instalado': 5570, 'bajarlo': 5571, 'permite': 5572, 'ejecutar': 5573, 'ninguna': 5574, 'otra': 5575, 'rica': 5576, 'surprisely': 5577, 'grateful': 5578, 'onevery': 5579, 'describedthe': 5580, 'neflix': 5581, 'cosinadas': 5582, 'versatility': 5583, 'everesearched': 5584, 'beanpros': 5585, 'nowneed': 5586, 'shippingyeah': 5587, 'flashing': 5588, 'ample': 5589, 'gameing': 5590, 'tobottom': 5591, 'chinaenglish': 5592, 'lettersthe': 5593, 'protectorgood': 5594, 'problemperfect': 5595, 'seniorsgoogle': 5596, 'problemonly': 5597, 'seldom': 5598, 'settingsi': 5599, 'germany': 5600, 'finedeclared': 5601, 'pseudo': 5602, 'rootable': 5603, 'searchperfect': 5604, 'lightonlines': 5605, 'appdue': 5606, 'deviceprospective': 5607, 'lagging': 5608, 'usefeels': 5609, 'expectedfor': 5610, 'finishing': 5611, 'samcung': 5612, 'openbut': 5613, 'vendi': 5614, 'configured': 5615, 'timeclock': 5616, 'accompany': 5617, 'speakenglish': 5618, 'technique': 5619, 'survise': 5620, 'itemyour': 5621, 'statsno': 5622, 'rank': 5623, 'hereproduct': 5624, 'imagerca': 5625, 'deivis': 5626, 'rosstaverified': 5627, 'rca': 5628, 'recommendsee': 5629, 'sitereview': 5630, 'becareful': 5631, 'exlusively': 5632, 'asian': 5633, 'pd': 5634, 'quility': 5635, 'mat': 5636, 'regrettably': 5637, 'prodcuto': 5638, 'allright': 5639, 'sexy': 5640, 'confusing': 5641, 'antitapping': 5642, 'consideration': 5643, 'execelente': 5644, 'cnworld': 5645, 'extremmly': 5646, 'finnaly': 5647, 'factoryrefurb': 5648, 'witch': 5649, 'initializes': 5650, 'ifwhen': 5651, 'initialize': 5652, 'consequence': 5653, 'bookmark': 5654, 'loven': 5655, 'sty': 5656, 'iffy': 5657, 'turnt': 5658, 'dive': 5659, 'pnone': 5660, 'trojan': 5661, 'coould': 5662, 'compatable': 5663, 'locke': 5664, 'jessicayou': 5665, 'driectly': 5666, 'prevents': 5667, 'coat': 5668, 'carolyn': 5669, 'ensley': 5670, 'pacage': 5671, 'whitout': 5672, 'buggie': 5673, 'addswont': 5674, 'internetturns': 5675, 'selfand': 5676, 'norcalls': 5677, 'includewhy': 5678, 'thur': 5679, 'moble': 5680, 'known': 5681, 'pissed': 5682, 'accessible': 5683, 'tooo': 5684, 'noti': 5685, 'coundnt': 5686, 'outof': 5687, 'oder': 5688, 'xmas': 5689, 'deeply': 5690, 'toast': 5691, 'exspected': 5692, 'messager': 5693, 'unsatisfied': 5694, 'programming': 5695, 'acceptsee': 5696, 'picturesvideo': 5697, 'apollo': 5698, 'mission': 5699, 'moon': 5700, 'wih': 5701, 'sends': 5702, 'dowhen': 5703, 'thatread': 5704, 'peoplegood': 5705, 'recomand': 5706, 'lockup': 5707, 'east': 5708, 'stressful': 5709, 'latelove': 5710, 'simcardpictures': 5711, 'clearcellphone': 5712, 'greathigh': 5713, 'resolutionyou': 5714, 'samsungthe': 5715, 'trydisclamer': 5716, 'tethering': 5717, 'preset': 5718, 'dayi': 5719, 'pandorathe': 5720, 'chargei': 5721, 'flashlightpictures': 5722, 'appca': 5723, 'calculater': 5724, 'moneythis': 5725, 'memoryoverall': 5726, 'percect': 5727, 'lense': 5728, 'diffrent': 5729, 'becouse': 5730, 'phillippines': 5731, 'thier': 5732, 'reccomend': 5733, 'phoneheres': 5734, 'phonecellphone': 5735, 'lollipopcpu': 5736, 'networkplease': 5737, 'unlockedstyle': 5738, 'barcolor': 5739, 'whiteos': 5740, 'tft': 5741, 'pixelsdata': 5742, 'usbbluetoothmobile': 5743, 'wapwificamerapicture': 5744, 'cameratv': 5745, 'nogps': 5746, 'nojava': 5747, 'nowifi': 5748, 'bgnbluetooth': 5749, 'yesmultitouch': 5750, 'yesother': 5751, 'etcpackage': 5752, 'earphonefor': 5753, 'impresive': 5754, 'goldsize': 5755, 'chargerusb': 5756, 'casing': 5757, 'editor': 5758, 'holla': 5759, 'beautify': 5760, 'roaming': 5761, 'phthe': 5762, 'selfiespictures': 5763, 'problemoverall': 5764, 'kindpurchased': 5765, 'phonepictures': 5766, 'thembefore': 5767, 'luxury': 5768, 'qualityphone': 5769, 'thegsmwcdma': 5770, 'buildquality': 5771, 'reviewi': 5772, 'againcellphone': 5773, 'switches': 5774, 'pronto': 5775, 'phonehowever': 5776, 'pressedsome': 5777, 'undecided': 5778, 'breathe': 5779, 'financially': 5780, 'microsdhc': 5781, 'worki': 5782, 'forthe': 5783, 'deceive': 5784, 'bot': 5785, 'ope': 5786, 'agout': 5787, 'fidnt': 5788, 'slotd': 5789, 'didint': 5790, 'hmm': 5791, 'yrs': 5792, 'thuovit': 5793, 'positively': 5794, 'ands': 5795, 'ffreeze': 5796, 'alsoi': 5797, 'excillent': 5798, 'firstthe': 5799, 'epecting': 5800, 'gnashing': 5801, 'teeth': 5802, 'pefect': 5803, 'isitem': 5804, 'ebaycom': 5805, 'waiting': 5806, 'yoyo': 5807, 'lolbuy': 5808, 'herethere': 5809, 'defer': 5810, 'polaris': 5811, 'flawlesslyon': 5812, 'courseoverall': 5813, 'tweaking': 5814, 'copper': 5815, 'kiss': 5816, 'spacer': 5817, 'foil': 5818, 'corrects': 5819, 'suspiciously': 5820, 'unchargeable': 5821, 'umpteen': 5822, 'deletion': 5823, 'exit': 5824, 'mobileuncle': 5825, 'localization': 5826, 'documentstogo': 5827, 'dropbox': 5828, 'recommendthis': 5829, 'toooo': 5830, 'sloooow': 5831, 'asks': 5832, 'timeeverything': 5833, 'pixals': 5834, 'peice': 5835, 'stayes': 5836, 'outstopped': 5837, 'wat': 5838, 'wacked': 5839, 'sticking': 5840, 'gms': 5841, 'sears': 5842, 'headline': 5843, 'ow': 5844, 'verison': 5845, 'soninlaw': 5846, 'blackberrys': 5847, 'recevied': 5848, 'trackball': 5849, 'workingwithout': 5850, 'newmy': 5851, 'obervations': 5852, 'berunnin': 5853, 'itdelivery': 5854, 'alittle': 5855, 'hilarious': 5856, 'levelsthe': 5857, 'friendlythe': 5858, 'siiithe': 5859, 'illuminate': 5860, 'trisim': 5861, 'rim': 5862, 'rudeness': 5863, 'carelessly': 5864, 'dinking': 5865, 'fullsize': 5866, 'nail': 5867, 'coffin': 5868, 'slipperier': 5869, 'lumen': 5870, 'manure': 5871, 'babysitting': 5872, 'minicomputer': 5873, 'farther': 5874, 'itsn': 5875, 'powerfull': 5876, 'thinkwas': 5877, 'lasting': 5878, 'acurate': 5879, 'recomoned': 5880, 'advertized': 5881, 'emily': 5882, 'serviceconcern': 5883, 'initiate': 5884, 'rectify': 5885, 'dave': 5886, 'rootingphone': 5887, 'nationwide': 5888, 'phoneat': 5889, 'phoneworks': 5890, 'repúblic': 5891, 'movistartelefonica': 5892, 'incdredible': 5893, 'tour': 5894, 'carrieri': 5895, 'santo': 5896, 'domingo': 5897, 'beatufull': 5898, 'protestant': 5899, 'puntuales': 5900, 'responsables': 5901, 'repairreturn': 5902, 'crappybut': 5903, 'predecessor': 5904, 'relies': 5905, 'cpuram': 5906, 'guato': 5907, 'youit': 5908, 'juat': 5909, 'bananaspulling': 5910, 'preview': 5911, 'settingsspeakers': 5912, 'drops': 5913, 'stuffless': 5914, 'hangouts': 5915, 'adobe': 5916, 'youtubedesign': 5917, 'lookingpros': 5918, 'medouble': 5919, 'laying': 5920, 'buttondo': 5921, 'settingsif': 5922, 'niceyou': 5923, 'winmeh': 5924, 'nextcamera': 5925, 'acceptableoption': 5926, 'oober': 5927, 'lazyclumsy': 5928, 'youpower': 5929, 'okayquick': 5930, 'etccon': 5931, 'applesamsunglacks': 5932, 'samsungthere': 5933, 'ondesign': 5934, 'correlation': 5935, 'corrolate': 5936, 'chinaa': 5937, 'batterybottom': 5938, 'smallerhave': 5939, 'stampabout': 5940, 'backward': 5941, 'tooall': 5942, 'wks': 5943, 'monthi': 5944, 'resetfast': 5945, 'itfast': 5946, 'chalk': 5947, 'useit': 5948, 'shove': 5949, 'weary': 5950, 'proactive': 5951, 'infomaybe': 5952, 'prossmooth': 5953, 'performanceall': 5954, 'lifeexcellent': 5955, 'qualitygood': 5956, 'screennfc': 5957, 'cameramicrosd': 5958, 'expansionconsawkward': 5959, 'placementsqueaky': 5960, 'motorupdates': 5961, 'guaranteedno': 5962, 'glassshould': 5963, 'yesactual': 5964, 'itdesignthis': 5965, 'grill': 5966, 'sparkle': 5967, 'priceperformanceif': 5968, 'lineup': 5969, 'suspend': 5970, 'asphalt': 5971, 'pasadena': 5972, 'phonedisplaythe': 5973, 'calibration': 5974, 'displace': 5975, 'oncamerathe': 5976, 'backfacing': 5977, 'exmor': 5978, 'absorbing': 5979, 'overflow': 5980, 'eis': 5981, 'memorable': 5982, 'lightsoftwarethis': 5983, 'underrated': 5984, 'hung': 5985, 'fixedconclusioni': 5986, 'dslrlike': 5987, 'innersleeve': 5988, 'journey': 5989, 'devicefirst': 5990, 'eliminates': 5991, 'fuss': 5992, 'checkclear': 5993, 'degree': 5994, 'coveredmoto': 5995, 'yup': 5996, 'decency': 5997, 'buttery': 5998, 'admission': 5999, 'productgot': 6000, 'intensively': 6001, 'narrow': 6002, 'swayed': 6003, 'wellit': 6004, 'monster': 6005, 'dopey': 6006, 'glimmery': 6007, 'fog': 6008, 'loudly': 6009, 'sayingall': 6010, 'bubbly': 6011, 'eric': 6012, 'drummond': 6013, 'habmve': 6014, 'oneprossize': 6015, 'portablity': 6016, 'timecons': 6017, 'panelno': 6018, 'textingsome': 6019, 'muchno': 6020, 'whyi': 6021, 'alpha': 6022, 'slighly': 6023, 'stepmother': 6024, 'join': 6025, 'peopleram': 6026, 'gbdisplay': 6027, 'ppinfc': 6028, 'looksound': 6029, 'nonemicrophone': 6030, 'orientationcustomization': 6031, 'yesweight': 6032, 'gram': 6033, 'gramsbattery': 6034, 'yessimilar': 6035, 'ghzsimilar': 6036, 'frontbottom': 6037, 'microphonesit': 6038, 'stopgap': 6039, 'farno': 6040, 'appleesqe': 6041, 'todaythe': 6042, 'longerphone': 6043, 'lightfor': 6044, 'helicopter': 6045, 'obnoxious': 6046, 'handthis': 6047, 'pricing': 6048, 'popularity': 6049, 'challenged': 6050, 'variant': 6051, 'meanwhile': 6052, 'hdtv': 6053, 'round': 6054, 'exposed': 6055, 'massively': 6056, 'overexpose': 6057, 'conflict': 6058, 'repurpose': 6059, 'jukeboxes': 6060, 'cram': 6061, 'simworks': 6062, 'usmobile': 6063, 'unavoidable': 6064, 'nerve': 6065, 'sload': 6066, 'micromax': 6067, 'lightweightbtw': 6068, 'cred': 6069, 'handgood': 6070, 'terrificthe': 6071, 'greatcould': 6072, 'faintly': 6073, 'apartment': 6074, 'maxed': 6075, 'street': 6076, 'impossiblethe': 6077, 'dayoverall': 6078, 'bodega': 6079, 'blackout': 6080, 'yearsi': 6081, 'surpasses': 6082, 'decadethe': 6083, 'mysyms': 6084, 'connectionso': 6085, 'customersusers': 6086, 'dotted': 6087, 'reviewfor': 6088, 'textsalcatel': 6089, 'processshe': 6090, 'timeminutesdata': 6091, 'dialed': 6092, 'evaluation': 6093, 'starsbefore': 6094, 'addedthe': 6095, 'textreceive': 6096, 'keyboardscreen': 6097, 'homethe': 6098, 'minimumit': 6099, 'accepted': 6100, 'fussthe': 6101, 'chromebookalso': 6102, 'differentsince': 6103, 'beforethe': 6104, 'useage': 6105, 'fitsthe': 6106, 'wildlife': 6107, 'problemif': 6108, 'numeric': 6109, 'hardline': 6110, 'bottle': 6111, 'neededin': 6112, 'winning': 6113, 'unpluggedre': 6114, 'popup': 6115, 'bedroom': 6116, 'tracfoneat': 6117, 'hopeoufully': 6118, 'inon': 6119, 'coastal': 6120, 'verizontrackfone': 6121, 'zerothe': 6122, 'counting': 6123, 'usuable': 6124, 'ho': 6125, 'depreciation': 6126, 'bono': 6127, 'motion': 6128, 'soundly': 6129, 'inherent': 6130, 'equalizer': 6131, 'phoneandroid': 6132, 'pulldown': 6133, 'autodimming': 6134, 'detects': 6135, 'accordingly': 6136, 'offthis': 6137, 'clerk': 6138, 'corporatealmost': 6139, 'agonizingly': 6140, 'override': 6141, 'changeif': 6142, 'oneclick': 6143, 'extermal': 6144, 'storageit': 6145, 'uploading': 6146, 'boxed': 6147, 'nicest': 6148, 'sept': 6149, 'modnay': 6150, 'lliked': 6151, 'outshines': 6152, 'milesfirst': 6153, 'uppower': 6154, 'sidenow': 6155, 'snd': 6156, 'bluish': 6157, 'reflective': 6158, 'shieldthe': 6159, 'efficientthe': 6160, 'outwhile': 6161, 'distancingdepressing': 6162, 'correspond': 6163, 'pump': 6164, 'enjoyablea': 6165, 'mpx': 6166, 'aperture': 6167, 'timer': 6168, 'smeared': 6169, 'eyelash': 6170, 'agressive': 6171, 'reduction': 6172, 'bluer': 6173, 'picsin': 6174, 'imageintensive': 6175, 'defray': 6176, 'perfectlyi': 6177, 'phoneeverything': 6178, 'needrc': 6179, 'mill': 6180, 'docked': 6181, 'expectthis': 6182, 'vulnerabilityif': 6183, 'timeall': 6184, 'genre': 6185, 'alwaysstill': 6186, 'isolate': 6187, 'incident': 6188, 'autobrightness': 6189, 'nightthe': 6190, 'individual': 6191, 'invert': 6192, 'ultrait': 6193, 'asthetic': 6194, 'tailor': 6195, 'onein': 6196, 'upwords': 6197, 'calldrop': 6198, 'lightbleed': 6199, 'integrate': 6200, 'exclusive': 6201, 'fastest': 6202, 'picsi': 6203, 'purely': 6204, 'simmicrosd': 6205, 'peopple': 6206, 'plasticy': 6207, 'clientele': 6208, 'vulnerable': 6209, 'wellinitially': 6210, 'lifesound': 6211, 'fitspeed': 6212, 'typer': 6213, 'ymmvsize': 6214, 'thincamera': 6215, 'timebattery': 6216, 'texter': 6217, 'redownloading': 6218, 'wellcost': 6219, 'stealcons': 6220, 'whatnot': 6221, 'fitment': 6222, 'stari': 6223, 'hefty': 6224, 'region': 6225, 'didnot': 6226, 'nonusage': 6227, 'et': 6228, 'alas': 6229, 'resist': 6230, 'protectedfor': 6231, 'pocketsthe': 6232, 'liveable': 6233, 'choke': 6234, 'interview': 6235, 'ref': 6236, 'ambidextrous': 6237, 'distant': 6238, 'batterystill': 6239, 'mailwish': 6240, 'aa': 6241, 'navigator': 6242, 'wicked': 6243, 'banking': 6244, 'sketch': 6245, 'torrenting': 6246, 'scream': 6247, 'simultaneously': 6248, 'goat': 6249, 'simulator': 6250, 'mileage': 6251, 'clearest': 6252, 'gear': 6253, 'crackedusually': 6254, 'tagthe': 6255, 'miitomo': 6256, 'riptide': 6257, 'gp': 6258, 'phonedoes': 6259, 'dotaste': 6260, 'personmarshmallow': 6261, 'breakerfor': 6262, 'insufficient': 6263, 'complement': 6264, 'inbuilt': 6265, 'outline': 6266, 'soundcloud': 6267, 'bandcamp': 6268, 'medicore': 6269, 'playable': 6270, 'chuggingthey': 6271, 'structural': 6272, 'loudspeaker': 6273, 'tbh': 6274, 'bandwagon': 6275, 'chore': 6276, 'goto': 6277, 'happier': 6278, 'moneyalcatel': 6279, 'observe': 6280, 'concernanother': 6281, 'draws': 6282, 'proven': 6283, 'pricewise': 6284, 'warrantyother': 6285, 'crashes': 6286, 'overheats': 6287, 'cytus': 6288, 'calamity': 6289, 'deliberate': 6290, 'hw': 6291, 'brim': 6292, 'unpack': 6293, 'emulate': 6294, 'halffunctioning': 6295, 'supercheap': 6296, 'lightgreat': 6297, 'speakershad': 6298, 'androidpicks': 6299, 'bandsstylish': 6300, 'beautifulcons': 6301, 'phonesthere': 6302, 'pixelwhite': 6303, 'thoughsome': 6304, 'heyyou': 6305, 'problemupdate': 6306, 'honored': 6307, 'factorthe': 6308, 'offandroid': 6309, 'deficient': 6310, 'mdns': 6311, 'playerbackground': 6312, 'classify': 6313, 'wontfix': 6314, 'endemic': 6315, 'devicesotherwise': 6316, 'oz': 6317, 'storagegreat': 6318, 'displayca': 6319, 'lowerend': 6320, 'letdown': 6321, 'formfactor': 6322, 'mash': 6323, 'makemodel': 6324, 'speechtotext': 6325, 'punch': 6326, 'multilanguage': 6327, 'manuallet': 6328, 'formedwhen': 6329, 'favorable': 6330, 'likeddisliked': 6331, 'complaintsthe': 6332, 'callsafter': 6333, 'routine': 6334, 'personalization': 6335, 'memy': 6336, 'landlinethe': 6337, 'videothe': 6338, 'overalli': 6339, 'tall': 6340, 'everlarger': 6341, 'sizethe': 6342, 'vid': 6343, 'solitaire': 6344, 'plugini': 6345, 'dothe': 6346, 'hobby': 6347, 'recordkeeping': 6348, 'cameraas': 6349, 'andthe': 6350, 'astute': 6351, 'dealbreaking': 6352, 'thesemy': 6353, 'darker': 6354, 'realistic': 6355, 'flatscreen': 6356, 'amazonso': 6357, 'spook': 6358, 'tigo': 6359, 'guatemala': 6360, 'fraudulent': 6361, 'thatvsays': 6362, 'offname': 6363, 'nuf': 6364, 'pleasedit': 6365, 'pressureperformance': 6366, 'panned': 6367, 'award': 6368, 'phonestorage': 6369, 'storagedurability': 6370, 'protectoroverall': 6371, 'greatvery': 6372, 'microphonesmy': 6373, 'minori': 6374, 'quarter': 6375, 'featurenever': 6376, 'welbuilt': 6377, 'selfimage': 6378, 'recommededps': 6379, 'junepros': 6380, 'wellgood': 6381, 'displayspeakers': 6382, 'speakerslightcons': 6383, 'plastichas': 6384, 'screenshotswifi': 6385, 'offthe': 6386, 'watt': 6387, 'magnitude': 6388, 'areif': 6389, 'hinder': 6390, 'destroying': 6391, 'runningpros': 6392, 'natively': 6393, 'problemcons': 6394, 'overlooked': 6395, 'yea': 6396, 'allinall': 6397, 'unimpressed': 6398, 'introduce': 6399, 'thingsfeaturesfunctions': 6400, 'guidethe': 6401, 'unimpressive': 6402, 'thiswhy': 6403, 'ringtonenotification': 6404, 'turnoff': 6405, 'buzzeven': 6406, 'preclude': 6407, 'buzzpros': 6408, 'displayscreen': 6409, 'nicethe': 6410, 'lowpriced': 6411, 'phonesphablets': 6412, 'jblharmon': 6413, 'goodtobestquality': 6414, 'smartphonein': 6415, 'fairness': 6416, 'undesirable': 6417, 'featuresfunctions': 6418, 'desirable': 6419, 'tvmoviesvideos': 6420, 'ereader': 6421, 'petty': 6422, 'peel': 6423, 'easilyupdate': 6424, 'contactig': 6425, 'abiut': 6426, 'king': 6427, 'grate': 6428, 'clearer': 6429, 'alleviate': 6430, 'conspros': 6431, 'featurecons': 6432, 'receptionother': 6433, 'gradually': 6434, 'released': 6435, 'eastthe': 6436, 'shameful': 6437, 'fuse': 6438, 'coincidence': 6439, 'bizarrehaving': 6440, 'meas': 6441, 'unprotected': 6442, 'smug': 6443, 'bugginess': 6444, 'rocket': 6445, 'healthy': 6446, 'disappointingwould': 6447, 'recommendlate': 6448, 'alcatelnow': 6449, 'slowish': 6450, 'happyhope': 6451, 'faithful': 6452, 'appoint': 6453, 'rob': 6454, 'forbut': 6455, 'processorraminternal': 6456, 'memorysoftware': 6457, 'yearseverything': 6458, 'coursei': 6459, 'sep': 6460, 'warning': 6461, 'secretly': 6462, 'oil': 6463, 'transmission': 6464, 'hunk': 6465, 'alcateltcl': 6466, 'selfiesbattery': 6467, 'phonemultimedia': 6468, 'playercamerareason': 6469, 'sb': 6470, 'cyanogen': 6471, 'oxygen': 6472, 'clearlypros': 6473, 'filter': 6474, 'soundmic': 6475, 'callso': 6476, 'studderbut': 6477, 'former': 6478, 'oneouch': 6479, 'jbu': 6480, 'dj': 6481, 'played': 6482, 'cook': 6483, 'fever': 6484, 'waay': 6485, 'explicit': 6486, 'realworld': 6487, 'doesitwork': 6488, 'herehardwarescreenthe': 6489, 'fauxchrome': 6490, 'dualfront': 6491, 'tippytop': 6492, 'holdthe': 6493, 'buzzword': 6494, 'cheapmy': 6495, 'mircosd': 6496, 'eject': 6497, 'critical': 6498, 'musicpodcasts': 6499, 'morph': 6500, 'headphonesi': 6501, 'headphonesthere': 6502, 'orientate': 6503, 'functionregardless': 6504, 'overburdened': 6505, 'volumesound': 6506, 'rangeusabilityandroid': 6507, 'nonstock': 6508, 'grown': 6509, 'overwhelmingly': 6510, 'idolthere': 6511, 'topoftheline': 6512, 'processorram': 6513, 'vast': 6514, 'userscall': 6515, 'doesi': 6516, 'littler': 6517, 'respectivelybattery': 6518, 'lifeanother': 6519, 'nervousness': 6520, 'usagecamerahere': 6521, 'mad': 6522, 'sky': 6523, 'surelike': 6524, 'conditionsother': 6525, 'blare': 6526, 'convenience': 6527, 'pointandshoot': 6528, 'decentfinal': 6529, 'verdicti': 6530, 'mirco': 6531, 'tradeoff': 6532, 'offcontract': 6533, 'allude': 6534, 'ansel': 6535, 'river': 6536, 'wisconsin': 6537, 'cancelling': 6538, 'finei': 6539, 'appsi': 6540, 'poweramp': 6541, 'dogcatcher': 6542, 'frequent': 6543, 'dropout': 6544, 'btthe': 6545, 'alcatelhate': 6546, 'mixer': 6547, 'diagonal': 6548, 'bulkier': 6549, 'bluejeans': 6550, 'carryng': 6551, 'apologize': 6552, 'repairedsummary': 6553, 'subpar': 6554, 'productthis': 6555, 'mobilegood': 6556, 'clearok': 6557, 'partbad': 6558, 'performancedont': 6559, 'videoterrible': 6560, 'littleconclusion': 6561, 'dissaponted': 6562, 'react': 6563, 'itfully': 6564, 'horribleeee': 6565, 'designi': 6566, 'earplugs': 6567, 'male': 6568, 'smallfalls': 6569, 'shadowy': 6570, 'lighted': 6571, 'surprisingin': 6572, 'merely': 6573, 'faded': 6574, 'highi': 6575, 'biting': 6576, 'criticize': 6577, 'beefy': 6578, 'enjoyoverall': 6579, 'situationbattery': 6580, 'phonesthe': 6581, 'featurei': 6582, 'qualito': 6583, 'discreetly': 6584, 'placedif': 6585, 'elantra': 6586, 'infoperson': 6587, 'kiosk': 6588, 'rite': 6589, 'frustratedif': 6590, 'ea': 6591, 'worksfiling': 6592, 'earbudsit': 6593, 'exclaim': 6594, 'gifts': 6595, 'goodclear': 6596, 'experiencingi': 6597, 'viewed': 6598, 'acsend': 6599, 'fardouble': 6600, 'tapcamera': 6601, 'commented': 6602, 'galleryi': 6603, 'firefox': 6604, 'addon': 6605, 'adblock': 6606, 'workhorse': 6607, 'therei': 6608, 'becomes': 6609, 'timeso': 6610, 'comparing': 6611, 'hthings': 6612, 'perfectoverall': 6613, 'allespecially': 6614, 'crapware': 6615, 'unwantedunremovable': 6616, 'unnecessy': 6617, 'visual': 6618, 'decentonce': 6619, 'encrypt': 6620, 'jingle': 6621, 'jingles': 6622, 'bleep': 6623, 'bloops': 6624, 'streets': 6625, 'pitchforks': 6626, 'knife': 6627, 'againalso': 6628, 'swypelike': 6629, 'notingbesides': 6630, 'sooni': 6631, 'gungho': 6632, 'cluttery': 6633, 'speedwise': 6634, 'moverall': 6635, 'definte': 6636, 'laminate': 6637, 'itcons': 6638, 'unbeknownst': 6639, 'traditionally': 6640, 'appall': 6641, 'alcatelgoogle': 6642, 'mature': 6643, 'optionthis': 6644, 'poorest': 6645, 'loos': 6646, 'reapplied': 6647, 'underneath': 6648, 'attempted': 6649, 'amazonthe': 6650, 'klipsch': 6651, 'outputi': 6652, 'bonkers': 6653, 'phonewe': 6654, 'adore': 6655, 'instagramsnapchat': 6656, 'sweetconsthe': 6657, 'batteryedit': 6658, 'adroid': 6659, 'htcs': 6660, 'lgs': 6661, 'sight': 6662, 'notchi': 6663, 'pinch': 6664, 'shortens': 6665, 'tooupdate': 6666, 'scathing': 6667, 'bettermade': 6668, 'midtolate': 6669, 'overtheear': 6670, 'clipon': 6671, 'voicetotext': 6672, 'prolonged': 6673, 'nonuse': 6674, 'phoneswhich': 6675, 'bearing': 6676, 'calendartomap': 6677, 'roomdespite': 6678, 'timewhy': 6679, 'applicationswhat': 6680, 'commentary': 6681, 'ramblr': 6682, 'trail': 6683, 'irresistible': 6684, 'streaming': 6685, 'foreseeable': 6686, 'oneone': 6687, 'tremble': 6688, 'inserting': 6689, 'fly': 6690, 'trashall': 6691, 'stockso': 6692, 'achilles': 6693, 'heel': 6694, 'prof': 6695, 'palatable': 6696, 'paragraphso': 6697, 'doom': 6698, 'productos': 6699, 'disassemble': 6700, 'dynamite': 6701, 'bloatwarethe': 6702, 'ed': 6703, 'greati': 6704, 'downfall': 6705, 'haywire': 6706, 'sizemost': 6707, 'nowfor': 6708, 'nuisance': 6709, 'inconvenienceoverall': 6710, 'crossfade': 6711, 'songsstrongly': 6712, 'pictutes': 6713, 'nicefeels': 6714, 'awesomescreen': 6715, 'goodthe': 6716, 'bestswitching': 6717, 'powervolume': 6718, 'annoyingcrasheslocks': 6719, 'collect': 6720, 'debrissomewhat': 6721, 'bowl': 6722, 'crunchy': 6723, 'food': 6724, 'peopleprice': 6725, 'lately': 6726, 'nowin': 6727, 'conclusiondo': 6728, 'spen': 6729, 'necessarily': 6730, 'debatable': 6731, 'deactivate': 6732, 'especiallythe': 6733, 'canttell': 6734, 'snobif': 6735, 'stories': 6736, 'artifact': 6737, 'goodsince': 6738, 'mediathe': 6739, 'lowend': 6740, 'toward': 6741, 'regain': 6742, 'uppermid': 6743, 'lowermid': 6744, 'underlie': 6745, 'penetrate': 6746, 'horsepower': 6747, 'takehere': 6748, 'virgin': 6749, 'vm': 6750, 'bulkhere': 6751, 'onhere': 6752, 'theory': 6753, 'awaken': 6754, 'buttonallinall': 6755, 'needbiggest': 6756, 'added': 6757, 'hspaumtsother': 6758, 'antutu': 6759, 'disclaimers': 6760, 'gimp': 6761, 'gimmicksamongst': 6762, 'standout': 6763, 'evenly': 6764, 'flavor': 6765, 'microsimsized': 6766, 'nobrainer': 6767, 'edgetoedge': 6768, 'instantaneously': 6769, 'powered': 6770, 'tldr': 6771, 'overpricedhuge': 6772, 'nuff': 6773, 'tbhcons': 6774, 'caseverdict': 6775, 'increible': 6776, 'hardest': 6777, 'issuethis': 6778, 'phonenow': 6779, 'anywherebut': 6780, 'allit': 6781, 'againsince': 6782, 'admirably': 6783, 'oftenreception': 6784, 'unwieldy': 6785, 'hump': 6786, 'joint': 6787, 'timesalcatel': 6788, 'facility': 6789, 'duration': 6790, 'shippingrepairs': 6791, 'badi': 6792, 'handsthe': 6793, 'corn': 6794, 'peevethe': 6795, 'memorythis': 6796, 'nfcfor': 6797, 'amoledoled': 6798, 'demodummy': 6799, 'gut': 6800, 'slid': 6801, 'tiled': 6802, 'lumiathe': 6803, 'arent': 6804, 'muchi': 6805, 'vids': 6806, 'lolif': 6807, 'updateoverall': 6808, 'bike': 6809, 'userproblems': 6810, 'diddle': 6811, 'cashe': 6812, 'gbs': 6813, 'ish': 6814, 'imperfection': 6815, 'peformance': 6816, 'dumbfound': 6817, 'stare': 6818, 'esle': 6819, 'doover': 6820, 'emegency': 6821, 'crowd': 6822, 'twofold': 6823, 'unusableyou': 6824, 'filesystem': 6825, 'movedfurther': 6826, 'sketchy': 6827, 'housein': 6828, 'adviceafter': 6829, 'reviewsdesign': 6830, 'flair': 6831, 'cardcamera': 6832, 'modes': 6833, 'thembattery': 6834, 'timescreen': 6835, 'rangesoftware': 6836, 'annoyingly': 6837, 'theseperformance': 6838, 'falter': 6839, 'upsoverall': 6840, 'frustrafing': 6841, 'movement': 6842, 'separated': 6843, 'brighterlouderbetter': 6844, 'esp': 6845, 'amoung': 6846, 'iemheadphone': 6847, 'humble': 6848, 'interesting': 6849, 'substitution': 6850, 'nonwaterproof': 6851, 'viewfinder': 6852, 'costexpectation': 6853, 'staminas': 6854, 'materialvideos': 6855, 'sonys': 6856, 'downupload': 6857, 'transferable': 6858, 'daysfor': 6859, 'profit': 6860, 'competetive': 6861, 'gadget': 6862, 'fantastically': 6863, 'hire': 6864, 'crop': 6865, 'smudgy': 6866, 'gsmarena': 6867, 'suffice': 6868, 'blog': 6869, 'buyif': 6870, 'callthe': 6871, 'possiblestill': 6872, 'cnet': 6873, 'mag': 6874, 'reverb': 6875, 'scratchiness': 6876, 'likelihood': 6877, 'droppedfor': 6878, 'ripped': 6879, 'headphoneson': 6880, 'garb': 6881, 'wasome': 6882, 'detroit': 6883, 'nonintuitive': 6884, 'tootroubleshooting': 6885, 'problemthe': 6886, 'beef': 6887, 'reasoni': 6888, 'textsbecause': 6889, 'wellhowever': 6890, 'readability': 6891, 'lifeit': 6892, 'handleability': 6893, 'grease': 6894, 'crisco': 6895, 'handeven': 6896, 'refohauisearchdetailpage': 6897, 'escape': 6898, 'grasp': 6899, 'domination': 6900, 'firstout': 6901, 'thoughfew': 6902, 'failedi': 6903, 'badfollowup': 6904, 'quicklywhen': 6905, 'overcharge': 6906, 'temporarily': 6907, 'spontaneously': 6908, 'existence': 6909, 'statisfaction': 6910, 'negate': 6911, 'thereafter': 6912, 'undoubtedly': 6913, 'accountability': 6914, 'raw': 6915, 'wellthat': 6916, 'andor': 6917, 'underdog': 6918, 'underdogs': 6919, 'onespecifications': 6920, 'useri': 6921, 'spade': 6922, 'backgammon': 6923, 'averageon': 6924, 'releasesetup': 6925, 'prompted': 6926, 'overthe': 6927, 'autoadjust': 6928, 'brighti': 6929, 'needaudio': 6930, 'playweb': 6931, 'slickdeals': 6932, 'dealnews': 6933, 'mentionedwifi': 6934, 'laptops': 6935, 'rig': 6936, 'ookla': 6937, 'serversdata': 6938, 'idaho': 6939, 'seattlei': 6940, 'crashingactually': 6941, 'betterfitbit': 6942, 'yamaha': 6943, 'quickerbluetooth': 6944, 'synced': 6945, 'devicessupports': 6946, 'usei': 6947, 'finereversible': 6948, 'somethingtap': 6949, 'discuss': 6950, 'installs': 6951, 'problemnot': 6952, 'phonesincluded': 6953, 'phonesome': 6954, 'batchesphone': 6955, 'anymoreoverall': 6956, 'turbotax': 6957, 'giftcards': 6958, 'mineas': 6959, 'outing': 6960, 'yetplus': 6961, 'dslri': 6962, 'needsi': 6963, 'lenses': 6964, 'gist': 6965, 'caralso': 6966, 'screenon': 6967, 'chargedat': 6968, 'batteryalso': 6969, 'inupdate': 6970, 'didstill': 6971, 'kitkatupdate': 6972, 'bs': 6973, 'goodstill': 6974, 'phonestill': 6975, 'precision': 6976, 'treble': 6977, 'realm': 6978, 'almoed': 6979, 'overhead': 6980, 'leisure': 6981, 'heshe': 6982, 'balancing': 6983, 'optic': 6984, 'cmos': 6985, 'implosion': 6986, 'msrp': 6987, 'hungry': 6988, 'governor': 6989, 'achieve': 6990, 'priceoverall': 6991, 'craftsmanship': 6992, 'surprisedthis': 6993, 'gain': 6994, 'snail': 6995, 'softwarehardware': 6996, 'joboh': 6997, 'chargerssoftware': 6998, 'adjusts': 6999, 'updatei': 7000, 'carefulalso': 7001, 'backin': 7002, 'triage': 7003, 'replacementi': 7004, 'prerelease': 7005, 'interim': 7006, 'overpulling': 7007, 'isi': 7008, 'inserted': 7009, 'cumbersome': 7010, 'necessity': 7011, 'aviate': 7012, 'beta': 7013, 'cleanif': 7014, 'timeover': 7015, 'speakersscreen': 7016, 'detailedlight': 7017, 'imobattery': 7018, 'lifecall': 7019, 'bluetoothnot': 7020, 'optionsother': 7021, 'cradlespower': 7022, 'spotnonremovable': 7023, 'mebottom': 7024, 'shouldi': 7025, 'downtown': 7026, 'seattle': 7027, 'turni': 7028, 'usethere': 7029, 'protectorstill': 7030, 'alcateltwo': 7031, 'partsdo': 7032, 'meticulus': 7033, 'motolenovo': 7034, 'oneout': 7035, 'downthe': 7036, 'themit': 7037, 'badgood': 7038, 'thinbad': 7039, 'cheapi': 7040, 'customizationif': 7041, 'lightyears': 7042, 'memoryram': 7043, 'amazingthe': 7044, 'flashi': 7045, 'lagfreezing': 7046, 'forfantastic': 7047, 'moneythe': 7048, 'excellant': 7049, 'multiperson': 7050, 'carriermy': 7051, 'sleepwake': 7052, 'dragontail': 7053, 'higher': 7054, 'reversal': 7055, 'motherinlaw': 7056, 'displaycamerasizeshe': 7057, 'itupdate': 7058, 'crude': 7059, 'abundant': 7060, 'nobottom': 7061, 'binge': 7062, 'cellphonethe': 7063, 'overjoy': 7064, 'unwrapped': 7065, 'behalf': 7066, 'recomendable': 7067, 'towersalcatel': 7068, 'discourage': 7069, 'fasti': 7070, 'slipperyhere': 7071, 'qualitybetter': 7072, 'lagandroid': 7073, 'marshmallowif': 7074, 'improvedfixed': 7075, 'experienceeditafter': 7076, 'accuse': 7077, 'berzerk': 7078, 'rapid': 7079, 'ecextremely': 7080, 'ibuds': 7081, 'periodic': 7082, 'protectormy': 7083, 'goon': 7084, 'spreadsheet': 7085, 'xplore': 7086, 'viewer': 7087, 'quickpic': 7088, 'hsn': 7089, 'definitively': 7090, 'comparisonthe': 7091, 'headphonesafter': 7092, 'eloquently': 7093, 'iirc': 7094, 'protip': 7095, 'swiped': 7096, 'existed': 7097, 'firstworldproblems': 7098, 'alternatively': 7099, 'resetif': 7100, 'communityat': 7101, 'disappointingly': 7102, 'speakersjbl': 7103, 'nonetheless': 7104, 'considerate': 7105, 'suv': 7106, 'expensivehigh': 7107, 'cmon': 7108, 'nonexistent': 7109, 'excellentpolished': 7110, 'reallycaveat': 7111, 'employer': 7112, 'objective': 7113, 'phonewhich': 7114, 'laggyness': 7115, 'sorrythis': 7116, 'presale': 7117, 'melta': 7118, 'dilemma': 7119, 'batch': 7120, 'carolina': 7121, 'fume': 7122, 'signalthe': 7123, 'florida': 7124, 'thoughone': 7125, 'unintentionally': 7126, 'gel': 7127, 'frost': 7128, 'abnormally': 7129, 'issuescons': 7130, 'soonoverall': 7131, 'optionupdate': 7132, 'bumping': 7133, 'tremendous': 7134, 'unorthodox': 7135, 'pia': 7136, 'toi': 7137, 'budge': 7138, 'sw': 7139, 'fortunate': 7140, 'musician': 7141, 'hoot': 7142, 'noobs': 7143, 'retain': 7144, 'ondo': 7145, 'stylist': 7146, 'smudge': 7147, 'homido': 7148, 'anime': 7149, 'repeater': 7150, 'backupsecond': 7151, 'techie': 7152, 'heats': 7153, 'coworkers': 7154, 'differ': 7155, 'standoutwith': 7156, 'expensiv': 7157, 'dualband': 7158, 'couch': 7159, 'photographer': 7160, 'pffft': 7161, 'gellike': 7162, 'globally': 7163, 'androidthe': 7164, 'sidemounted': 7165, 'phonetalking': 7166, 'pleaseyou': 7167, 'belowthe': 7168, 'daunt': 7169, 'acclimate': 7170, 'androidbottom': 7171, 'stripe': 7172, 'relaible': 7173, 'putz': 7174, 'junkie': 7175, 'blend': 7176, 'flashthe': 7177, 'comsuption': 7178, 'wowwee': 7179, 'wantthe': 7180, 'conditioni': 7181, 'payasyou': 7182, 'okto': 7183, 'fasterthe': 7184, 'crispness': 7185, 'fantastici': 7186, 'fitbit': 7187, 'monitor': 7188, 'trouser': 7189, 'okoverall': 7190, 'silky': 7191, 'embed': 7192, 'subway': 7193, 'doctor': 7194, 'cutoff': 7195, 'parking': 7196, 'emergencysignal': 7197, 'adjacent': 7198, 'youwhile': 7199, 'wifienabled': 7200, 'mefor': 7201, 'metropcs': 7202, 'apns': 7203, 'plop': 7204, 'chineselanguage': 7205, 'rationale': 7206, 'companyowned': 7207, 'esoteric': 7208, 'deficiency': 7209, 'connoisseurs': 7210, 'bose': 7211, 'figureover': 7212, 'wood': 7213, 'experiencethe': 7214, 'summary': 7215, 'rangei': 7216, 'implement': 7217, 'enhance': 7218, 'pocketable': 7219, 'tasker': 7220, 'confident': 7221, 'uncleiirc': 7222, 'selectionsenglish': 7223, 'restthe': 7224, 'purposely': 7225, 'unavailableit': 7226, 'uncle': 7227, 'unavailable': 7228, 'lowest': 7229, 'rightgreat': 7230, 'brightnessdecent': 7231, 'batteryspeakers': 7232, 'excellentincluded': 7233, 'goodpremium': 7234, 'finishvery': 7235, 'aroundslippery': 7236, 'surethere': 7237, 'firing': 7238, 'qualcom': 7239, 'mighty': 7240, 'underwhelmed': 7241, 'outlast': 7242, 'overallupdate': 7243, 'potato': 7244, 'filing': 7245, 'dept': 7246, 'ftc': 7247, 'complaintsso': 7248, 'squaretrade': 7249, 'tasurion': 7250, 'zippythe': 7251, 'halve': 7252, 'atit': 7253, 'crispi': 7254, 'debate': 7255, 'promo': 7256, 'messagingif': 7257, 'tapper': 7258, 'okthis': 7259, 'bbqgaming': 7260, 'modelsif': 7261, 'xit': 7262, 'idc': 7263, 'batterygiven': 7264, 'steadily': 7265, 'puts': 7266, 'televisionthese': 7267, 'nonlocked': 7268, 'slew': 7269, 'bandsit': 7270, 'callsthe': 7271, 'accomplishes': 7272, 'logical': 7273, 'holdout': 7274, 'torture': 7275, 'exceptiona': 7276, 'offset': 7277, 'disadvantage': 7278, 'workaroundother': 7279, 'phonespecific': 7280, 'websiteupdate': 7281, 'url': 7282, 'explanation': 7283, 'indicates': 7284, 'obviousoverall': 7285, 'enoughno': 7286, 'vivo': 7287, 'freezing': 7288, 'crashing': 7289, 'deplete': 7290, 'consulting': 7291, 'inopportune': 7292, 'usagei': 7293, 'uninstallable': 7294, 'androidlike': 7295, 'robust': 7296, 'bestphone': 7297, 'pricehaha': 7298, 'disappointmentthe': 7299, 'bloatfree': 7300, 'unoptimized': 7301, 'examplesi': 7302, 'unrepaired': 7303, 'submerge': 7304, 'splashed': 7305, 'warrantypair': 7306, 'evocel': 7307, 'chart': 7308, 'overwhelm': 7309, 'xmaybe': 7310, 'muffled': 7311, 'commonplace': 7312, 'goal': 7313, 'infamous': 7314, 'dealthe': 7315, 'sill': 7316, 'gamble': 7317, 'expectationsfor': 7318, 'phonefor': 7319, 'phoneofiles': 7320, 'loadresponse': 7321, 'modding': 7322, 'phototagraphers': 7323, 'birght': 7324, 'duel': 7325, 'feeli': 7326, 'provision': 7327, 'wrongi': 7328, 'migrate': 7329, 'arranging': 7330, 'replicate': 7331, 'arrangement': 7332, 'reentering': 7333, 'funky': 7334, 'drawer': 7335, 'dataso': 7336, 'layer': 7337, 'isso': 7338, 'outsideoh': 7339, 'insecure': 7340, 'sayinnext': 7341, 'recption': 7342, 'antonio': 7343, 'reverseability': 7344, 'waterdesign': 7345, 'smallsized': 7346, 'brushed': 7347, 'usescreen': 7348, 'borderless': 7349, 'leakage': 7350, 'temperedglass': 7351, 'crystalsound': 7352, 'indistiguishable': 7353, 'gibberish': 7354, 'coolest': 7355, 'isoperating': 7356, 'limitless': 7357, 'fluidity': 7358, 'suprized': 7359, 'grind': 7360, 'lifeconclusion': 7361, 'plunge': 7362, 'explorer': 7363, 'financing': 7364, 'financial': 7365, 'bind': 7366, 'preforms': 7367, 'enabled': 7368, 'upfate': 7369, 'gravity': 7370, 'unisonoverall': 7371, 'hibernation': 7372, 'wallmart': 7373, 'rage': 7374, 'twist': 7375, 'mangle': 7376, 'austin': 7377, 'earbud': 7378, 'mlbtv': 7379, 'mlb': 7380, 'facebookgoogle': 7381, 'latency': 7382, 'amazingcons': 7383, 'browsingthe': 7384, 'dominant': 7385, 'dexterous': 7386, 'shimmy': 7387, 'scratchescould': 7388, 'sameif': 7389, 'squeaks': 7390, 'overi': 7391, 'bog': 7392, 'itspeakers': 7393, 'loudthe': 7394, 'tasksthe': 7395, 'triedthe': 7396, 'costconscall': 7397, 'issuei': 7398, 'needy': 7399, 'replacementbloatware': 7400, 'appthe': 7401, 'accuratelythe': 7402, 'nerdsoverall': 7403, 'problematic': 7404, 'quote': 7405, 'verdict': 7406, 'dramatically': 7407, 'moderatetoheavy': 7408, 'swing': 7409, 'vote': 7410, 'equivalent': 7411, 'changeable': 7412, 'shortfall': 7413, 'luch': 7414, 'headphonesearphones': 7415, 'videoshear': 7416, 'appeard': 7417, 'repack': 7418, 'sux': 7419, 'headphoneused': 7420, 'shine': 7421, 'audiothe': 7422, 'res': 7423, 'processingmultitasking': 7424, 'mics': 7425, 'micspeaker': 7426, 'bacon': 7427, 'outlasts': 7428, 'enthusiast': 7429, 'perfectthe': 7430, 'native': 7431, 'featured': 7432, 'beastly': 7433, 'refunded': 7434, 'trusted': 7435, 'soul': 7436, 'stage': 7437, 'partition': 7438, 'anal': 7439, 'centsi': 7440, 'buddy': 7441, 'paperclipanyway': 7442, 'phonehere': 7443, 'haha': 7444, 'highdemanding': 7445, 'torrent': 7446, 'threshold': 7447, 'nicelooking': 7448, 'built': 7449, 'managed': 7450, 'jeez': 7451, 'dips': 7452, 'freakin': 7453, 'awesomethings': 7454, 'uh': 7455, 'figuring': 7456, 'voluntarily': 7457, 'ampdriver': 7458, 'ai': 7459, 'audiophile': 7460, 'elsewhereoverall': 7461, 'destroyer': 7462, 'hahah': 7463, 'execute': 7464, 'wellif': 7465, 'cameringoeffects': 7466, 'speedier': 7467, 'wazooalright': 7468, 'stealio': 7469, 'dismay': 7470, 'edited': 7471, 'stem': 7472, 'synopsis': 7473, 'lookin': 7474, 'nudge': 7475, 'crackle': 7476, 'jostle': 7477, 'tied': 7478, 'refundsthe': 7479, 'slickscreen': 7480, 'connoisseur': 7481, 'eyesspeakers': 7482, 'devicereception': 7483, 'etcwifi': 7484, 'xfinity': 7485, 'issuecamera': 7486, 'updateperformance': 7487, 'downloadinginstalling': 7488, 'fret': 7489, 'overui': 7490, 'massage': 7491, 'anywaybattery': 7492, 'usershowever': 7493, 'itso': 7494, 'lcdif': 7495, 'hade': 7496, 'orzly': 7497, 'fusion': 7498, 'phonedesignits': 7499, 'sheen': 7500, 'protrude': 7501, 'breaks': 7502, 'tastefully': 7503, 'sectionhardwaredespite': 7504, 'prince': 7505, 'microphones': 7506, 'batteryusabilityi': 7507, 'touchless': 7508, 'creates': 7509, 'unnoticeable': 7510, 'conferencing': 7511, 'monitoring': 7512, 'softwareexperiencethe': 7513, 'tweakingit': 7514, 'perceptible': 7515, 'limitedin': 7516, 'flakey': 7517, 'hill': 7518, 'converter': 7519, 'hubby': 7520, 'baseline': 7521, 'surfing': 7522, 'impromptu': 7523, 'resultslag': 7524, 'nanosecond': 7525, 'pronounce': 7526, 'wii': 7527, 'gooooddd': 7528, 'foe': 7529, 'soundcons': 7530, 'processingthere': 7531, 'thicki': 7532, 'swag': 7533, 'handedscreen': 7534, 'eq': 7535, 'ting': 7536, 'ascetically': 7537, 'meshould': 7538, 'agoalcatel': 7539, 'decade': 7540, 'annually': 7541, 'burner': 7542, 'proud': 7543, 'sting': 7544, 'thingy': 7545, 'highlighter': 7546, 'refresh': 7547, 'helpedbattery': 7548, 'averageit': 7549, 'watchinglistening': 7550, 'wellstill': 7551, 'sdcard': 7552, 'proportion': 7553, 'satisfiedthanks': 7554, 'timeaside': 7555, 'reddit': 7556, 'marchapril': 7557, 'refurbashed': 7558, 'techthe': 7559, 'thinnest': 7560, 'badbesides': 7561, 'conform': 7562, 'lifespan': 7563, 'optimally': 7564, 'conditionsthat': 7565, 'dropping': 7566, 'phoneupdate': 7567, 'crapped': 7568, 'unbranded': 7569, 'primarly': 7570, 'devicenow': 7571, 'hereyet': 7572, 'obtrusive': 7573, 'monumental': 7574, 'flashheavy': 7575, 'espn': 7576, 'bostoncom': 7577, 'lagsstutters': 7578, 'watersi': 7579, 'neighbor': 7580, 'shippingthe': 7581, 'scratchy': 7582, 'noticable': 7583, 'clearerthe': 7584, 'consist': 7585, 'devicealthough': 7586, 'appliedoverall': 7587, 'reccomme': 7588, 'inconsistently': 7589, 'interception': 7590, 'weigh': 7591, 'twoyear': 7592, 'updatepros': 7593, 'slotcons': 7594, 'nonintensive': 7595, 'columns': 7596, 'hardtoreach': 7597, 'fashion': 7598, 'equipmentsoftware': 7599, 'phonesview': 7600, 'noisypros': 7601, 'valuegreat': 7602, 'screenloud': 7603, 'speakerslooks': 7604, 'nicecons': 7605, 'situationsno': 7606, 'chargingoccasional': 7607, 'processorslippery': 7608, 'phonefind': 7609, 'underestimated': 7610, 'bus': 7611, 'shuffle': 7612, 'screenspeed': 7613, 'phonesound': 7614, 'phonecamera': 7615, 'mesize': 7616, 'maneuver': 7617, 'normallight': 7618, 'welloverall': 7619, 'gun': 7620, 'unprotectedupdate': 7621, 'awayupdate': 7622, 'alternativei': 7623, 'seeupdate': 7624, 'agosorry': 7625, 'unboxed': 7626, 'reinsert': 7627, 'flagg': 7628, 'donot': 7629, 'processer': 7630, 'itwhat': 7631, 'studder': 7632, 'haddo': 7633, 'recommence': 7634, 'perfectfirst': 7635, 'overallnow': 7636, 'unintuitive': 7637, 'guys': 7638, 'unload': 7639, 'refundagain': 7640, 'flagshiplevel': 7641, 'unpleasant': 7642, 'adquiro': 7643, 'epesifiaciones': 7644, 'rapideztodo': 7645, 'adata': 7646, 'cuidas': 7647, 'magnifier': 7648, 'wikipedia': 7649, 'helpmate': 7650, 'teens': 7651, 'weightunfortunately': 7652, 'weekthe': 7653, 'blazingly': 7654, 'midday': 7655, 'mo': 7656, 'oversensitive': 7657, 'amped': 7658, 'nearstock': 7659, 'cargo': 7660, 'reside': 7661, 'inchlong': 7662, 'inputi': 7663, 'newish': 7664, 'reassemble': 7665, 'disassembly': 7666, 'lend': 7667, 'meaningful': 7668, 'usageso': 7669, 'diligence': 7670, 'seperating': 7671, 'repairsthe': 7672, 'blisspop': 7673, 'rr': 7674, 'baisc': 7675, 'screengood': 7676, 'baytery': 7677, 'lifeaudio': 7678, 'striking': 7679, 'lame': 7680, 'editionits': 7681, 'sleak': 7682, 'wp': 7683, 'eitheri': 7684, 'greatthe': 7685, 'novalauncher': 7686, 'ol': 7687, 'fumble': 7688, 'outcome': 7689, 'envy': 7690, 'dealif': 7691, 'exists': 7692, 'consbutton': 7693, 'wayyy': 7694, 'midleft': 7695, 'lolconnection': 7696, 'cameranot': 7697, 'donein': 7698, 'camerathose': 7699, 'radar': 7700, 'feellook': 7701, 'newsidol': 7702, 'screenthe': 7703, 'angel': 7704, 'batteryoh': 7705, 'conceal': 7706, 'omfgbbq': 7707, 'lone': 7708, 'exponentially': 7709, 'performancefeels': 7710, 'receptioni': 7711, 'feellighter': 7712, 'sob': 7713, 'qs': 7714, 'conclusionwell': 7715, 'cl': 7716, 'campernow': 7717, 'anxiously': 7718, 'asked': 7719, 'yesterdayupdate': 7720, 'art': 7721, 'wished': 7722, 'rm': 7723, 'circumstancesit': 7724, 'recieving': 7725, 'compliant': 7726, 'poppin': 7727, 'heavenly': 7728, 'stuffed': 7729, 'inoperable': 7730, 'brisk': 7731, 'jaunt': 7732, 'reps': 7733, 'borderline': 7734, 'apathetic': 7735, 'mattersbased': 7736, 'unscrupulous': 7737, 'peddle': 7738, 'threadbare': 7739, 'pisspoor': 7740, 'craftsmanshipavoid': 7741, 'reveals': 7742, 'speakers': 7743, 'agogoodthe': 7744, 'comparative': 7745, 'fastbadboth': 7746, 'photosi': 7747, 'strangeaccording': 7748, 'cardcons': 7749, 'vow': 7750, 'partly': 7751, 'pricedesign': 7752, 'builtthis': 7753, 'elegent': 7754, 'rounded': 7755, 'metalic': 7756, 'flashspecial': 7757, 'offcamera': 7758, 'interestingly': 7759, 'saturate': 7760, 'updatebattery': 7761, 'peformancethe': 7762, 'standpoint': 7763, 'shortcoming': 7764, 'servicesit': 7765, 'pricewould': 7766, 'cardsim': 7767, 'cingular': 7768, 'bizarre': 7769, 'effectively': 7770, 'cheaplymade': 7771, 'storagesummary': 7772, 'shallow': 7773, 'terriblethe': 7774, 'walkingthe': 7775, 'overkill': 7776, 'tabletop': 7777, 'lessthanideal': 7778, 'modemajor': 7779, 'watcher': 7780, 'ph': 7781, 'lawsuit': 7782, 'dope': 7783, 'workoverall': 7784, 'ahold': 7785, 'systemi': 7786, 'stabalize': 7787, 'photosin': 7788, 'textingmaking': 7789, 'horse': 7790, 'dazzle': 7791, 'caseless': 7792, 'warrant': 7793, 'ford': 7794, 'nontouch': 7795, 'googlelg': 7796, 'bath': 7797, 'lollipopupdate': 7798, 'effortlessly': 7799, 'speech': 7800, 'documented': 7801, 'up': 7802, 'voicesound': 7803, 'inlcuded': 7804, 'lroduct': 7805, 'itjust': 7806, 'apt': 7807, 'basement': 7808, 'ltei': 7809, 'st': 7810, 'lucia': 7811, 'neededhowever': 7812, 'oneif': 7813, 'outweighs': 7814, 'wirelessquick': 7815, 'gigs': 7816, 'doesshould': 7817, 'batterycons': 7818, 'kt': 7819, 'ether': 7820, 'mediumhigh': 7821, 'ranger': 7822, 'displaynearly': 7823, 'outpros': 7824, 'cheapstylishsound': 7825, 'qualityvideoscons': 7826, 'beterrible': 7827, 'micrecordingterrible': 7828, 'snapchatinstagramcamera': 7829, 'inonce': 7830, 'detecting': 7831, 'stumble': 7832, 'stunned': 7833, 'jaw': 7834, 'weekly': 7835, 'repost': 7836, 'amazonwill': 7837, 'changesupdate': 7838, 'areacamera': 7839, 'betterlag': 7840, 'phonescreen': 7841, 'brightnessbattery': 7842, 'creek': 7843, 'dayand': 7844, 'onesvery': 7845, 'slowbad': 7846, 'signalscreen': 7847, 'fadedbluetooth': 7848, 'signalnot': 7849, 'portraitthe': 7850, 'speakersand': 7851, 'lifeyou': 7852, 'conformable': 7853, 'itin': 7854, 'addtion': 7855, 'unacceptableand': 7856, 'receipt': 7857, 'workalso': 7858, 'problemsand': 7859, 'dangerous': 7860, 'chargingeveryone': 7861, 'appal': 7862, 'resistantused': 7863, 'moneyon': 7864, 'improvethe': 7865, 'wellmy': 7866, 'trailer': 7867, 'availablewhat': 7868, 'akg': 7869, 'headband': 7870, 'genconsidering': 7871, 'preordering': 7872, 'rangeunfortunately': 7873, 'struck': 7874, 'whatmaybe': 7875, 'liable': 7876, 'riskagain': 7877, 'bran': 7878, 'availi': 7879, 'threaten': 7880, 'bureau': 7881, 'costit': 7882, 'musicinitially': 7883, 'occasionallysupport': 7884, 'substandard': 7885, 'ejects': 7886, 'earpod': 7887, 'badnot': 7888, 'mentioned': 7889, 'fasterin': 7890, 'eight': 7891, 'nine': 7892, 'plusgetting': 7893, 'storagememory': 7894, 'enables': 7895, 'keen': 7896, 'inadvertent': 7897, 'jag': 7898, 'stitch': 7899, 'event': 7900, 'blockiness': 7901, 'chroma': 7902, 'digit': 7903, 'lengthy': 7904, 'telephony': 7905, 'qualityi': 7906, 'lid': 7907, 'compartment': 7908, 'exorbitant': 7909, 'amazingunder': 7910, 'coffee': 7911, 'homepage': 7912, 'component': 7913, 'firstrate': 7914, 'gethowever': 7915, 'dramatic': 7916, 'shatters': 7917, 'panethe': 7918, 'colored': 7919, 'annoyed': 7920, 'wetness': 7921, 'believer': 7922, 'notthe': 7923, 'pcs': 7924, 'carriersi': 7925, 'workupdated': 7926, 'properlyi': 7927, 'thisthe': 7928, 'phonewell': 7929, 'issueswhat': 7930, 'phonehas': 7931, 'mostgps': 7932, 'performancebattery': 7933, 'categorywhat': 7934, 'ltewcdmagsm': 7935, 'ltewcdma': 7936, 'codesbrightness': 7937, 'annoyingbackground': 7938, 'thisdouble': 7939, 'onso': 7940, 'ironed': 7941, 'remover': 7942, 'phonegreat': 7943, 'behalfnow': 7944, 'catagory': 7945, 'fam': 7946, 'shakey': 7947, 'unassuming': 7948, 'ghana': 7949, 'phonesg': 7950, 'wellside': 7951, 'moviesgames': 7952, 'jewelry': 7953, 'breakboth': 7954, 'phonespersonally': 7955, 'capabilityfaster': 7956, 'responseseasily': 7957, 'entrainment': 7958, 'goodlooks': 7959, 'jellybean': 7960, 'midnight': 7961, 'blowout': 7962, 'marketpros': 7963, 'sunny': 7964, 'distortionfree': 7965, 'flimsiness': 7966, 'remarkably': 7967, 'contrary': 7968, 'vol': 7969, 'clamp': 7970, 'tinnyness': 7971, 'bigtime': 7972, 'predictably': 7973, 'hiccupfree': 7974, 'chargercons': 7975, 'incremental': 7976, 'discrete': 7977, 'interval': 7978, 'variable': 7979, 'extended': 7980, 'balanced': 7981, 'medlarge': 7982, 'comprehensive': 7983, 'guadalajara': 7984, 'competence': 7985, 'greatin': 7986, 'folks': 7987, 'goodbuild': 7988, 'gooddisplay': 7989, 'averagespeakers': 7990, 'goodperformance': 7991, 'goodprice': 7992, 'gmi': 7993, 'heathrow': 7994, 'eastern': 7995, 'inaccurate': 7996, 'abetter': 7997, 'successplease': 7998, 'fpr': 7999, 'safelink': 8000, 'workable': 8001, 'oper': 8002, 'cardboard': 8003, 'wps': 8004, 'heavier': 8005, 'farthe': 8006, 'avance': 8007, 'slowspeaker': 8008, 'deali': 8009, 'lastedi': 8010, 'itnow': 8011, 'oni': 8012, 'modest': 8013, 'runkeeper': 8014, 'everithing': 8015, 'pixie': 8016, 'notable': 8017, 'settingsstorage': 8018, 'memorywhile': 8019, 'noton': 8020, 'suitable': 8021, 'difficultyas': 8022, 'photosthe': 8023, 'problemsit': 8024, 'oftenscreen': 8025, 'appswhy': 8026, 'rtr': 8027, 'dyllan': 8028, 'waxy': 8029, 'shaving': 8030, 'slotthis': 8031, 'indepth': 8032, 'supportive': 8033, 'biggies': 8034, 'indisplay': 8035, 'lollypop': 8036, 'processormemory': 8037, 'includedcamera': 8038, 'geotaging': 8039, 'mphas': 8040, 'gpsbattery': 8041, 'batterywhat': 8042, 'onesi': 8043, 'outthis': 8044, 'therethe': 8045, 'winwhat': 8046, 'subjectivewho': 8047, 'philippines': 8048, 'preformance': 8049, 'timequality': 8050, 'expectedcase': 8051, 'shin': 8052, 'suport': 8053, 'umts': 8054, 'seek': 8055, 'desided': 8056, 'toofirst': 8057, 'qualitywell': 8058, 'guesswhat': 8059, 'italian': 8060, 'russianthe': 8061, 'eni': 8062, 'happenedi': 8063, 'claimedps': 8064, 'mot': 8065, 'incounterd': 8066, 'scanned': 8067, 'incase': 8068, 'phonethanks': 8069, 'smarterthanme': 8070, 'satisfiedits': 8071, 'simsim': 8072, 'microi': 8073, 'fineit': 8074, 'reorder': 8075, 'dice': 8076, 'sine': 8077, 'eitherso': 8078, 'eager': 8079, 'stats': 8080, 'unremarkable': 8081, 'identify': 8082, 'mediai': 8083, 'pouch': 8084, 'casecover': 8085, 'swiftkey': 8086, 'signali': 8087, 'bore': 8088, 'tea': 8089, 'multitasker': 8090, 'alltel': 8091, 'haiti': 8092, 'stall': 8093, 'productno': 8094, 'andriodhave': 8095, 'tighten': 8096, 'correction': 8097, 'fuzzyca': 8098, 'mist': 8099, 'presentable': 8100, 'continuosly': 8101, 'competable': 8102, 'poco': 8103, 'lenta': 8104, 'methe': 8105, 'episodes': 8106, 'wayit': 8107, 'personality': 8108, 'technologyit': 8109, 'rombelow': 8110, 'brightair': 8111, 'picturesapp': 8112, 'gesturesmart': 8113, 'wakemobile': 8114, 'antitheft': 8115, 'suoding': 8116, 'xiaohue': 8117, 'mima': 8118, 'fetch': 8119, 'pinletter': 8120, 'appsgalleries': 8121, 'appsicons': 8122, 'gesturesthe': 8123, 'incudes': 8124, 'silicon': 8125, 'everyonei': 8126, 'oblige': 8127, 'greathello': 8128, 'herefor': 8129, 'adapterto': 8130, 'producti': 8131, 'neededreceiving': 8132, 'bugle': 8133, 'recovers': 8134, 'purchesed': 8135, 'doent': 8136, 'workcharger': 8137, 'wiggly': 8138, 'onless': 8139, 'itdont': 8140, 'wiezenot': 8141, 'fmily': 8142, 'guard': 8143, 'unlimted': 8144, 'overseasgoodscreen': 8145, 'bigeasy': 8146, 'gobadfeels': 8147, 'cheapwo': 8148, 'tmobilebattery': 8149, 'standbygoogle': 8150, 'oneca': 8151, 'funoverall': 8152, 'homeless': 8153, 'pithere': 8154, 'gigavailable': 8155, 'slotsmicro': 8156, 'slotbig': 8157, 'screenlow': 8158, 'pricebad': 8159, 'resolutionlow': 8160, 'camerapoor': 8161, 'lightrequired': 8162, 'configurationi': 8163, 'settingsworks': 8164, 'sanmsung': 8165, 'looooove': 8166, 'phonetry': 8167, 'recheck': 8168, 'cathch': 8169, 'selef': 8170, 'futurebut': 8171, 'imitation': 8172, 'heron': 8173, 'indeterminable': 8174, 'simalso': 8175, 'hybrid': 8176, 'kickstand': 8177, 'exacto': 8178, 'blade': 8179, 'sqdeal': 8180, 'perkswagbucks': 8181, 'advocate': 8182, 'lookalike': 8183, 'bracket': 8184, 'whitebalance': 8185, 'blotch': 8186, 'rainbow': 8187, 'derive': 8188, 'softwareother': 8189, 'vision': 8190, 'brightest': 8191, 'tolerable': 8192, 'multiband': 8193, 'airvoice': 8194, 'addiction': 8195, 'minimize': 8196, 'header': 8197, 'ubiquitous': 8198, 'daythere': 8199, 'freestanding': 8200, 'actively': 8201, 'subsequent': 8202, 'neglect': 8203, 'overheat': 8204, 'temperature': 8205, 'logging': 8206, 'diagram': 8207, 'imprint': 8208, 'placethe': 8209, 'pokingthe': 8210, 'flap': 8211, 'dash': 8212, 'sothe': 8213, 'entail': 8214, 'circuit': 8215, 'have': 8216, 'recalibrate': 8217, 'separately': 8218, 'toweron': 8219, 'reveiew': 8220, 'fry': 8221, 'registered': 8222, 'enterprise': 8223, 'difficultyhope': 8224, 'couldnot': 8225, 'purposethis': 8226, 'finethis': 8227, 'activating': 8228, 'gamesapps': 8229, 'conference': 8230, 'valuable': 8231, 'sigh': 8232, 'msg': 8233, 'verzion': 8234, 'monthtomonth': 8235, 'waaayyy': 8236, 'connectionapple': 8237, 'conserve': 8238, 'returnavoid': 8239, 'mass': 8240, 'yell': 8241, 'electronically': 8242, 'james': 8243, 'wrapper': 8244, 'strait': 8245, 'divatek': 8246, 'descriptionbut': 8247, 'originalalso': 8248, 'boxcheck': 8249, 'applemy': 8250, 'refubrishedand': 8251, 'sellerbe': 8252, 'amazonfrom': 8253, 'authorized': 8254, 'inteligent': 8255, 'sm': 8256, 'forgiven': 8257, 'thye': 8258, 'atlanta': 8259, 'powerbutton': 8260, 'astound': 8261, 'fecha': 8262, 'pautada': 8263, 'estado': 8264, 'malo': 8265, 'carga': 8266, 'estaba': 8267, 'dañado': 8268, 'macbook': 8269, 'aok': 8270, 'trayi': 8271, 'terriblei': 8272, 'beg': 8273, 'verderbut': 8274, 'sincerity': 8275, 'responded': 8276, 'sarcastic': 8277, 'restocking': 8278, 'island': 8279, 'quickproduct': 8280, 'inicially': 8281, 'frustating': 8282, 'selleri': 8283, 'checkednin': 8284, 'ia': 8285, 'tecnológic': 8286, 'indicating': 8287, 'everythink': 8288, 'defecto': 8289, 'qualiy': 8290, 'closeout': 8291, 'grandaughter': 8292, 'alls': 8293, 'thumbprint': 8294, 'materialsthe': 8295, 'topnotch': 8296, 'spected': 8297, 'treachery': 8298, 'atm': 8299, 'tolerates': 8300, 'forma': 8301, 'wellshows': 8302, 'qucily': 8303, 'definently': 8304, 'hurry': 8305, 'letgo': 8306, 'thanx': 8307, 'sealed': 8308, 'isp': 8309, 'idiot': 8310, 'defies': 8311, 'nowbeware': 8312, 'newanother': 8313, 'plate': 8314, 'startwaste': 8315, 'visa': 8316, 'upsetting': 8317, 'descroption': 8318, 'closely': 8319, 'wa': 8320, 'emailsover': 8321, 'ati': 8322, 'stealalthough': 8323, 'mechanismsi': 8324, 'perticurarly': 8325, 'sellerthis': 8326, 'thirty': 8327, 'wasreported': 8328, 'blockedand': 8329, 'scams': 8330, 'fullprice': 8331, 'ohsogood': 8332, 'clunky': 8333, 'mistype': 8334, 'enlarge': 8335, 'daythis': 8336, 'usesthis': 8337, 'reallly': 8338, 'boxlabel': 8339, 'chosen': 8340, 'descriptiondefinitely': 8341, 'somethingfromeverythingnew': 8342, 'paraguay': 8343, 'constantlynow': 8344, 'screenit': 8345, 'whilee': 8346, 'itselfi': 8347, 'productmy': 8348, 'skeptic': 8349, 'cameria': 8350, 'reccommend': 8351, 'answering': 8352, 'lifestyle': 8353, 'underestimate': 8354, 'frankly': 8355, 'estock': 8356, 'untouched': 8357, 'indeedit': 8358, 'shapthanks': 8359, 'insightful': 8360, 'imessage': 8361, 'phoneof': 8362, 'timeless': 8363, 'dayle': 8364, 'overrate': 8365, 'coworker': 8366, 'debit': 8367, 'taliah': 8368, 'frozen': 8369, 'placed': 8370, 'subsidiary': 8371, 'bussiness': 8372, 'ihone': 8373, 'gastly': 8374, 'chuck': 8375, 'correspondence': 8376, 'chargeable': 8377, 'goid': 8378, 'useablei': 8379, 'cellphoneunderstanding': 8380, 'improperly': 8381, 'slipping': 8382, 'lable': 8383, 'forplease': 8384, 'registration': 8385, 'upgradeable': 8386, 'freshman': 8387, 'defectiveness': 8388, 'puchase': 8389, 'vintage': 8390, 'musicipod': 8391, 'unlockednever': 8392, 'receivedthanks': 8393, 'pod': 8394, 'telefonolo': 8395, 'fraud': 8396, 'geat': 8397, 'seriousness': 8398, 'describedit': 8399, 'greatit': 8400, 'chargerfast': 8401, 'shippingwe': 8402, 'purchasethank': 8403, 'supplierhowever': 8404, 'fourth': 8405, 'litand': 8406, 'ownca': 8407, 'callingca': 8408, 'misbehave': 8409, 'selfdialing': 8410, 'unintended': 8411, 'gliche': 8412, 'perfectlythere': 8413, 'ammended': 8414, 'antiquate': 8415, 'relieve': 8416, 'dishonest': 8417, 'usmom': 8418, 'reassigned': 8419, 'forgot': 8420, 'gas': 8421, 'prospective': 8422, 'artist': 8423, 'lair': 8424, 'rub': 8425, 'wool': 8426, 'lockedso': 8427, 'dated': 8428, 'phonetext': 8429, 'ply': 8430, 'gotteb': 8431, 'infers': 8432, 'caharger': 8433, 'inhops': 8434, 'com': 8435, 'beacouse': 8436, 'ather': 8437, 'kik': 8438, 'sc': 8439, 'phew': 8440, 'cofortable': 8441, 'wen': 8442, 'falsely': 8443, 'openning': 8444, 'althought': 8445, 'orderd': 8446, 'cleanno': 8447, 'apartso': 8448, 'dear': 8449, 'chargerplease': 8450, 'imbalancenote': 8451, 'usthanks': 8452, 'purchashing': 8453, 'sintonized': 8454, 'desapointed': 8455, 'swindle': 8456, 'easiest': 8457, 'weed': 8458, 'jailbreaking': 8459, 'uploaded': 8460, 'jailbreaked': 8461, 'declare': 8462, 'beige': 8463, 'screenvisual': 8464, 'appearancedo': 8465, 'anymorei': 8466, 'workit': 8467, 'unexpectedly': 8468, 'refubrished': 8469, 'upleasant': 8470, 'misliding': 8471, 'initialization': 8472, 'italy': 8473, 'courrier': 8474, 'diffult': 8475, 'specialize': 8476, 'serail': 8477, 'retured': 8478, 'wether': 8479, 'confidently': 8480, 'resposable': 8481, 'amazonsecond': 8482, 'softwarei': 8483, 'disapointed': 8484, 'problemsi': 8485, 'mockery': 8486, 'sap': 8487, 'teams': 8488, 'themregardsluis': 8489, 'berroteran': 8490, 'gooditem': 8491, 'likevery': 8492, 'itthank': 8493, 'spain': 8494, 'aswer': 8495, 'fraudthe': 8496, 'lockeddo': 8497, 'setback': 8498, 'iphoneno': 8499, 'programme': 8500, 'problemes': 8501, 'birthdayand': 8502, 'backbut': 8503, 'uinderstand': 8504, 'guywhy': 8505, 'rewarding': 8506, 'grandkids': 8507, 'thecorrect': 8508, 'arefund': 8509, 'village': 8510, 'robber': 8511, 'specind': 8512, 'ot': 8513, 'purchaseeed': 8514, 'speck': 8515, 'bahamas': 8516, 'distress': 8517, 'zebradeals': 8518, 'companyfine': 8519, 'productfine': 8520, 'defnitely': 8521, 'peruse': 8522, 'scour': 8523, 'synching': 8524, 'inkling': 8525, 'companygood': 8526, 'expecially': 8527, 'recover': 8528, 'impatient': 8529, 'washington': 8530, 'usedvery': 8531, 'recurrent': 8532, 'satisfated': 8533, 'poeople': 8534, 'ban': 8535, 'wireovia': 8536, 'fr': 8537, 'fctory': 8538, 'buyuna': 8539, 'damaged': 8540, 'fist': 8541, 'humidity': 8542, 'aria': 8543, 'polei': 8544, 'booth': 8545, 'comi': 8546, 'amazomcom': 8547, 'questionmohamed': 8548, 'aljawahiriemail': 8549, 'mohamedjawahiri': 8550, 'spectre': 8551, 'ltd': 8552, 'wecellstuff': 8553, 'carrierswe': 8554, 'disppointed': 8555, 'breach': 8556, 'credential': 8557, 'renovate': 8558, 'lightleaking': 8559, 'counterfeit': 8560, 'shipperthank': 8561, 'afast': 8562, 'replica': 8563, 'workingi': 8564, 'addit': 8565, 'originanl': 8566, 'purchasesi': 8567, 'lonely': 8568, 'giant': 8569, 'helpless': 8570, 'insulted': 8571, 'repaired': 8572, 'desnot': 8573, 'discoloration': 8574, 'smallmedium': 8575, 'unfinished': 8576, 'mins': 8577, 'kidding': 8578, 'restaurant': 8579, 'factorysealed': 8580, 'imea': 8581, 'knowthanks': 8582, 'import': 8583, 'tow': 8584, 'innovate': 8585, 'choosefor': 8586, 'tur': 8587, 'unpluge': 8588, 'there': 8589, 'casi': 8590, 'actualizado': 8591, 'optimas': 8592, 'condiciones': 8593, 'oferta': 8594, 'inmejorable': 8595, 'tienda': 8596, 'linea': 8597, 'contraparte': 8598, 'sheri': 8599, 'fedex': 8600, 'oversees': 8601, 'homeas': 8602, 'screech': 8603, 'eforcity': 8604, 'smoke': 8605, 'inexplicable': 8606, 'settingsaboutcarrier': 8607, 'theytried': 8608, 'hardi': 8609, 'court': 8610, 'returnig': 8611, 'cardthough': 8612, 'partsseller': 8613, 'nether': 8614, 'shazam': 8615, 'guitar': 8616, 'jabra': 8617, 'funcionan': 8618, 'goody': 8619, 'scratchestwo': 8620, 'productone': 8621, 'cardafter': 8622, 'outnext': 8623, 'batteryeven': 8624, 'datei': 8625, 'returnsstill': 8626, 'starsto': 8627, 'outin': 8628, 'customersthank': 8629, 'whose': 8630, 'relocks': 8631, 'surpass': 8632, 'roundvery': 8633, 'peru': 8634, 'bcs': 8635, 'logos': 8636, 'iphonesthe': 8637, 'cellradio': 8638, 'turnedoff': 8639, 'magellan': 8640, 'batterygpsr': 8641, 'casethe': 8642, 'mdi': 8643, 'gizmos': 8644, 'playbackbluetooth': 8645, 'linksup': 8646, 'incar': 8647, 'handsfree': 8648, 'thingwifi': 8649, 'setupitunes': 8650, 'treo': 8651, 'chargeback': 8652, 'autozone': 8653, 'imj': 8654, 'assign': 8655, 'issuesgot': 8656, 'countryi': 8657, 'psxprobe': 8658, 'supplierfinally': 8659, 'mebe': 8660, 'marriage': 8661, 'unstable': 8662, 'adherent': 8663, 'belgium': 8664, 'chargerjust': 8665, 'chargercable': 8666, 'officeit': 8667, 'guyana': 8668, 'hmmmm': 8669, 'expend': 8670, 'israel': 8671, 'david': 8672, 'naveh': 8673, 'afternoonestimatespure': 8674, 'mobilitybecause': 8675, 'venezuelamail': 8676, 'carlosgolosina': 8677, 'spree': 8678, 'among': 8679, 'scrashes': 8680, 'crust': 8681, 'charginga': 8682, 'inherently': 8683, 'immoral': 8684, 'consumerism': 8685, 'xoxo': 8686, 'grand': 8687, 'imediatly': 8688, 'evaluate': 8689, 'thirdparty': 8690, 'fulfillment': 8691, 'availabilitythe': 8692, 'federal': 8693, 'mlk': 8694, 'timeupon': 8695, 'inspect': 8696, 'wrapping': 8697, 'cleaning': 8698, 'verified': 8699, 'worker': 8700, 'lexington': 8701, 'kentucky': 8702, 'arriss': 8703, 'kumbee': 8704, 'onealso': 8705, 'dis': 8706, 'trinidad': 8707, 'tobago': 8708, 'problam': 8709, 'purchace': 8710, 'congratulation': 8711, 'datacool': 8712, 'bottons': 8713, 'plub': 8714, 'assistive': 8715, 'withou': 8716, 'cornersi': 8717, 'whomever': 8718, 'unfortunatly': 8719, 'furter': 8720, 'shouldthen': 8721, 'sn': 8722, 'following': 8723, 'numbernow': 8724, 'insteadthis': 8725, 'whe': 8726, 'disconnected': 8727, 'issueother': 8728, 'callsspending': 8729, 'watsapa': 8730, 'picturesthis': 8731, 'horror': 8732, 'conditionjust': 8733, 'wantedin': 8734, 'colornew': 8735, 'conditionand': 8736, 'dinosaur': 8737, 'hesitantly': 8738}\n"
     ]
    }
   ],
   "source": [
    "word_index = tokenizer_obj.word_index\n",
    "print('Found %s tokens.' %len(word_index))\n",
    "print(word_index)"
   ]
  },
  {
   "cell_type": "code",
   "execution_count": 0,
   "metadata": {
    "colab": {},
    "colab_type": "code",
    "id": "AQuzVlReMi4x"
   },
   "outputs": [],
   "source": [
    "sequence_size = 30  # same size found for Word2Vec "
   ]
  },
  {
   "cell_type": "code",
   "execution_count": 29,
   "metadata": {
    "colab": {
     "base_uri": "https://localhost:8080/",
     "height": 101
    },
    "colab_type": "code",
    "id": "GBQ1pXKmMXXO",
    "outputId": "375da797-cb4d-4084-e180-58c11e3d16bf"
   },
   "outputs": [
    {
     "name": "stdout",
     "output_type": "stream",
     "text": [
      "[ 229    1  346  377  289  256   10  278    9   75   10  347  884  916\n",
      "  112    2   44  289  176   63   22  917 2331   33    5  812   53   63\n",
      "  286   12]\n",
      "Shape of review tensor:  (6000, 30)\n",
      "Shape of rating tensor:  (6000,)\n"
     ]
    }
   ],
   "source": [
    "from keras.preprocessing.sequence import pad_sequences\n",
    "\n",
    "review_pad = pad_sequences(sequences,maxlen=sequence_size)\n",
    "rating = raw_data['Rating'].values\n",
    "print(review_pad[0])\n",
    "print('Shape of review tensor: ', review_pad.shape)\n",
    "print('Shape of rating tensor: ', rating.shape)"
   ]
  },
  {
   "cell_type": "markdown",
   "metadata": {
    "colab_type": "text",
    "id": "5x7Hoj7NLmwF"
   },
   "source": [
    "### Preparing the embedding matrix"
   ]
  },
  {
   "cell_type": "code",
   "execution_count": 0,
   "metadata": {
    "colab": {},
    "colab_type": "code",
    "id": "11xywnpdMg09"
   },
   "outputs": [],
   "source": [
    "import numpy as np\n",
    "num_words = len(word_index)+1\n",
    "embedding_matrix = np.zeros((num_words,150))\n",
    "\n",
    "for word, i in word_index.items():\n",
    "    if i>num_words:\n",
    "        continue\n",
    "    embedding_vector = embeddings.get(word)\n",
    "    if embedding_vector is not None:\n",
    "        embedding_matrix[i] = embedding_vector"
   ]
  },
  {
   "cell_type": "code",
   "execution_count": 33,
   "metadata": {
    "colab": {
     "base_uri": "https://localhost:8080/",
     "height": 34
    },
    "colab_type": "code",
    "id": "yrGyd2YKM64Y",
    "outputId": "c648c4f0-d8a0-4792-b0e9-a3796c4a5aaa"
   },
   "outputs": [
    {
     "name": "stdout",
     "output_type": "stream",
     "text": [
      "(8739, 150)\n"
     ]
    }
   ],
   "source": [
    "print(embedding_matrix.shape)"
   ]
  },
  {
   "cell_type": "markdown",
   "metadata": {
    "colab_type": "text",
    "id": "88t0gUPxQg9R"
   },
   "source": [
    "### Building a model"
   ]
  },
  {
   "cell_type": "code",
   "execution_count": 0,
   "metadata": {
    "colab": {},
    "colab_type": "code",
    "id": "Mhvce95sM4cb"
   },
   "outputs": [],
   "source": [
    "from keras.models import Sequential\n",
    "from keras.layers import Input, Dense, Flatten, Dropout, Embedding\n",
    "from keras.models import Model\n",
    "from keras.initializers import Constant\n",
    "from keras import optimizers\n",
    "\n",
    "\n",
    "model = Sequential()\n",
    "embedding_layer = Embedding(num_words,\n",
    "                           150,\n",
    "                           embeddings_initializer = Constant(embedding_matrix),\n",
    "                            input_length=sequence_size,\n",
    "                           trainable = False)\n",
    "model.add(embedding_layer)\n",
    "model.add(Dense(2**9,input_dim=150,activation='relu',name='hidden1'))\n",
    "model.add(Flatten())\n",
    "model.add(Dropout(0.2))\n",
    "model.add(Dense(2**6,activation='relu',name='hidden2'))\n",
    "#model.add(Dropout(0.2))\n",
    "model.add(Dense(5,activation='softmax',name='softmax'))\n",
    "op = optimizers.Adam(lr=0.001, beta_1=0.9, beta_2=0.999, epsilon=1e-08)\n",
    "model.compile(optimizer=op, loss='categorical_crossentropy', metrics=['accuracy'])"
   ]
  },
  {
   "cell_type": "code",
   "execution_count": 68,
   "metadata": {
    "colab": {
     "base_uri": "https://localhost:8080/",
     "height": 353
    },
    "colab_type": "code",
    "id": "VhPIkJHIQish",
    "outputId": "38935267-7afd-40eb-a9d3-7dd5fa376d16"
   },
   "outputs": [
    {
     "name": "stdout",
     "output_type": "stream",
     "text": [
      "Model: \"sequential_9\"\n",
      "_________________________________________________________________\n",
      "Layer (type)                 Output Shape              Param #   \n",
      "=================================================================\n",
      "embedding_8 (Embedding)      (None, 30, 150)           1310850   \n",
      "_________________________________________________________________\n",
      "hidden1 (Dense)              (None, 30, 512)           77312     \n",
      "_________________________________________________________________\n",
      "flatten_8 (Flatten)          (None, 15360)             0         \n",
      "_________________________________________________________________\n",
      "dropout_8 (Dropout)          (None, 15360)             0         \n",
      "_________________________________________________________________\n",
      "hidden2 (Dense)              (None, 64)                983104    \n",
      "_________________________________________________________________\n",
      "softmax (Dense)              (None, 5)                 325       \n",
      "=================================================================\n",
      "Total params: 2,371,591\n",
      "Trainable params: 1,060,741\n",
      "Non-trainable params: 1,310,850\n",
      "_________________________________________________________________\n"
     ]
    }
   ],
   "source": [
    "model.summary()"
   ]
  },
  {
   "cell_type": "markdown",
   "metadata": {
    "colab_type": "text",
    "id": "y5wvrTmVRvsQ"
   },
   "source": [
    "### Now I prepare the data to feed the model. I'll split the data."
   ]
  },
  {
   "cell_type": "code",
   "execution_count": 41,
   "metadata": {
    "colab": {
     "base_uri": "https://localhost:8080/",
     "height": 134
    },
    "colab_type": "code",
    "id": "uwrExbmMR2ZJ",
    "outputId": "db9bfaca-08d9-4050-bd0d-a4cdaf247a57"
   },
   "outputs": [
    {
     "data": {
      "text/plain": [
       "array([[0., 0., 1., 0., 0.],\n",
       "       [0., 0., 0., 0., 1.],\n",
       "       [0., 0., 0., 0., 1.],\n",
       "       ...,\n",
       "       [0., 0., 0., 0., 1.],\n",
       "       [1., 0., 0., 0., 0.],\n",
       "       [1., 0., 0., 0., 0.]], dtype=float32)"
      ]
     },
     "execution_count": 41,
     "metadata": {
      "tags": []
     },
     "output_type": "execute_result"
    }
   ],
   "source": [
    "from keras.utils import np_utils\n",
    "\n",
    "validation_split = 0.2\n",
    "indices = np.arange(review_pad.shape[0])\n",
    "np.random.shuffle(indices)\n",
    "review_pad = review_pad[indices]\n",
    "rating = rating[indices]\n",
    "num_validation_samples = int(validation_split*review_pad.shape[0])\n",
    "\n",
    "X_train_pad = review_pad[:-num_validation_samples]\n",
    "y_train = rating[:-num_validation_samples]\n",
    "X_test_pad = review_pad[-num_validation_samples:]\n",
    "y_test = rating[-num_validation_samples:]\n",
    "y_train_categ = np_utils.to_categorical(y_train-min(y_train))  # one hot encoding and returns an array\n",
    "y_test_categ = np_utils.to_categorical(y_test-min(y_test))\n",
    "y_train_categ"
   ]
  },
  {
   "cell_type": "code",
   "execution_count": 42,
   "metadata": {
    "colab": {
     "base_uri": "https://localhost:8080/",
     "height": 84
    },
    "colab_type": "code",
    "id": "TcJYyEyiSEwP",
    "outputId": "cf340da7-9ad7-4639-a87a-f24f658eefc2"
   },
   "outputs": [
    {
     "name": "stdout",
     "output_type": "stream",
     "text": [
      "Shape of X_train_pad tensor:  (4800, 30)\n",
      "Shape of X_test_pad tensor:  (1200, 30)\n",
      "Shape of y_train_pad tensor:  (4800,)\n",
      "Shape of y_test_pad tensor:  (1200,)\n"
     ]
    }
   ],
   "source": [
    "print('Shape of X_train_pad tensor: ', X_train_pad.shape)\n",
    "print('Shape of X_test_pad tensor: ', X_test_pad.shape)\n",
    "print('Shape of y_train_pad tensor: ', y_train.shape)\n",
    "print('Shape of y_test_pad tensor: ', y_test.shape)"
   ]
  },
  {
   "cell_type": "code",
   "execution_count": 66,
   "metadata": {
    "colab": {
     "base_uri": "https://localhost:8080/",
     "height": 1000
    },
    "colab_type": "code",
    "id": "lP0Ok1FaShyr",
    "outputId": "31e655b8-85ac-4d1b-a37a-e0015dfdd230"
   },
   "outputs": [
    {
     "name": "stdout",
     "output_type": "stream",
     "text": [
      "Train on 4800 samples, validate on 1200 samples\n",
      "Epoch 1/70\n",
      " - 5s - loss: 1.1260 - acc: 0.5990 - val_loss: 1.0401 - val_acc: 0.6325\n",
      "Epoch 2/70\n",
      " - 5s - loss: 0.9341 - acc: 0.6519 - val_loss: 1.0336 - val_acc: 0.6325\n",
      "Epoch 3/70\n",
      " - 5s - loss: 0.7759 - acc: 0.7179 - val_loss: 1.0134 - val_acc: 0.6592\n",
      "Epoch 4/70\n",
      " - 5s - loss: 0.6357 - acc: 0.7715 - val_loss: 1.0106 - val_acc: 0.6892\n",
      "Epoch 5/70\n",
      " - 5s - loss: 0.5070 - acc: 0.8310 - val_loss: 1.0563 - val_acc: 0.7008\n",
      "Epoch 6/70\n",
      " - 5s - loss: 0.3942 - acc: 0.8698 - val_loss: 1.1873 - val_acc: 0.7017\n",
      "Epoch 7/70\n",
      " - 5s - loss: 0.3208 - acc: 0.9019 - val_loss: 1.2320 - val_acc: 0.7183\n",
      "Epoch 8/70\n",
      " - 5s - loss: 0.2646 - acc: 0.9175 - val_loss: 1.2949 - val_acc: 0.7075\n",
      "Epoch 9/70\n",
      " - 5s - loss: 0.2225 - acc: 0.9315 - val_loss: 1.3647 - val_acc: 0.7175\n",
      "Epoch 10/70\n",
      " - 5s - loss: 0.1967 - acc: 0.9396 - val_loss: 1.4618 - val_acc: 0.7325\n",
      "Epoch 11/70\n",
      " - 5s - loss: 0.1763 - acc: 0.9481 - val_loss: 1.5171 - val_acc: 0.7125\n",
      "Epoch 12/70\n",
      " - 5s - loss: 0.1560 - acc: 0.9540 - val_loss: 1.5919 - val_acc: 0.7167\n",
      "Epoch 13/70\n",
      " - 5s - loss: 0.1472 - acc: 0.9590 - val_loss: 1.6407 - val_acc: 0.7142\n",
      "Epoch 14/70\n",
      " - 5s - loss: 0.1372 - acc: 0.9590 - val_loss: 1.7119 - val_acc: 0.7133\n",
      "Epoch 15/70\n",
      " - 5s - loss: 0.1465 - acc: 0.9573 - val_loss: 1.7174 - val_acc: 0.7092\n",
      "Epoch 16/70\n",
      " - 5s - loss: 0.1556 - acc: 0.9527 - val_loss: 1.7393 - val_acc: 0.7158\n",
      "Epoch 17/70\n",
      " - 5s - loss: 0.1643 - acc: 0.9492 - val_loss: 1.7743 - val_acc: 0.6958\n",
      "Epoch 18/70\n",
      " - 5s - loss: 0.1353 - acc: 0.9596 - val_loss: 1.8516 - val_acc: 0.7217\n",
      "Epoch 19/70\n",
      " - 5s - loss: 0.1188 - acc: 0.9644 - val_loss: 1.9621 - val_acc: 0.7200\n",
      "Epoch 20/70\n",
      " - 5s - loss: 0.1178 - acc: 0.9642 - val_loss: 1.9418 - val_acc: 0.7167\n",
      "Epoch 21/70\n",
      " - 5s - loss: 0.1102 - acc: 0.9671 - val_loss: 1.9454 - val_acc: 0.7175\n",
      "Epoch 22/70\n",
      " - 5s - loss: 0.1029 - acc: 0.9700 - val_loss: 1.9932 - val_acc: 0.7192\n",
      "Epoch 23/70\n",
      " - 5s - loss: 0.1015 - acc: 0.9692 - val_loss: 2.0575 - val_acc: 0.7050\n",
      "Epoch 24/70\n",
      " - 5s - loss: 0.1043 - acc: 0.9700 - val_loss: 2.0840 - val_acc: 0.7092\n",
      "Epoch 25/70\n",
      " - 5s - loss: 0.1019 - acc: 0.9700 - val_loss: 2.0989 - val_acc: 0.7108\n",
      "Epoch 26/70\n",
      " - 5s - loss: 0.0973 - acc: 0.9702 - val_loss: 2.0907 - val_acc: 0.7092\n",
      "Epoch 27/70\n",
      " - 5s - loss: 0.0960 - acc: 0.9731 - val_loss: 2.1062 - val_acc: 0.7292\n",
      "Epoch 28/70\n",
      " - 5s - loss: 0.0966 - acc: 0.9704 - val_loss: 2.1587 - val_acc: 0.7092\n",
      "Epoch 29/70\n",
      " - 5s - loss: 0.1010 - acc: 0.9681 - val_loss: 2.2368 - val_acc: 0.7092\n",
      "Epoch 30/70\n",
      " - 5s - loss: 0.1020 - acc: 0.9675 - val_loss: 2.2976 - val_acc: 0.7025\n",
      "Epoch 31/70\n",
      " - 5s - loss: 0.1134 - acc: 0.9637 - val_loss: 2.2117 - val_acc: 0.7133\n",
      "Epoch 32/70\n",
      " - 5s - loss: 0.1047 - acc: 0.9688 - val_loss: 2.2901 - val_acc: 0.7067\n",
      "Epoch 33/70\n",
      " - 5s - loss: 0.0966 - acc: 0.9694 - val_loss: 2.2772 - val_acc: 0.7317\n",
      "Epoch 34/70\n",
      " - 5s - loss: 0.1036 - acc: 0.9690 - val_loss: 2.2230 - val_acc: 0.7142\n",
      "Epoch 35/70\n",
      " - 5s - loss: 0.0892 - acc: 0.9740 - val_loss: 2.3469 - val_acc: 0.7192\n",
      "Epoch 36/70\n",
      " - 5s - loss: 0.0892 - acc: 0.9733 - val_loss: 2.2773 - val_acc: 0.7225\n",
      "Epoch 37/70\n",
      " - 5s - loss: 0.0876 - acc: 0.9738 - val_loss: 2.3229 - val_acc: 0.7208\n",
      "Epoch 38/70\n",
      " - 5s - loss: 0.0789 - acc: 0.9756 - val_loss: 2.3517 - val_acc: 0.7183\n",
      "Epoch 39/70\n",
      " - 5s - loss: 0.0814 - acc: 0.9752 - val_loss: 2.3730 - val_acc: 0.7250\n",
      "Epoch 40/70\n",
      " - 5s - loss: 0.0783 - acc: 0.9756 - val_loss: 2.3754 - val_acc: 0.7300\n",
      "Epoch 41/70\n",
      " - 5s - loss: 0.0810 - acc: 0.9756 - val_loss: 2.3723 - val_acc: 0.7275\n",
      "Epoch 42/70\n",
      " - 5s - loss: 0.0869 - acc: 0.9731 - val_loss: 2.3902 - val_acc: 0.7258\n",
      "Epoch 43/70\n",
      " - 5s - loss: 0.1200 - acc: 0.9648 - val_loss: 2.4777 - val_acc: 0.7025\n",
      "Epoch 44/70\n",
      " - 5s - loss: 0.1261 - acc: 0.9596 - val_loss: 2.2946 - val_acc: 0.7192\n",
      "Epoch 45/70\n",
      " - 5s - loss: 0.0945 - acc: 0.9704 - val_loss: 2.3042 - val_acc: 0.7325\n",
      "Epoch 46/70\n",
      " - 5s - loss: 0.0849 - acc: 0.9740 - val_loss: 2.3412 - val_acc: 0.7233\n",
      "Epoch 47/70\n",
      " - 5s - loss: 0.0855 - acc: 0.9746 - val_loss: 2.3466 - val_acc: 0.7217\n",
      "Epoch 48/70\n",
      " - 5s - loss: 0.0806 - acc: 0.9748 - val_loss: 2.3627 - val_acc: 0.7267\n",
      "Epoch 49/70\n",
      " - 5s - loss: 0.0816 - acc: 0.9746 - val_loss: 2.3847 - val_acc: 0.7308\n",
      "Epoch 50/70\n",
      " - 5s - loss: 0.0787 - acc: 0.9754 - val_loss: 2.3995 - val_acc: 0.7292\n",
      "Epoch 51/70\n",
      " - 5s - loss: 0.0778 - acc: 0.9758 - val_loss: 2.4292 - val_acc: 0.7242\n",
      "Epoch 52/70\n",
      " - 5s - loss: 0.0771 - acc: 0.9765 - val_loss: 2.4320 - val_acc: 0.7292\n",
      "Epoch 53/70\n",
      " - 5s - loss: 0.0764 - acc: 0.9767 - val_loss: 2.4334 - val_acc: 0.7333\n",
      "Epoch 54/70\n",
      " - 5s - loss: 0.0784 - acc: 0.9754 - val_loss: 2.4671 - val_acc: 0.7200\n",
      "Epoch 55/70\n",
      " - 5s - loss: 0.0831 - acc: 0.9748 - val_loss: 2.4833 - val_acc: 0.7175\n",
      "Epoch 56/70\n",
      " - 5s - loss: 0.0890 - acc: 0.9729 - val_loss: 2.5302 - val_acc: 0.7242\n",
      "Epoch 57/70\n",
      " - 5s - loss: 0.0931 - acc: 0.9715 - val_loss: 2.5516 - val_acc: 0.7025\n",
      "Epoch 58/70\n",
      " - 5s - loss: 0.1027 - acc: 0.9700 - val_loss: 2.4304 - val_acc: 0.7158\n",
      "Epoch 59/70\n",
      " - 5s - loss: 0.0840 - acc: 0.9735 - val_loss: 2.5481 - val_acc: 0.7092\n",
      "Epoch 60/70\n",
      " - 5s - loss: 0.0818 - acc: 0.9731 - val_loss: 2.4636 - val_acc: 0.7108\n",
      "Epoch 61/70\n",
      " - 5s - loss: 0.0811 - acc: 0.9754 - val_loss: 2.5195 - val_acc: 0.7175\n",
      "Epoch 62/70\n",
      " - 5s - loss: 0.0768 - acc: 0.9756 - val_loss: 2.5484 - val_acc: 0.7217\n",
      "Epoch 63/70\n",
      " - 5s - loss: 0.0768 - acc: 0.9758 - val_loss: 2.5966 - val_acc: 0.7125\n",
      "Epoch 64/70\n",
      " - 5s - loss: 0.0729 - acc: 0.9758 - val_loss: 2.5964 - val_acc: 0.7175\n",
      "Epoch 65/70\n",
      " - 5s - loss: 0.0747 - acc: 0.9758 - val_loss: 2.6387 - val_acc: 0.7142\n",
      "Epoch 66/70\n",
      " - 5s - loss: 0.0723 - acc: 0.9748 - val_loss: 2.5986 - val_acc: 0.7175\n",
      "Epoch 67/70\n",
      " - 5s - loss: 0.0730 - acc: 0.9767 - val_loss: 2.6352 - val_acc: 0.7142\n",
      "Epoch 68/70\n",
      " - 5s - loss: 0.0721 - acc: 0.9775 - val_loss: 2.6498 - val_acc: 0.7258\n",
      "Epoch 69/70\n",
      " - 5s - loss: 0.0781 - acc: 0.9752 - val_loss: 2.6406 - val_acc: 0.7208\n",
      "Epoch 70/70\n",
      " - 5s - loss: 0.0746 - acc: 0.9765 - val_loss: 2.6148 - val_acc: 0.7233\n"
     ]
    }
   ],
   "source": [
    "history = model.fit(X_train_pad,y_train_categ,epochs=70,validation_data=(X_test_pad,y_test_categ),verbose=2)"
   ]
  },
  {
   "cell_type": "code",
   "execution_count": 67,
   "metadata": {
    "colab": {
     "base_uri": "https://localhost:8080/",
     "height": 34
    },
    "colab_type": "code",
    "id": "UsZFsIssSpxL",
    "outputId": "924356d0-d941-47dc-8eb0-ac4c987e2322"
   },
   "outputs": [
    {
     "name": "stdout",
     "output_type": "stream",
     "text": [
      "1200/1200 [==============================] - 0s 202us/step\n"
     ]
    }
   ],
   "source": [
    "score = model.evaluate(X_test_pad,y_test_categ,verbose=1)"
   ]
  },
  {
   "cell_type": "code",
   "execution_count": 48,
   "metadata": {
    "colab": {
     "base_uri": "https://localhost:8080/",
     "height": 34
    },
    "colab_type": "code",
    "id": "Tt4sdXSXTs-M",
    "outputId": "01bce0a3-72ef-4a31-84b3-3884c4b48522"
   },
   "outputs": [
    {
     "name": "stdout",
     "output_type": "stream",
     "text": [
      "Test score: 2.620, accuracy: 0.721\n"
     ]
    }
   ],
   "source": [
    "# With 256 neurons in the first hidden layer and 32 neurons in the second layer\n",
    "print(\"Test score: {:.3f}, accuracy: {:.3f}\".format(score[0],score[1]))"
   ]
  },
  {
   "cell_type": "code",
   "execution_count": 69,
   "metadata": {
    "colab": {
     "base_uri": "https://localhost:8080/",
     "height": 34
    },
    "colab_type": "code",
    "id": "IRTnypgBVO0-",
    "outputId": "4e7cf8fb-d82d-42d0-a95f-a7fe3bc0f0f1"
   },
   "outputs": [
    {
     "name": "stdout",
     "output_type": "stream",
     "text": [
      "Test score: 2.615, accuracy: 0.723\n"
     ]
    }
   ],
   "source": [
    "# With 512 neurons in the first hidden layer and 64 neurons in the second layer\n",
    "print(\"Test score: {:.3f}, accuracy: {:.3f}\".format(score[0],score[1]))"
   ]
  },
  {
   "cell_type": "code",
   "execution_count": 57,
   "metadata": {
    "colab": {
     "base_uri": "https://localhost:8080/",
     "height": 34
    },
    "colab_type": "code",
    "id": "zoCtPEEoVQo3",
    "outputId": "2bb50460-44db-4429-8eb4-065a3fd4e2d2"
   },
   "outputs": [
    {
     "name": "stdout",
     "output_type": "stream",
     "text": [
      "Test score: 2.591, accuracy: 0.726\n"
     ]
    }
   ],
   "source": [
    "# With 1024 neurons in the first hidden layer and 64 neurons in the second layer. With 50 epochs\n",
    "print(\"Test score: {:.3f}, accuracy: {:.3f}\".format(score[0],score[1]))"
   ]
  },
  {
   "cell_type": "code",
   "execution_count": 61,
   "metadata": {
    "colab": {
     "base_uri": "https://localhost:8080/",
     "height": 34
    },
    "colab_type": "code",
    "id": "LNDSfk3VZ4K9",
    "outputId": "a9d4256e-c630-4b6a-9f16-49089394feb5"
   },
   "outputs": [
    {
     "name": "stdout",
     "output_type": "stream",
     "text": [
      "Test score: 2.591, accuracy: 0.726\n"
     ]
    }
   ],
   "source": [
    "# With 64 neurons in the first hidden layer and 16 neurons in the second layer. With 50 epochs\n",
    "print(\"Test score: {:.3f}, accuracy: {:.3f}\".format(score[0],score[1]))"
   ]
  },
  {
   "cell_type": "code",
   "execution_count": 71,
   "metadata": {
    "colab": {
     "base_uri": "https://localhost:8080/",
     "height": 302
    },
    "colab_type": "code",
    "id": "fhe5TvAAarXv",
    "outputId": "cb524b6a-9ab4-4c93-fc10-232ea8555f5c"
   },
   "outputs": [
    {
     "name": "stdout",
     "output_type": "stream",
     "text": [
      "[[177  15  13  18  24]\n",
      " [ 21  43   4   5   6]\n",
      " [ 13   6  43  12  21]\n",
      " [ 10   1   7  86  58]\n",
      " [ 19  17  18  44 519]]\n",
      "              precision    recall  f1-score   support\n",
      "\n",
      "           1       0.74      0.72      0.73       247\n",
      "           2       0.52      0.54      0.53        79\n",
      "           3       0.51      0.45      0.48        95\n",
      "           4       0.52      0.53      0.53       162\n",
      "           5       0.83      0.84      0.83       617\n",
      "\n",
      "    accuracy                           0.72      1200\n",
      "   macro avg       0.62      0.62      0.62      1200\n",
      "weighted avg       0.72      0.72      0.72      1200\n",
      "\n"
     ]
    }
   ],
   "source": [
    "from sklearn.metrics import classification_report\n",
    "from sklearn.metrics import confusion_matrix\n",
    "\n",
    "predictions = model.predict(X_test_pad)\n",
    "print(confusion_matrix(y_test, np.argmax(predictions, axis=1)+np.min(y_test)))\n",
    "\n",
    "print(classification_report(y_test,np.argmax(predictions, axis=1)+np.min(y_test)))"
   ]
  },
  {
   "cell_type": "code",
   "execution_count": 77,
   "metadata": {
    "colab": {
     "base_uri": "https://localhost:8080/",
     "height": 295
    },
    "colab_type": "code",
    "id": "p9sUOOfDoBRE",
    "outputId": "665630ad-93de-41a3-9be4-30d8b4937fe8"
   },
   "outputs": [
    {
     "data": {
      "image/png": "[encoded data removed]",
      "text/plain": [
       "<Figure size 432x288 with 1 Axes>"
      ]
     },
     "metadata": {
      "tags": []
     },
     "output_type": "display_data"
    }
   ],
   "source": [
    "# Plot training & validation accuracy values\n",
    "import matplotlib.pyplot as plt\n",
    "\n",
    "plt.plot(history.history['acc'])\n",
    "plt.plot(history.history['val_acc'])\n",
    "plt.title('Model accuracy')\n",
    "plt.ylabel('Accuracy')\n",
    "plt.xlabel('Epoch')\n",
    "plt.legend(['Train', 'Test'], loc='upper left')\n",
    "plt.show()"
   ]
  },
  {
   "cell_type": "code",
   "execution_count": 0,
   "metadata": {
    "colab": {},
    "colab_type": "code",
    "id": "faee814dpD7J"
   },
   "outputs": [],
   "source": []
  }
 ],
 "metadata": {
  "colab": {
   "name": "ModelBuilding_Glove.ipynb",
   "provenance": []
  },
  "kernelspec": {
   "display_name": "Python 3",
   "language": "python",
   "name": "python3"
  },
  "language_info": {
   "codemirror_mode": {
    "name": "ipython",
    "version": 3
   },
   "file_extension": ".py",
   "mimetype": "text/x-python",
   "name": "python",
   "nbconvert_exporter": "python",
   "pygments_lexer": "ipython3",
   "version": "3.7.4"
  }
 },
 "nbformat": 4,
 "nbformat_minor": 1
}
